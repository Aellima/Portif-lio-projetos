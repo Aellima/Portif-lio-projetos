{
  "nbformat": 4,
  "nbformat_minor": 0,
  "metadata": {
    "colab": {
      "name": "Finanças e Investimentos - bitcoin - Aelson.ipynb",
      "provenance": [],
      "collapsed_sections": [
        "UdveCLgF5xwa",
        "NXLLk2jik9lY"
      ]
    },
    "kernelspec": {
      "display_name": "Python 3",
      "name": "python3"
    },
    "language_info": {
      "name": "python"
    }
  },
  "cells": [
    {
      "cell_type": "markdown",
      "metadata": {
        "id": "W4QQwsk6zL6l"
      },
      "source": [
        "# 1 - Entendimento do problema\n",
        "\n",
        "## O projeto visa indicar qual perfil de investidor é mais adequado com base no comportamento do mercado de bitcoin. \n",
        "\n",
        "1.1 - Quais são os perfis de investidores?\n",
        "\n",
        "- Conservadores, moderados e arrojados.\n",
        "\n",
        "1.1.2 - Quais a bases fundamentais dos perfis? \n",
        "\n",
        "- Segurança\n",
        "- Liquidez\n",
        "- Rentabilidade\n",
        "\n",
        "1.1.3 - Como influenciam no perfil dos investidores?\n",
        "\n",
        "\n",
        "1.1.4 - Quais são os indicadores de determinantes para a escolha?\n",
        "\n",
        "\n",
        "\n"
      ]
    },
    {
      "cell_type": "markdown",
      "metadata": {
        "id": "s3qAklUCzVfN"
      },
      "source": [
        "#2 - Coleta de dados e referências do projeto\n",
        "\n",
        "Conjunto de dados utilizado:\n",
        "\n",
        " https://www.kaggle.com/mczielinski/bitcoin-historical-data\n",
        "\n",
        "Referências:\n",
        "\n",
        "https://www.notion.so/https-towardsdatascience-com-dynamic-cryptocurrency-trading-backtesting-platform-python-219dfcd742-eb894aef1a504d6fb363e3854f870350\n"
      ]
    },
    {
      "cell_type": "markdown",
      "metadata": {
        "id": "lW0MhdUtzi4t"
      },
      "source": [
        "# 3 - Análise, interpretação e Visualização \n"
      ]
    },
    {
      "cell_type": "markdown",
      "metadata": {
        "id": "UMOIPZlOzyNc"
      },
      "source": [
        "Bibliotecas utilizadas\n"
      ]
    },
    {
      "cell_type": "code",
      "metadata": {
        "id": "Mgcfjqx4zw_G"
      },
      "source": [
        "#manipulação de dados\n",
        "import pandas as pd\n",
        "import numpy as np\n",
        "from scipy.stats import norm\n",
        "\n",
        "\n",
        "#Visualização de dados\n",
        "import matplotlib.pyplot as plt\n",
        "import seaborn as sns\n",
        "import missingno as msno"
      ],
      "execution_count": 3,
      "outputs": []
    },
    {
      "cell_type": "code",
      "metadata": {
        "id": "_ojQwJnjIord"
      },
      "source": [
        "df=pd.read_csv(\"bitstampUSD_1-min_data_2012-01-01_to_2021-03-31.csv\")"
      ],
      "execution_count": 4,
      "outputs": []
    },
    {
      "cell_type": "code",
      "metadata": {
        "colab": {
          "base_uri": "https://localhost:8080/",
          "height": 424
        },
        "id": "VsHpORh3IuqR",
        "outputId": "092fd3a6-9ea6-40cc-c1a2-7d6a45bc5d51"
      },
      "source": [
        "df"
      ],
      "execution_count": 5,
      "outputs": [
        {
          "output_type": "execute_result",
          "data": {
            "text/html": [
              "<div>\n",
              "<style scoped>\n",
              "    .dataframe tbody tr th:only-of-type {\n",
              "        vertical-align: middle;\n",
              "    }\n",
              "\n",
              "    .dataframe tbody tr th {\n",
              "        vertical-align: top;\n",
              "    }\n",
              "\n",
              "    .dataframe thead th {\n",
              "        text-align: right;\n",
              "    }\n",
              "</style>\n",
              "<table border=\"1\" class=\"dataframe\">\n",
              "  <thead>\n",
              "    <tr style=\"text-align: right;\">\n",
              "      <th></th>\n",
              "      <th>Timestamp</th>\n",
              "      <th>Open</th>\n",
              "      <th>High</th>\n",
              "      <th>Low</th>\n",
              "      <th>Close</th>\n",
              "      <th>Volume_(BTC)</th>\n",
              "      <th>Volume_(Currency)</th>\n",
              "      <th>Weighted_Price</th>\n",
              "    </tr>\n",
              "  </thead>\n",
              "  <tbody>\n",
              "    <tr>\n",
              "      <th>0</th>\n",
              "      <td>1325317920</td>\n",
              "      <td>4.39</td>\n",
              "      <td>4.39</td>\n",
              "      <td>4.39</td>\n",
              "      <td>4.39</td>\n",
              "      <td>0.455581</td>\n",
              "      <td>2.000000</td>\n",
              "      <td>4.390000</td>\n",
              "    </tr>\n",
              "    <tr>\n",
              "      <th>1</th>\n",
              "      <td>1325317980</td>\n",
              "      <td>NaN</td>\n",
              "      <td>NaN</td>\n",
              "      <td>NaN</td>\n",
              "      <td>NaN</td>\n",
              "      <td>NaN</td>\n",
              "      <td>NaN</td>\n",
              "      <td>NaN</td>\n",
              "    </tr>\n",
              "    <tr>\n",
              "      <th>2</th>\n",
              "      <td>1325318040</td>\n",
              "      <td>NaN</td>\n",
              "      <td>NaN</td>\n",
              "      <td>NaN</td>\n",
              "      <td>NaN</td>\n",
              "      <td>NaN</td>\n",
              "      <td>NaN</td>\n",
              "      <td>NaN</td>\n",
              "    </tr>\n",
              "    <tr>\n",
              "      <th>3</th>\n",
              "      <td>1325318100</td>\n",
              "      <td>NaN</td>\n",
              "      <td>NaN</td>\n",
              "      <td>NaN</td>\n",
              "      <td>NaN</td>\n",
              "      <td>NaN</td>\n",
              "      <td>NaN</td>\n",
              "      <td>NaN</td>\n",
              "    </tr>\n",
              "    <tr>\n",
              "      <th>4</th>\n",
              "      <td>1325318160</td>\n",
              "      <td>NaN</td>\n",
              "      <td>NaN</td>\n",
              "      <td>NaN</td>\n",
              "      <td>NaN</td>\n",
              "      <td>NaN</td>\n",
              "      <td>NaN</td>\n",
              "      <td>NaN</td>\n",
              "    </tr>\n",
              "    <tr>\n",
              "      <th>...</th>\n",
              "      <td>...</td>\n",
              "      <td>...</td>\n",
              "      <td>...</td>\n",
              "      <td>...</td>\n",
              "      <td>...</td>\n",
              "      <td>...</td>\n",
              "      <td>...</td>\n",
              "      <td>...</td>\n",
              "    </tr>\n",
              "    <tr>\n",
              "      <th>4857372</th>\n",
              "      <td>1617148560</td>\n",
              "      <td>58714.31</td>\n",
              "      <td>58714.31</td>\n",
              "      <td>58686.00</td>\n",
              "      <td>58686.00</td>\n",
              "      <td>1.384487</td>\n",
              "      <td>81259.372187</td>\n",
              "      <td>58692.753339</td>\n",
              "    </tr>\n",
              "    <tr>\n",
              "      <th>4857373</th>\n",
              "      <td>1617148620</td>\n",
              "      <td>58683.97</td>\n",
              "      <td>58693.43</td>\n",
              "      <td>58683.97</td>\n",
              "      <td>58685.81</td>\n",
              "      <td>7.294848</td>\n",
              "      <td>428158.146640</td>\n",
              "      <td>58693.226508</td>\n",
              "    </tr>\n",
              "    <tr>\n",
              "      <th>4857374</th>\n",
              "      <td>1617148680</td>\n",
              "      <td>58693.43</td>\n",
              "      <td>58723.84</td>\n",
              "      <td>58693.43</td>\n",
              "      <td>58723.84</td>\n",
              "      <td>1.705682</td>\n",
              "      <td>100117.070370</td>\n",
              "      <td>58696.198496</td>\n",
              "    </tr>\n",
              "    <tr>\n",
              "      <th>4857375</th>\n",
              "      <td>1617148740</td>\n",
              "      <td>58742.18</td>\n",
              "      <td>58770.38</td>\n",
              "      <td>58742.18</td>\n",
              "      <td>58760.59</td>\n",
              "      <td>0.720415</td>\n",
              "      <td>42332.958633</td>\n",
              "      <td>58761.866202</td>\n",
              "    </tr>\n",
              "    <tr>\n",
              "      <th>4857376</th>\n",
              "      <td>1617148800</td>\n",
              "      <td>58767.75</td>\n",
              "      <td>58778.18</td>\n",
              "      <td>58755.97</td>\n",
              "      <td>58778.18</td>\n",
              "      <td>2.712831</td>\n",
              "      <td>159417.751000</td>\n",
              "      <td>58764.349363</td>\n",
              "    </tr>\n",
              "  </tbody>\n",
              "</table>\n",
              "<p>4857377 rows × 8 columns</p>\n",
              "</div>"
            ],
            "text/plain": [
              "          Timestamp      Open  ...  Volume_(Currency)  Weighted_Price\n",
              "0        1325317920      4.39  ...           2.000000        4.390000\n",
              "1        1325317980       NaN  ...                NaN             NaN\n",
              "2        1325318040       NaN  ...                NaN             NaN\n",
              "3        1325318100       NaN  ...                NaN             NaN\n",
              "4        1325318160       NaN  ...                NaN             NaN\n",
              "...             ...       ...  ...                ...             ...\n",
              "4857372  1617148560  58714.31  ...       81259.372187    58692.753339\n",
              "4857373  1617148620  58683.97  ...      428158.146640    58693.226508\n",
              "4857374  1617148680  58693.43  ...      100117.070370    58696.198496\n",
              "4857375  1617148740  58742.18  ...       42332.958633    58761.866202\n",
              "4857376  1617148800  58767.75  ...      159417.751000    58764.349363\n",
              "\n",
              "[4857377 rows x 8 columns]"
            ]
          },
          "metadata": {},
          "execution_count": 5
        }
      ]
    },
    {
      "cell_type": "markdown",
      "metadata": {
        "id": "DuYj9U4GYMIw"
      },
      "source": [
        "Primeria inspecção dos dados \n"
      ]
    },
    {
      "cell_type": "code",
      "metadata": {
        "colab": {
          "base_uri": "https://localhost:8080/",
          "height": 206
        },
        "id": "15R5adDRJE2M",
        "outputId": "7bc4a372-fa2f-4f79-861d-7a12c5042565"
      },
      "source": [
        "#cinco primeiras observações do dataframe\n",
        "df.head()"
      ],
      "execution_count": 6,
      "outputs": [
        {
          "output_type": "execute_result",
          "data": {
            "text/html": [
              "<div>\n",
              "<style scoped>\n",
              "    .dataframe tbody tr th:only-of-type {\n",
              "        vertical-align: middle;\n",
              "    }\n",
              "\n",
              "    .dataframe tbody tr th {\n",
              "        vertical-align: top;\n",
              "    }\n",
              "\n",
              "    .dataframe thead th {\n",
              "        text-align: right;\n",
              "    }\n",
              "</style>\n",
              "<table border=\"1\" class=\"dataframe\">\n",
              "  <thead>\n",
              "    <tr style=\"text-align: right;\">\n",
              "      <th></th>\n",
              "      <th>Timestamp</th>\n",
              "      <th>Open</th>\n",
              "      <th>High</th>\n",
              "      <th>Low</th>\n",
              "      <th>Close</th>\n",
              "      <th>Volume_(BTC)</th>\n",
              "      <th>Volume_(Currency)</th>\n",
              "      <th>Weighted_Price</th>\n",
              "    </tr>\n",
              "  </thead>\n",
              "  <tbody>\n",
              "    <tr>\n",
              "      <th>0</th>\n",
              "      <td>1325317920</td>\n",
              "      <td>4.39</td>\n",
              "      <td>4.39</td>\n",
              "      <td>4.39</td>\n",
              "      <td>4.39</td>\n",
              "      <td>0.455581</td>\n",
              "      <td>2.0</td>\n",
              "      <td>4.39</td>\n",
              "    </tr>\n",
              "    <tr>\n",
              "      <th>1</th>\n",
              "      <td>1325317980</td>\n",
              "      <td>NaN</td>\n",
              "      <td>NaN</td>\n",
              "      <td>NaN</td>\n",
              "      <td>NaN</td>\n",
              "      <td>NaN</td>\n",
              "      <td>NaN</td>\n",
              "      <td>NaN</td>\n",
              "    </tr>\n",
              "    <tr>\n",
              "      <th>2</th>\n",
              "      <td>1325318040</td>\n",
              "      <td>NaN</td>\n",
              "      <td>NaN</td>\n",
              "      <td>NaN</td>\n",
              "      <td>NaN</td>\n",
              "      <td>NaN</td>\n",
              "      <td>NaN</td>\n",
              "      <td>NaN</td>\n",
              "    </tr>\n",
              "    <tr>\n",
              "      <th>3</th>\n",
              "      <td>1325318100</td>\n",
              "      <td>NaN</td>\n",
              "      <td>NaN</td>\n",
              "      <td>NaN</td>\n",
              "      <td>NaN</td>\n",
              "      <td>NaN</td>\n",
              "      <td>NaN</td>\n",
              "      <td>NaN</td>\n",
              "    </tr>\n",
              "    <tr>\n",
              "      <th>4</th>\n",
              "      <td>1325318160</td>\n",
              "      <td>NaN</td>\n",
              "      <td>NaN</td>\n",
              "      <td>NaN</td>\n",
              "      <td>NaN</td>\n",
              "      <td>NaN</td>\n",
              "      <td>NaN</td>\n",
              "      <td>NaN</td>\n",
              "    </tr>\n",
              "  </tbody>\n",
              "</table>\n",
              "</div>"
            ],
            "text/plain": [
              "    Timestamp  Open  High  ...  Volume_(BTC)  Volume_(Currency)  Weighted_Price\n",
              "0  1325317920  4.39  4.39  ...      0.455581                2.0            4.39\n",
              "1  1325317980   NaN   NaN  ...           NaN                NaN             NaN\n",
              "2  1325318040   NaN   NaN  ...           NaN                NaN             NaN\n",
              "3  1325318100   NaN   NaN  ...           NaN                NaN             NaN\n",
              "4  1325318160   NaN   NaN  ...           NaN                NaN             NaN\n",
              "\n",
              "[5 rows x 8 columns]"
            ]
          },
          "metadata": {},
          "execution_count": 6
        }
      ]
    },
    {
      "cell_type": "code",
      "metadata": {
        "colab": {
          "base_uri": "https://localhost:8080/"
        },
        "id": "FmrX2fwi87ob",
        "outputId": "19ee3007-e128-4f9f-bd41-9351e4e24e55"
      },
      "source": [
        "#Inspecionando o tamanho do dataframe\n",
        "df.size"
      ],
      "execution_count": 7,
      "outputs": [
        {
          "output_type": "execute_result",
          "data": {
            "text/plain": [
              "38859016"
            ]
          },
          "metadata": {},
          "execution_count": 7
        }
      ]
    },
    {
      "cell_type": "code",
      "metadata": {
        "colab": {
          "base_uri": "https://localhost:8080/"
        },
        "id": "ERqgAYZr9C0F",
        "outputId": "d7e97490-dbd2-4fb0-c0cb-3fd7958d3214"
      },
      "source": [
        "#Inspecionando a forma do df.\n",
        "df.shape"
      ],
      "execution_count": 8,
      "outputs": [
        {
          "output_type": "execute_result",
          "data": {
            "text/plain": [
              "(4857377, 8)"
            ]
          },
          "metadata": {},
          "execution_count": 8
        }
      ]
    },
    {
      "cell_type": "code",
      "metadata": {
        "colab": {
          "base_uri": "https://localhost:8080/",
          "height": 81
        },
        "id": "BgvjESZEvchs",
        "outputId": "95ed45c4-37ac-49ba-9dbe-9fd5c8126a44"
      },
      "source": [
        "df.loc[df[\"Volume_(BTC)\"]==1098.3493842]"
      ],
      "execution_count": 9,
      "outputs": [
        {
          "output_type": "execute_result",
          "data": {
            "text/html": [
              "<div>\n",
              "<style scoped>\n",
              "    .dataframe tbody tr th:only-of-type {\n",
              "        vertical-align: middle;\n",
              "    }\n",
              "\n",
              "    .dataframe tbody tr th {\n",
              "        vertical-align: top;\n",
              "    }\n",
              "\n",
              "    .dataframe thead th {\n",
              "        text-align: right;\n",
              "    }\n",
              "</style>\n",
              "<table border=\"1\" class=\"dataframe\">\n",
              "  <thead>\n",
              "    <tr style=\"text-align: right;\">\n",
              "      <th></th>\n",
              "      <th>Timestamp</th>\n",
              "      <th>Open</th>\n",
              "      <th>High</th>\n",
              "      <th>Low</th>\n",
              "      <th>Close</th>\n",
              "      <th>Volume_(BTC)</th>\n",
              "      <th>Volume_(Currency)</th>\n",
              "      <th>Weighted_Price</th>\n",
              "    </tr>\n",
              "  </thead>\n",
              "  <tbody>\n",
              "    <tr>\n",
              "      <th>4404691</th>\n",
              "      <td>1589987700</td>\n",
              "      <td>9724.89</td>\n",
              "      <td>9724.89</td>\n",
              "      <td>9100.0</td>\n",
              "      <td>9685.57</td>\n",
              "      <td>1098.349384</td>\n",
              "      <td>1.044599e+07</td>\n",
              "      <td>9510.6238</td>\n",
              "    </tr>\n",
              "  </tbody>\n",
              "</table>\n",
              "</div>"
            ],
            "text/plain": [
              "          Timestamp     Open  ...  Volume_(Currency)  Weighted_Price\n",
              "4404691  1589987700  9724.89  ...       1.044599e+07       9510.6238\n",
              "\n",
              "[1 rows x 8 columns]"
            ]
          },
          "metadata": {},
          "execution_count": 9
        }
      ]
    },
    {
      "cell_type": "code",
      "metadata": {
        "colab": {
          "base_uri": "https://localhost:8080/"
        },
        "id": "dA61icjHPe_X",
        "outputId": "6fa04fb1-1e64-4657-a495-52f0fcee08b1"
      },
      "source": [
        "#Informações iniciais\n",
        "df.info()"
      ],
      "execution_count": 10,
      "outputs": [
        {
          "output_type": "stream",
          "name": "stdout",
          "text": [
            "<class 'pandas.core.frame.DataFrame'>\n",
            "RangeIndex: 4857377 entries, 0 to 4857376\n",
            "Data columns (total 8 columns):\n",
            " #   Column             Dtype  \n",
            "---  ------             -----  \n",
            " 0   Timestamp          int64  \n",
            " 1   Open               float64\n",
            " 2   High               float64\n",
            " 3   Low                float64\n",
            " 4   Close              float64\n",
            " 5   Volume_(BTC)       float64\n",
            " 6   Volume_(Currency)  float64\n",
            " 7   Weighted_Price     float64\n",
            "dtypes: float64(7), int64(1)\n",
            "memory usage: 296.5 MB\n"
          ]
        }
      ]
    },
    {
      "cell_type": "code",
      "metadata": {
        "colab": {
          "base_uri": "https://localhost:8080/"
        },
        "id": "xQbxXoS_Pjmi",
        "outputId": "1a04e456-6e31-4051-df6d-ea1bac41ea18"
      },
      "source": [
        "#verificando o tipo dos dados\n",
        "df.dtypes"
      ],
      "execution_count": 11,
      "outputs": [
        {
          "output_type": "execute_result",
          "data": {
            "text/plain": [
              "Timestamp              int64\n",
              "Open                 float64\n",
              "High                 float64\n",
              "Low                  float64\n",
              "Close                float64\n",
              "Volume_(BTC)         float64\n",
              "Volume_(Currency)    float64\n",
              "Weighted_Price       float64\n",
              "dtype: object"
            ]
          },
          "metadata": {},
          "execution_count": 11
        }
      ]
    },
    {
      "cell_type": "code",
      "metadata": {
        "colab": {
          "base_uri": "https://localhost:8080/",
          "height": 300
        },
        "id": "yZz86SCYXKc1",
        "outputId": "92fb2abe-3a58-4c95-9728-be55dbcc512f"
      },
      "source": [
        "#obtendo informações estatísticas iniciais. \n",
        "df.describe()"
      ],
      "execution_count": 12,
      "outputs": [
        {
          "output_type": "execute_result",
          "data": {
            "text/html": [
              "<div>\n",
              "<style scoped>\n",
              "    .dataframe tbody tr th:only-of-type {\n",
              "        vertical-align: middle;\n",
              "    }\n",
              "\n",
              "    .dataframe tbody tr th {\n",
              "        vertical-align: top;\n",
              "    }\n",
              "\n",
              "    .dataframe thead th {\n",
              "        text-align: right;\n",
              "    }\n",
              "</style>\n",
              "<table border=\"1\" class=\"dataframe\">\n",
              "  <thead>\n",
              "    <tr style=\"text-align: right;\">\n",
              "      <th></th>\n",
              "      <th>Timestamp</th>\n",
              "      <th>Open</th>\n",
              "      <th>High</th>\n",
              "      <th>Low</th>\n",
              "      <th>Close</th>\n",
              "      <th>Volume_(BTC)</th>\n",
              "      <th>Volume_(Currency)</th>\n",
              "      <th>Weighted_Price</th>\n",
              "    </tr>\n",
              "  </thead>\n",
              "  <tbody>\n",
              "    <tr>\n",
              "      <th>count</th>\n",
              "      <td>4.857377e+06</td>\n",
              "      <td>3.613769e+06</td>\n",
              "      <td>3.613769e+06</td>\n",
              "      <td>3.613769e+06</td>\n",
              "      <td>3.613769e+06</td>\n",
              "      <td>3.613769e+06</td>\n",
              "      <td>3.613769e+06</td>\n",
              "      <td>3.613769e+06</td>\n",
              "    </tr>\n",
              "    <tr>\n",
              "      <th>mean</th>\n",
              "      <td>1.471301e+09</td>\n",
              "      <td>6.009024e+03</td>\n",
              "      <td>6.013357e+03</td>\n",
              "      <td>6.004488e+03</td>\n",
              "      <td>6.009014e+03</td>\n",
              "      <td>9.323249e+00</td>\n",
              "      <td>4.176284e+04</td>\n",
              "      <td>6.008935e+03</td>\n",
              "    </tr>\n",
              "    <tr>\n",
              "      <th>std</th>\n",
              "      <td>8.428019e+07</td>\n",
              "      <td>8.996247e+03</td>\n",
              "      <td>9.003521e+03</td>\n",
              "      <td>8.988778e+03</td>\n",
              "      <td>8.996360e+03</td>\n",
              "      <td>3.054989e+01</td>\n",
              "      <td>1.518248e+05</td>\n",
              "      <td>8.995992e+03</td>\n",
              "    </tr>\n",
              "    <tr>\n",
              "      <th>min</th>\n",
              "      <td>1.325318e+09</td>\n",
              "      <td>3.800000e+00</td>\n",
              "      <td>3.800000e+00</td>\n",
              "      <td>1.500000e+00</td>\n",
              "      <td>1.500000e+00</td>\n",
              "      <td>0.000000e+00</td>\n",
              "      <td>0.000000e+00</td>\n",
              "      <td>3.800000e+00</td>\n",
              "    </tr>\n",
              "    <tr>\n",
              "      <th>25%</th>\n",
              "      <td>1.398179e+09</td>\n",
              "      <td>4.438600e+02</td>\n",
              "      <td>4.440000e+02</td>\n",
              "      <td>4.435200e+02</td>\n",
              "      <td>4.438600e+02</td>\n",
              "      <td>4.097759e-01</td>\n",
              "      <td>4.521422e+02</td>\n",
              "      <td>4.438306e+02</td>\n",
              "    </tr>\n",
              "    <tr>\n",
              "      <th>50%</th>\n",
              "      <td>1.471428e+09</td>\n",
              "      <td>3.596970e+03</td>\n",
              "      <td>3.598190e+03</td>\n",
              "      <td>3.595620e+03</td>\n",
              "      <td>3.597000e+03</td>\n",
              "      <td>1.979811e+00</td>\n",
              "      <td>3.810124e+03</td>\n",
              "      <td>3.596804e+03</td>\n",
              "    </tr>\n",
              "    <tr>\n",
              "      <th>75%</th>\n",
              "      <td>1.544288e+09</td>\n",
              "      <td>8.627270e+03</td>\n",
              "      <td>8.632980e+03</td>\n",
              "      <td>8.621090e+03</td>\n",
              "      <td>8.627160e+03</td>\n",
              "      <td>7.278216e+00</td>\n",
              "      <td>2.569821e+04</td>\n",
              "      <td>8.627637e+03</td>\n",
              "    </tr>\n",
              "    <tr>\n",
              "      <th>max</th>\n",
              "      <td>1.617149e+09</td>\n",
              "      <td>6.176356e+04</td>\n",
              "      <td>6.178183e+04</td>\n",
              "      <td>6.167355e+04</td>\n",
              "      <td>6.178180e+04</td>\n",
              "      <td>5.853852e+03</td>\n",
              "      <td>1.390067e+07</td>\n",
              "      <td>6.171621e+04</td>\n",
              "    </tr>\n",
              "  </tbody>\n",
              "</table>\n",
              "</div>"
            ],
            "text/plain": [
              "          Timestamp          Open  ...  Volume_(Currency)  Weighted_Price\n",
              "count  4.857377e+06  3.613769e+06  ...       3.613769e+06    3.613769e+06\n",
              "mean   1.471301e+09  6.009024e+03  ...       4.176284e+04    6.008935e+03\n",
              "std    8.428019e+07  8.996247e+03  ...       1.518248e+05    8.995992e+03\n",
              "min    1.325318e+09  3.800000e+00  ...       0.000000e+00    3.800000e+00\n",
              "25%    1.398179e+09  4.438600e+02  ...       4.521422e+02    4.438306e+02\n",
              "50%    1.471428e+09  3.596970e+03  ...       3.810124e+03    3.596804e+03\n",
              "75%    1.544288e+09  8.627270e+03  ...       2.569821e+04    8.627637e+03\n",
              "max    1.617149e+09  6.176356e+04  ...       1.390067e+07    6.171621e+04\n",
              "\n",
              "[8 rows x 8 columns]"
            ]
          },
          "metadata": {},
          "execution_count": 12
        }
      ]
    },
    {
      "cell_type": "code",
      "metadata": {
        "colab": {
          "base_uri": "https://localhost:8080/"
        },
        "id": "fZJ8BJ3BVOea",
        "outputId": "b7a1363c-92a6-4415-cfb7-3ffd3fa5d684"
      },
      "source": [
        "#Menores valores do bitcoin no presente conjunto de dados \n",
        "df.min()"
      ],
      "execution_count": 13,
      "outputs": [
        {
          "output_type": "execute_result",
          "data": {
            "text/plain": [
              "Timestamp            1.325318e+09\n",
              "Open                 3.800000e+00\n",
              "High                 3.800000e+00\n",
              "Low                  1.500000e+00\n",
              "Close                1.500000e+00\n",
              "Volume_(BTC)         0.000000e+00\n",
              "Volume_(Currency)    0.000000e+00\n",
              "Weighted_Price       3.800000e+00\n",
              "dtype: float64"
            ]
          },
          "metadata": {},
          "execution_count": 13
        }
      ]
    },
    {
      "cell_type": "code",
      "metadata": {
        "colab": {
          "base_uri": "https://localhost:8080/"
        },
        "id": "LUPEowTqVjgp",
        "outputId": "e7a8abbc-96f1-4d80-94d1-0ab61bb300bf"
      },
      "source": [
        "#Maiores valores do bitcoin no presente conjunto de dados\n",
        "df.max() "
      ],
      "execution_count": 14,
      "outputs": [
        {
          "output_type": "execute_result",
          "data": {
            "text/plain": [
              "Timestamp            1.617149e+09\n",
              "Open                 6.176356e+04\n",
              "High                 6.178183e+04\n",
              "Low                  6.167355e+04\n",
              "Close                6.178180e+04\n",
              "Volume_(BTC)         5.853852e+03\n",
              "Volume_(Currency)    1.390067e+07\n",
              "Weighted_Price       6.171621e+04\n",
              "dtype: float64"
            ]
          },
          "metadata": {},
          "execution_count": 14
        }
      ]
    },
    {
      "cell_type": "code",
      "metadata": {
        "colab": {
          "base_uri": "https://localhost:8080/"
        },
        "id": "8CWoHkEdgljF",
        "outputId": "3c87626b-719e-4115-a4c3-fa46b220f270"
      },
      "source": [
        "#dados faltantes, total de 1243608 observações em branco.\n",
        "df.isnull().sum()"
      ],
      "execution_count": 15,
      "outputs": [
        {
          "output_type": "execute_result",
          "data": {
            "text/plain": [
              "Timestamp                  0\n",
              "Open                 1243608\n",
              "High                 1243608\n",
              "Low                  1243608\n",
              "Close                1243608\n",
              "Volume_(BTC)         1243608\n",
              "Volume_(Currency)    1243608\n",
              "Weighted_Price       1243608\n",
              "dtype: int64"
            ]
          },
          "metadata": {},
          "execution_count": 15
        }
      ]
    },
    {
      "cell_type": "markdown",
      "metadata": {
        "id": "F4r7ZOA0Hu5r"
      },
      "source": [
        "#Mudando formato da feature Timestamp\n",
        "\n",
        "O modo como a feature se apresenta não é funcional para o interesse desse projeto. Mudando para o formato Y-m-d e o nome da feature. \n"
      ]
    },
    {
      "cell_type": "code",
      "metadata": {
        "id": "esXYuj8608nw"
      },
      "source": [
        "#mudando a feature timestamp para formato dd/mm/aa\n",
        "df[\"Timestamp\"]=pd.to_datetime(df[\"Timestamp\"], unit=\"s\")\n",
        "\n"
      ],
      "execution_count": 16,
      "outputs": []
    },
    {
      "cell_type": "code",
      "metadata": {
        "colab": {
          "base_uri": "https://localhost:8080/",
          "height": 206
        },
        "id": "hdAGp7pDoK7Q",
        "outputId": "bde0a764-ae1d-4a95-cfad-1d167ba899b8"
      },
      "source": [
        "df.head()"
      ],
      "execution_count": 17,
      "outputs": [
        {
          "output_type": "execute_result",
          "data": {
            "text/html": [
              "<div>\n",
              "<style scoped>\n",
              "    .dataframe tbody tr th:only-of-type {\n",
              "        vertical-align: middle;\n",
              "    }\n",
              "\n",
              "    .dataframe tbody tr th {\n",
              "        vertical-align: top;\n",
              "    }\n",
              "\n",
              "    .dataframe thead th {\n",
              "        text-align: right;\n",
              "    }\n",
              "</style>\n",
              "<table border=\"1\" class=\"dataframe\">\n",
              "  <thead>\n",
              "    <tr style=\"text-align: right;\">\n",
              "      <th></th>\n",
              "      <th>Timestamp</th>\n",
              "      <th>Open</th>\n",
              "      <th>High</th>\n",
              "      <th>Low</th>\n",
              "      <th>Close</th>\n",
              "      <th>Volume_(BTC)</th>\n",
              "      <th>Volume_(Currency)</th>\n",
              "      <th>Weighted_Price</th>\n",
              "    </tr>\n",
              "  </thead>\n",
              "  <tbody>\n",
              "    <tr>\n",
              "      <th>0</th>\n",
              "      <td>2011-12-31 07:52:00</td>\n",
              "      <td>4.39</td>\n",
              "      <td>4.39</td>\n",
              "      <td>4.39</td>\n",
              "      <td>4.39</td>\n",
              "      <td>0.455581</td>\n",
              "      <td>2.0</td>\n",
              "      <td>4.39</td>\n",
              "    </tr>\n",
              "    <tr>\n",
              "      <th>1</th>\n",
              "      <td>2011-12-31 07:53:00</td>\n",
              "      <td>NaN</td>\n",
              "      <td>NaN</td>\n",
              "      <td>NaN</td>\n",
              "      <td>NaN</td>\n",
              "      <td>NaN</td>\n",
              "      <td>NaN</td>\n",
              "      <td>NaN</td>\n",
              "    </tr>\n",
              "    <tr>\n",
              "      <th>2</th>\n",
              "      <td>2011-12-31 07:54:00</td>\n",
              "      <td>NaN</td>\n",
              "      <td>NaN</td>\n",
              "      <td>NaN</td>\n",
              "      <td>NaN</td>\n",
              "      <td>NaN</td>\n",
              "      <td>NaN</td>\n",
              "      <td>NaN</td>\n",
              "    </tr>\n",
              "    <tr>\n",
              "      <th>3</th>\n",
              "      <td>2011-12-31 07:55:00</td>\n",
              "      <td>NaN</td>\n",
              "      <td>NaN</td>\n",
              "      <td>NaN</td>\n",
              "      <td>NaN</td>\n",
              "      <td>NaN</td>\n",
              "      <td>NaN</td>\n",
              "      <td>NaN</td>\n",
              "    </tr>\n",
              "    <tr>\n",
              "      <th>4</th>\n",
              "      <td>2011-12-31 07:56:00</td>\n",
              "      <td>NaN</td>\n",
              "      <td>NaN</td>\n",
              "      <td>NaN</td>\n",
              "      <td>NaN</td>\n",
              "      <td>NaN</td>\n",
              "      <td>NaN</td>\n",
              "      <td>NaN</td>\n",
              "    </tr>\n",
              "  </tbody>\n",
              "</table>\n",
              "</div>"
            ],
            "text/plain": [
              "            Timestamp  Open  ...  Volume_(Currency)  Weighted_Price\n",
              "0 2011-12-31 07:52:00  4.39  ...                2.0            4.39\n",
              "1 2011-12-31 07:53:00   NaN  ...                NaN             NaN\n",
              "2 2011-12-31 07:54:00   NaN  ...                NaN             NaN\n",
              "3 2011-12-31 07:55:00   NaN  ...                NaN             NaN\n",
              "4 2011-12-31 07:56:00   NaN  ...                NaN             NaN\n",
              "\n",
              "[5 rows x 8 columns]"
            ]
          },
          "metadata": {},
          "execution_count": 17
        }
      ]
    },
    {
      "cell_type": "code",
      "metadata": {
        "colab": {
          "base_uri": "https://localhost:8080/",
          "height": 206
        },
        "id": "hjvatlN8FxHu",
        "outputId": "beba2fbd-878f-462c-e27d-483210914518"
      },
      "source": [
        "df.tail()"
      ],
      "execution_count": 18,
      "outputs": [
        {
          "output_type": "execute_result",
          "data": {
            "text/html": [
              "<div>\n",
              "<style scoped>\n",
              "    .dataframe tbody tr th:only-of-type {\n",
              "        vertical-align: middle;\n",
              "    }\n",
              "\n",
              "    .dataframe tbody tr th {\n",
              "        vertical-align: top;\n",
              "    }\n",
              "\n",
              "    .dataframe thead th {\n",
              "        text-align: right;\n",
              "    }\n",
              "</style>\n",
              "<table border=\"1\" class=\"dataframe\">\n",
              "  <thead>\n",
              "    <tr style=\"text-align: right;\">\n",
              "      <th></th>\n",
              "      <th>Timestamp</th>\n",
              "      <th>Open</th>\n",
              "      <th>High</th>\n",
              "      <th>Low</th>\n",
              "      <th>Close</th>\n",
              "      <th>Volume_(BTC)</th>\n",
              "      <th>Volume_(Currency)</th>\n",
              "      <th>Weighted_Price</th>\n",
              "    </tr>\n",
              "  </thead>\n",
              "  <tbody>\n",
              "    <tr>\n",
              "      <th>4857372</th>\n",
              "      <td>2021-03-30 23:56:00</td>\n",
              "      <td>58714.31</td>\n",
              "      <td>58714.31</td>\n",
              "      <td>58686.00</td>\n",
              "      <td>58686.00</td>\n",
              "      <td>1.384487</td>\n",
              "      <td>81259.372187</td>\n",
              "      <td>58692.753339</td>\n",
              "    </tr>\n",
              "    <tr>\n",
              "      <th>4857373</th>\n",
              "      <td>2021-03-30 23:57:00</td>\n",
              "      <td>58683.97</td>\n",
              "      <td>58693.43</td>\n",
              "      <td>58683.97</td>\n",
              "      <td>58685.81</td>\n",
              "      <td>7.294848</td>\n",
              "      <td>428158.146640</td>\n",
              "      <td>58693.226508</td>\n",
              "    </tr>\n",
              "    <tr>\n",
              "      <th>4857374</th>\n",
              "      <td>2021-03-30 23:58:00</td>\n",
              "      <td>58693.43</td>\n",
              "      <td>58723.84</td>\n",
              "      <td>58693.43</td>\n",
              "      <td>58723.84</td>\n",
              "      <td>1.705682</td>\n",
              "      <td>100117.070370</td>\n",
              "      <td>58696.198496</td>\n",
              "    </tr>\n",
              "    <tr>\n",
              "      <th>4857375</th>\n",
              "      <td>2021-03-30 23:59:00</td>\n",
              "      <td>58742.18</td>\n",
              "      <td>58770.38</td>\n",
              "      <td>58742.18</td>\n",
              "      <td>58760.59</td>\n",
              "      <td>0.720415</td>\n",
              "      <td>42332.958633</td>\n",
              "      <td>58761.866202</td>\n",
              "    </tr>\n",
              "    <tr>\n",
              "      <th>4857376</th>\n",
              "      <td>2021-03-31 00:00:00</td>\n",
              "      <td>58767.75</td>\n",
              "      <td>58778.18</td>\n",
              "      <td>58755.97</td>\n",
              "      <td>58778.18</td>\n",
              "      <td>2.712831</td>\n",
              "      <td>159417.751000</td>\n",
              "      <td>58764.349363</td>\n",
              "    </tr>\n",
              "  </tbody>\n",
              "</table>\n",
              "</div>"
            ],
            "text/plain": [
              "                  Timestamp      Open  ...  Volume_(Currency)  Weighted_Price\n",
              "4857372 2021-03-30 23:56:00  58714.31  ...       81259.372187    58692.753339\n",
              "4857373 2021-03-30 23:57:00  58683.97  ...      428158.146640    58693.226508\n",
              "4857374 2021-03-30 23:58:00  58693.43  ...      100117.070370    58696.198496\n",
              "4857375 2021-03-30 23:59:00  58742.18  ...       42332.958633    58761.866202\n",
              "4857376 2021-03-31 00:00:00  58767.75  ...      159417.751000    58764.349363\n",
              "\n",
              "[5 rows x 8 columns]"
            ]
          },
          "metadata": {},
          "execution_count": 18
        }
      ]
    },
    {
      "cell_type": "code",
      "metadata": {
        "colab": {
          "base_uri": "https://localhost:8080/"
        },
        "id": "nA7N-hQ8R3ic",
        "outputId": "b99fe9aa-ee9b-46d5-ea94-26e3cb4a5ab8"
      },
      "source": [
        "df[\"Timestamp\"].dtype"
      ],
      "execution_count": 19,
      "outputs": [
        {
          "output_type": "execute_result",
          "data": {
            "text/plain": [
              "dtype('<M8[ns]')"
            ]
          },
          "metadata": {},
          "execution_count": 19
        }
      ]
    },
    {
      "cell_type": "code",
      "metadata": {
        "id": "HHENlromRMoh"
      },
      "source": [
        "df[\"Timestamp\"]=pd.to_datetime(df[\"Timestamp\"], format= \"%Y-%m-%d\")\n"
      ],
      "execution_count": 20,
      "outputs": []
    },
    {
      "cell_type": "code",
      "metadata": {
        "colab": {
          "base_uri": "https://localhost:8080/"
        },
        "id": "Vqxx5JpbQNQ4",
        "outputId": "a45aae28-2173-47bd-ff58-c9063c5ff19e"
      },
      "source": [
        "#Tipo do dado foi alterado\n",
        "df.dtypes"
      ],
      "execution_count": 21,
      "outputs": [
        {
          "output_type": "execute_result",
          "data": {
            "text/plain": [
              "Timestamp            datetime64[ns]\n",
              "Open                        float64\n",
              "High                        float64\n",
              "Low                         float64\n",
              "Close                       float64\n",
              "Volume_(BTC)                float64\n",
              "Volume_(Currency)           float64\n",
              "Weighted_Price              float64\n",
              "dtype: object"
            ]
          },
          "metadata": {},
          "execution_count": 21
        }
      ]
    },
    {
      "cell_type": "markdown",
      "metadata": {
        "id": "1CW8hAl-ZuIc"
      },
      "source": [
        "Correlção\n"
      ]
    },
    {
      "cell_type": "code",
      "metadata": {
        "colab": {
          "base_uri": "https://localhost:8080/",
          "height": 269
        },
        "id": "fIDwzC09Xx_U",
        "outputId": "f61fb863-41a4-4a23-99c9-c32a2a7c4787"
      },
      "source": [
        "#correlação entre as features\n",
        "corr=df.corr()\n",
        "corr"
      ],
      "execution_count": 22,
      "outputs": [
        {
          "output_type": "execute_result",
          "data": {
            "text/html": [
              "<div>\n",
              "<style scoped>\n",
              "    .dataframe tbody tr th:only-of-type {\n",
              "        vertical-align: middle;\n",
              "    }\n",
              "\n",
              "    .dataframe tbody tr th {\n",
              "        vertical-align: top;\n",
              "    }\n",
              "\n",
              "    .dataframe thead th {\n",
              "        text-align: right;\n",
              "    }\n",
              "</style>\n",
              "<table border=\"1\" class=\"dataframe\">\n",
              "  <thead>\n",
              "    <tr style=\"text-align: right;\">\n",
              "      <th></th>\n",
              "      <th>Open</th>\n",
              "      <th>High</th>\n",
              "      <th>Low</th>\n",
              "      <th>Close</th>\n",
              "      <th>Volume_(BTC)</th>\n",
              "      <th>Volume_(Currency)</th>\n",
              "      <th>Weighted_Price</th>\n",
              "    </tr>\n",
              "  </thead>\n",
              "  <tbody>\n",
              "    <tr>\n",
              "      <th>Open</th>\n",
              "      <td>1.000000</td>\n",
              "      <td>0.999999</td>\n",
              "      <td>0.999999</td>\n",
              "      <td>0.999999</td>\n",
              "      <td>-0.051860</td>\n",
              "      <td>0.344074</td>\n",
              "      <td>0.999999</td>\n",
              "    </tr>\n",
              "    <tr>\n",
              "      <th>High</th>\n",
              "      <td>0.999999</td>\n",
              "      <td>1.000000</td>\n",
              "      <td>0.999998</td>\n",
              "      <td>0.999999</td>\n",
              "      <td>-0.051717</td>\n",
              "      <td>0.344498</td>\n",
              "      <td>0.999999</td>\n",
              "    </tr>\n",
              "    <tr>\n",
              "      <th>Low</th>\n",
              "      <td>0.999999</td>\n",
              "      <td>0.999998</td>\n",
              "      <td>1.000000</td>\n",
              "      <td>0.999999</td>\n",
              "      <td>-0.052040</td>\n",
              "      <td>0.343541</td>\n",
              "      <td>1.000000</td>\n",
              "    </tr>\n",
              "    <tr>\n",
              "      <th>Close</th>\n",
              "      <td>0.999999</td>\n",
              "      <td>0.999999</td>\n",
              "      <td>0.999999</td>\n",
              "      <td>1.000000</td>\n",
              "      <td>-0.051877</td>\n",
              "      <td>0.344036</td>\n",
              "      <td>1.000000</td>\n",
              "    </tr>\n",
              "    <tr>\n",
              "      <th>Volume_(BTC)</th>\n",
              "      <td>-0.051860</td>\n",
              "      <td>-0.051717</td>\n",
              "      <td>-0.052040</td>\n",
              "      <td>-0.051877</td>\n",
              "      <td>1.000000</td>\n",
              "      <td>0.352038</td>\n",
              "      <td>-0.051887</td>\n",
              "    </tr>\n",
              "    <tr>\n",
              "      <th>Volume_(Currency)</th>\n",
              "      <td>0.344074</td>\n",
              "      <td>0.344498</td>\n",
              "      <td>0.343541</td>\n",
              "      <td>0.344036</td>\n",
              "      <td>0.352038</td>\n",
              "      <td>1.000000</td>\n",
              "      <td>0.344010</td>\n",
              "    </tr>\n",
              "    <tr>\n",
              "      <th>Weighted_Price</th>\n",
              "      <td>0.999999</td>\n",
              "      <td>0.999999</td>\n",
              "      <td>1.000000</td>\n",
              "      <td>1.000000</td>\n",
              "      <td>-0.051887</td>\n",
              "      <td>0.344010</td>\n",
              "      <td>1.000000</td>\n",
              "    </tr>\n",
              "  </tbody>\n",
              "</table>\n",
              "</div>"
            ],
            "text/plain": [
              "                       Open      High  ...  Volume_(Currency)  Weighted_Price\n",
              "Open               1.000000  0.999999  ...           0.344074        0.999999\n",
              "High               0.999999  1.000000  ...           0.344498        0.999999\n",
              "Low                0.999999  0.999998  ...           0.343541        1.000000\n",
              "Close              0.999999  0.999999  ...           0.344036        1.000000\n",
              "Volume_(BTC)      -0.051860 -0.051717  ...           0.352038       -0.051887\n",
              "Volume_(Currency)  0.344074  0.344498  ...           1.000000        0.344010\n",
              "Weighted_Price     0.999999  0.999999  ...           0.344010        1.000000\n",
              "\n",
              "[7 rows x 7 columns]"
            ]
          },
          "metadata": {},
          "execution_count": 22
        }
      ]
    },
    {
      "cell_type": "code",
      "metadata": {
        "colab": {
          "base_uri": "https://localhost:8080/",
          "height": 633
        },
        "id": "u2d4SVbRZsQA",
        "outputId": "7ae2aea0-0ee4-4689-e51f-ffa8cb704d1a"
      },
      "source": [
        "plt.figure(figsize=(12,10))\n",
        "corr\n",
        "sns.heatmap(data=corr, annot=True, linewidths=0.5, fmt=\".2f\",cmap=\"rocket\")\n",
        "plt.xticks(rotation=0)"
      ],
      "execution_count": 23,
      "outputs": [
        {
          "output_type": "execute_result",
          "data": {
            "text/plain": [
              "(array([0.5, 1.5, 2.5, 3.5, 4.5, 5.5, 6.5]),\n",
              " <a list of 7 Text major ticklabel objects>)"
            ]
          },
          "metadata": {},
          "execution_count": 23
        },
        {
          "output_type": "display_data",
          "data": {
            "image/png": "[encoded data removed]",
            "text/plain": [
              "<Figure size 864x720 with 2 Axes>"
            ]
          },
          "metadata": {
            "needs_background": "light"
          }
        }
      ]
    },
    {
      "cell_type": "markdown",
      "metadata": {
        "id": "tYrCXtvsekDa"
      },
      "source": [
        "#Correlação entre as features.\n",
        "\n",
        "1 - Open, high, low e close têm entre si grande correlação. (esperado).\n",
        "\n",
        "2 - BTC e  CURRENCY têm moderada correlação entre si, baixa com as demais features. \n",
        "\n",
        "3 - WEIGHTED PRICE tem alta correlação com as features open, high, low e close. E baixa com as features BTC E CURRENCY. \n",
        "\n",
        "\n",
        "\n"
      ]
    },
    {
      "cell_type": "markdown",
      "metadata": {
        "id": "UdveCLgF5xwa"
      },
      "source": [
        "##Dicionário de dados\n",
        "\n",
        "1 - Timestamp - Hora de início da janela. Janelas de 60s em unidade de time unix. Tipo - int. Alterado para datetime.\n",
        "\n",
        "2 - Open - Valor de abertura no início da janela. Tipo de dado - float.\n",
        "\n",
        "3 - High - Valor mais alto durante a janela. Tipo de dado - float.\n",
        "\n",
        "4 - Low - Valor mais baixo durante a janela. Tipo de dado - float. \n",
        "\n",
        "5 - Close - Valor no fechamento da janela. Tipo de dado - float. \n",
        "\n",
        "6 - Volume BTC - Volume de bitcoin transacionado na respectiva janela. Tipo de dado - float.\n",
        "\n",
        "7 - Volume currency - Volume total de cryptomoedas transacionadas na respectiva janela. Tipo de dado - float.\n",
        "\n",
        "8 - Weighted Price - VWAP - Preço médio ponderado por volume. É obtido da razão entre o somatório do produto do número de bitcoin comprado pelo preço, e o total de bitcoin comprado. Tipo de dado - float.  "
      ]
    },
    {
      "cell_type": "markdown",
      "metadata": {
        "id": "K5E3ET05xpeB"
      },
      "source": [
        "#Dados faltantes e duplicatas.\n",
        "\n",
        "A abordagem adotada com relação aos NaN presentes no conjunto de dados foi de, a princípio, não leva-los em consideração deste ponto em diante. Devido ao fato de serem apenas dados faltantes que não deverão influenciar no presente projeto.\n",
        "\n",
        "\n"
      ]
    },
    {
      "cell_type": "markdown",
      "metadata": {
        "id": "s2jUgBmlhOSY"
      },
      "source": [
        "#Percentual de dados faltantes\n",
        "\n",
        "O conjunto de dados tem 25,6% de dados faltantes."
      ]
    },
    {
      "cell_type": "code",
      "metadata": {
        "colab": {
          "base_uri": "https://localhost:8080/",
          "height": 424
        },
        "id": "mSwAy5DFZumu",
        "outputId": "aa4a1e62-d319-4f6c-8a3a-08c8aa3ba458"
      },
      "source": [
        "#Verificando de dados faltantes no conjunto de dados \n",
        "df.isnull()"
      ],
      "execution_count": 24,
      "outputs": [
        {
          "output_type": "execute_result",
          "data": {
            "text/html": [
              "<div>\n",
              "<style scoped>\n",
              "    .dataframe tbody tr th:only-of-type {\n",
              "        vertical-align: middle;\n",
              "    }\n",
              "\n",
              "    .dataframe tbody tr th {\n",
              "        vertical-align: top;\n",
              "    }\n",
              "\n",
              "    .dataframe thead th {\n",
              "        text-align: right;\n",
              "    }\n",
              "</style>\n",
              "<table border=\"1\" class=\"dataframe\">\n",
              "  <thead>\n",
              "    <tr style=\"text-align: right;\">\n",
              "      <th></th>\n",
              "      <th>Timestamp</th>\n",
              "      <th>Open</th>\n",
              "      <th>High</th>\n",
              "      <th>Low</th>\n",
              "      <th>Close</th>\n",
              "      <th>Volume_(BTC)</th>\n",
              "      <th>Volume_(Currency)</th>\n",
              "      <th>Weighted_Price</th>\n",
              "    </tr>\n",
              "  </thead>\n",
              "  <tbody>\n",
              "    <tr>\n",
              "      <th>0</th>\n",
              "      <td>False</td>\n",
              "      <td>False</td>\n",
              "      <td>False</td>\n",
              "      <td>False</td>\n",
              "      <td>False</td>\n",
              "      <td>False</td>\n",
              "      <td>False</td>\n",
              "      <td>False</td>\n",
              "    </tr>\n",
              "    <tr>\n",
              "      <th>1</th>\n",
              "      <td>False</td>\n",
              "      <td>True</td>\n",
              "      <td>True</td>\n",
              "      <td>True</td>\n",
              "      <td>True</td>\n",
              "      <td>True</td>\n",
              "      <td>True</td>\n",
              "      <td>True</td>\n",
              "    </tr>\n",
              "    <tr>\n",
              "      <th>2</th>\n",
              "      <td>False</td>\n",
              "      <td>True</td>\n",
              "      <td>True</td>\n",
              "      <td>True</td>\n",
              "      <td>True</td>\n",
              "      <td>True</td>\n",
              "      <td>True</td>\n",
              "      <td>True</td>\n",
              "    </tr>\n",
              "    <tr>\n",
              "      <th>3</th>\n",
              "      <td>False</td>\n",
              "      <td>True</td>\n",
              "      <td>True</td>\n",
              "      <td>True</td>\n",
              "      <td>True</td>\n",
              "      <td>True</td>\n",
              "      <td>True</td>\n",
              "      <td>True</td>\n",
              "    </tr>\n",
              "    <tr>\n",
              "      <th>4</th>\n",
              "      <td>False</td>\n",
              "      <td>True</td>\n",
              "      <td>True</td>\n",
              "      <td>True</td>\n",
              "      <td>True</td>\n",
              "      <td>True</td>\n",
              "      <td>True</td>\n",
              "      <td>True</td>\n",
              "    </tr>\n",
              "    <tr>\n",
              "      <th>...</th>\n",
              "      <td>...</td>\n",
              "      <td>...</td>\n",
              "      <td>...</td>\n",
              "      <td>...</td>\n",
              "      <td>...</td>\n",
              "      <td>...</td>\n",
              "      <td>...</td>\n",
              "      <td>...</td>\n",
              "    </tr>\n",
              "    <tr>\n",
              "      <th>4857372</th>\n",
              "      <td>False</td>\n",
              "      <td>False</td>\n",
              "      <td>False</td>\n",
              "      <td>False</td>\n",
              "      <td>False</td>\n",
              "      <td>False</td>\n",
              "      <td>False</td>\n",
              "      <td>False</td>\n",
              "    </tr>\n",
              "    <tr>\n",
              "      <th>4857373</th>\n",
              "      <td>False</td>\n",
              "      <td>False</td>\n",
              "      <td>False</td>\n",
              "      <td>False</td>\n",
              "      <td>False</td>\n",
              "      <td>False</td>\n",
              "      <td>False</td>\n",
              "      <td>False</td>\n",
              "    </tr>\n",
              "    <tr>\n",
              "      <th>4857374</th>\n",
              "      <td>False</td>\n",
              "      <td>False</td>\n",
              "      <td>False</td>\n",
              "      <td>False</td>\n",
              "      <td>False</td>\n",
              "      <td>False</td>\n",
              "      <td>False</td>\n",
              "      <td>False</td>\n",
              "    </tr>\n",
              "    <tr>\n",
              "      <th>4857375</th>\n",
              "      <td>False</td>\n",
              "      <td>False</td>\n",
              "      <td>False</td>\n",
              "      <td>False</td>\n",
              "      <td>False</td>\n",
              "      <td>False</td>\n",
              "      <td>False</td>\n",
              "      <td>False</td>\n",
              "    </tr>\n",
              "    <tr>\n",
              "      <th>4857376</th>\n",
              "      <td>False</td>\n",
              "      <td>False</td>\n",
              "      <td>False</td>\n",
              "      <td>False</td>\n",
              "      <td>False</td>\n",
              "      <td>False</td>\n",
              "      <td>False</td>\n",
              "      <td>False</td>\n",
              "    </tr>\n",
              "  </tbody>\n",
              "</table>\n",
              "<p>4857377 rows × 8 columns</p>\n",
              "</div>"
            ],
            "text/plain": [
              "         Timestamp   Open  ...  Volume_(Currency)  Weighted_Price\n",
              "0            False  False  ...              False           False\n",
              "1            False   True  ...               True            True\n",
              "2            False   True  ...               True            True\n",
              "3            False   True  ...               True            True\n",
              "4            False   True  ...               True            True\n",
              "...            ...    ...  ...                ...             ...\n",
              "4857372      False  False  ...              False           False\n",
              "4857373      False  False  ...              False           False\n",
              "4857374      False  False  ...              False           False\n",
              "4857375      False  False  ...              False           False\n",
              "4857376      False  False  ...              False           False\n",
              "\n",
              "[4857377 rows x 8 columns]"
            ]
          },
          "metadata": {},
          "execution_count": 24
        }
      ]
    },
    {
      "cell_type": "code",
      "metadata": {
        "colab": {
          "base_uri": "https://localhost:8080/"
        },
        "id": "9hgta9DRb9bH",
        "outputId": "9a615705-b341-4897-ef75-37fb0daed698"
      },
      "source": [
        "#Quantidade de dados faltantes por feature\n",
        "df.isnull().sum()"
      ],
      "execution_count": 25,
      "outputs": [
        {
          "output_type": "execute_result",
          "data": {
            "text/plain": [
              "Timestamp                  0\n",
              "Open                 1243608\n",
              "High                 1243608\n",
              "Low                  1243608\n",
              "Close                1243608\n",
              "Volume_(BTC)         1243608\n",
              "Volume_(Currency)    1243608\n",
              "Weighted_Price       1243608\n",
              "dtype: int64"
            ]
          },
          "metadata": {},
          "execution_count": 25
        }
      ]
    },
    {
      "cell_type": "code",
      "metadata": {
        "colab": {
          "base_uri": "https://localhost:8080/"
        },
        "id": "Mw5PfBh7gSVd",
        "outputId": "bfcefa89-d467-44a3-fa35-18bb7b42e8b7"
      },
      "source": [
        "#Separando colunas e linhas do df\n",
        "df.shape"
      ],
      "execution_count": 26,
      "outputs": [
        {
          "output_type": "execute_result",
          "data": {
            "text/plain": [
              "(4857377, 8)"
            ]
          },
          "metadata": {},
          "execution_count": 26
        }
      ]
    },
    {
      "cell_type": "code",
      "metadata": {
        "id": "hqg7PO3TgbNd"
      },
      "source": [
        "#Salvando as informações de linhas e colunas em variáveis para melhor manipulação \n",
        "linhas, colunas = df.shape"
      ],
      "execution_count": 27,
      "outputs": []
    },
    {
      "cell_type": "code",
      "metadata": {
        "id": "EJXkT3bNgpzc"
      },
      "source": [
        "#Verificando o percentual de dados faltantes no df e salvando numa respectiva variável\n",
        "percentual_faltantes = (df.isnull().sum()/linhas)*100"
      ],
      "execution_count": 28,
      "outputs": []
    },
    {
      "cell_type": "code",
      "metadata": {
        "colab": {
          "base_uri": "https://localhost:8080/"
        },
        "id": "INETGajYg8JH",
        "outputId": "178ab244-cc85-4110-eec0-938add757b8f"
      },
      "source": [
        "percentual_faltantes"
      ],
      "execution_count": 29,
      "outputs": [
        {
          "output_type": "execute_result",
          "data": {
            "text/plain": [
              "Timestamp             0.00000\n",
              "Open                 25.60246\n",
              "High                 25.60246\n",
              "Low                  25.60246\n",
              "Close                25.60246\n",
              "Volume_(BTC)         25.60246\n",
              "Volume_(Currency)    25.60246\n",
              "Weighted_Price       25.60246\n",
              "dtype: float64"
            ]
          },
          "metadata": {},
          "execution_count": 29
        }
      ]
    },
    {
      "cell_type": "code",
      "metadata": {
        "id": "8iCq9pDR__ef",
        "colab": {
          "base_uri": "https://localhost:8080/",
          "height": 622
        },
        "outputId": "7552c993-fcec-4bcb-f718-07bd37645ad2"
      },
      "source": [
        "#Visualizando os dados faltantes\n",
        "msno.matrix(df, figsize=(10,8))"
      ],
      "execution_count": 30,
      "outputs": [
        {
          "output_type": "execute_result",
          "data": {
            "text/plain": [
              "<matplotlib.axes._subplots.AxesSubplot at 0x7f4c8b200b50>"
            ]
          },
          "metadata": {},
          "execution_count": 30
        },
        {
          "output_type": "display_data",
          "data": {
            "image/png": "[encoded data removed]",
            "text/plain": [
              "<Figure size 720x576 with 2 Axes>"
            ]
          },
          "metadata": {
            "needs_background": "light"
          }
        }
      ]
    },
    {
      "cell_type": "code",
      "metadata": {
        "id": "VF4mlugeEMg1",
        "colab": {
          "base_uri": "https://localhost:8080/",
          "height": 591
        },
        "outputId": "e47f7578-e561-4f71-80fd-66f3bac73f74"
      },
      "source": [
        "#Visualizando com mapa de calor\n",
        "plt.figure(figsize=(10,8))\n",
        "sns.heatmap(df.isnull())"
      ],
      "execution_count": 31,
      "outputs": [
        {
          "output_type": "execute_result",
          "data": {
            "text/plain": [
              "<matplotlib.axes._subplots.AxesSubplot at 0x7f4c8b24d290>"
            ]
          },
          "metadata": {},
          "execution_count": 31
        },
        {
          "output_type": "display_data",
          "data": {
            "image/png": "[encoded data removed]",
            "text/plain": [
              "<Figure size 720x576 with 2 Axes>"
            ]
          },
          "metadata": {
            "needs_background": "light"
          }
        }
      ]
    },
    {
      "cell_type": "code",
      "metadata": {
        "id": "nt1Q6MXbxgVD"
      },
      "source": [
        "#Cópia do df para exclusão dos faltantes.\n",
        "df_sem_faltantes= df.copy()"
      ],
      "execution_count": 32,
      "outputs": []
    },
    {
      "cell_type": "code",
      "metadata": {
        "id": "zwWWu6cs5hMj",
        "colab": {
          "base_uri": "https://localhost:8080/",
          "height": 206
        },
        "outputId": "43a38d7f-3137-4741-e6bb-802b57117740"
      },
      "source": [
        "#Df a ser trabalho em diante. \n",
        "df_sem_faltantes.head()"
      ],
      "execution_count": 33,
      "outputs": [
        {
          "output_type": "execute_result",
          "data": {
            "text/html": [
              "<div>\n",
              "<style scoped>\n",
              "    .dataframe tbody tr th:only-of-type {\n",
              "        vertical-align: middle;\n",
              "    }\n",
              "\n",
              "    .dataframe tbody tr th {\n",
              "        vertical-align: top;\n",
              "    }\n",
              "\n",
              "    .dataframe thead th {\n",
              "        text-align: right;\n",
              "    }\n",
              "</style>\n",
              "<table border=\"1\" class=\"dataframe\">\n",
              "  <thead>\n",
              "    <tr style=\"text-align: right;\">\n",
              "      <th></th>\n",
              "      <th>Timestamp</th>\n",
              "      <th>Open</th>\n",
              "      <th>High</th>\n",
              "      <th>Low</th>\n",
              "      <th>Close</th>\n",
              "      <th>Volume_(BTC)</th>\n",
              "      <th>Volume_(Currency)</th>\n",
              "      <th>Weighted_Price</th>\n",
              "    </tr>\n",
              "  </thead>\n",
              "  <tbody>\n",
              "    <tr>\n",
              "      <th>0</th>\n",
              "      <td>2011-12-31 07:52:00</td>\n",
              "      <td>4.39</td>\n",
              "      <td>4.39</td>\n",
              "      <td>4.39</td>\n",
              "      <td>4.39</td>\n",
              "      <td>0.455581</td>\n",
              "      <td>2.0</td>\n",
              "      <td>4.39</td>\n",
              "    </tr>\n",
              "    <tr>\n",
              "      <th>1</th>\n",
              "      <td>2011-12-31 07:53:00</td>\n",
              "      <td>NaN</td>\n",
              "      <td>NaN</td>\n",
              "      <td>NaN</td>\n",
              "      <td>NaN</td>\n",
              "      <td>NaN</td>\n",
              "      <td>NaN</td>\n",
              "      <td>NaN</td>\n",
              "    </tr>\n",
              "    <tr>\n",
              "      <th>2</th>\n",
              "      <td>2011-12-31 07:54:00</td>\n",
              "      <td>NaN</td>\n",
              "      <td>NaN</td>\n",
              "      <td>NaN</td>\n",
              "      <td>NaN</td>\n",
              "      <td>NaN</td>\n",
              "      <td>NaN</td>\n",
              "      <td>NaN</td>\n",
              "    </tr>\n",
              "    <tr>\n",
              "      <th>3</th>\n",
              "      <td>2011-12-31 07:55:00</td>\n",
              "      <td>NaN</td>\n",
              "      <td>NaN</td>\n",
              "      <td>NaN</td>\n",
              "      <td>NaN</td>\n",
              "      <td>NaN</td>\n",
              "      <td>NaN</td>\n",
              "      <td>NaN</td>\n",
              "    </tr>\n",
              "    <tr>\n",
              "      <th>4</th>\n",
              "      <td>2011-12-31 07:56:00</td>\n",
              "      <td>NaN</td>\n",
              "      <td>NaN</td>\n",
              "      <td>NaN</td>\n",
              "      <td>NaN</td>\n",
              "      <td>NaN</td>\n",
              "      <td>NaN</td>\n",
              "      <td>NaN</td>\n",
              "    </tr>\n",
              "  </tbody>\n",
              "</table>\n",
              "</div>"
            ],
            "text/plain": [
              "            Timestamp  Open  ...  Volume_(Currency)  Weighted_Price\n",
              "0 2011-12-31 07:52:00  4.39  ...                2.0            4.39\n",
              "1 2011-12-31 07:53:00   NaN  ...                NaN             NaN\n",
              "2 2011-12-31 07:54:00   NaN  ...                NaN             NaN\n",
              "3 2011-12-31 07:55:00   NaN  ...                NaN             NaN\n",
              "4 2011-12-31 07:56:00   NaN  ...                NaN             NaN\n",
              "\n",
              "[5 rows x 8 columns]"
            ]
          },
          "metadata": {},
          "execution_count": 33
        }
      ]
    },
    {
      "cell_type": "code",
      "metadata": {
        "id": "Nc24Txfg5qjL"
      },
      "source": [
        "#Excluindo os dados faltantes (NaN)\n",
        "df_sem_faltantes.dropna(inplace=True)"
      ],
      "execution_count": 34,
      "outputs": []
    },
    {
      "cell_type": "code",
      "metadata": {
        "id": "q3EpEl8H8n9Z",
        "colab": {
          "base_uri": "https://localhost:8080/"
        },
        "outputId": "2bbba4a8-0185-4e33-f8f3-819d76ab6879"
      },
      "source": [
        "#Nova forma (tamanho) do dataframe\n",
        "df_sem_faltantes.shape"
      ],
      "execution_count": 35,
      "outputs": [
        {
          "output_type": "execute_result",
          "data": {
            "text/plain": [
              "(3613769, 8)"
            ]
          },
          "metadata": {},
          "execution_count": 35
        }
      ]
    },
    {
      "cell_type": "code",
      "metadata": {
        "id": "u16uEY818ghg",
        "colab": {
          "base_uri": "https://localhost:8080/"
        },
        "outputId": "5204aa6d-e8ef-4af1-da5e-32f49e8872ca"
      },
      "source": [
        "#Forma do novo dataframe sem os dados faltantes \n",
        "df_sem_faltantes.size"
      ],
      "execution_count": 36,
      "outputs": [
        {
          "output_type": "execute_result",
          "data": {
            "text/plain": [
              "28910152"
            ]
          },
          "metadata": {},
          "execution_count": 36
        }
      ]
    },
    {
      "cell_type": "code",
      "metadata": {
        "id": "jREy9zTV7sUk",
        "colab": {
          "base_uri": "https://localhost:8080/",
          "height": 206
        },
        "outputId": "c1a96474-cd91-4c75-fce3-6f4b322e8913"
      },
      "source": [
        "#Verificando\n",
        "df_sem_faltantes.head()"
      ],
      "execution_count": 37,
      "outputs": [
        {
          "output_type": "execute_result",
          "data": {
            "text/html": [
              "<div>\n",
              "<style scoped>\n",
              "    .dataframe tbody tr th:only-of-type {\n",
              "        vertical-align: middle;\n",
              "    }\n",
              "\n",
              "    .dataframe tbody tr th {\n",
              "        vertical-align: top;\n",
              "    }\n",
              "\n",
              "    .dataframe thead th {\n",
              "        text-align: right;\n",
              "    }\n",
              "</style>\n",
              "<table border=\"1\" class=\"dataframe\">\n",
              "  <thead>\n",
              "    <tr style=\"text-align: right;\">\n",
              "      <th></th>\n",
              "      <th>Timestamp</th>\n",
              "      <th>Open</th>\n",
              "      <th>High</th>\n",
              "      <th>Low</th>\n",
              "      <th>Close</th>\n",
              "      <th>Volume_(BTC)</th>\n",
              "      <th>Volume_(Currency)</th>\n",
              "      <th>Weighted_Price</th>\n",
              "    </tr>\n",
              "  </thead>\n",
              "  <tbody>\n",
              "    <tr>\n",
              "      <th>0</th>\n",
              "      <td>2011-12-31 07:52:00</td>\n",
              "      <td>4.39</td>\n",
              "      <td>4.39</td>\n",
              "      <td>4.39</td>\n",
              "      <td>4.39</td>\n",
              "      <td>0.455581</td>\n",
              "      <td>2.000000</td>\n",
              "      <td>4.390000</td>\n",
              "    </tr>\n",
              "    <tr>\n",
              "      <th>478</th>\n",
              "      <td>2011-12-31 15:50:00</td>\n",
              "      <td>4.39</td>\n",
              "      <td>4.39</td>\n",
              "      <td>4.39</td>\n",
              "      <td>4.39</td>\n",
              "      <td>48.000000</td>\n",
              "      <td>210.720000</td>\n",
              "      <td>4.390000</td>\n",
              "    </tr>\n",
              "    <tr>\n",
              "      <th>547</th>\n",
              "      <td>2011-12-31 16:59:00</td>\n",
              "      <td>4.50</td>\n",
              "      <td>4.57</td>\n",
              "      <td>4.50</td>\n",
              "      <td>4.57</td>\n",
              "      <td>37.862297</td>\n",
              "      <td>171.380338</td>\n",
              "      <td>4.526411</td>\n",
              "    </tr>\n",
              "    <tr>\n",
              "      <th>548</th>\n",
              "      <td>2011-12-31 17:00:00</td>\n",
              "      <td>4.58</td>\n",
              "      <td>4.58</td>\n",
              "      <td>4.58</td>\n",
              "      <td>4.58</td>\n",
              "      <td>9.000000</td>\n",
              "      <td>41.220000</td>\n",
              "      <td>4.580000</td>\n",
              "    </tr>\n",
              "    <tr>\n",
              "      <th>1224</th>\n",
              "      <td>2012-01-01 04:16:00</td>\n",
              "      <td>4.58</td>\n",
              "      <td>4.58</td>\n",
              "      <td>4.58</td>\n",
              "      <td>4.58</td>\n",
              "      <td>1.502000</td>\n",
              "      <td>6.879160</td>\n",
              "      <td>4.580000</td>\n",
              "    </tr>\n",
              "  </tbody>\n",
              "</table>\n",
              "</div>"
            ],
            "text/plain": [
              "               Timestamp  Open  ...  Volume_(Currency)  Weighted_Price\n",
              "0    2011-12-31 07:52:00  4.39  ...           2.000000        4.390000\n",
              "478  2011-12-31 15:50:00  4.39  ...         210.720000        4.390000\n",
              "547  2011-12-31 16:59:00  4.50  ...         171.380338        4.526411\n",
              "548  2011-12-31 17:00:00  4.58  ...          41.220000        4.580000\n",
              "1224 2012-01-01 04:16:00  4.58  ...           6.879160        4.580000\n",
              "\n",
              "[5 rows x 8 columns]"
            ]
          },
          "metadata": {},
          "execution_count": 37
        }
      ]
    },
    {
      "cell_type": "code",
      "metadata": {
        "id": "tc3yHD2R5KLY",
        "colab": {
          "base_uri": "https://localhost:8080/",
          "height": 206
        },
        "outputId": "917ee938-3deb-4f60-b69b-99599dd8c48d"
      },
      "source": [
        "df_sem_faltantes.tail()"
      ],
      "execution_count": 38,
      "outputs": [
        {
          "output_type": "execute_result",
          "data": {
            "text/html": [
              "<div>\n",
              "<style scoped>\n",
              "    .dataframe tbody tr th:only-of-type {\n",
              "        vertical-align: middle;\n",
              "    }\n",
              "\n",
              "    .dataframe tbody tr th {\n",
              "        vertical-align: top;\n",
              "    }\n",
              "\n",
              "    .dataframe thead th {\n",
              "        text-align: right;\n",
              "    }\n",
              "</style>\n",
              "<table border=\"1\" class=\"dataframe\">\n",
              "  <thead>\n",
              "    <tr style=\"text-align: right;\">\n",
              "      <th></th>\n",
              "      <th>Timestamp</th>\n",
              "      <th>Open</th>\n",
              "      <th>High</th>\n",
              "      <th>Low</th>\n",
              "      <th>Close</th>\n",
              "      <th>Volume_(BTC)</th>\n",
              "      <th>Volume_(Currency)</th>\n",
              "      <th>Weighted_Price</th>\n",
              "    </tr>\n",
              "  </thead>\n",
              "  <tbody>\n",
              "    <tr>\n",
              "      <th>4857372</th>\n",
              "      <td>2021-03-30 23:56:00</td>\n",
              "      <td>58714.31</td>\n",
              "      <td>58714.31</td>\n",
              "      <td>58686.00</td>\n",
              "      <td>58686.00</td>\n",
              "      <td>1.384487</td>\n",
              "      <td>81259.372187</td>\n",
              "      <td>58692.753339</td>\n",
              "    </tr>\n",
              "    <tr>\n",
              "      <th>4857373</th>\n",
              "      <td>2021-03-30 23:57:00</td>\n",
              "      <td>58683.97</td>\n",
              "      <td>58693.43</td>\n",
              "      <td>58683.97</td>\n",
              "      <td>58685.81</td>\n",
              "      <td>7.294848</td>\n",
              "      <td>428158.146640</td>\n",
              "      <td>58693.226508</td>\n",
              "    </tr>\n",
              "    <tr>\n",
              "      <th>4857374</th>\n",
              "      <td>2021-03-30 23:58:00</td>\n",
              "      <td>58693.43</td>\n",
              "      <td>58723.84</td>\n",
              "      <td>58693.43</td>\n",
              "      <td>58723.84</td>\n",
              "      <td>1.705682</td>\n",
              "      <td>100117.070370</td>\n",
              "      <td>58696.198496</td>\n",
              "    </tr>\n",
              "    <tr>\n",
              "      <th>4857375</th>\n",
              "      <td>2021-03-30 23:59:00</td>\n",
              "      <td>58742.18</td>\n",
              "      <td>58770.38</td>\n",
              "      <td>58742.18</td>\n",
              "      <td>58760.59</td>\n",
              "      <td>0.720415</td>\n",
              "      <td>42332.958633</td>\n",
              "      <td>58761.866202</td>\n",
              "    </tr>\n",
              "    <tr>\n",
              "      <th>4857376</th>\n",
              "      <td>2021-03-31 00:00:00</td>\n",
              "      <td>58767.75</td>\n",
              "      <td>58778.18</td>\n",
              "      <td>58755.97</td>\n",
              "      <td>58778.18</td>\n",
              "      <td>2.712831</td>\n",
              "      <td>159417.751000</td>\n",
              "      <td>58764.349363</td>\n",
              "    </tr>\n",
              "  </tbody>\n",
              "</table>\n",
              "</div>"
            ],
            "text/plain": [
              "                  Timestamp      Open  ...  Volume_(Currency)  Weighted_Price\n",
              "4857372 2021-03-30 23:56:00  58714.31  ...       81259.372187    58692.753339\n",
              "4857373 2021-03-30 23:57:00  58683.97  ...      428158.146640    58693.226508\n",
              "4857374 2021-03-30 23:58:00  58693.43  ...      100117.070370    58696.198496\n",
              "4857375 2021-03-30 23:59:00  58742.18  ...       42332.958633    58761.866202\n",
              "4857376 2021-03-31 00:00:00  58767.75  ...      159417.751000    58764.349363\n",
              "\n",
              "[5 rows x 8 columns]"
            ]
          },
          "metadata": {},
          "execution_count": 38
        }
      ]
    },
    {
      "cell_type": "code",
      "metadata": {
        "id": "wfNs0xJh7zoQ",
        "colab": {
          "base_uri": "https://localhost:8080/"
        },
        "outputId": "ccae16fe-4a9a-4eb0-fe17-218d3d974a10"
      },
      "source": [
        "#Verificando em todo o dataframe.\n",
        "df_sem_faltantes.isnull().sum()"
      ],
      "execution_count": 39,
      "outputs": [
        {
          "output_type": "execute_result",
          "data": {
            "text/plain": [
              "Timestamp            0\n",
              "Open                 0\n",
              "High                 0\n",
              "Low                  0\n",
              "Close                0\n",
              "Volume_(BTC)         0\n",
              "Volume_(Currency)    0\n",
              "Weighted_Price       0\n",
              "dtype: int64"
            ]
          },
          "metadata": {},
          "execution_count": 39
        }
      ]
    },
    {
      "cell_type": "code",
      "metadata": {
        "id": "TdGk8jNrGXK4",
        "colab": {
          "base_uri": "https://localhost:8080/",
          "height": 699
        },
        "outputId": "90d07e65-ca9f-4827-d927-3fcef0c92c8c"
      },
      "source": [
        "#Visualizando\n",
        "plt.figure(figsize=(10,10))\n",
        "sns.heatmap(df_sem_faltantes.isnull())"
      ],
      "execution_count": 40,
      "outputs": [
        {
          "output_type": "execute_result",
          "data": {
            "text/plain": [
              "<matplotlib.axes._subplots.AxesSubplot at 0x7f4c8b0c5b90>"
            ]
          },
          "metadata": {},
          "execution_count": 40
        },
        {
          "output_type": "display_data",
          "data": {
            "image/png": "[encoded data removed]",
            "text/plain": [
              "<Figure size 720x720 with 2 Axes>"
            ]
          },
          "metadata": {
            "needs_background": "light"
          }
        }
      ]
    },
    {
      "cell_type": "code",
      "metadata": {
        "id": "rqmcvVNIsmnc",
        "colab": {
          "base_uri": "https://localhost:8080/"
        },
        "outputId": "e9126cda-4aac-485d-a0ac-e71a1e4d0682"
      },
      "source": [
        "#Verificando para dados duplicados\n",
        "df_sem_faltantes.duplicated().sum()"
      ],
      "execution_count": 41,
      "outputs": [
        {
          "output_type": "execute_result",
          "data": {
            "text/plain": [
              "0"
            ]
          },
          "metadata": {},
          "execution_count": 41
        }
      ]
    },
    {
      "cell_type": "markdown",
      "metadata": {
        "id": "eCFHWsGcLc3w"
      },
      "source": [
        "#Outliers\n",
        "\n",
        "A estratégia adotada para a detecção de outliers foi a visualização em box plot de uma das features. Contudo, dada a extensão e natureza dos dados, optou-se por realizar as visualizações subsequêntes com uma parcela recente dos dados, que corresponde ao perído de 1 ano,  a fim de evitar discrepâncias desnecessárias. \n",
        "\n",
        "\n",
        "\n"
      ]
    },
    {
      "cell_type": "code",
      "metadata": {
        "id": "4APlx0FLN9dm"
      },
      "source": [
        "#Recorte dos dados para um perído de 1 ano\n",
        "df_rec_analise = df_sem_faltantes.loc[df_sem_faltantes[\"Timestamp\"] >= \"2020-03-31 00:00:00\"]"
      ],
      "execution_count": 42,
      "outputs": []
    },
    {
      "cell_type": "code",
      "metadata": {
        "id": "Q8hINIJ7aXnH",
        "colab": {
          "base_uri": "https://localhost:8080/",
          "height": 206
        },
        "outputId": "fb271630-4654-4223-fc0c-cd852a10602c"
      },
      "source": [
        "df_rec_analise.head()"
      ],
      "execution_count": 43,
      "outputs": [
        {
          "output_type": "execute_result",
          "data": {
            "text/html": [
              "<div>\n",
              "<style scoped>\n",
              "    .dataframe tbody tr th:only-of-type {\n",
              "        vertical-align: middle;\n",
              "    }\n",
              "\n",
              "    .dataframe tbody tr th {\n",
              "        vertical-align: top;\n",
              "    }\n",
              "\n",
              "    .dataframe thead th {\n",
              "        text-align: right;\n",
              "    }\n",
              "</style>\n",
              "<table border=\"1\" class=\"dataframe\">\n",
              "  <thead>\n",
              "    <tr style=\"text-align: right;\">\n",
              "      <th></th>\n",
              "      <th>Timestamp</th>\n",
              "      <th>Open</th>\n",
              "      <th>High</th>\n",
              "      <th>Low</th>\n",
              "      <th>Close</th>\n",
              "      <th>Volume_(BTC)</th>\n",
              "      <th>Volume_(Currency)</th>\n",
              "      <th>Weighted_Price</th>\n",
              "    </tr>\n",
              "  </thead>\n",
              "  <tbody>\n",
              "    <tr>\n",
              "      <th>4331776</th>\n",
              "      <td>2020-03-31 00:00:00</td>\n",
              "      <td>6408.95</td>\n",
              "      <td>6408.95</td>\n",
              "      <td>6397.52</td>\n",
              "      <td>6397.65</td>\n",
              "      <td>0.369580</td>\n",
              "      <td>2366.046893</td>\n",
              "      <td>6401.994344</td>\n",
              "    </tr>\n",
              "    <tr>\n",
              "      <th>4331777</th>\n",
              "      <td>2020-03-31 00:01:00</td>\n",
              "      <td>6399.20</td>\n",
              "      <td>6406.06</td>\n",
              "      <td>6398.80</td>\n",
              "      <td>6405.06</td>\n",
              "      <td>4.053499</td>\n",
              "      <td>25960.527673</td>\n",
              "      <td>6404.473810</td>\n",
              "    </tr>\n",
              "    <tr>\n",
              "      <th>4331778</th>\n",
              "      <td>2020-03-31 00:02:00</td>\n",
              "      <td>6409.05</td>\n",
              "      <td>6425.24</td>\n",
              "      <td>6409.05</td>\n",
              "      <td>6425.00</td>\n",
              "      <td>18.707374</td>\n",
              "      <td>120144.266210</td>\n",
              "      <td>6422.294481</td>\n",
              "    </tr>\n",
              "    <tr>\n",
              "      <th>4331779</th>\n",
              "      <td>2020-03-31 00:03:00</td>\n",
              "      <td>6417.53</td>\n",
              "      <td>6430.74</td>\n",
              "      <td>6417.53</td>\n",
              "      <td>6426.53</td>\n",
              "      <td>7.164653</td>\n",
              "      <td>46043.367355</td>\n",
              "      <td>6426.461704</td>\n",
              "    </tr>\n",
              "    <tr>\n",
              "      <th>4331780</th>\n",
              "      <td>2020-03-31 00:04:00</td>\n",
              "      <td>6426.54</td>\n",
              "      <td>6438.96</td>\n",
              "      <td>6424.46</td>\n",
              "      <td>6438.96</td>\n",
              "      <td>9.050250</td>\n",
              "      <td>58225.624105</td>\n",
              "      <td>6433.592825</td>\n",
              "    </tr>\n",
              "  </tbody>\n",
              "</table>\n",
              "</div>"
            ],
            "text/plain": [
              "                  Timestamp     Open  ...  Volume_(Currency)  Weighted_Price\n",
              "4331776 2020-03-31 00:00:00  6408.95  ...        2366.046893     6401.994344\n",
              "4331777 2020-03-31 00:01:00  6399.20  ...       25960.527673     6404.473810\n",
              "4331778 2020-03-31 00:02:00  6409.05  ...      120144.266210     6422.294481\n",
              "4331779 2020-03-31 00:03:00  6417.53  ...       46043.367355     6426.461704\n",
              "4331780 2020-03-31 00:04:00  6426.54  ...       58225.624105     6433.592825\n",
              "\n",
              "[5 rows x 8 columns]"
            ]
          },
          "metadata": {},
          "execution_count": 43
        }
      ]
    },
    {
      "cell_type": "code",
      "metadata": {
        "id": "0y2DE8C5bv2j",
        "colab": {
          "base_uri": "https://localhost:8080/",
          "height": 300
        },
        "outputId": "d543f464-c014-42cb-a419-4f1215f1be88"
      },
      "source": [
        "df_rec_analise.describe()"
      ],
      "execution_count": 44,
      "outputs": [
        {
          "output_type": "execute_result",
          "data": {
            "text/html": [
              "<div>\n",
              "<style scoped>\n",
              "    .dataframe tbody tr th:only-of-type {\n",
              "        vertical-align: middle;\n",
              "    }\n",
              "\n",
              "    .dataframe tbody tr th {\n",
              "        vertical-align: top;\n",
              "    }\n",
              "\n",
              "    .dataframe thead th {\n",
              "        text-align: right;\n",
              "    }\n",
              "</style>\n",
              "<table border=\"1\" class=\"dataframe\">\n",
              "  <thead>\n",
              "    <tr style=\"text-align: right;\">\n",
              "      <th></th>\n",
              "      <th>Open</th>\n",
              "      <th>High</th>\n",
              "      <th>Low</th>\n",
              "      <th>Close</th>\n",
              "      <th>Volume_(BTC)</th>\n",
              "      <th>Volume_(Currency)</th>\n",
              "      <th>Weighted_Price</th>\n",
              "    </tr>\n",
              "  </thead>\n",
              "  <tbody>\n",
              "    <tr>\n",
              "      <th>count</th>\n",
              "      <td>517943.000000</td>\n",
              "      <td>517943.000000</td>\n",
              "      <td>517943.000000</td>\n",
              "      <td>517943.000000</td>\n",
              "      <td>517943.000000</td>\n",
              "      <td>5.179430e+05</td>\n",
              "      <td>517943.000000</td>\n",
              "    </tr>\n",
              "    <tr>\n",
              "      <th>mean</th>\n",
              "      <td>20154.209440</td>\n",
              "      <td>20168.306262</td>\n",
              "      <td>20139.998384</td>\n",
              "      <td>20154.504453</td>\n",
              "      <td>5.940487</td>\n",
              "      <td>1.198988e+05</td>\n",
              "      <td>20154.114103</td>\n",
              "    </tr>\n",
              "    <tr>\n",
              "      <th>std</th>\n",
              "      <td>15435.577832</td>\n",
              "      <td>15449.339748</td>\n",
              "      <td>15421.492316</td>\n",
              "      <td>15435.843749</td>\n",
              "      <td>14.866405</td>\n",
              "      <td>3.047994e+05</td>\n",
              "      <td>15434.733011</td>\n",
              "    </tr>\n",
              "    <tr>\n",
              "      <th>min</th>\n",
              "      <td>6162.030000</td>\n",
              "      <td>6171.690000</td>\n",
              "      <td>6137.710000</td>\n",
              "      <td>6158.120000</td>\n",
              "      <td>0.000002</td>\n",
              "      <td>1.567074e-02</td>\n",
              "      <td>6148.417195</td>\n",
              "    </tr>\n",
              "    <tr>\n",
              "      <th>25%</th>\n",
              "      <td>9506.785000</td>\n",
              "      <td>9510.340000</td>\n",
              "      <td>9503.210000</td>\n",
              "      <td>9507.065000</td>\n",
              "      <td>0.498494</td>\n",
              "      <td>6.548876e+03</td>\n",
              "      <td>9507.402079</td>\n",
              "    </tr>\n",
              "    <tr>\n",
              "      <th>50%</th>\n",
              "      <td>11637.450000</td>\n",
              "      <td>11642.000000</td>\n",
              "      <td>11633.190000</td>\n",
              "      <td>11637.680000</td>\n",
              "      <td>1.927910</td>\n",
              "      <td>3.264111e+04</td>\n",
              "      <td>11637.897327</td>\n",
              "    </tr>\n",
              "    <tr>\n",
              "      <th>75%</th>\n",
              "      <td>28651.315000</td>\n",
              "      <td>28673.980000</td>\n",
              "      <td>28617.110000</td>\n",
              "      <td>28649.535000</td>\n",
              "      <td>5.682729</td>\n",
              "      <td>1.086887e+05</td>\n",
              "      <td>28644.118704</td>\n",
              "    </tr>\n",
              "    <tr>\n",
              "      <th>max</th>\n",
              "      <td>61763.560000</td>\n",
              "      <td>61781.830000</td>\n",
              "      <td>61673.550000</td>\n",
              "      <td>61781.800000</td>\n",
              "      <td>1098.349384</td>\n",
              "      <td>1.390067e+07</td>\n",
              "      <td>61716.205341</td>\n",
              "    </tr>\n",
              "  </tbody>\n",
              "</table>\n",
              "</div>"
            ],
            "text/plain": [
              "                Open           High  ...  Volume_(Currency)  Weighted_Price\n",
              "count  517943.000000  517943.000000  ...       5.179430e+05   517943.000000\n",
              "mean    20154.209440   20168.306262  ...       1.198988e+05    20154.114103\n",
              "std     15435.577832   15449.339748  ...       3.047994e+05    15434.733011\n",
              "min      6162.030000    6171.690000  ...       1.567074e-02     6148.417195\n",
              "25%      9506.785000    9510.340000  ...       6.548876e+03     9507.402079\n",
              "50%     11637.450000   11642.000000  ...       3.264111e+04    11637.897327\n",
              "75%     28651.315000   28673.980000  ...       1.086887e+05    28644.118704\n",
              "max     61763.560000   61781.830000  ...       1.390067e+07    61716.205341\n",
              "\n",
              "[8 rows x 7 columns]"
            ]
          },
          "metadata": {},
          "execution_count": 44
        }
      ]
    },
    {
      "cell_type": "code",
      "metadata": {
        "id": "lvm1EidNcBrq",
        "colab": {
          "base_uri": "https://localhost:8080/"
        },
        "outputId": "c2786d26-2e28-477e-fd18-af15424b52e9"
      },
      "source": [
        "#valores mínimos no conjunto de dados para análise \n",
        "df_rec_analise.min()"
      ],
      "execution_count": 45,
      "outputs": [
        {
          "output_type": "execute_result",
          "data": {
            "text/plain": [
              "Timestamp            2020-03-31 00:00:00\n",
              "Open                             6162.03\n",
              "High                             6171.69\n",
              "Low                              6137.71\n",
              "Close                            6158.12\n",
              "Volume_(BTC)                    2.02e-06\n",
              "Volume_(Currency)              0.0156707\n",
              "Weighted_Price                   6148.42\n",
              "dtype: object"
            ]
          },
          "metadata": {},
          "execution_count": 45
        }
      ]
    },
    {
      "cell_type": "code",
      "metadata": {
        "id": "lnyiEXXQcKHJ",
        "colab": {
          "base_uri": "https://localhost:8080/"
        },
        "outputId": "1c5d234d-f3e1-46b7-fa93-df744ee5314a"
      },
      "source": [
        "#Valores máximos no conjunto de dados para análise \n",
        "df_rec_analise.max()"
      ],
      "execution_count": 46,
      "outputs": [
        {
          "output_type": "execute_result",
          "data": {
            "text/plain": [
              "Timestamp            2021-03-31 00:00:00\n",
              "Open                             61763.6\n",
              "High                             61781.8\n",
              "Low                              61673.6\n",
              "Close                            61781.8\n",
              "Volume_(BTC)                     1098.35\n",
              "Volume_(Currency)            1.39007e+07\n",
              "Weighted_Price                   61716.2\n",
              "dtype: object"
            ]
          },
          "metadata": {},
          "execution_count": 46
        }
      ]
    },
    {
      "cell_type": "markdown",
      "metadata": {
        "id": "dyzIbLCQX50J"
      },
      "source": [
        "**Outliers na feature Open**\n"
      ]
    },
    {
      "cell_type": "code",
      "metadata": {
        "id": "ADOhFpBP3VNB",
        "colab": {
          "base_uri": "https://localhost:8080/",
          "height": 483
        },
        "outputId": "fcf1b86f-951b-4c55-c539-db399b0c1920"
      },
      "source": [
        "#Verificando a existência de outliers através de visulização em box plot\n",
        "plt.figure(figsize=[10,8])\n",
        "boxplot = df_rec_analise.boxplot(column=['Open'])\n",
        "\n"
      ],
      "execution_count": 47,
      "outputs": [
        {
          "output_type": "display_data",
          "data": {
            "image/png": "[encoded data removed]",
            "text/plain": [
              "<Figure size 720x576 with 1 Axes>"
            ]
          },
          "metadata": {
            "needs_background": "light"
          }
        }
      ]
    },
    {
      "cell_type": "code",
      "metadata": {
        "id": "sJymnKzS59Jo",
        "colab": {
          "base_uri": "https://localhost:8080/"
        },
        "outputId": "e83b7935-3d16-4c25-8030-4856923defdc"
      },
      "source": [
        "#Calculando intervalo interquartil\n",
        "q1= df_rec_analise[\"Open\"].quantile(0.25)\n",
        "q3= df_rec_analise[\"Open\"].quantile(0.75)\n",
        "IQL= q3 - q1\n",
        "print(IQL)"
      ],
      "execution_count": 48,
      "outputs": [
        {
          "output_type": "stream",
          "name": "stdout",
          "text": [
            "19144.530000000002\n"
          ]
        }
      ]
    },
    {
      "cell_type": "code",
      "metadata": {
        "id": "Hr6kZucT6mmL",
        "colab": {
          "base_uri": "https://localhost:8080/"
        },
        "outputId": "507ba9cf-c237-45a2-90bf-ff8b81d4aa0b"
      },
      "source": [
        "#Estabelecendo os limites superior e inferior\n",
        "LS = q3+1.5*IQL\n",
        "LI = q1-1.5*IQL\n",
        "print(LS)\n",
        "print(LI)"
      ],
      "execution_count": 49,
      "outputs": [
        {
          "output_type": "stream",
          "name": "stdout",
          "text": [
            "57368.11000000001\n",
            "-19210.010000000006\n"
          ]
        }
      ]
    },
    {
      "cell_type": "code",
      "metadata": {
        "id": "xo44GX2TK26P",
        "colab": {
          "base_uri": "https://localhost:8080/"
        },
        "outputId": "19991d7d-f4cb-45fd-bbb9-593412ff8a5d"
      },
      "source": [
        "#Verificando os pontos de máximo e mínimo das observações\n",
        "df_rec_analise[\"Open\"].describe()"
      ],
      "execution_count": 50,
      "outputs": [
        {
          "output_type": "execute_result",
          "data": {
            "text/plain": [
              "count    517943.000000\n",
              "mean      20154.209440\n",
              "std       15435.577832\n",
              "min        6162.030000\n",
              "25%        9506.785000\n",
              "50%       11637.450000\n",
              "75%       28651.315000\n",
              "max       61763.560000\n",
              "Name: Open, dtype: float64"
            ]
          },
          "metadata": {},
          "execution_count": 50
        }
      ]
    },
    {
      "cell_type": "code",
      "metadata": {
        "id": "dvpiRrh_tWfN",
        "colab": {
          "base_uri": "https://localhost:8080/",
          "height": 501
        },
        "outputId": "65d292d5-5d28-48fe-84db-639ffb955409"
      },
      "source": [
        "plt.figure(figsize=(10,8))\n",
        "df_rec_analise[\"Open\"].hist(bins=200)"
      ],
      "execution_count": 51,
      "outputs": [
        {
          "output_type": "execute_result",
          "data": {
            "text/plain": [
              "<matplotlib.axes._subplots.AxesSubplot at 0x7f4c8aef4450>"
            ]
          },
          "metadata": {},
          "execution_count": 51
        },
        {
          "output_type": "display_data",
          "data": {
            "image/png": "[encoded data removed]",
            "text/plain": [
              "<Figure size 720x576 with 1 Axes>"
            ]
          },
          "metadata": {
            "needs_background": "light"
          }
        }
      ]
    },
    {
      "cell_type": "code",
      "metadata": {
        "id": "vyMVHltjpasd"
      },
      "source": [
        "#Visualizando dados discrepantes\n",
        "dados_discrepantes_open = df_rec_analise[\"Open\"].loc[df_rec_analise[\"Open\"] >= 57368.4425]"
      ],
      "execution_count": 52,
      "outputs": []
    },
    {
      "cell_type": "code",
      "metadata": {
        "id": "YFnTJLWepy4P",
        "colab": {
          "base_uri": "https://localhost:8080/"
        },
        "outputId": "315bf1cb-6e41-4dc4-e679-812e8f046d9e"
      },
      "source": [
        "dados_discrepantes_open"
      ],
      "execution_count": 53,
      "outputs": [
        {
          "output_type": "execute_result",
          "data": {
            "text/plain": [
              "4801980    57431.43\n",
              "4801981    57517.31\n",
              "4801983    57419.37\n",
              "4801984    57371.00\n",
              "4801993    57440.44\n",
              "             ...   \n",
              "4857372    58714.31\n",
              "4857373    58683.97\n",
              "4857374    58693.43\n",
              "4857375    58742.18\n",
              "4857376    58767.75\n",
              "Name: Open, Length: 11569, dtype: float64"
            ]
          },
          "metadata": {},
          "execution_count": 53
        }
      ]
    },
    {
      "cell_type": "code",
      "metadata": {
        "id": "0y0yfcZDp5GL",
        "colab": {
          "base_uri": "https://localhost:8080/",
          "height": 501
        },
        "outputId": "9d8ff3d9-9f41-45bb-8cd0-159f42424a57"
      },
      "source": [
        "#Visualizando graficamente os dados discrepantes\n",
        "plt.figure(figsize=(10,8))\n",
        "dados_discrepantes_open.hist(bins=200)"
      ],
      "execution_count": 54,
      "outputs": [
        {
          "output_type": "execute_result",
          "data": {
            "text/plain": [
              "<matplotlib.axes._subplots.AxesSubplot at 0x7f4c8ac2ec10>"
            ]
          },
          "metadata": {},
          "execution_count": 54
        },
        {
          "output_type": "display_data",
          "data": {
            "image/png": "[encoded data removed]",
            "text/plain": [
              "<Figure size 720x576 with 1 Axes>"
            ]
          },
          "metadata": {
            "needs_background": "light"
          }
        }
      ]
    },
    {
      "cell_type": "markdown",
      "metadata": {
        "id": "3C6_BPeTYTEa"
      },
      "source": [
        "**Outliers na feature High**"
      ]
    },
    {
      "cell_type": "code",
      "metadata": {
        "id": "I-Bu4pn5SVgq",
        "colab": {
          "base_uri": "https://localhost:8080/",
          "height": 483
        },
        "outputId": "c6a09346-38fc-4e40-b0e8-76ea37f904b0"
      },
      "source": [
        "#Outliers com base na feature high\n",
        "plt.figure(figsize=[10,8])\n",
        "boxplot_high=df_rec_analise.boxplot(column=[\"High\"])"
      ],
      "execution_count": 55,
      "outputs": [
        {
          "output_type": "display_data",
          "data": {
            "image/png": "[encoded data removed]",
            "text/plain": [
              "<Figure size 720x576 with 1 Axes>"
            ]
          },
          "metadata": {
            "needs_background": "light"
          }
        }
      ]
    },
    {
      "cell_type": "code",
      "metadata": {
        "id": "Bs-S4FY1Wcqo",
        "colab": {
          "base_uri": "https://localhost:8080/"
        },
        "outputId": "3377c4e3-8306-4001-c8da-c10ff0085db4"
      },
      "source": [
        "#definindo intervalo interquartílico \n",
        "q1= df_rec_analise[\"High\"].quantile(0.25)\n",
        "q3= df_rec_analise[\"High\"].quantile(0.75)\n",
        "IQL= q3 - q1\n",
        "print(IQL)"
      ],
      "execution_count": 56,
      "outputs": [
        {
          "output_type": "stream",
          "name": "stdout",
          "text": [
            "19163.640000000003\n"
          ]
        }
      ]
    },
    {
      "cell_type": "code",
      "metadata": {
        "id": "-4VAJHXnb4_i",
        "colab": {
          "base_uri": "https://localhost:8080/"
        },
        "outputId": "492c4dcd-7cbf-4f0c-9b98-62ae85e6ffa8"
      },
      "source": [
        "#definindo os limites superior e inferior\n",
        "#Os limites são LS=57419.44 e LI=3.80  \n",
        "LS=q3+1.5*IQL\n",
        "LI=q1-1.5*IQL\n",
        "print(LS)\n",
        "print(LI)"
      ],
      "execution_count": 57,
      "outputs": [
        {
          "output_type": "stream",
          "name": "stdout",
          "text": [
            "57419.44000000001\n",
            "-19235.120000000006\n"
          ]
        }
      ]
    },
    {
      "cell_type": "code",
      "metadata": {
        "id": "_lyGq-4Ih6Yz"
      },
      "source": [
        "#Dados discrepantes da feature \"High\"\n",
        "dados_discrepantes_high = df_rec_analise[\"High\"].loc[df_rec_analise[\"High\"] >= 57419.44000000001]"
      ],
      "execution_count": 58,
      "outputs": []
    },
    {
      "cell_type": "code",
      "metadata": {
        "id": "-h6nwtvwiJni",
        "colab": {
          "base_uri": "https://localhost:8080/"
        },
        "outputId": "ed55c210-fb0c-40df-f876-c79a65c1f0a2"
      },
      "source": [
        "dados_discrepantes_high"
      ],
      "execution_count": 59,
      "outputs": [
        {
          "output_type": "execute_result",
          "data": {
            "text/plain": [
              "4801978    57474.16\n",
              "4801979    57467.24\n",
              "4801980    57549.91\n",
              "4801981    57553.81\n",
              "4801982    57482.19\n",
              "             ...   \n",
              "4857372    58714.31\n",
              "4857373    58693.43\n",
              "4857374    58723.84\n",
              "4857375    58770.38\n",
              "4857376    58778.18\n",
              "Name: High, Length: 11418, dtype: float64"
            ]
          },
          "metadata": {},
          "execution_count": 59
        }
      ]
    },
    {
      "cell_type": "code",
      "metadata": {
        "id": "vzDjUzuTiNeh",
        "colab": {
          "base_uri": "https://localhost:8080/",
          "height": 504
        },
        "outputId": "b69e9691-2774-48ec-da40-63eae698f70c"
      },
      "source": [
        "#Visualizando com histograma\n",
        "plt.figure(figsize=(10,8))\n",
        "dados_discrepantes_high.hist(bins=200)"
      ],
      "execution_count": 60,
      "outputs": [
        {
          "output_type": "execute_result",
          "data": {
            "text/plain": [
              "<matplotlib.axes._subplots.AxesSubplot at 0x7f4c8a91ec50>"
            ]
          },
          "metadata": {},
          "execution_count": 60
        },
        {
          "output_type": "display_data",
          "data": {
            "image/png": "[encoded data removed]",
            "text/plain": [
              "<Figure size 720x576 with 1 Axes>"
            ]
          },
          "metadata": {
            "needs_background": "light"
          }
        }
      ]
    },
    {
      "cell_type": "markdown",
      "metadata": {
        "id": "CnP16M6HY4s4"
      },
      "source": [
        "**Outliers para a feature Low**"
      ]
    },
    {
      "cell_type": "code",
      "metadata": {
        "id": "5EJQd-V0ijjL",
        "colab": {
          "base_uri": "https://localhost:8080/",
          "height": 483
        },
        "outputId": "1a35ecc3-3b13-4f74-fdc5-cd9d01e98d87"
      },
      "source": [
        "#Definindo o boxplot para a feature\n",
        "plt.figure(figsize=[10,8])\n",
        "boxplot=df_rec_analise.boxplot(column=\"Low\")"
      ],
      "execution_count": 61,
      "outputs": [
        {
          "output_type": "display_data",
          "data": {
            "image/png": "[encoded data removed]",
            "text/plain": [
              "<Figure size 720x576 with 1 Axes>"
            ]
          },
          "metadata": {
            "needs_background": "light"
          }
        }
      ]
    },
    {
      "cell_type": "code",
      "metadata": {
        "id": "F6FeIQ2fkbzr",
        "colab": {
          "base_uri": "https://localhost:8080/"
        },
        "outputId": "61997199-3676-4595-a69a-3f06feb31767"
      },
      "source": [
        "#Definindo intervalo interquartilico \n",
        "q3=df_rec_analise[\"Low\"].quantile(0.75)\n",
        "q1=df_rec_analise[\"Low\"].quantile(0.25)\n",
        "IQL= q3-q1\n",
        "IQL"
      ],
      "execution_count": 62,
      "outputs": [
        {
          "output_type": "execute_result",
          "data": {
            "text/plain": [
              "19113.9"
            ]
          },
          "metadata": {},
          "execution_count": 62
        }
      ]
    },
    {
      "cell_type": "code",
      "metadata": {
        "id": "JGmKBTc5mTkt",
        "colab": {
          "base_uri": "https://localhost:8080/"
        },
        "outputId": "c93024cc-92eb-4e0b-b80b-77776590ac46"
      },
      "source": [
        "#Limites superior e inferior da feature Low\n",
        "#Os limites são LS=57287.96000000001, LI=1.50\n",
        "LS=q3+1.5*IQL\n",
        "LI=q1-1.5*IQL\n",
        "print(LS)\n",
        "print(LI)"
      ],
      "execution_count": 63,
      "outputs": [
        {
          "output_type": "stream",
          "name": "stdout",
          "text": [
            "57287.96000000001\n",
            "-19167.640000000003\n"
          ]
        }
      ]
    },
    {
      "cell_type": "code",
      "metadata": {
        "id": "i3ypR7kVm8qE"
      },
      "source": [
        "#Dados discprepantes da fearture Low\n",
        "dados_discrepantes_Low = df_rec_analise[\"Low\"].loc[df_rec_analise[\"Low\"] >= 57287.96000000001]\n"
      ],
      "execution_count": 64,
      "outputs": []
    },
    {
      "cell_type": "code",
      "metadata": {
        "id": "famCnWKbnI15",
        "colab": {
          "base_uri": "https://localhost:8080/",
          "height": 501
        },
        "outputId": "e01a17a6-f40b-4d24-fe64-0d596de5453f"
      },
      "source": [
        "#Visualisando os dados discrepantes com histograma\n",
        "plt.figure(figsize=(10,8))\n",
        "dados_discrepantes_Low.hist(bins=200)"
      ],
      "execution_count": 65,
      "outputs": [
        {
          "output_type": "execute_result",
          "data": {
            "text/plain": [
              "<matplotlib.axes._subplots.AxesSubplot at 0x7f4c8a5d23d0>"
            ]
          },
          "metadata": {},
          "execution_count": 65
        },
        {
          "output_type": "display_data",
          "data": {
            "image/png": "[encoded data removed]",
            "text/plain": [
              "<Figure size 720x576 with 1 Axes>"
            ]
          },
          "metadata": {
            "needs_background": "light"
          }
        }
      ]
    },
    {
      "cell_type": "markdown",
      "metadata": {
        "id": "nvSrjcIDZFNx"
      },
      "source": [
        "**Outliers para a feature Close**"
      ]
    },
    {
      "cell_type": "code",
      "metadata": {
        "id": "vX-CS1TEZH1P",
        "colab": {
          "base_uri": "https://localhost:8080/",
          "height": 483
        },
        "outputId": "dc06e2f9-6a91-4033-8913-dfe549516fea"
      },
      "source": [
        "#Boxplot para a feature close\n",
        "plt.figure(figsize=[10,8])\n",
        "boxplot_close=df_rec_analise.boxplot(column=\"Close\")"
      ],
      "execution_count": 66,
      "outputs": [
        {
          "output_type": "display_data",
          "data": {
            "image/png": "[encoded data removed]",
            "text/plain": [
              "<Figure size 720x576 with 1 Axes>"
            ]
          },
          "metadata": {
            "needs_background": "light"
          }
        }
      ]
    },
    {
      "cell_type": "code",
      "metadata": {
        "id": "zKoNlYxRaR9M",
        "colab": {
          "base_uri": "https://localhost:8080/"
        },
        "outputId": "abedcb43-ec49-44c7-c781-52b86a7c4f60"
      },
      "source": [
        "#definindo intervalo interquartílico \n",
        "q3=df_rec_analise[\"Close\"].quantile(0.75)\n",
        "q1=df_rec_analise[\"Close\"].quantile(0.25)\n",
        "IQL = q3-q1\n",
        "IQL"
      ],
      "execution_count": 67,
      "outputs": [
        {
          "output_type": "execute_result",
          "data": {
            "text/plain": [
              "19142.47"
            ]
          },
          "metadata": {},
          "execution_count": 67
        }
      ]
    },
    {
      "cell_type": "code",
      "metadata": {
        "id": "oWYwLH1YasUF",
        "colab": {
          "base_uri": "https://localhost:8080/"
        },
        "outputId": "7c2a808a-0a98-449e-8b7b-ee411396153c"
      },
      "source": [
        "#Estabelecendo os limites superior e inferior. LS=57363.24, LI=6158.12.\n",
        "LS=q3+1.5*IQL\n",
        "LI=q1-1.5*IQL\n",
        "print(LS)\n",
        "print(LI)"
      ],
      "execution_count": 68,
      "outputs": [
        {
          "output_type": "stream",
          "name": "stdout",
          "text": [
            "57363.240000000005\n",
            "-19206.640000000003\n"
          ]
        }
      ]
    },
    {
      "cell_type": "code",
      "metadata": {
        "id": "7uMbLtnicunk"
      },
      "source": [
        "#Outliers para a feature Close \n",
        "dados_discrepantes_close=df_rec_analise[\"Close\"].loc[df_rec_analise[\"Close\"]>=57363.240000000005]"
      ],
      "execution_count": 69,
      "outputs": []
    },
    {
      "cell_type": "code",
      "metadata": {
        "id": "N0qEdN8Vdj2n",
        "colab": {
          "base_uri": "https://localhost:8080/"
        },
        "outputId": "df0b739e-f312-4e44-d285-ff1221d22869"
      },
      "source": [
        "#dados discrepantes na feature Close\n",
        "dados_discrepantes_close"
      ],
      "execution_count": 70,
      "outputs": [
        {
          "output_type": "execute_result",
          "data": {
            "text/plain": [
              "4801979    57434.11\n",
              "4801980    57515.22\n",
              "4801982    57411.78\n",
              "4801983    57371.03\n",
              "4801985    57380.58\n",
              "             ...   \n",
              "4857372    58686.00\n",
              "4857373    58685.81\n",
              "4857374    58723.84\n",
              "4857375    58760.59\n",
              "4857376    58778.18\n",
              "Name: Close, Length: 11616, dtype: float64"
            ]
          },
          "metadata": {},
          "execution_count": 70
        }
      ]
    },
    {
      "cell_type": "code",
      "metadata": {
        "id": "IIBqs5lRdsGi",
        "colab": {
          "base_uri": "https://localhost:8080/",
          "height": 483
        },
        "outputId": "c487db9e-1c95-4344-d383-f05bda98cf71"
      },
      "source": [
        "#Histograma\n",
        "plt.figure(figsize=[10,8])\n",
        "dados_discrepantes_close.hist(bins=200)\n",
        "plt.show()"
      ],
      "execution_count": 71,
      "outputs": [
        {
          "output_type": "display_data",
          "data": {
            "image/png": "[encoded data removed]",
            "text/plain": [
              "<Figure size 720x576 with 1 Axes>"
            ]
          },
          "metadata": {
            "needs_background": "light"
          }
        }
      ]
    },
    {
      "cell_type": "markdown",
      "metadata": {
        "id": "O06875j5h4kF"
      },
      "source": [
        "**Outliers para a feature Volume_(BTC)**"
      ]
    },
    {
      "cell_type": "code",
      "metadata": {
        "id": "W7nUw9lNh3CS",
        "colab": {
          "base_uri": "https://localhost:8080/",
          "height": 484
        },
        "outputId": "b670ed1e-6991-47d4-e861-eeb8103a9732"
      },
      "source": [
        "#Boxplot\n",
        "plt.figure(figsize=[10,8])\n",
        "boxplot_VolumeBTC=df_rec_analise.boxplot(column=\"Volume_(BTC)\")\n"
      ],
      "execution_count": 72,
      "outputs": [
        {
          "output_type": "display_data",
          "data": {
            "image/png": "[encoded data removed]",
            "text/plain": [
              "<Figure size 720x576 with 1 Axes>"
            ]
          },
          "metadata": {
            "needs_background": "light"
          }
        }
      ]
    },
    {
      "cell_type": "code",
      "metadata": {
        "id": "6-1PGMsZn4fg",
        "colab": {
          "base_uri": "https://localhost:8080/"
        },
        "outputId": "1586590c-9084-4ece-c077-ba0adf3aa5e6"
      },
      "source": [
        "#Intervalo interquartil \n",
        "q3=df_rec_analise[\"Volume_(BTC)\"].quantile(0.75)\n",
        "q1=df_rec_analise[\"Volume_(BTC)\"].quantile(0.25)\n",
        "IQL=q3-q1\n",
        "IQL"
      ],
      "execution_count": 73,
      "outputs": [
        {
          "output_type": "execute_result",
          "data": {
            "text/plain": [
              "5.18423507"
            ]
          },
          "metadata": {},
          "execution_count": 73
        }
      ]
    },
    {
      "cell_type": "code",
      "metadata": {
        "id": "Ex5K7aEOoWiD",
        "colab": {
          "base_uri": "https://localhost:8080/"
        },
        "outputId": "0f14b886-e739-46af-d58a-995355fcc4d7"
      },
      "source": [
        "#Estabelecendo limites superior e inferior. LS=13.459081675, LI=2.02e-06\n",
        "LS=q3+1.5*IQL\n",
        "LI=q1-1.5*IQL\n",
        "print(LS)\n",
        "print(LI)"
      ],
      "execution_count": 74,
      "outputs": [
        {
          "output_type": "stream",
          "name": "stdout",
          "text": [
            "13.459081675\n",
            "-7.277858605\n"
          ]
        }
      ]
    },
    {
      "cell_type": "code",
      "metadata": {
        "id": "5SAjLpxroibo",
        "colab": {
          "base_uri": "https://localhost:8080/"
        },
        "outputId": "b94b5816-5bbc-4b58-8280-6c39ecabc8d5"
      },
      "source": [
        "df_rec_analise[\"Volume_(BTC)\"].max()    "
      ],
      "execution_count": 75,
      "outputs": [
        {
          "output_type": "execute_result",
          "data": {
            "text/plain": [
              "1098.3493842"
            ]
          },
          "metadata": {},
          "execution_count": 75
        }
      ]
    },
    {
      "cell_type": "code",
      "metadata": {
        "id": "atVbQieEqKxg",
        "colab": {
          "base_uri": "https://localhost:8080/"
        },
        "outputId": "fcf087de-c1c9-4ae2-f01a-14ad75ab3918"
      },
      "source": [
        "df_rec_analise[\"Volume_(BTC)\"].min()"
      ],
      "execution_count": 76,
      "outputs": [
        {
          "output_type": "execute_result",
          "data": {
            "text/plain": [
              "2.02e-06"
            ]
          },
          "metadata": {},
          "execution_count": 76
        }
      ]
    },
    {
      "cell_type": "code",
      "metadata": {
        "id": "ct3QGbMTrb9P"
      },
      "source": [
        "#dados discrepantes para a feature Volume_(BTC)\n",
        "dados_discrepantes_VolumeBTC=df_rec_analise[\"Volume_(BTC)\"].loc[df_rec_analise[\"Volume_(BTC)\"]>=13.459081675]"
      ],
      "execution_count": 77,
      "outputs": []
    },
    {
      "cell_type": "code",
      "metadata": {
        "id": "jRz9IqV_r3q3",
        "colab": {
          "base_uri": "https://localhost:8080/"
        },
        "outputId": "b9c8d869-1877-4218-be42-f30ca9d9709d"
      },
      "source": [
        "dados_discrepantes_VolumeBTC"
      ],
      "execution_count": 78,
      "outputs": [
        {
          "output_type": "execute_result",
          "data": {
            "text/plain": [
              "4331778    18.707374\n",
              "4331782    20.546321\n",
              "4331803    28.450407\n",
              "4331831    18.384845\n",
              "4331892    28.659927\n",
              "             ...    \n",
              "4856896    14.869670\n",
              "4857024    27.876319\n",
              "4857025    17.423459\n",
              "4857030    16.083299\n",
              "4857359    17.443451\n",
              "Name: Volume_(BTC), Length: 53189, dtype: float64"
            ]
          },
          "metadata": {},
          "execution_count": 78
        }
      ]
    },
    {
      "cell_type": "code",
      "metadata": {
        "id": "547smD7vspSF",
        "colab": {
          "base_uri": "https://localhost:8080/",
          "height": 496
        },
        "outputId": "42da196b-bd79-4455-c9de-fb26f0e00dc0"
      },
      "source": [
        "#Histograma\n",
        "plt.figure(figsize=[10,8])\n",
        "dados_discrepantes_VolumeBTC.plot(kind=\"line\", grid=True)\n",
        "plt.show()"
      ],
      "execution_count": 79,
      "outputs": [
        {
          "output_type": "display_data",
          "data": {
            "image/png": "[encoded data removed]",
            "text/plain": [
              "<Figure size 720x576 with 1 Axes>"
            ]
          },
          "metadata": {
            "needs_background": "light"
          }
        }
      ]
    },
    {
      "cell_type": "markdown",
      "metadata": {
        "id": "9_PLBTtIGPdx"
      },
      "source": [
        "**Outliers da feature Volume_(Currency)**"
      ]
    },
    {
      "cell_type": "code",
      "metadata": {
        "id": "FDR6TMZnGhBg",
        "colab": {
          "base_uri": "https://localhost:8080/",
          "height": 495
        },
        "outputId": "f5a243ad-31b4-47a2-b876-a7d44e3fd93a"
      },
      "source": [
        "#boxplot \n",
        "plt.figure(figsize=(10,8))\n",
        "boxplot_VolumeC=df_rec_analise.boxplot(column=[\"Volume_(Currency)\"])"
      ],
      "execution_count": 80,
      "outputs": [
        {
          "output_type": "display_data",
          "data": {
            "image/png": "[encoded data removed]",
            "text/plain": [
              "<Figure size 720x576 with 1 Axes>"
            ]
          },
          "metadata": {
            "needs_background": "light"
          }
        }
      ]
    },
    {
      "cell_type": "code",
      "metadata": {
        "id": "wwlO11QrHMvu",
        "colab": {
          "base_uri": "https://localhost:8080/"
        },
        "outputId": "774147d0-9209-4d97-b45c-f5400254f8c0"
      },
      "source": [
        "#intervalo interquartil \n",
        "q3=df_rec_analise[\"Volume_(Currency)\"].quantile(0.75)\n",
        "q1=df_rec_analise[\"Volume_(Currency)\"].quantile(0.25)\n",
        "IQL=q3-q1\n",
        "IQL"
      ],
      "execution_count": 81,
      "outputs": [
        {
          "output_type": "execute_result",
          "data": {
            "text/plain": [
              "102139.87098"
            ]
          },
          "metadata": {},
          "execution_count": 81
        }
      ]
    },
    {
      "cell_type": "markdown",
      "metadata": {
        "id": "O1CAmtePHtUz"
      },
      "source": [
        "Muitos outliers nas features de volume. Análise separada?"
      ]
    },
    {
      "cell_type": "code",
      "metadata": {
        "id": "Y1kgsNvtHp7R",
        "colab": {
          "base_uri": "https://localhost:8080/"
        },
        "outputId": "05a28225-5407-49ff-83e5-e798c9a0199b"
      },
      "source": [
        "#limites. LS=261898.55319500001, LI=0.0156707418\n",
        "LS=q3+1.5*IQL\n",
        "LI=q1-1.5*IQL\n",
        "print(LS)\n",
        "print(LI)"
      ],
      "execution_count": 82,
      "outputs": [
        {
          "output_type": "stream",
          "name": "stdout",
          "text": [
            "261898.55319500001\n",
            "-146660.930725\n"
          ]
        }
      ]
    },
    {
      "cell_type": "code",
      "metadata": {
        "id": "7ENeaqTeIaQP",
        "colab": {
          "base_uri": "https://localhost:8080/"
        },
        "outputId": "6d00d5cb-3716-4e29-a8ad-d4c9813abf10"
      },
      "source": [
        "df_rec_analise[\"Volume_(Currency)\"].max()"
      ],
      "execution_count": 83,
      "outputs": [
        {
          "output_type": "execute_result",
          "data": {
            "text/plain": [
              "13900672.407"
            ]
          },
          "metadata": {},
          "execution_count": 83
        }
      ]
    },
    {
      "cell_type": "code",
      "metadata": {
        "id": "0bs8UWPBIzDi",
        "colab": {
          "base_uri": "https://localhost:8080/"
        },
        "outputId": "6dd6abef-217d-4c1d-ea60-a8cdd1310f1e"
      },
      "source": [
        "df_rec_analise[\"Volume_(Currency)\"].min()"
      ],
      "execution_count": 84,
      "outputs": [
        {
          "output_type": "execute_result",
          "data": {
            "text/plain": [
              "0.0156707418"
            ]
          },
          "metadata": {},
          "execution_count": 84
        }
      ]
    },
    {
      "cell_type": "code",
      "metadata": {
        "id": "tXrhrFK-I8Sg"
      },
      "source": [
        "#dados discrepantes para a feature Volume_(Currency)\n",
        "dados_discrepantes_VolumeC=df_rec_analise[\"Volume_(Currency)\"].loc[df_rec_analise[\"Volume_(Currency)\"]>=261898.55319500001]"
      ],
      "execution_count": 85,
      "outputs": []
    },
    {
      "cell_type": "code",
      "metadata": {
        "id": "5ieaxlATJMbG",
        "colab": {
          "base_uri": "https://localhost:8080/"
        },
        "outputId": "2068c3c0-f3a2-4fb3-e89f-c9d74fa31729"
      },
      "source": [
        "dados_discrepantes_VolumeC"
      ],
      "execution_count": 86,
      "outputs": [
        {
          "output_type": "execute_result",
          "data": {
            "text/plain": [
              "4332368    3.393816e+05\n",
              "4332371    3.436030e+05\n",
              "4332372    3.338428e+05\n",
              "4332423    3.264766e+05\n",
              "4332424    5.707756e+05\n",
              "               ...     \n",
              "4857270    3.796297e+05\n",
              "4857359    1.022333e+06\n",
              "4857361    6.101536e+05\n",
              "4857362    6.116325e+05\n",
              "4857373    4.281581e+05\n",
              "Name: Volume_(Currency), Length: 57386, dtype: float64"
            ]
          },
          "metadata": {},
          "execution_count": 86
        }
      ]
    },
    {
      "cell_type": "code",
      "metadata": {
        "id": "U_NR86yxJUZE",
        "colab": {
          "base_uri": "https://localhost:8080/",
          "height": 635
        },
        "outputId": "2c50ecd0-8c67-495b-80fe-a7aa46ea3348"
      },
      "source": [
        "#visualisando\n",
        "plt.figure(figsize=(12,10))\n",
        "dados_discrepantes_VolumeC.plot(kind=\"line\", grid=True)"
      ],
      "execution_count": 87,
      "outputs": [
        {
          "output_type": "execute_result",
          "data": {
            "text/plain": [
              "<matplotlib.axes._subplots.AxesSubplot at 0x7f4c89f2b490>"
            ]
          },
          "metadata": {},
          "execution_count": 87
        },
        {
          "output_type": "display_data",
          "data": {
            "image/png": "[encoded data removed]",
            "text/plain": [
              "<Figure size 864x720 with 1 Axes>"
            ]
          },
          "metadata": {
            "needs_background": "light"
          }
        }
      ]
    },
    {
      "cell_type": "markdown",
      "metadata": {
        "id": "TpRlrO71u6pI"
      },
      "source": [
        "**Outliers da feature Weighted_Price**"
      ]
    },
    {
      "cell_type": "code",
      "metadata": {
        "id": "hnrrukurxHyX",
        "colab": {
          "base_uri": "https://localhost:8080/",
          "height": 484
        },
        "outputId": "8f5d06e4-3011-4530-f652-559cb90f4730"
      },
      "source": [
        "#Boxplot\n",
        "plt.figure(figsize=[10,8])\n",
        "boxplot_Weighted_Price=df_rec_analise.boxplot(column=\"Weighted_Price\")"
      ],
      "execution_count": 88,
      "outputs": [
        {
          "output_type": "display_data",
          "data": {
            "image/png": "[encoded data removed]",
            "text/plain": [
              "<Figure size 720x576 with 1 Axes>"
            ]
          },
          "metadata": {
            "needs_background": "light"
          }
        }
      ]
    },
    {
      "cell_type": "code",
      "metadata": {
        "id": "SacoKtwfyGRx",
        "colab": {
          "base_uri": "https://localhost:8080/"
        },
        "outputId": "8d389f5e-182c-40f8-e789-ceac338b8e20"
      },
      "source": [
        "#intervalo interquartil \n",
        "q3=df_rec_analise[\"Weighted_Price\"].quantile(0.75)\n",
        "q1=df_rec_analise[\"Weighted_Price\"].quantile(0.25)\n",
        "IQL=q3-q1\n",
        "IQL"
      ],
      "execution_count": 89,
      "outputs": [
        {
          "output_type": "execute_result",
          "data": {
            "text/plain": [
              "19136.7166248"
            ]
          },
          "metadata": {},
          "execution_count": 89
        }
      ]
    },
    {
      "cell_type": "code",
      "metadata": {
        "id": "JY9xzIE7yS01",
        "colab": {
          "base_uri": "https://localhost:8080/"
        },
        "outputId": "20f3bedd-4bf1-437d-aa10-bd195244478a"
      },
      "source": [
        "#limites superior e inferior. LS=57349.1936412, LI=6148.417195\n",
        "LS=q3+1.5*IQL\n",
        "LI=q1-1.5*IQL\n",
        "print(LS)\n",
        "print(LI)"
      ],
      "execution_count": 90,
      "outputs": [
        {
          "output_type": "stream",
          "name": "stdout",
          "text": [
            "57349.1936412\n",
            "-19197.672857999998\n"
          ]
        }
      ]
    },
    {
      "cell_type": "code",
      "metadata": {
        "id": "eIiLlDI3yyDu"
      },
      "source": [
        "#Dados discrepantes\n",
        "dados_discrepantes_Weighted_Price=df_rec_analise[\"Weighted_Price\"].loc[df_rec_analise[\"Weighted_Price\"]>=57349.1936412]\n"
      ],
      "execution_count": 91,
      "outputs": []
    },
    {
      "cell_type": "code",
      "metadata": {
        "id": "gDHVtCDdzRoc",
        "colab": {
          "base_uri": "https://localhost:8080/"
        },
        "outputId": "f6f6b892-c253-4e9e-dee3-4ee6626a732b"
      },
      "source": [
        "dados_discrepantes_Weighted_Price"
      ],
      "execution_count": 92,
      "outputs": [
        {
          "output_type": "execute_result",
          "data": {
            "text/plain": [
              "4801978    57401.019507\n",
              "4801979    57394.408526\n",
              "4801980    57503.365779\n",
              "4801981    57475.037453\n",
              "4801982    57429.726218\n",
              "               ...     \n",
              "4857372    58692.753339\n",
              "4857373    58693.226508\n",
              "4857374    58696.198496\n",
              "4857375    58761.866202\n",
              "4857376    58764.349363\n",
              "Name: Weighted_Price, Length: 11678, dtype: float64"
            ]
          },
          "metadata": {},
          "execution_count": 92
        }
      ]
    },
    {
      "cell_type": "code",
      "metadata": {
        "id": "Cbkm4AGI1VLO",
        "colab": {
          "base_uri": "https://localhost:8080/",
          "height": 496
        },
        "outputId": "90b075e7-24ac-4aea-fff2-dfb4dd75d1cc"
      },
      "source": [
        "#Visualização\n",
        "plt.figure(figsize=[10,8])\n",
        "dados_discrepantes_Weighted_Price.plot( grid=True)\n",
        "plt.show()"
      ],
      "execution_count": 93,
      "outputs": [
        {
          "output_type": "display_data",
          "data": {
            "image/png": "[encoded data removed]",
            "text/plain": [
              "<Figure size 720x576 with 1 Axes>"
            ]
          },
          "metadata": {
            "needs_background": "light"
          }
        }
      ]
    },
    {
      "cell_type": "markdown",
      "metadata": {
        "id": "khMUpyga1iMG"
      },
      "source": [
        "#Análise das features\n",
        "\n",
        "Date_time:\n",
        "  Hora de início da janela. Janelas de 60s em unidade de time unix inicialmente, modificado para o formato data e hora. Com intervalos de 60s entre as observações. "
      ]
    },
    {
      "cell_type": "code",
      "metadata": {
        "id": "tK3ix7lC1qCe",
        "colab": {
          "base_uri": "https://localhost:8080/"
        },
        "outputId": "da62ce70-c5ba-418c-c100-1ecb0f41dce6"
      },
      "source": [
        "df_rec_analise[\"Timestamp\"]"
      ],
      "execution_count": 94,
      "outputs": [
        {
          "output_type": "execute_result",
          "data": {
            "text/plain": [
              "4331776   2020-03-31 00:00:00\n",
              "4331777   2020-03-31 00:01:00\n",
              "4331778   2020-03-31 00:02:00\n",
              "4331779   2020-03-31 00:03:00\n",
              "4331780   2020-03-31 00:04:00\n",
              "                  ...        \n",
              "4857372   2021-03-30 23:56:00\n",
              "4857373   2021-03-30 23:57:00\n",
              "4857374   2021-03-30 23:58:00\n",
              "4857375   2021-03-30 23:59:00\n",
              "4857376   2021-03-31 00:00:00\n",
              "Name: Timestamp, Length: 517943, dtype: datetime64[ns]"
            ]
          },
          "metadata": {},
          "execution_count": 94
        }
      ]
    },
    {
      "cell_type": "code",
      "metadata": {
        "id": "8tIxR7l11vbG",
        "colab": {
          "base_uri": "https://localhost:8080/"
        },
        "outputId": "cc9d0288-b813-4518-fa68-70db10ff73a6"
      },
      "source": [
        "#Verificando o tipo\n",
        "df_rec_analise[\"Timestamp\"].dtypes"
      ],
      "execution_count": 95,
      "outputs": [
        {
          "output_type": "execute_result",
          "data": {
            "text/plain": [
              "dtype('<M8[ns]')"
            ]
          },
          "metadata": {},
          "execution_count": 95
        }
      ]
    },
    {
      "cell_type": "code",
      "metadata": {
        "id": "PT1WYLGE13eR",
        "colab": {
          "base_uri": "https://localhost:8080/"
        },
        "outputId": "1e751bb8-33f8-4173-fd2d-dafb1449f46e"
      },
      "source": [
        "#Verificando dados faltantes\n",
        "df_rec_analise[\"Timestamp\"].isnull().sum()"
      ],
      "execution_count": 96,
      "outputs": [
        {
          "output_type": "execute_result",
          "data": {
            "text/plain": [
              "0"
            ]
          },
          "metadata": {},
          "execution_count": 96
        }
      ]
    },
    {
      "cell_type": "code",
      "metadata": {
        "id": "4XpwMRNM3cAq",
        "colab": {
          "base_uri": "https://localhost:8080/"
        },
        "outputId": "7b6c7cf2-08c7-4219-e258-8f20ebf3907d"
      },
      "source": [
        "#Informações estátisticas sobre a feature\n",
        "df_rec_analise[\"Timestamp\"].describe()"
      ],
      "execution_count": 97,
      "outputs": [
        {
          "output_type": "stream",
          "name": "stderr",
          "text": [
            "/usr/local/lib/python3.7/dist-packages/ipykernel_launcher.py:2: FutureWarning: Treating datetime data as categorical rather than numeric in `.describe` is deprecated and will be removed in a future version of pandas. Specify `datetime_is_numeric=True` to silence this warning and adopt the future behavior now.\n",
            "  \n"
          ]
        },
        {
          "output_type": "execute_result",
          "data": {
            "text/plain": [
              "count                  517943\n",
              "unique                 517943\n",
              "top       2021-03-09 03:49:00\n",
              "freq                        1\n",
              "first     2020-03-31 00:00:00\n",
              "last      2021-03-31 00:00:00\n",
              "Name: Timestamp, dtype: object"
            ]
          },
          "metadata": {},
          "execution_count": 97
        }
      ]
    },
    {
      "cell_type": "markdown",
      "metadata": {
        "id": "NXLLk2jik9lY"
      },
      "source": [
        "#Open\n",
        "\n",
        "Valor de abertura da janela. \n"
      ]
    },
    {
      "cell_type": "code",
      "metadata": {
        "id": "tKNWaIdjndDU",
        "colab": {
          "base_uri": "https://localhost:8080/"
        },
        "outputId": "3f7b828a-29e5-43d9-c06b-74d620045e6c"
      },
      "source": [
        "df_rec_analise[\"Open\"]"
      ],
      "execution_count": 98,
      "outputs": [
        {
          "output_type": "execute_result",
          "data": {
            "text/plain": [
              "4331776     6408.95\n",
              "4331777     6399.20\n",
              "4331778     6409.05\n",
              "4331779     6417.53\n",
              "4331780     6426.54\n",
              "             ...   \n",
              "4857372    58714.31\n",
              "4857373    58683.97\n",
              "4857374    58693.43\n",
              "4857375    58742.18\n",
              "4857376    58767.75\n",
              "Name: Open, Length: 517943, dtype: float64"
            ]
          },
          "metadata": {},
          "execution_count": 98
        }
      ]
    },
    {
      "cell_type": "code",
      "metadata": {
        "id": "RXC8HEaBngJE",
        "colab": {
          "base_uri": "https://localhost:8080/"
        },
        "outputId": "942d8468-a28d-4224-89c9-771ec0b05dd7"
      },
      "source": [
        "#Informações estatísticas iniciais\n",
        "df_rec_analise[\"Open\"].describe()"
      ],
      "execution_count": 99,
      "outputs": [
        {
          "output_type": "execute_result",
          "data": {
            "text/plain": [
              "count    517943.000000\n",
              "mean      20154.209440\n",
              "std       15435.577832\n",
              "min        6162.030000\n",
              "25%        9506.785000\n",
              "50%       11637.450000\n",
              "75%       28651.315000\n",
              "max       61763.560000\n",
              "Name: Open, dtype: float64"
            ]
          },
          "metadata": {},
          "execution_count": 99
        }
      ]
    },
    {
      "cell_type": "code",
      "metadata": {
        "id": "Hb9tKt7CvUqM",
        "colab": {
          "base_uri": "https://localhost:8080/"
        },
        "outputId": "124fd5cb-3ea6-4e55-8f26-74c2eec2ca70"
      },
      "source": [
        "#Mediana\n",
        "df_rec_analise[\"Open\"].median()"
      ],
      "execution_count": 100,
      "outputs": [
        {
          "output_type": "execute_result",
          "data": {
            "text/plain": [
              "11637.45"
            ]
          },
          "metadata": {},
          "execution_count": 100
        }
      ]
    },
    {
      "cell_type": "code",
      "metadata": {
        "id": "BDZe-lQkn7xR",
        "colab": {
          "base_uri": "https://localhost:8080/"
        },
        "outputId": "362b446c-6604-4dd4-9912-43d67445c3f7"
      },
      "source": [
        "#Verificando para dados faltantes \n",
        "df_rec_analise[\"Open\"].isnull().sum()"
      ],
      "execution_count": 101,
      "outputs": [
        {
          "output_type": "execute_result",
          "data": {
            "text/plain": [
              "0"
            ]
          },
          "metadata": {},
          "execution_count": 101
        }
      ]
    },
    {
      "cell_type": "code",
      "metadata": {
        "id": "gg4MPWNlov2R",
        "colab": {
          "base_uri": "https://localhost:8080/",
          "height": 0
        },
        "outputId": "781add8c-6a7a-4171-9fb7-371375a957f1"
      },
      "source": [
        "#Histograma\n",
        "df_rec_analise[\"Open\"].hist(bins=150, figsize=(10,8))"
      ],
      "execution_count": 102,
      "outputs": [
        {
          "output_type": "execute_result",
          "data": {
            "text/plain": [
              "<matplotlib.axes._subplots.AxesSubplot at 0x7f4c8ae7a090>"
            ]
          },
          "metadata": {},
          "execution_count": 102
        },
        {
          "output_type": "display_data",
          "data": {
            "image/png": "[encoded data removed]",
            "text/plain": [
              "<Figure size 720x576 with 1 Axes>"
            ]
          },
          "metadata": {
            "needs_background": "light"
          }
        }
      ]
    },
    {
      "cell_type": "code",
      "metadata": {
        "id": "l-gViM1vw1Np",
        "colab": {
          "base_uri": "https://localhost:8080/"
        },
        "outputId": "dd1b8d64-c535-4d92-cafd-0a1a65b44a4b"
      },
      "source": [
        "#Verificando a curtose da distribuição \n",
        "df_rec_analise[\"Open\"].kurtosis()"
      ],
      "execution_count": 103,
      "outputs": [
        {
          "output_type": "execute_result",
          "data": {
            "text/plain": [
              "0.2341877398100105"
            ]
          },
          "metadata": {},
          "execution_count": 103
        }
      ]
    },
    {
      "cell_type": "code",
      "metadata": {
        "id": "M5ot0uSfxODZ",
        "colab": {
          "base_uri": "https://localhost:8080/"
        },
        "outputId": "8efad9ff-cc01-4c7d-bfc3-cf640a20c50d"
      },
      "source": [
        "#Verificando a simetria da distribuição \n",
        "df_rec_analise[\"Open\"].skew()"
      ],
      "execution_count": 104,
      "outputs": [
        {
          "output_type": "execute_result",
          "data": {
            "text/plain": [
              "1.2809163653114048"
            ]
          },
          "metadata": {},
          "execution_count": 104
        }
      ]
    },
    {
      "cell_type": "code",
      "metadata": {
        "id": "brwz8Iz4yotl"
      },
      "source": [
        "#visualizando a distribuição com a densidade de probabilidade. (pdf)\n",
        "x_list=np.linspace(df_rec_analise.Open.min(),df_rec_analise.Open.max(), 100)\n",
        "y_list=norm.pdf(x_list,loc=df_rec_analise.Open.mean(), scale=df_rec_analise.Open.std())"
      ],
      "execution_count": 105,
      "outputs": []
    },
    {
      "cell_type": "code",
      "metadata": {
        "id": "vX2KGsKG0Wzu",
        "colab": {
          "base_uri": "https://localhost:8080/",
          "height": 0
        },
        "outputId": "2d7ce817-df5a-4379-8e6d-d3b2a98757f0"
      },
      "source": [
        "plt.plot(x_list,y_list)\n",
        "df_rec_analise[\"Open\"].hist(bins=100, figsize=(10,8), density=True)\n",
        "\n",
        "\n"
      ],
      "execution_count": 106,
      "outputs": [
        {
          "output_type": "execute_result",
          "data": {
            "text/plain": [
              "<matplotlib.axes._subplots.AxesSubplot at 0x7f4c89ba6b50>"
            ]
          },
          "metadata": {},
          "execution_count": 106
        },
        {
          "output_type": "display_data",
          "data": {
            "image/png": "[encoded data removed]",
            "text/plain": [
              "<Figure size 720x576 with 1 Axes>"
            ]
          },
          "metadata": {
            "needs_background": "light"
          }
        }
      ]
    },
    {
      "cell_type": "code",
      "metadata": {
        "id": "5SxdaKds4bhD",
        "colab": {
          "base_uri": "https://localhost:8080/"
        },
        "outputId": "48972a18-2d60-4c7b-ba50-a84c1d405ca8"
      },
      "source": [
        "#Valores mais frequêntes de abertura\n",
        "df_rec_analise[\"Open\"].value_counts()"
      ],
      "execution_count": 107,
      "outputs": [
        {
          "output_type": "execute_result",
          "data": {
            "text/plain": [
              "11350.00    63\n",
              "9170.00     62\n",
              "9150.00     60\n",
              "11400.00    53\n",
              "9300.00     52\n",
              "            ..\n",
              "17109.65     1\n",
              "48314.52     1\n",
              "58499.62     1\n",
              "27072.72     1\n",
              "9082.89      1\n",
              "Name: Open, Length: 393224, dtype: int64"
            ]
          },
          "metadata": {},
          "execution_count": 107
        }
      ]
    },
    {
      "cell_type": "code",
      "metadata": {
        "id": "r0sTxIDkUCKn"
      },
      "source": [
        ""
      ],
      "execution_count": 107,
      "outputs": []
    },
    {
      "cell_type": "markdown",
      "metadata": {
        "id": "1RP6YlKYUOAE"
      },
      "source": [
        "#High\n",
        "\n",
        "Maior valor obtido durante a janela. "
      ]
    },
    {
      "cell_type": "code",
      "metadata": {
        "colab": {
          "base_uri": "https://localhost:8080/"
        },
        "id": "KROd2J5VUheb",
        "outputId": "aadd87a9-5e55-49ed-e2b2-bded8a14189e"
      },
      "source": [
        "df_rec_analise[\"High\"]"
      ],
      "execution_count": 108,
      "outputs": [
        {
          "output_type": "execute_result",
          "data": {
            "text/plain": [
              "4331776     6408.95\n",
              "4331777     6406.06\n",
              "4331778     6425.24\n",
              "4331779     6430.74\n",
              "4331780     6438.96\n",
              "             ...   \n",
              "4857372    58714.31\n",
              "4857373    58693.43\n",
              "4857374    58723.84\n",
              "4857375    58770.38\n",
              "4857376    58778.18\n",
              "Name: High, Length: 517943, dtype: float64"
            ]
          },
          "metadata": {},
          "execution_count": 108
        }
      ]
    },
    {
      "cell_type": "code",
      "metadata": {
        "colab": {
          "base_uri": "https://localhost:8080/"
        },
        "id": "Ke2DFzgAcRLA",
        "outputId": "0228db40-e700-4e62-8ce3-1284c8c1973e"
      },
      "source": [
        "df_rec_analise[\"High\"].describe()"
      ],
      "execution_count": 109,
      "outputs": [
        {
          "output_type": "execute_result",
          "data": {
            "text/plain": [
              "count    517943.000000\n",
              "mean      20168.306262\n",
              "std       15449.339748\n",
              "min        6171.690000\n",
              "25%        9510.340000\n",
              "50%       11642.000000\n",
              "75%       28673.980000\n",
              "max       61781.830000\n",
              "Name: High, dtype: float64"
            ]
          },
          "metadata": {},
          "execution_count": 109
        }
      ]
    },
    {
      "cell_type": "code",
      "metadata": {
        "colab": {
          "base_uri": "https://localhost:8080/"
        },
        "id": "cAg-I07oUmI7",
        "outputId": "7b53b267-4793-45ac-b751-1bbd5809a90c"
      },
      "source": [
        "#Maior valor dentre os máximos num intervalo de 1 ano.\n",
        "df_rec_analise[\"High\"].max()"
      ],
      "execution_count": 110,
      "outputs": [
        {
          "output_type": "execute_result",
          "data": {
            "text/plain": [
              "61781.83"
            ]
          },
          "metadata": {},
          "execution_count": 110
        }
      ]
    },
    {
      "cell_type": "code",
      "metadata": {
        "colab": {
          "base_uri": "https://localhost:8080/"
        },
        "id": "gpwWfvgear7b",
        "outputId": "6f25c107-d035-4523-ad59-1255d9f71a00"
      },
      "source": [
        "#Valor 3x maior que a média do ano. Algum evento atípico?\n",
        "df_rec_analise[\"High\"].max()/df_rec_analise[\"High\"].mean()"
      ],
      "execution_count": 111,
      "outputs": [
        {
          "output_type": "execute_result",
          "data": {
            "text/plain": [
              "3.0633127639883027"
            ]
          },
          "metadata": {},
          "execution_count": 111
        }
      ]
    },
    {
      "cell_type": "code",
      "metadata": {
        "colab": {
          "base_uri": "https://localhost:8080/",
          "height": 81
        },
        "id": "XlSvit-1U6Em",
        "outputId": "f60178b9-b616-4f2d-e57b-d1335af08e44"
      },
      "source": [
        "df_rec_analise.loc[df_rec_analise[\"High\"] == 61781.83]"
      ],
      "execution_count": 112,
      "outputs": [
        {
          "output_type": "execute_result",
          "data": {
            "text/html": [
              "<div>\n",
              "<style scoped>\n",
              "    .dataframe tbody tr th:only-of-type {\n",
              "        vertical-align: middle;\n",
              "    }\n",
              "\n",
              "    .dataframe tbody tr th {\n",
              "        vertical-align: top;\n",
              "    }\n",
              "\n",
              "    .dataframe thead th {\n",
              "        text-align: right;\n",
              "    }\n",
              "</style>\n",
              "<table border=\"1\" class=\"dataframe\">\n",
              "  <thead>\n",
              "    <tr style=\"text-align: right;\">\n",
              "      <th></th>\n",
              "      <th>Timestamp</th>\n",
              "      <th>Open</th>\n",
              "      <th>High</th>\n",
              "      <th>Low</th>\n",
              "      <th>Close</th>\n",
              "      <th>Volume_(BTC)</th>\n",
              "      <th>Volume_(Currency)</th>\n",
              "      <th>Weighted_Price</th>\n",
              "    </tr>\n",
              "  </thead>\n",
              "  <tbody>\n",
              "    <tr>\n",
              "      <th>4832698</th>\n",
              "      <td>2021-03-13 20:42:00</td>\n",
              "      <td>61763.56</td>\n",
              "      <td>61781.83</td>\n",
              "      <td>61657.88</td>\n",
              "      <td>61719.74</td>\n",
              "      <td>2.461103</td>\n",
              "      <td>151889.96095</td>\n",
              "      <td>61716.205341</td>\n",
              "    </tr>\n",
              "  </tbody>\n",
              "</table>\n",
              "</div>"
            ],
            "text/plain": [
              "                  Timestamp      Open  ...  Volume_(Currency)  Weighted_Price\n",
              "4832698 2021-03-13 20:42:00  61763.56  ...       151889.96095    61716.205341\n",
              "\n",
              "[1 rows x 8 columns]"
            ]
          },
          "metadata": {},
          "execution_count": 112
        }
      ]
    },
    {
      "cell_type": "markdown",
      "metadata": {
        "id": "KCtdgYQ0W89n"
      },
      "source": [
        "NOTA:\n",
        "2021-03-13 aprovado pacote de estímulos de 1,9 trilhão do governo Biden.\n"
      ]
    },
    {
      "cell_type": "code",
      "source": [
        "#Menor valor máximo do preço de bitcoin no último ano.\n",
        "df_rec_analise[\"High\"].min()"
      ],
      "metadata": {
        "colab": {
          "base_uri": "https://localhost:8080/"
        },
        "id": "9caIUNydYszN",
        "outputId": "69210423-29a1-472b-bc06-806d65683cc0"
      },
      "execution_count": 118,
      "outputs": [
        {
          "output_type": "execute_result",
          "data": {
            "text/plain": [
              "6171.69"
            ]
          },
          "metadata": {},
          "execution_count": 118
        }
      ]
    },
    {
      "cell_type": "code",
      "source": [
        "df_rec_analise.loc[df_rec_analise[\"High\"] == 6171.69]"
      ],
      "metadata": {
        "colab": {
          "base_uri": "https://localhost:8080/",
          "height": 81
        },
        "id": "Qz26TTOeY42Q",
        "outputId": "40535ab0-5c90-4cad-a1de-bea1f101401f"
      },
      "execution_count": 119,
      "outputs": [
        {
          "output_type": "execute_result",
          "data": {
            "text/html": [
              "<div>\n",
              "<style scoped>\n",
              "    .dataframe tbody tr th:only-of-type {\n",
              "        vertical-align: middle;\n",
              "    }\n",
              "\n",
              "    .dataframe tbody tr th {\n",
              "        vertical-align: top;\n",
              "    }\n",
              "\n",
              "    .dataframe thead th {\n",
              "        text-align: right;\n",
              "    }\n",
              "</style>\n",
              "<table border=\"1\" class=\"dataframe\">\n",
              "  <thead>\n",
              "    <tr style=\"text-align: right;\">\n",
              "      <th></th>\n",
              "      <th>Timestamp</th>\n",
              "      <th>Open</th>\n",
              "      <th>High</th>\n",
              "      <th>Low</th>\n",
              "      <th>Close</th>\n",
              "      <th>Volume_(BTC)</th>\n",
              "      <th>Volume_(Currency)</th>\n",
              "      <th>Weighted_Price</th>\n",
              "    </tr>\n",
              "  </thead>\n",
              "  <tbody>\n",
              "    <tr>\n",
              "      <th>4334226</th>\n",
              "      <td>2020-04-01 16:50:00</td>\n",
              "      <td>6171.69</td>\n",
              "      <td>6171.69</td>\n",
              "      <td>6137.71</td>\n",
              "      <td>6158.12</td>\n",
              "      <td>110.355978</td>\n",
              "      <td>678514.59289</td>\n",
              "      <td>6148.417195</td>\n",
              "    </tr>\n",
              "  </tbody>\n",
              "</table>\n",
              "</div>"
            ],
            "text/plain": [
              "                  Timestamp     Open  ...  Volume_(Currency)  Weighted_Price\n",
              "4334226 2020-04-01 16:50:00  6171.69  ...       678514.59289     6148.417195\n",
              "\n",
              "[1 rows x 8 columns]"
            ]
          },
          "metadata": {},
          "execution_count": 119
        }
      ]
    },
    {
      "cell_type": "markdown",
      "source": [
        "2020-04-01: INÍCIO DA PANDEMIA DE COVID. \n"
      ],
      "metadata": {
        "id": "cssckREaZpeO"
      }
    },
    {
      "cell_type": "code",
      "metadata": {
        "colab": {
          "base_uri": "https://localhost:8080/"
        },
        "id": "oy6n1156W72T",
        "outputId": "3162fe1b-7241-404f-80ba-a39277fc4ab1"
      },
      "source": [
        "#Valores mais frequêntes de máximo no intervalo de 1 ano. \n",
        "df_rec_analise[\"High\"].value_counts()"
      ],
      "execution_count": 113,
      "outputs": [
        {
          "output_type": "execute_result",
          "data": {
            "text/plain": [
              "11350.00    74\n",
              "9700.00     73\n",
              "11400.00    69\n",
              "11362.14    64\n",
              "9500.00     63\n",
              "            ..\n",
              "11289.92     1\n",
              "40430.00     1\n",
              "18398.70     1\n",
              "9448.09      1\n",
              "9082.89      1\n",
              "Name: High, Length: 385989, dtype: int64"
            ]
          },
          "metadata": {},
          "execution_count": 113
        }
      ]
    },
    {
      "cell_type": "code",
      "metadata": {
        "colab": {
          "base_uri": "https://localhost:8080/",
          "height": 502
        },
        "id": "loOLnZdVdhID",
        "outputId": "00ac1039-7c31-42d4-8811-af9a888ed33c"
      },
      "source": [
        "#Visulisando \n",
        "plt.figure(figsize=[10,8])\n",
        "df_rec_analise[\"High\"].hist(bins=200)"
      ],
      "execution_count": 114,
      "outputs": [
        {
          "output_type": "execute_result",
          "data": {
            "text/plain": [
              "<matplotlib.axes._subplots.AxesSubplot at 0x7f4c89dd2490>"
            ]
          },
          "metadata": {},
          "execution_count": 114
        },
        {
          "output_type": "display_data",
          "data": {
            "image/png": "[encoded data removed]",
            "text/plain": [
              "<Figure size 720x576 with 1 Axes>"
            ]
          },
          "metadata": {
            "needs_background": "light"
          }
        }
      ]
    },
    {
      "cell_type": "code",
      "metadata": {
        "colab": {
          "base_uri": "https://localhost:8080/"
        },
        "id": "p_3FKhMfU9Rj",
        "outputId": "cf9cc997-b74c-4a06-aa36-af2257ff0ae7"
      },
      "source": [
        "#Calculando a curtose\n",
        "df_rec_analise[\"High\"].kurtosis()"
      ],
      "execution_count": 115,
      "outputs": [
        {
          "output_type": "execute_result",
          "data": {
            "text/plain": [
              "0.23218243401364802"
            ]
          },
          "metadata": {},
          "execution_count": 115
        }
      ]
    },
    {
      "cell_type": "code",
      "metadata": {
        "colab": {
          "base_uri": "https://localhost:8080/"
        },
        "id": "VpYml5Z5Vlyz",
        "outputId": "935557db-ab5a-4451-d873-cb3d202a27ed"
      },
      "source": [
        "#Calculando a assimetria \n",
        "df_rec_analise[\"High\"].skew()"
      ],
      "execution_count": 116,
      "outputs": [
        {
          "output_type": "execute_result",
          "data": {
            "text/plain": [
              "1.2804167290575998"
            ]
          },
          "metadata": {},
          "execution_count": 116
        }
      ]
    },
    {
      "cell_type": "code",
      "source": [
        "#Valores únicos na feature High\n",
        "df_rec_analise[\"High\"].nunique()"
      ],
      "metadata": {
        "colab": {
          "base_uri": "https://localhost:8080/"
        },
        "id": "QYjvCnKGXzAh",
        "outputId": "4876ef9a-ebe3-47bd-c18c-1ecb05d56b37"
      },
      "execution_count": 117,
      "outputs": [
        {
          "output_type": "execute_result",
          "data": {
            "text/plain": [
              "385989"
            ]
          },
          "metadata": {},
          "execution_count": 117
        }
      ]
    },
    {
      "cell_type": "markdown",
      "source": [
        "Qual a flutuação de valores máximos no último ano? "
      ],
      "metadata": {
        "id": "cvH-YxFBYHxg"
      }
    }
  ]
}