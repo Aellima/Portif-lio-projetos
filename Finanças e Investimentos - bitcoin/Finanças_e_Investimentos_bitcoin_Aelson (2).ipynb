{
  "nbformat": 4,
  "nbformat_minor": 0,
  "metadata": {
    "colab": {
      "name": "Finanças e Investimentos - bitcoin - Aelson.ipynb",
      "provenance": []
    },
    "kernelspec": {
      "name": "python3",
      "display_name": "Python 3"
    },
    "language_info": {
      "name": "python"
    }
  },
  "cells": [
    {
      "cell_type": "markdown",
      "metadata": {
        "id": "W4QQwsk6zL6l"
      },
      "source": [
        "# 1 - Entendimento do problema - O problema a ser solucionado.\n",
        "\n",
        "O projeto visa indicar qual perfil de investidor é mais adequado com base no comportamento do mercado de bitcoin. \n",
        "\n",
        "1.1 - Quais são os perfis de investidores?\n",
        "\n",
        "- Conservadores, moderados e arrojados.\n",
        "\n",
        "1.1.2 - Quais a bases fundamentais dos perfis? \n",
        "\n",
        "- Segurança\n",
        "- Liquidez\n",
        "- Rentabilidade\n",
        "\n",
        "1.1.3 - Como influenciam no perfil dos investidores?\n",
        "\n",
        "- Conservadores: Segurança como prioridade.\n",
        "- Moderados:\n",
        "\n",
        "1.1.4 - Quais são os indicadores de determinantes para a escolha?"
      ]
    },
    {
      "cell_type": "markdown",
      "metadata": {
        "id": "s3qAklUCzVfN"
      },
      "source": [
        "#2 - Coleta de dados e referências do projeto\n",
        "\n",
        "Conjunto de dados utilizado:\n",
        "\n",
        " https://www.kaggle.com/mczielinski/bitcoin-historical-data\n",
        "\n",
        "Referências:\n",
        "\n",
        "https://www.notion.so/https-towardsdatascience-com-dynamic-cryptocurrency-trading-backtesting-platform-python-219dfcd742-eb894aef1a504d6fb363e3854f870350\n"
      ]
    },
    {
      "cell_type": "markdown",
      "metadata": {
        "id": "lW0MhdUtzi4t"
      },
      "source": [
        "# 3 - Análise, interpretação e Visualização \n"
      ]
    },
    {
      "cell_type": "markdown",
      "metadata": {
        "id": "UMOIPZlOzyNc"
      },
      "source": [
        "Bibliotecas utilizadas\n"
      ]
    },
    {
      "cell_type": "code",
      "metadata": {
        "id": "Mgcfjqx4zw_G"
      },
      "source": [
        "#manipulação de dados\n",
        "import pandas as pd\n",
        "import numpy as np\n",
        "from scipy.stats import norm\n",
        "\n",
        "#Visualização de dados\n",
        "import matplotlib.pyplot as plt\n",
        "import seaborn as sns"
      ],
      "execution_count": 1,
      "outputs": []
    },
    {
      "cell_type": "code",
      "metadata": {
        "id": "_ojQwJnjIord"
      },
      "source": [
        "df=pd.read_csv(\"bitstampUSD_1-min_data_2012-01-01_to_2021-03-31.csv\")"
      ],
      "execution_count": 2,
      "outputs": []
    },
    {
      "cell_type": "code",
      "metadata": {
        "colab": {
          "base_uri": "https://localhost:8080/",
          "height": 419
        },
        "id": "VsHpORh3IuqR",
        "outputId": "c7490821-5771-48e0-b126-6f88f39165cf"
      },
      "source": [
        "df"
      ],
      "execution_count": 3,
      "outputs": [
        {
          "output_type": "execute_result",
          "data": {
            "text/html": [
              "<div>\n",
              "<style scoped>\n",
              "    .dataframe tbody tr th:only-of-type {\n",
              "        vertical-align: middle;\n",
              "    }\n",
              "\n",
              "    .dataframe tbody tr th {\n",
              "        vertical-align: top;\n",
              "    }\n",
              "\n",
              "    .dataframe thead th {\n",
              "        text-align: right;\n",
              "    }\n",
              "</style>\n",
              "<table border=\"1\" class=\"dataframe\">\n",
              "  <thead>\n",
              "    <tr style=\"text-align: right;\">\n",
              "      <th></th>\n",
              "      <th>Timestamp</th>\n",
              "      <th>Open</th>\n",
              "      <th>High</th>\n",
              "      <th>Low</th>\n",
              "      <th>Close</th>\n",
              "      <th>Volume_(BTC)</th>\n",
              "      <th>Volume_(Currency)</th>\n",
              "      <th>Weighted_Price</th>\n",
              "    </tr>\n",
              "  </thead>\n",
              "  <tbody>\n",
              "    <tr>\n",
              "      <th>0</th>\n",
              "      <td>1325317920</td>\n",
              "      <td>4.39</td>\n",
              "      <td>4.39</td>\n",
              "      <td>4.39</td>\n",
              "      <td>4.39</td>\n",
              "      <td>0.455581</td>\n",
              "      <td>2.000000</td>\n",
              "      <td>4.390000</td>\n",
              "    </tr>\n",
              "    <tr>\n",
              "      <th>1</th>\n",
              "      <td>1325317980</td>\n",
              "      <td>NaN</td>\n",
              "      <td>NaN</td>\n",
              "      <td>NaN</td>\n",
              "      <td>NaN</td>\n",
              "      <td>NaN</td>\n",
              "      <td>NaN</td>\n",
              "      <td>NaN</td>\n",
              "    </tr>\n",
              "    <tr>\n",
              "      <th>2</th>\n",
              "      <td>1325318040</td>\n",
              "      <td>NaN</td>\n",
              "      <td>NaN</td>\n",
              "      <td>NaN</td>\n",
              "      <td>NaN</td>\n",
              "      <td>NaN</td>\n",
              "      <td>NaN</td>\n",
              "      <td>NaN</td>\n",
              "    </tr>\n",
              "    <tr>\n",
              "      <th>3</th>\n",
              "      <td>1325318100</td>\n",
              "      <td>NaN</td>\n",
              "      <td>NaN</td>\n",
              "      <td>NaN</td>\n",
              "      <td>NaN</td>\n",
              "      <td>NaN</td>\n",
              "      <td>NaN</td>\n",
              "      <td>NaN</td>\n",
              "    </tr>\n",
              "    <tr>\n",
              "      <th>4</th>\n",
              "      <td>1325318160</td>\n",
              "      <td>NaN</td>\n",
              "      <td>NaN</td>\n",
              "      <td>NaN</td>\n",
              "      <td>NaN</td>\n",
              "      <td>NaN</td>\n",
              "      <td>NaN</td>\n",
              "      <td>NaN</td>\n",
              "    </tr>\n",
              "    <tr>\n",
              "      <th>...</th>\n",
              "      <td>...</td>\n",
              "      <td>...</td>\n",
              "      <td>...</td>\n",
              "      <td>...</td>\n",
              "      <td>...</td>\n",
              "      <td>...</td>\n",
              "      <td>...</td>\n",
              "      <td>...</td>\n",
              "    </tr>\n",
              "    <tr>\n",
              "      <th>773878</th>\n",
              "      <td>1371750600</td>\n",
              "      <td>NaN</td>\n",
              "      <td>NaN</td>\n",
              "      <td>NaN</td>\n",
              "      <td>NaN</td>\n",
              "      <td>NaN</td>\n",
              "      <td>NaN</td>\n",
              "      <td>NaN</td>\n",
              "    </tr>\n",
              "    <tr>\n",
              "      <th>773879</th>\n",
              "      <td>1371750660</td>\n",
              "      <td>106.50</td>\n",
              "      <td>107.00</td>\n",
              "      <td>106.50</td>\n",
              "      <td>107.00</td>\n",
              "      <td>8.275224</td>\n",
              "      <td>883.886126</td>\n",
              "      <td>106.811136</td>\n",
              "    </tr>\n",
              "    <tr>\n",
              "      <th>773880</th>\n",
              "      <td>1371750720</td>\n",
              "      <td>107.00</td>\n",
              "      <td>107.00</td>\n",
              "      <td>107.00</td>\n",
              "      <td>107.00</td>\n",
              "      <td>2.556180</td>\n",
              "      <td>273.511260</td>\n",
              "      <td>107.000000</td>\n",
              "    </tr>\n",
              "    <tr>\n",
              "      <th>773881</th>\n",
              "      <td>1371750780</td>\n",
              "      <td>107.02</td>\n",
              "      <td>107.50</td>\n",
              "      <td>107.02</td>\n",
              "      <td>107.50</td>\n",
              "      <td>10.920048</td>\n",
              "      <td>1170.948590</td>\n",
              "      <td>107.229251</td>\n",
              "    </tr>\n",
              "    <tr>\n",
              "      <th>773882</th>\n",
              "      <td>1371750840</td>\n",
              "      <td>107.50</td>\n",
              "      <td>107.50</td>\n",
              "      <td>1.00</td>\n",
              "      <td>NaN</td>\n",
              "      <td>NaN</td>\n",
              "      <td>NaN</td>\n",
              "      <td>NaN</td>\n",
              "    </tr>\n",
              "  </tbody>\n",
              "</table>\n",
              "<p>773883 rows × 8 columns</p>\n",
              "</div>"
            ],
            "text/plain": [
              "         Timestamp    Open  ...  Volume_(Currency)  Weighted_Price\n",
              "0       1325317920    4.39  ...           2.000000        4.390000\n",
              "1       1325317980     NaN  ...                NaN             NaN\n",
              "2       1325318040     NaN  ...                NaN             NaN\n",
              "3       1325318100     NaN  ...                NaN             NaN\n",
              "4       1325318160     NaN  ...                NaN             NaN\n",
              "...            ...     ...  ...                ...             ...\n",
              "773878  1371750600     NaN  ...                NaN             NaN\n",
              "773879  1371750660  106.50  ...         883.886126      106.811136\n",
              "773880  1371750720  107.00  ...         273.511260      107.000000\n",
              "773881  1371750780  107.02  ...        1170.948590      107.229251\n",
              "773882  1371750840  107.50  ...                NaN             NaN\n",
              "\n",
              "[773883 rows x 8 columns]"
            ]
          },
          "metadata": {},
          "execution_count": 3
        }
      ]
    },
    {
      "cell_type": "markdown",
      "metadata": {
        "id": "DuYj9U4GYMIw"
      },
      "source": [
        "Primeria inspecção dos dados \n"
      ]
    },
    {
      "cell_type": "code",
      "metadata": {
        "colab": {
          "base_uri": "https://localhost:8080/",
          "height": 204
        },
        "id": "15R5adDRJE2M",
        "outputId": "0a0d6b5b-9874-45f4-9159-8cbafee5df4f"
      },
      "source": [
        "df.head()"
      ],
      "execution_count": 4,
      "outputs": [
        {
          "output_type": "execute_result",
          "data": {
            "text/html": [
              "<div>\n",
              "<style scoped>\n",
              "    .dataframe tbody tr th:only-of-type {\n",
              "        vertical-align: middle;\n",
              "    }\n",
              "\n",
              "    .dataframe tbody tr th {\n",
              "        vertical-align: top;\n",
              "    }\n",
              "\n",
              "    .dataframe thead th {\n",
              "        text-align: right;\n",
              "    }\n",
              "</style>\n",
              "<table border=\"1\" class=\"dataframe\">\n",
              "  <thead>\n",
              "    <tr style=\"text-align: right;\">\n",
              "      <th></th>\n",
              "      <th>Timestamp</th>\n",
              "      <th>Open</th>\n",
              "      <th>High</th>\n",
              "      <th>Low</th>\n",
              "      <th>Close</th>\n",
              "      <th>Volume_(BTC)</th>\n",
              "      <th>Volume_(Currency)</th>\n",
              "      <th>Weighted_Price</th>\n",
              "    </tr>\n",
              "  </thead>\n",
              "  <tbody>\n",
              "    <tr>\n",
              "      <th>0</th>\n",
              "      <td>1325317920</td>\n",
              "      <td>4.39</td>\n",
              "      <td>4.39</td>\n",
              "      <td>4.39</td>\n",
              "      <td>4.39</td>\n",
              "      <td>0.455581</td>\n",
              "      <td>2.0</td>\n",
              "      <td>4.39</td>\n",
              "    </tr>\n",
              "    <tr>\n",
              "      <th>1</th>\n",
              "      <td>1325317980</td>\n",
              "      <td>NaN</td>\n",
              "      <td>NaN</td>\n",
              "      <td>NaN</td>\n",
              "      <td>NaN</td>\n",
              "      <td>NaN</td>\n",
              "      <td>NaN</td>\n",
              "      <td>NaN</td>\n",
              "    </tr>\n",
              "    <tr>\n",
              "      <th>2</th>\n",
              "      <td>1325318040</td>\n",
              "      <td>NaN</td>\n",
              "      <td>NaN</td>\n",
              "      <td>NaN</td>\n",
              "      <td>NaN</td>\n",
              "      <td>NaN</td>\n",
              "      <td>NaN</td>\n",
              "      <td>NaN</td>\n",
              "    </tr>\n",
              "    <tr>\n",
              "      <th>3</th>\n",
              "      <td>1325318100</td>\n",
              "      <td>NaN</td>\n",
              "      <td>NaN</td>\n",
              "      <td>NaN</td>\n",
              "      <td>NaN</td>\n",
              "      <td>NaN</td>\n",
              "      <td>NaN</td>\n",
              "      <td>NaN</td>\n",
              "    </tr>\n",
              "    <tr>\n",
              "      <th>4</th>\n",
              "      <td>1325318160</td>\n",
              "      <td>NaN</td>\n",
              "      <td>NaN</td>\n",
              "      <td>NaN</td>\n",
              "      <td>NaN</td>\n",
              "      <td>NaN</td>\n",
              "      <td>NaN</td>\n",
              "      <td>NaN</td>\n",
              "    </tr>\n",
              "  </tbody>\n",
              "</table>\n",
              "</div>"
            ],
            "text/plain": [
              "    Timestamp  Open  High  ...  Volume_(BTC)  Volume_(Currency)  Weighted_Price\n",
              "0  1325317920  4.39  4.39  ...      0.455581                2.0            4.39\n",
              "1  1325317980   NaN   NaN  ...           NaN                NaN             NaN\n",
              "2  1325318040   NaN   NaN  ...           NaN                NaN             NaN\n",
              "3  1325318100   NaN   NaN  ...           NaN                NaN             NaN\n",
              "4  1325318160   NaN   NaN  ...           NaN                NaN             NaN\n",
              "\n",
              "[5 rows x 8 columns]"
            ]
          },
          "metadata": {},
          "execution_count": 4
        }
      ]
    },
    {
      "cell_type": "code",
      "metadata": {
        "colab": {
          "base_uri": "https://localhost:8080/"
        },
        "id": "FmrX2fwi87ob",
        "outputId": "0f9811ab-74eb-4118-b737-5d9e22f51578"
      },
      "source": [
        "#Inspecionando o tamanho do dataframe\n",
        "df.size"
      ],
      "execution_count": 5,
      "outputs": [
        {
          "output_type": "execute_result",
          "data": {
            "text/plain": [
              "6191064"
            ]
          },
          "metadata": {},
          "execution_count": 5
        }
      ]
    },
    {
      "cell_type": "code",
      "metadata": {
        "colab": {
          "base_uri": "https://localhost:8080/"
        },
        "id": "ERqgAYZr9C0F",
        "outputId": "e268296b-baac-422c-be82-429dea5f5273"
      },
      "source": [
        "#Inspecionando a forma do df.\n",
        "df.shape"
      ],
      "execution_count": 6,
      "outputs": [
        {
          "output_type": "execute_result",
          "data": {
            "text/plain": [
              "(773883, 8)"
            ]
          },
          "metadata": {},
          "execution_count": 6
        }
      ]
    },
    {
      "cell_type": "code",
      "metadata": {
        "colab": {
          "base_uri": "https://localhost:8080/"
        },
        "id": "dA61icjHPe_X",
        "outputId": "d9ff4eb4-763c-4db7-cc3e-50bb41e375d2"
      },
      "source": [
        "#Informações iniciais\n",
        "df.info"
      ],
      "execution_count": 7,
      "outputs": [
        {
          "output_type": "execute_result",
          "data": {
            "text/plain": [
              "<bound method DataFrame.info of          Timestamp    Open  ...  Volume_(Currency)  Weighted_Price\n",
              "0       1325317920    4.39  ...           2.000000        4.390000\n",
              "1       1325317980     NaN  ...                NaN             NaN\n",
              "2       1325318040     NaN  ...                NaN             NaN\n",
              "3       1325318100     NaN  ...                NaN             NaN\n",
              "4       1325318160     NaN  ...                NaN             NaN\n",
              "...            ...     ...  ...                ...             ...\n",
              "773878  1371750600     NaN  ...                NaN             NaN\n",
              "773879  1371750660  106.50  ...         883.886126      106.811136\n",
              "773880  1371750720  107.00  ...         273.511260      107.000000\n",
              "773881  1371750780  107.02  ...        1170.948590      107.229251\n",
              "773882  1371750840  107.50  ...                NaN             NaN\n",
              "\n",
              "[773883 rows x 8 columns]>"
            ]
          },
          "metadata": {},
          "execution_count": 7
        }
      ]
    },
    {
      "cell_type": "code",
      "metadata": {
        "colab": {
          "base_uri": "https://localhost:8080/"
        },
        "id": "xQbxXoS_Pjmi",
        "outputId": "718d9be5-c94d-4fce-b5d2-dd266e5f5dc4"
      },
      "source": [
        "#verificando o tipo dos dados\n",
        "df.dtypes"
      ],
      "execution_count": 8,
      "outputs": [
        {
          "output_type": "execute_result",
          "data": {
            "text/plain": [
              "Timestamp              int64\n",
              "Open                 float64\n",
              "High                 float64\n",
              "Low                  float64\n",
              "Close                float64\n",
              "Volume_(BTC)         float64\n",
              "Volume_(Currency)    float64\n",
              "Weighted_Price       float64\n",
              "dtype: object"
            ]
          },
          "metadata": {},
          "execution_count": 8
        }
      ]
    },
    {
      "cell_type": "code",
      "metadata": {
        "colab": {
          "base_uri": "https://localhost:8080/",
          "height": 297
        },
        "id": "yZz86SCYXKc1",
        "outputId": "10cf52a5-4401-4b0b-985f-16e72067f023"
      },
      "source": [
        "#obtendo informações estatísticas iniciais. \n",
        "df.describe()"
      ],
      "execution_count": 9,
      "outputs": [
        {
          "output_type": "execute_result",
          "data": {
            "text/html": [
              "<div>\n",
              "<style scoped>\n",
              "    .dataframe tbody tr th:only-of-type {\n",
              "        vertical-align: middle;\n",
              "    }\n",
              "\n",
              "    .dataframe tbody tr th {\n",
              "        vertical-align: top;\n",
              "    }\n",
              "\n",
              "    .dataframe thead th {\n",
              "        text-align: right;\n",
              "    }\n",
              "</style>\n",
              "<table border=\"1\" class=\"dataframe\">\n",
              "  <thead>\n",
              "    <tr style=\"text-align: right;\">\n",
              "      <th></th>\n",
              "      <th>Timestamp</th>\n",
              "      <th>Open</th>\n",
              "      <th>High</th>\n",
              "      <th>Low</th>\n",
              "      <th>Close</th>\n",
              "      <th>Volume_(BTC)</th>\n",
              "      <th>Volume_(Currency)</th>\n",
              "      <th>Weighted_Price</th>\n",
              "    </tr>\n",
              "  </thead>\n",
              "  <tbody>\n",
              "    <tr>\n",
              "      <th>count</th>\n",
              "      <td>7.738830e+05</td>\n",
              "      <td>140198.000000</td>\n",
              "      <td>140198.000000</td>\n",
              "      <td>140198.000000</td>\n",
              "      <td>140197.000000</td>\n",
              "      <td>140197.000000</td>\n",
              "      <td>140197.000000</td>\n",
              "      <td>140197.000000</td>\n",
              "    </tr>\n",
              "    <tr>\n",
              "      <th>mean</th>\n",
              "      <td>1.348534e+09</td>\n",
              "      <td>85.364586</td>\n",
              "      <td>85.456992</td>\n",
              "      <td>85.243465</td>\n",
              "      <td>85.347255</td>\n",
              "      <td>13.639306</td>\n",
              "      <td>902.826988</td>\n",
              "      <td>85.349415</td>\n",
              "    </tr>\n",
              "    <tr>\n",
              "      <th>std</th>\n",
              "      <td>1.340406e+07</td>\n",
              "      <td>51.117473</td>\n",
              "      <td>51.172293</td>\n",
              "      <td>51.042816</td>\n",
              "      <td>51.103935</td>\n",
              "      <td>38.974270</td>\n",
              "      <td>2677.530713</td>\n",
              "      <td>51.106433</td>\n",
              "    </tr>\n",
              "    <tr>\n",
              "      <th>min</th>\n",
              "      <td>1.325318e+09</td>\n",
              "      <td>3.800000</td>\n",
              "      <td>3.800000</td>\n",
              "      <td>1.000000</td>\n",
              "      <td>3.800000</td>\n",
              "      <td>0.000000</td>\n",
              "      <td>0.000000</td>\n",
              "      <td>3.800000</td>\n",
              "    </tr>\n",
              "    <tr>\n",
              "      <th>25%</th>\n",
              "      <td>1.336926e+09</td>\n",
              "      <td>27.500000</td>\n",
              "      <td>27.500000</td>\n",
              "      <td>27.500000</td>\n",
              "      <td>27.500000</td>\n",
              "      <td>1.000000</td>\n",
              "      <td>65.068961</td>\n",
              "      <td>27.500000</td>\n",
              "    </tr>\n",
              "    <tr>\n",
              "      <th>50%</th>\n",
              "      <td>1.348534e+09</td>\n",
              "      <td>105.480000</td>\n",
              "      <td>105.620000</td>\n",
              "      <td>105.235000</td>\n",
              "      <td>105.460000</td>\n",
              "      <td>3.000000</td>\n",
              "      <td>165.028878</td>\n",
              "      <td>105.440000</td>\n",
              "    </tr>\n",
              "    <tr>\n",
              "      <th>75%</th>\n",
              "      <td>1.360143e+09</td>\n",
              "      <td>120.900000</td>\n",
              "      <td>120.990000</td>\n",
              "      <td>120.760000</td>\n",
              "      <td>120.910000</td>\n",
              "      <td>11.102859</td>\n",
              "      <td>617.326104</td>\n",
              "      <td>120.900000</td>\n",
              "    </tr>\n",
              "    <tr>\n",
              "      <th>max</th>\n",
              "      <td>1.371751e+09</td>\n",
              "      <td>259.340000</td>\n",
              "      <td>259.340000</td>\n",
              "      <td>259.340000</td>\n",
              "      <td>259.340000</td>\n",
              "      <td>2958.477574</td>\n",
              "      <td>184018.351190</td>\n",
              "      <td>259.340000</td>\n",
              "    </tr>\n",
              "  </tbody>\n",
              "</table>\n",
              "</div>"
            ],
            "text/plain": [
              "          Timestamp           Open  ...  Volume_(Currency)  Weighted_Price\n",
              "count  7.738830e+05  140198.000000  ...      140197.000000   140197.000000\n",
              "mean   1.348534e+09      85.364586  ...         902.826988       85.349415\n",
              "std    1.340406e+07      51.117473  ...        2677.530713       51.106433\n",
              "min    1.325318e+09       3.800000  ...           0.000000        3.800000\n",
              "25%    1.336926e+09      27.500000  ...          65.068961       27.500000\n",
              "50%    1.348534e+09     105.480000  ...         165.028878      105.440000\n",
              "75%    1.360143e+09     120.900000  ...         617.326104      120.900000\n",
              "max    1.371751e+09     259.340000  ...      184018.351190      259.340000\n",
              "\n",
              "[8 rows x 8 columns]"
            ]
          },
          "metadata": {},
          "execution_count": 9
        }
      ]
    },
    {
      "cell_type": "code",
      "metadata": {
        "colab": {
          "base_uri": "https://localhost:8080/"
        },
        "id": "8CWoHkEdgljF",
        "outputId": "30d928ac-ad8a-45c4-833d-ed2bc38322a1"
      },
      "source": [
        "#dados faltantes, todas as features com 1243608 dados faltantes.\n",
        "df.isnull().sum()"
      ],
      "execution_count": 10,
      "outputs": [
        {
          "output_type": "execute_result",
          "data": {
            "text/plain": [
              "Timestamp                 0\n",
              "Open                 633685\n",
              "High                 633685\n",
              "Low                  633685\n",
              "Close                633686\n",
              "Volume_(BTC)         633686\n",
              "Volume_(Currency)    633686\n",
              "Weighted_Price       633686\n",
              "dtype: int64"
            ]
          },
          "metadata": {},
          "execution_count": 10
        }
      ]
    },
    {
      "cell_type": "code",
      "metadata": {
        "id": "esXYuj8608nw"
      },
      "source": [
        "#mudando a feature timestamp para formato dd/mm/aa\n",
        "df[\"Timestamp\"]=pd.to_datetime(df[\"Timestamp\"],unit='s').dt.date\n",
        "\n"
      ],
      "execution_count": 11,
      "outputs": []
    },
    {
      "cell_type": "code",
      "metadata": {
        "colab": {
          "base_uri": "https://localhost:8080/"
        },
        "id": "VApGNovg7q6J",
        "outputId": "bf09c271-02f7-4e48-83c3-a0dc9cefd1f5"
      },
      "source": [
        "df[\"Timestamp\"].describe"
      ],
      "execution_count": 12,
      "outputs": [
        {
          "output_type": "execute_result",
          "data": {
            "text/plain": [
              "<bound method NDFrame.describe of 0         2011-12-31\n",
              "1         2011-12-31\n",
              "2         2011-12-31\n",
              "3         2011-12-31\n",
              "4         2011-12-31\n",
              "             ...    \n",
              "773878    2013-06-20\n",
              "773879    2013-06-20\n",
              "773880    2013-06-20\n",
              "773881    2013-06-20\n",
              "773882    2013-06-20\n",
              "Name: Timestamp, Length: 773883, dtype: object>"
            ]
          },
          "metadata": {},
          "execution_count": 12
        }
      ]
    },
    {
      "cell_type": "code",
      "metadata": {
        "colab": {
          "base_uri": "https://localhost:8080/",
          "height": 419
        },
        "id": "T4uEX59r7biL",
        "outputId": "18b23b60-a28b-4903-ace0-ea9f86824060"
      },
      "source": [
        "df"
      ],
      "execution_count": 13,
      "outputs": [
        {
          "output_type": "execute_result",
          "data": {
            "text/html": [
              "<div>\n",
              "<style scoped>\n",
              "    .dataframe tbody tr th:only-of-type {\n",
              "        vertical-align: middle;\n",
              "    }\n",
              "\n",
              "    .dataframe tbody tr th {\n",
              "        vertical-align: top;\n",
              "    }\n",
              "\n",
              "    .dataframe thead th {\n",
              "        text-align: right;\n",
              "    }\n",
              "</style>\n",
              "<table border=\"1\" class=\"dataframe\">\n",
              "  <thead>\n",
              "    <tr style=\"text-align: right;\">\n",
              "      <th></th>\n",
              "      <th>Timestamp</th>\n",
              "      <th>Open</th>\n",
              "      <th>High</th>\n",
              "      <th>Low</th>\n",
              "      <th>Close</th>\n",
              "      <th>Volume_(BTC)</th>\n",
              "      <th>Volume_(Currency)</th>\n",
              "      <th>Weighted_Price</th>\n",
              "    </tr>\n",
              "  </thead>\n",
              "  <tbody>\n",
              "    <tr>\n",
              "      <th>0</th>\n",
              "      <td>2011-12-31</td>\n",
              "      <td>4.39</td>\n",
              "      <td>4.39</td>\n",
              "      <td>4.39</td>\n",
              "      <td>4.39</td>\n",
              "      <td>0.455581</td>\n",
              "      <td>2.000000</td>\n",
              "      <td>4.390000</td>\n",
              "    </tr>\n",
              "    <tr>\n",
              "      <th>1</th>\n",
              "      <td>2011-12-31</td>\n",
              "      <td>NaN</td>\n",
              "      <td>NaN</td>\n",
              "      <td>NaN</td>\n",
              "      <td>NaN</td>\n",
              "      <td>NaN</td>\n",
              "      <td>NaN</td>\n",
              "      <td>NaN</td>\n",
              "    </tr>\n",
              "    <tr>\n",
              "      <th>2</th>\n",
              "      <td>2011-12-31</td>\n",
              "      <td>NaN</td>\n",
              "      <td>NaN</td>\n",
              "      <td>NaN</td>\n",
              "      <td>NaN</td>\n",
              "      <td>NaN</td>\n",
              "      <td>NaN</td>\n",
              "      <td>NaN</td>\n",
              "    </tr>\n",
              "    <tr>\n",
              "      <th>3</th>\n",
              "      <td>2011-12-31</td>\n",
              "      <td>NaN</td>\n",
              "      <td>NaN</td>\n",
              "      <td>NaN</td>\n",
              "      <td>NaN</td>\n",
              "      <td>NaN</td>\n",
              "      <td>NaN</td>\n",
              "      <td>NaN</td>\n",
              "    </tr>\n",
              "    <tr>\n",
              "      <th>4</th>\n",
              "      <td>2011-12-31</td>\n",
              "      <td>NaN</td>\n",
              "      <td>NaN</td>\n",
              "      <td>NaN</td>\n",
              "      <td>NaN</td>\n",
              "      <td>NaN</td>\n",
              "      <td>NaN</td>\n",
              "      <td>NaN</td>\n",
              "    </tr>\n",
              "    <tr>\n",
              "      <th>...</th>\n",
              "      <td>...</td>\n",
              "      <td>...</td>\n",
              "      <td>...</td>\n",
              "      <td>...</td>\n",
              "      <td>...</td>\n",
              "      <td>...</td>\n",
              "      <td>...</td>\n",
              "      <td>...</td>\n",
              "    </tr>\n",
              "    <tr>\n",
              "      <th>773878</th>\n",
              "      <td>2013-06-20</td>\n",
              "      <td>NaN</td>\n",
              "      <td>NaN</td>\n",
              "      <td>NaN</td>\n",
              "      <td>NaN</td>\n",
              "      <td>NaN</td>\n",
              "      <td>NaN</td>\n",
              "      <td>NaN</td>\n",
              "    </tr>\n",
              "    <tr>\n",
              "      <th>773879</th>\n",
              "      <td>2013-06-20</td>\n",
              "      <td>106.50</td>\n",
              "      <td>107.00</td>\n",
              "      <td>106.50</td>\n",
              "      <td>107.00</td>\n",
              "      <td>8.275224</td>\n",
              "      <td>883.886126</td>\n",
              "      <td>106.811136</td>\n",
              "    </tr>\n",
              "    <tr>\n",
              "      <th>773880</th>\n",
              "      <td>2013-06-20</td>\n",
              "      <td>107.00</td>\n",
              "      <td>107.00</td>\n",
              "      <td>107.00</td>\n",
              "      <td>107.00</td>\n",
              "      <td>2.556180</td>\n",
              "      <td>273.511260</td>\n",
              "      <td>107.000000</td>\n",
              "    </tr>\n",
              "    <tr>\n",
              "      <th>773881</th>\n",
              "      <td>2013-06-20</td>\n",
              "      <td>107.02</td>\n",
              "      <td>107.50</td>\n",
              "      <td>107.02</td>\n",
              "      <td>107.50</td>\n",
              "      <td>10.920048</td>\n",
              "      <td>1170.948590</td>\n",
              "      <td>107.229251</td>\n",
              "    </tr>\n",
              "    <tr>\n",
              "      <th>773882</th>\n",
              "      <td>2013-06-20</td>\n",
              "      <td>107.50</td>\n",
              "      <td>107.50</td>\n",
              "      <td>1.00</td>\n",
              "      <td>NaN</td>\n",
              "      <td>NaN</td>\n",
              "      <td>NaN</td>\n",
              "      <td>NaN</td>\n",
              "    </tr>\n",
              "  </tbody>\n",
              "</table>\n",
              "<p>773883 rows × 8 columns</p>\n",
              "</div>"
            ],
            "text/plain": [
              "         Timestamp    Open  ...  Volume_(Currency)  Weighted_Price\n",
              "0       2011-12-31    4.39  ...           2.000000        4.390000\n",
              "1       2011-12-31     NaN  ...                NaN             NaN\n",
              "2       2011-12-31     NaN  ...                NaN             NaN\n",
              "3       2011-12-31     NaN  ...                NaN             NaN\n",
              "4       2011-12-31     NaN  ...                NaN             NaN\n",
              "...            ...     ...  ...                ...             ...\n",
              "773878  2013-06-20     NaN  ...                NaN             NaN\n",
              "773879  2013-06-20  106.50  ...         883.886126      106.811136\n",
              "773880  2013-06-20  107.00  ...         273.511260      107.000000\n",
              "773881  2013-06-20  107.02  ...        1170.948590      107.229251\n",
              "773882  2013-06-20  107.50  ...                NaN             NaN\n",
              "\n",
              "[773883 rows x 8 columns]"
            ]
          },
          "metadata": {},
          "execution_count": 13
        }
      ]
    },
    {
      "cell_type": "code",
      "metadata": {
        "colab": {
          "base_uri": "https://localhost:8080/",
          "height": 266
        },
        "id": "fIDwzC09Xx_U",
        "outputId": "6a09cff7-be35-4018-9bc9-469990639728"
      },
      "source": [
        "#correlação entre as features\n",
        "corr=df.corr()\n",
        "corr"
      ],
      "execution_count": 14,
      "outputs": [
        {
          "output_type": "execute_result",
          "data": {
            "text/html": [
              "<div>\n",
              "<style scoped>\n",
              "    .dataframe tbody tr th:only-of-type {\n",
              "        vertical-align: middle;\n",
              "    }\n",
              "\n",
              "    .dataframe tbody tr th {\n",
              "        vertical-align: top;\n",
              "    }\n",
              "\n",
              "    .dataframe thead th {\n",
              "        text-align: right;\n",
              "    }\n",
              "</style>\n",
              "<table border=\"1\" class=\"dataframe\">\n",
              "  <thead>\n",
              "    <tr style=\"text-align: right;\">\n",
              "      <th></th>\n",
              "      <th>Open</th>\n",
              "      <th>High</th>\n",
              "      <th>Low</th>\n",
              "      <th>Close</th>\n",
              "      <th>Volume_(BTC)</th>\n",
              "      <th>Volume_(Currency)</th>\n",
              "      <th>Weighted_Price</th>\n",
              "    </tr>\n",
              "  </thead>\n",
              "  <tbody>\n",
              "    <tr>\n",
              "      <th>Open</th>\n",
              "      <td>1.000000</td>\n",
              "      <td>0.999952</td>\n",
              "      <td>0.999905</td>\n",
              "      <td>0.999933</td>\n",
              "      <td>-0.130891</td>\n",
              "      <td>0.147870</td>\n",
              "      <td>0.999971</td>\n",
              "    </tr>\n",
              "    <tr>\n",
              "      <th>High</th>\n",
              "      <td>0.999952</td>\n",
              "      <td>1.000000</td>\n",
              "      <td>0.999854</td>\n",
              "      <td>0.999942</td>\n",
              "      <td>-0.129703</td>\n",
              "      <td>0.149812</td>\n",
              "      <td>0.999960</td>\n",
              "    </tr>\n",
              "    <tr>\n",
              "      <th>Low</th>\n",
              "      <td>0.999905</td>\n",
              "      <td>0.999854</td>\n",
              "      <td>1.000000</td>\n",
              "      <td>0.999937</td>\n",
              "      <td>-0.132423</td>\n",
              "      <td>0.145472</td>\n",
              "      <td>0.999945</td>\n",
              "    </tr>\n",
              "    <tr>\n",
              "      <th>Close</th>\n",
              "      <td>0.999933</td>\n",
              "      <td>0.999942</td>\n",
              "      <td>0.999937</td>\n",
              "      <td>1.000000</td>\n",
              "      <td>-0.131138</td>\n",
              "      <td>0.147511</td>\n",
              "      <td>0.999969</td>\n",
              "    </tr>\n",
              "    <tr>\n",
              "      <th>Volume_(BTC)</th>\n",
              "      <td>-0.130891</td>\n",
              "      <td>-0.129703</td>\n",
              "      <td>-0.132423</td>\n",
              "      <td>-0.131138</td>\n",
              "      <td>1.000000</td>\n",
              "      <td>0.685708</td>\n",
              "      <td>-0.131176</td>\n",
              "    </tr>\n",
              "    <tr>\n",
              "      <th>Volume_(Currency)</th>\n",
              "      <td>0.147870</td>\n",
              "      <td>0.149812</td>\n",
              "      <td>0.145472</td>\n",
              "      <td>0.147511</td>\n",
              "      <td>0.685708</td>\n",
              "      <td>1.000000</td>\n",
              "      <td>0.147476</td>\n",
              "    </tr>\n",
              "    <tr>\n",
              "      <th>Weighted_Price</th>\n",
              "      <td>0.999971</td>\n",
              "      <td>0.999960</td>\n",
              "      <td>0.999945</td>\n",
              "      <td>0.999969</td>\n",
              "      <td>-0.131176</td>\n",
              "      <td>0.147476</td>\n",
              "      <td>1.000000</td>\n",
              "    </tr>\n",
              "  </tbody>\n",
              "</table>\n",
              "</div>"
            ],
            "text/plain": [
              "                       Open      High  ...  Volume_(Currency)  Weighted_Price\n",
              "Open               1.000000  0.999952  ...           0.147870        0.999971\n",
              "High               0.999952  1.000000  ...           0.149812        0.999960\n",
              "Low                0.999905  0.999854  ...           0.145472        0.999945\n",
              "Close              0.999933  0.999942  ...           0.147511        0.999969\n",
              "Volume_(BTC)      -0.130891 -0.129703  ...           0.685708       -0.131176\n",
              "Volume_(Currency)  0.147870  0.149812  ...           1.000000        0.147476\n",
              "Weighted_Price     0.999971  0.999960  ...           0.147476        1.000000\n",
              "\n",
              "[7 rows x 7 columns]"
            ]
          },
          "metadata": {},
          "execution_count": 14
        }
      ]
    },
    {
      "cell_type": "code",
      "metadata": {
        "colab": {
          "base_uri": "https://localhost:8080/",
          "height": 630
        },
        "id": "u2d4SVbRZsQA",
        "outputId": "bf6bbe34-c661-4e33-a55a-3f5175f78484"
      },
      "source": [
        "plt.figure(figsize=(15,10))\n",
        "corr\n",
        "sns.heatmap(data=corr, annot=True, linewidths=0.5, fmt=\".2f\",cmap=\"rocket\")\n",
        "plt.xticks(rotation=0)"
      ],
      "execution_count": 15,
      "outputs": [
        {
          "output_type": "execute_result",
          "data": {
            "text/plain": [
              "(array([0.5, 1.5, 2.5, 3.5, 4.5, 5.5, 6.5]),\n",
              " <a list of 7 Text major ticklabel objects>)"
            ]
          },
          "metadata": {},
          "execution_count": 15
        },
        {
          "output_type": "display_data",
          "data": {
            "image/png": "[encoded data removed]",
            "text/plain": [
              "<Figure size 1080x720 with 2 Axes>"
            ]
          },
          "metadata": {
            "needs_background": "light"
          }
        }
      ]
    },
    {
      "cell_type": "markdown",
      "metadata": {
        "id": "tYrCXtvsekDa"
      },
      "source": [
        "#Correlação entre as features.\n",
        "\n",
        "1 - Timestamp tem grande correlação com as features Close, Low, High e open. Baixa correlação com BTC e Currency. \n",
        "\n",
        "2 - Open, high, low e close têm entre si grande correlação. (esperado).\n",
        "\n",
        "3 - BTC e  CURRENCY têm moderada correlação entre si, baixa com as demais features. \n",
        "\n",
        "4 - WEIGHTED PRICE tem alta correlação com as features timestamp, open, high, low e close. E baixa com as fetures BTC E CURRENCY. \n",
        "\n",
        "\n",
        "\n"
      ]
    },
    {
      "cell_type": "markdown",
      "metadata": {
        "id": "UdveCLgF5xwa"
      },
      "source": [
        "##Dicionário de dados\n",
        "\n",
        "1 - Timestamp - Hora de início da janela. Janelas de 60s em unidade de time unix. Tipo - int.\n",
        "\n",
        "2 - Open - Valor de abertura no início da janela. Tipo de dado - float.\n",
        "\n",
        "3 - High - Valor mais alto durante a janela. Tipo de dado - float.\n",
        "\n",
        "4 - Low - Valor mais baixo durante a janela. Tipo de dado - float. \n",
        "\n",
        "5 - Close - Valor no fechamento da janela. Tipo de dado - float. \n",
        "\n",
        "6 - Volume BTC - Volume de bitcoin transacionado na respectiva janela. Tipo de dado - float.\n",
        "\n",
        "7 - Volume currency - Volume total de cryptomoedas transacionadas na respectiva janela. Tipo de dado - float.\n",
        "\n",
        "8 - Weighted Price - VWAP - Preço médio ponderado por volume. É obtido da razão entre o somatório do produto do número de bitcoin comprado pelo preço, e o total de bitcoin comprado. Tipo de dado - float.  "
      ]
    },
    {
      "cell_type": "markdown",
      "metadata": {
        "id": "K5E3ET05xpeB"
      },
      "source": [
        "#Dados faltantes e duplicatas.\n",
        "\n",
        "A abordagem adotada com relação aos NaN presentes no conjunto de dados foi de, a princípio, não leva-los em consideração deste ponto em diante. Devido ao fato de serem apenas dados faltantes que não deverão influenciar no presente projeto.\n"
      ]
    },
    {
      "cell_type": "code",
      "metadata": {
        "id": "nt1Q6MXbxgVD"
      },
      "source": [
        "#Cópia do df para exclusão dos faltantes.\n",
        "df_sem_faltantes= df.copy()"
      ],
      "execution_count": 16,
      "outputs": []
    },
    {
      "cell_type": "code",
      "metadata": {
        "colab": {
          "base_uri": "https://localhost:8080/",
          "height": 204
        },
        "id": "zwWWu6cs5hMj",
        "outputId": "4eba4530-0270-492a-9832-c42a6581e363"
      },
      "source": [
        "df_sem_faltantes.head()"
      ],
      "execution_count": 17,
      "outputs": [
        {
          "output_type": "execute_result",
          "data": {
            "text/html": [
              "<div>\n",
              "<style scoped>\n",
              "    .dataframe tbody tr th:only-of-type {\n",
              "        vertical-align: middle;\n",
              "    }\n",
              "\n",
              "    .dataframe tbody tr th {\n",
              "        vertical-align: top;\n",
              "    }\n",
              "\n",
              "    .dataframe thead th {\n",
              "        text-align: right;\n",
              "    }\n",
              "</style>\n",
              "<table border=\"1\" class=\"dataframe\">\n",
              "  <thead>\n",
              "    <tr style=\"text-align: right;\">\n",
              "      <th></th>\n",
              "      <th>Timestamp</th>\n",
              "      <th>Open</th>\n",
              "      <th>High</th>\n",
              "      <th>Low</th>\n",
              "      <th>Close</th>\n",
              "      <th>Volume_(BTC)</th>\n",
              "      <th>Volume_(Currency)</th>\n",
              "      <th>Weighted_Price</th>\n",
              "    </tr>\n",
              "  </thead>\n",
              "  <tbody>\n",
              "    <tr>\n",
              "      <th>0</th>\n",
              "      <td>2011-12-31</td>\n",
              "      <td>4.39</td>\n",
              "      <td>4.39</td>\n",
              "      <td>4.39</td>\n",
              "      <td>4.39</td>\n",
              "      <td>0.455581</td>\n",
              "      <td>2.0</td>\n",
              "      <td>4.39</td>\n",
              "    </tr>\n",
              "    <tr>\n",
              "      <th>1</th>\n",
              "      <td>2011-12-31</td>\n",
              "      <td>NaN</td>\n",
              "      <td>NaN</td>\n",
              "      <td>NaN</td>\n",
              "      <td>NaN</td>\n",
              "      <td>NaN</td>\n",
              "      <td>NaN</td>\n",
              "      <td>NaN</td>\n",
              "    </tr>\n",
              "    <tr>\n",
              "      <th>2</th>\n",
              "      <td>2011-12-31</td>\n",
              "      <td>NaN</td>\n",
              "      <td>NaN</td>\n",
              "      <td>NaN</td>\n",
              "      <td>NaN</td>\n",
              "      <td>NaN</td>\n",
              "      <td>NaN</td>\n",
              "      <td>NaN</td>\n",
              "    </tr>\n",
              "    <tr>\n",
              "      <th>3</th>\n",
              "      <td>2011-12-31</td>\n",
              "      <td>NaN</td>\n",
              "      <td>NaN</td>\n",
              "      <td>NaN</td>\n",
              "      <td>NaN</td>\n",
              "      <td>NaN</td>\n",
              "      <td>NaN</td>\n",
              "      <td>NaN</td>\n",
              "    </tr>\n",
              "    <tr>\n",
              "      <th>4</th>\n",
              "      <td>2011-12-31</td>\n",
              "      <td>NaN</td>\n",
              "      <td>NaN</td>\n",
              "      <td>NaN</td>\n",
              "      <td>NaN</td>\n",
              "      <td>NaN</td>\n",
              "      <td>NaN</td>\n",
              "      <td>NaN</td>\n",
              "    </tr>\n",
              "  </tbody>\n",
              "</table>\n",
              "</div>"
            ],
            "text/plain": [
              "    Timestamp  Open  High  ...  Volume_(BTC)  Volume_(Currency)  Weighted_Price\n",
              "0  2011-12-31  4.39  4.39  ...      0.455581                2.0            4.39\n",
              "1  2011-12-31   NaN   NaN  ...           NaN                NaN             NaN\n",
              "2  2011-12-31   NaN   NaN  ...           NaN                NaN             NaN\n",
              "3  2011-12-31   NaN   NaN  ...           NaN                NaN             NaN\n",
              "4  2011-12-31   NaN   NaN  ...           NaN                NaN             NaN\n",
              "\n",
              "[5 rows x 8 columns]"
            ]
          },
          "metadata": {},
          "execution_count": 17
        }
      ]
    },
    {
      "cell_type": "code",
      "metadata": {
        "id": "Nc24Txfg5qjL"
      },
      "source": [
        "#Excluindo os dados faltantes (NaN)\n",
        "df_sem_faltantes.dropna(inplace=True)"
      ],
      "execution_count": 18,
      "outputs": []
    },
    {
      "cell_type": "code",
      "metadata": {
        "colab": {
          "base_uri": "https://localhost:8080/"
        },
        "id": "q3EpEl8H8n9Z",
        "outputId": "2b61758a-4365-4d32-a09b-20ed219de685"
      },
      "source": [
        "#Nova forma (tamanho) do dataframe\n",
        "df_sem_faltantes.shape"
      ],
      "execution_count": 19,
      "outputs": [
        {
          "output_type": "execute_result",
          "data": {
            "text/plain": [
              "(140197, 8)"
            ]
          },
          "metadata": {},
          "execution_count": 19
        }
      ]
    },
    {
      "cell_type": "code",
      "metadata": {
        "colab": {
          "base_uri": "https://localhost:8080/"
        },
        "id": "u16uEY818ghg",
        "outputId": "90f52de2-adeb-4c65-f8ef-9370e04d92a7"
      },
      "source": [
        "df_sem_faltantes.size"
      ],
      "execution_count": 20,
      "outputs": [
        {
          "output_type": "execute_result",
          "data": {
            "text/plain": [
              "1121576"
            ]
          },
          "metadata": {},
          "execution_count": 20
        }
      ]
    },
    {
      "cell_type": "code",
      "metadata": {
        "colab": {
          "base_uri": "https://localhost:8080/",
          "height": 204
        },
        "id": "jREy9zTV7sUk",
        "outputId": "5eede4d6-665d-4a71-99c6-e515a2925d6b"
      },
      "source": [
        "#Verificando\n",
        "df_sem_faltantes.head()"
      ],
      "execution_count": 21,
      "outputs": [
        {
          "output_type": "execute_result",
          "data": {
            "text/html": [
              "<div>\n",
              "<style scoped>\n",
              "    .dataframe tbody tr th:only-of-type {\n",
              "        vertical-align: middle;\n",
              "    }\n",
              "\n",
              "    .dataframe tbody tr th {\n",
              "        vertical-align: top;\n",
              "    }\n",
              "\n",
              "    .dataframe thead th {\n",
              "        text-align: right;\n",
              "    }\n",
              "</style>\n",
              "<table border=\"1\" class=\"dataframe\">\n",
              "  <thead>\n",
              "    <tr style=\"text-align: right;\">\n",
              "      <th></th>\n",
              "      <th>Timestamp</th>\n",
              "      <th>Open</th>\n",
              "      <th>High</th>\n",
              "      <th>Low</th>\n",
              "      <th>Close</th>\n",
              "      <th>Volume_(BTC)</th>\n",
              "      <th>Volume_(Currency)</th>\n",
              "      <th>Weighted_Price</th>\n",
              "    </tr>\n",
              "  </thead>\n",
              "  <tbody>\n",
              "    <tr>\n",
              "      <th>0</th>\n",
              "      <td>2011-12-31</td>\n",
              "      <td>4.39</td>\n",
              "      <td>4.39</td>\n",
              "      <td>4.39</td>\n",
              "      <td>4.39</td>\n",
              "      <td>0.455581</td>\n",
              "      <td>2.000000</td>\n",
              "      <td>4.390000</td>\n",
              "    </tr>\n",
              "    <tr>\n",
              "      <th>478</th>\n",
              "      <td>2011-12-31</td>\n",
              "      <td>4.39</td>\n",
              "      <td>4.39</td>\n",
              "      <td>4.39</td>\n",
              "      <td>4.39</td>\n",
              "      <td>48.000000</td>\n",
              "      <td>210.720000</td>\n",
              "      <td>4.390000</td>\n",
              "    </tr>\n",
              "    <tr>\n",
              "      <th>547</th>\n",
              "      <td>2011-12-31</td>\n",
              "      <td>4.50</td>\n",
              "      <td>4.57</td>\n",
              "      <td>4.50</td>\n",
              "      <td>4.57</td>\n",
              "      <td>37.862297</td>\n",
              "      <td>171.380338</td>\n",
              "      <td>4.526411</td>\n",
              "    </tr>\n",
              "    <tr>\n",
              "      <th>548</th>\n",
              "      <td>2011-12-31</td>\n",
              "      <td>4.58</td>\n",
              "      <td>4.58</td>\n",
              "      <td>4.58</td>\n",
              "      <td>4.58</td>\n",
              "      <td>9.000000</td>\n",
              "      <td>41.220000</td>\n",
              "      <td>4.580000</td>\n",
              "    </tr>\n",
              "    <tr>\n",
              "      <th>1224</th>\n",
              "      <td>2012-01-01</td>\n",
              "      <td>4.58</td>\n",
              "      <td>4.58</td>\n",
              "      <td>4.58</td>\n",
              "      <td>4.58</td>\n",
              "      <td>1.502000</td>\n",
              "      <td>6.879160</td>\n",
              "      <td>4.580000</td>\n",
              "    </tr>\n",
              "  </tbody>\n",
              "</table>\n",
              "</div>"
            ],
            "text/plain": [
              "       Timestamp  Open  High  ...  Volume_(BTC)  Volume_(Currency)  Weighted_Price\n",
              "0     2011-12-31  4.39  4.39  ...      0.455581           2.000000        4.390000\n",
              "478   2011-12-31  4.39  4.39  ...     48.000000         210.720000        4.390000\n",
              "547   2011-12-31  4.50  4.57  ...     37.862297         171.380338        4.526411\n",
              "548   2011-12-31  4.58  4.58  ...      9.000000          41.220000        4.580000\n",
              "1224  2012-01-01  4.58  4.58  ...      1.502000           6.879160        4.580000\n",
              "\n",
              "[5 rows x 8 columns]"
            ]
          },
          "metadata": {},
          "execution_count": 21
        }
      ]
    },
    {
      "cell_type": "code",
      "metadata": {
        "colab": {
          "base_uri": "https://localhost:8080/",
          "height": 204
        },
        "id": "tc3yHD2R5KLY",
        "outputId": "50757dfd-e40d-48cd-a313-4dbc874b537a"
      },
      "source": [
        "df_sem_faltantes.tail()"
      ],
      "execution_count": 37,
      "outputs": [
        {
          "output_type": "execute_result",
          "data": {
            "text/html": [
              "<div>\n",
              "<style scoped>\n",
              "    .dataframe tbody tr th:only-of-type {\n",
              "        vertical-align: middle;\n",
              "    }\n",
              "\n",
              "    .dataframe tbody tr th {\n",
              "        vertical-align: top;\n",
              "    }\n",
              "\n",
              "    .dataframe thead th {\n",
              "        text-align: right;\n",
              "    }\n",
              "</style>\n",
              "<table border=\"1\" class=\"dataframe\">\n",
              "  <thead>\n",
              "    <tr style=\"text-align: right;\">\n",
              "      <th></th>\n",
              "      <th>Timestamp</th>\n",
              "      <th>Open</th>\n",
              "      <th>High</th>\n",
              "      <th>Low</th>\n",
              "      <th>Close</th>\n",
              "      <th>Volume_(BTC)</th>\n",
              "      <th>Volume_(Currency)</th>\n",
              "      <th>Weighted_Price</th>\n",
              "    </tr>\n",
              "  </thead>\n",
              "  <tbody>\n",
              "    <tr>\n",
              "      <th>773876</th>\n",
              "      <td>2013-06-20</td>\n",
              "      <td>106.50</td>\n",
              "      <td>106.5</td>\n",
              "      <td>106.50</td>\n",
              "      <td>106.5</td>\n",
              "      <td>3.000000</td>\n",
              "      <td>319.500000</td>\n",
              "      <td>106.500000</td>\n",
              "    </tr>\n",
              "    <tr>\n",
              "      <th>773877</th>\n",
              "      <td>2013-06-20</td>\n",
              "      <td>106.50</td>\n",
              "      <td>106.5</td>\n",
              "      <td>106.50</td>\n",
              "      <td>106.5</td>\n",
              "      <td>8.500000</td>\n",
              "      <td>905.250000</td>\n",
              "      <td>106.500000</td>\n",
              "    </tr>\n",
              "    <tr>\n",
              "      <th>773879</th>\n",
              "      <td>2013-06-20</td>\n",
              "      <td>106.50</td>\n",
              "      <td>107.0</td>\n",
              "      <td>106.50</td>\n",
              "      <td>107.0</td>\n",
              "      <td>8.275224</td>\n",
              "      <td>883.886126</td>\n",
              "      <td>106.811136</td>\n",
              "    </tr>\n",
              "    <tr>\n",
              "      <th>773880</th>\n",
              "      <td>2013-06-20</td>\n",
              "      <td>107.00</td>\n",
              "      <td>107.0</td>\n",
              "      <td>107.00</td>\n",
              "      <td>107.0</td>\n",
              "      <td>2.556180</td>\n",
              "      <td>273.511260</td>\n",
              "      <td>107.000000</td>\n",
              "    </tr>\n",
              "    <tr>\n",
              "      <th>773881</th>\n",
              "      <td>2013-06-20</td>\n",
              "      <td>107.02</td>\n",
              "      <td>107.5</td>\n",
              "      <td>107.02</td>\n",
              "      <td>107.5</td>\n",
              "      <td>10.920048</td>\n",
              "      <td>1170.948590</td>\n",
              "      <td>107.229251</td>\n",
              "    </tr>\n",
              "  </tbody>\n",
              "</table>\n",
              "</div>"
            ],
            "text/plain": [
              "         Timestamp    Open  ...  Volume_(Currency)  Weighted_Price\n",
              "773876  2013-06-20  106.50  ...         319.500000      106.500000\n",
              "773877  2013-06-20  106.50  ...         905.250000      106.500000\n",
              "773879  2013-06-20  106.50  ...         883.886126      106.811136\n",
              "773880  2013-06-20  107.00  ...         273.511260      107.000000\n",
              "773881  2013-06-20  107.02  ...        1170.948590      107.229251\n",
              "\n",
              "[5 rows x 8 columns]"
            ]
          },
          "metadata": {},
          "execution_count": 37
        }
      ]
    },
    {
      "cell_type": "code",
      "metadata": {
        "colab": {
          "base_uri": "https://localhost:8080/"
        },
        "id": "wfNs0xJh7zoQ",
        "outputId": "8067856b-67d6-4884-fb01-797baaa18f9d"
      },
      "source": [
        "#Verificando em todo o dataframe.\n",
        "df_sem_faltantes.isnull().sum()"
      ],
      "execution_count": 22,
      "outputs": [
        {
          "output_type": "execute_result",
          "data": {
            "text/plain": [
              "Timestamp            0\n",
              "Open                 0\n",
              "High                 0\n",
              "Low                  0\n",
              "Close                0\n",
              "Volume_(BTC)         0\n",
              "Volume_(Currency)    0\n",
              "Weighted_Price       0\n",
              "dtype: int64"
            ]
          },
          "metadata": {},
          "execution_count": 22
        }
      ]
    },
    {
      "cell_type": "code",
      "metadata": {
        "colab": {
          "base_uri": "https://localhost:8080/"
        },
        "id": "rqmcvVNIsmnc",
        "outputId": "78e25a60-1e19-48cb-ddb7-7ec8d90774b7"
      },
      "source": [
        "#Verificando para dados duplicados\n",
        "df_sem_faltantes.duplicated().sum()"
      ],
      "execution_count": 23,
      "outputs": [
        {
          "output_type": "execute_result",
          "data": {
            "text/plain": [
              "12121"
            ]
          },
          "metadata": {},
          "execution_count": 23
        }
      ]
    },
    {
      "cell_type": "markdown",
      "metadata": {
        "id": "eCFHWsGcLc3w"
      },
      "source": [
        "#Outliers\n",
        "\n",
        "A estratégia adotada para a detecção de outliers foi a visualização em box plot de uma das features do dataframe (Open). \n",
        "\n",
        "Com máximo de 259.34 e mínimo de 3.8, esses valores se mostraram abaixo dos limites superior, 261, e inferior,-112,6 respectivamente, indicando assim a não ocorrência de outliers nesse conjunto de dados."
      ]
    },
    {
      "cell_type": "code",
      "metadata": {
        "colab": {
          "base_uri": "https://localhost:8080/",
          "height": 405
        },
        "id": "ADOhFpBP3VNB",
        "outputId": "9f98e51b-3864-48e7-b1e3-917fbbfb6a50"
      },
      "source": [
        "#Verificando a existência de outliers através de visulização em box plot\n",
        "plt.figure(figsize=[6,6])\n",
        "sns.boxplot(x=df_sem_faltantes[\"Open\"], data=df_sem_faltantes)\n",
        "\n"
      ],
      "execution_count": 46,
      "outputs": [
        {
          "output_type": "execute_result",
          "data": {
            "text/plain": [
              "<matplotlib.axes._subplots.AxesSubplot at 0x7f3099000550>"
            ]
          },
          "metadata": {},
          "execution_count": 46
        },
        {
          "output_type": "display_data",
          "data": {
            "image/png": "[encoded data removed]",
            "text/plain": [
              "<Figure size 432x432 with 1 Axes>"
            ]
          },
          "metadata": {
            "needs_background": "light"
          }
        }
      ]
    },
    {
      "cell_type": "code",
      "metadata": {
        "colab": {
          "base_uri": "https://localhost:8080/"
        },
        "id": "sJymnKzS59Jo",
        "outputId": "1b8e803e-afcf-4b14-aca8-e69c384bb1f0"
      },
      "source": [
        "#Calculando intervalo interquartil\n",
        "q1= df_sem_faltantes[\"Open\"].quantile(0.25)\n",
        "q3= df_sem_faltantes[\"Open\"].quantile(0.75)\n",
        "IQL= q3 - q1\n",
        "print(IQL)"
      ],
      "execution_count": 42,
      "outputs": [
        {
          "output_type": "stream",
          "name": "stdout",
          "text": [
            "93.4\n"
          ]
        }
      ]
    },
    {
      "cell_type": "code",
      "metadata": {
        "colab": {
          "base_uri": "https://localhost:8080/"
        },
        "id": "Hr6kZucT6mmL",
        "outputId": "26e9122f-4315-4aab-c0e8-c7809a6e4b70"
      },
      "source": [
        "#Estabelecendo os limites superior e inferior\n",
        "LS = q3+1.5*IQL\n",
        "LI = q1-1.5*IQL\n",
        "print(LS)\n",
        "print(LI)"
      ],
      "execution_count": 45,
      "outputs": [
        {
          "output_type": "stream",
          "name": "stdout",
          "text": [
            "261.0\n",
            "-112.60000000000002\n"
          ]
        }
      ]
    },
    {
      "cell_type": "code",
      "metadata": {
        "colab": {
          "base_uri": "https://localhost:8080/"
        },
        "id": "xo44GX2TK26P",
        "outputId": "c54bf5da-ceda-41fe-e418-f3b5f39a2253"
      },
      "source": [
        "#Verificando os pontos de máximo e mínimo das observações\n",
        "df_sem_faltantes[\"Open\"].describe()"
      ],
      "execution_count": 47,
      "outputs": [
        {
          "output_type": "execute_result",
          "data": {
            "text/plain": [
              "count    140197.000000\n",
              "mean         85.364428\n",
              "std          51.117621\n",
              "min           3.800000\n",
              "25%          27.500000\n",
              "50%         105.480000\n",
              "75%         120.900000\n",
              "max         259.340000\n",
              "Name: Open, dtype: float64"
            ]
          },
          "metadata": {},
          "execution_count": 47
        }
      ]
    },
    {
      "cell_type": "markdown",
      "metadata": {
        "id": "khMUpyga1iMG"
      },
      "source": [
        "#Análise das features\n",
        "\n",
        "Timestamp:\n",
        "  Hora de início da janela. Janelas de 60s em unidade de time unix."
      ]
    },
    {
      "cell_type": "code",
      "metadata": {
        "colab": {
          "base_uri": "https://localhost:8080/"
        },
        "id": "tK3ix7lC1qCe",
        "outputId": "a209082d-7790-414d-c098-b67048c399e7"
      },
      "source": [
        "df_sem_faltantes[\"Timestamp\"]"
      ],
      "execution_count": 25,
      "outputs": [
        {
          "output_type": "execute_result",
          "data": {
            "text/plain": [
              "0         2011-12-31\n",
              "478       2011-12-31\n",
              "547       2011-12-31\n",
              "548       2011-12-31\n",
              "1224      2012-01-01\n",
              "             ...    \n",
              "773876    2013-06-20\n",
              "773877    2013-06-20\n",
              "773879    2013-06-20\n",
              "773880    2013-06-20\n",
              "773881    2013-06-20\n",
              "Name: Timestamp, Length: 140197, dtype: object"
            ]
          },
          "metadata": {},
          "execution_count": 25
        }
      ]
    },
    {
      "cell_type": "code",
      "metadata": {
        "colab": {
          "base_uri": "https://localhost:8080/"
        },
        "id": "8tIxR7l11vbG",
        "outputId": "bb761ccd-cbc1-461a-d793-66a0222aeeda"
      },
      "source": [
        "#Verificando o tipo\n",
        "df_sem_faltantes[\"Timestamp\"].dtypes"
      ],
      "execution_count": 26,
      "outputs": [
        {
          "output_type": "execute_result",
          "data": {
            "text/plain": [
              "dtype('O')"
            ]
          },
          "metadata": {},
          "execution_count": 26
        }
      ]
    },
    {
      "cell_type": "code",
      "metadata": {
        "colab": {
          "base_uri": "https://localhost:8080/"
        },
        "id": "PT1WYLGE13eR",
        "outputId": "3178fb41-ef0a-4a80-80b4-56ca19a40405"
      },
      "source": [
        "#Verificando dados faltantes\n",
        "df_sem_faltantes[\"Timestamp\"].isnull().sum()"
      ],
      "execution_count": 27,
      "outputs": [
        {
          "output_type": "execute_result",
          "data": {
            "text/plain": [
              "0"
            ]
          },
          "metadata": {},
          "execution_count": 27
        }
      ]
    },
    {
      "cell_type": "code",
      "metadata": {
        "id": "4XpwMRNM3cAq",
        "colab": {
          "base_uri": "https://localhost:8080/"
        },
        "outputId": "90142cfc-739f-422b-9740-7fcde0b06be1"
      },
      "source": [
        "#Informações estátisticas sobre a feature\n",
        "df_sem_faltantes[\"Timestamp\"].describe()"
      ],
      "execution_count": 28,
      "outputs": [
        {
          "output_type": "execute_result",
          "data": {
            "text/plain": [
              "count         140197\n",
              "unique           538\n",
              "top       2013-06-01\n",
              "freq            1404\n",
              "Name: Timestamp, dtype: object"
            ]
          },
          "metadata": {},
          "execution_count": 28
        }
      ]
    },
    {
      "cell_type": "markdown",
      "metadata": {
        "id": "NXLLk2jik9lY"
      },
      "source": [
        "#Open\n",
        "\n",
        "Valor de abertura da janela. \n"
      ]
    },
    {
      "cell_type": "code",
      "metadata": {
        "colab": {
          "base_uri": "https://localhost:8080/"
        },
        "id": "tKNWaIdjndDU",
        "outputId": "a77a1f91-2845-469c-ddfd-934bc198a33e"
      },
      "source": [
        "df_sem_faltantes[\"Open\"]"
      ],
      "execution_count": 29,
      "outputs": [
        {
          "output_type": "execute_result",
          "data": {
            "text/plain": [
              "0           4.39\n",
              "478         4.39\n",
              "547         4.50\n",
              "548         4.58\n",
              "1224        4.58\n",
              "           ...  \n",
              "773876    106.50\n",
              "773877    106.50\n",
              "773879    106.50\n",
              "773880    107.00\n",
              "773881    107.02\n",
              "Name: Open, Length: 140197, dtype: float64"
            ]
          },
          "metadata": {},
          "execution_count": 29
        }
      ]
    },
    {
      "cell_type": "code",
      "metadata": {
        "colab": {
          "base_uri": "https://localhost:8080/"
        },
        "id": "RXC8HEaBngJE",
        "outputId": "441f200e-9482-4212-bca5-ff8c663f4b35"
      },
      "source": [
        "#Informações estatísticas iniciais\n",
        "df_sem_faltantes[\"Open\"].describe()"
      ],
      "execution_count": 30,
      "outputs": [
        {
          "output_type": "execute_result",
          "data": {
            "text/plain": [
              "count    140197.000000\n",
              "mean         85.364428\n",
              "std          51.117621\n",
              "min           3.800000\n",
              "25%          27.500000\n",
              "50%         105.480000\n",
              "75%         120.900000\n",
              "max         259.340000\n",
              "Name: Open, dtype: float64"
            ]
          },
          "metadata": {},
          "execution_count": 30
        }
      ]
    },
    {
      "cell_type": "code",
      "metadata": {
        "colab": {
          "base_uri": "https://localhost:8080/"
        },
        "id": "BDZe-lQkn7xR",
        "outputId": "b85a3d78-eef3-49d4-8243-04a4b38a94ce"
      },
      "source": [
        "#Verificando para dados faltantes \n",
        "df_sem_faltantes[\"Open\"].isnull().sum()"
      ],
      "execution_count": 31,
      "outputs": [
        {
          "output_type": "execute_result",
          "data": {
            "text/plain": [
              "0"
            ]
          },
          "metadata": {},
          "execution_count": 31
        }
      ]
    },
    {
      "cell_type": "code",
      "metadata": {
        "colab": {
          "base_uri": "https://localhost:8080/",
          "height": 500
        },
        "id": "gg4MPWNlov2R",
        "outputId": "c8405d8b-a929-47fe-b124-980725a8d4ee"
      },
      "source": [
        "df_sem_faltantes[\"Open\"].hist(bins=150, figsize=(10,8))"
      ],
      "execution_count": 32,
      "outputs": [
        {
          "output_type": "execute_result",
          "data": {
            "text/plain": [
              "<matplotlib.axes._subplots.AxesSubplot at 0x7f3099961c50>"
            ]
          },
          "metadata": {},
          "execution_count": 32
        },
        {
          "output_type": "display_data",
          "data": {
            "image/png": "[encoded data removed]",
            "text/plain": [
              "<Figure size 720x576 with 1 Axes>"
            ]
          },
          "metadata": {
            "needs_background": "light"
          }
        }
      ]
    },
    {
      "cell_type": "code",
      "metadata": {
        "colab": {
          "base_uri": "https://localhost:8080/"
        },
        "id": "l-gViM1vw1Np",
        "outputId": "ccf96c6d-37af-48d0-eda0-53f74e45976a"
      },
      "source": [
        "#Verificando a curtose da distribuição \n",
        "df_sem_faltantes[\"Open\"].kurtosis()"
      ],
      "execution_count": 33,
      "outputs": [
        {
          "output_type": "execute_result",
          "data": {
            "text/plain": [
              "-0.7483106315836356"
            ]
          },
          "metadata": {},
          "execution_count": 33
        }
      ]
    },
    {
      "cell_type": "code",
      "metadata": {
        "colab": {
          "base_uri": "https://localhost:8080/"
        },
        "id": "M5ot0uSfxODZ",
        "outputId": "38a3192a-9821-4d08-e495-cb93d16c2316"
      },
      "source": [
        "#Verificando a simetria da distribuição \n",
        "df_sem_faltantes[\"Open\"].skew()"
      ],
      "execution_count": 34,
      "outputs": [
        {
          "output_type": "execute_result",
          "data": {
            "text/plain": [
              "-0.20511223938904508"
            ]
          },
          "metadata": {},
          "execution_count": 34
        }
      ]
    },
    {
      "cell_type": "code",
      "metadata": {
        "id": "brwz8Iz4yotl"
      },
      "source": [
        "x_list=np.linspace(df_sem_faltantes.Open.min(),df_sem_faltantes.Open.max(), 100)\n",
        "y_list=norm.pdf(x_list,loc=df_sem_faltantes.Open.mean(), scale=df_sem_faltantes.Open.std())"
      ],
      "execution_count": 35,
      "outputs": []
    },
    {
      "cell_type": "code",
      "metadata": {
        "colab": {
          "base_uri": "https://localhost:8080/",
          "height": 500
        },
        "id": "vX2KGsKG0Wzu",
        "outputId": "617d3e36-42f7-4145-f551-477e4f943886"
      },
      "source": [
        "plt.plot(x_list,y_list)\n",
        "df_sem_faltantes[\"Open\"].hist(bins=100, figsize=(10,8), density=True)\n",
        "\n",
        "\n"
      ],
      "execution_count": 36,
      "outputs": [
        {
          "output_type": "execute_result",
          "data": {
            "text/plain": [
              "<matplotlib.axes._subplots.AxesSubplot at 0x7f309970ab90>"
            ]
          },
          "metadata": {},
          "execution_count": 36
        },
        {
          "output_type": "display_data",
          "data": {
            "image/png": "[encoded data removed]",
            "text/plain": [
              "<Figure size 720x576 with 1 Axes>"
            ]
          },
          "metadata": {
            "needs_background": "light"
          }
        }
      ]
    }
  ]
}