{
  "nbformat": 4,
  "nbformat_minor": 0,
  "metadata": {
    "colab": {
      "name": "Finanças e Investimentos - bitcoin - Aelson.ipynb",
      "provenance": [],
      "collapsed_sections": [
        "UdveCLgF5xwa",
        "NXLLk2jik9lY"
      ]
    },
    "kernelspec": {
      "display_name": "Python 3",
      "name": "python3"
    },
    "language_info": {
      "name": "python"
    }
  },
  "cells": [
    {
      "cell_type": "markdown",
      "metadata": {
        "id": "W4QQwsk6zL6l"
      },
      "source": [
        "# 1 - Entendimento do problema\n",
        "\n",
        "## O projeto visa indicar qual perfil de investidor é mais adequado com base no comportamento do mercado de bitcoin. \n",
        "\n",
        "1.1 - Quais são os perfis de investidores?\n",
        "\n",
        "- Conservadores, moderados e arrojados.\n",
        "\n",
        "1.1.2 - Quais a bases fundamentais dos perfis? \n",
        "\n",
        "- Segurança\n",
        "- Liquidez\n",
        "- Rentabilidade\n",
        "\n",
        "1.1.3 - Como influenciam no perfil dos investidores?\n",
        "\n",
        "\n",
        "1.1.4 - Quais são os indicadores determinantes para a tomada de decisão?\n",
        "- OBV - On Balance Volume\n",
        "- Move average crossover\n",
        "\n",
        "\n",
        "\n"
      ]
    },
    {
      "cell_type": "markdown",
      "metadata": {
        "id": "s3qAklUCzVfN"
      },
      "source": [
        "#2 - Coleta de dados e referências do projeto\n",
        "\n",
        "Conjunto de dados utilizado:\n",
        "\n",
        " https://www.kaggle.com/mczielinski/bitcoin-historical-data\n",
        "\n",
        "Referências:\n",
        "\n",
        "https://www.notion.so/https-towardsdatascience-com-dynamic-cryptocurrency-trading-backtesting-platform-python-219dfcd742-eb894aef1a504d6fb363e3854f870350\n",
        "\n",
        "https://towardsdatascience.com/basic-time-series-analysis-and-trading-strategy-with-bitcoin-price-data-1a8f1a30f11\n"
      ]
    },
    {
      "cell_type": "markdown",
      "metadata": {
        "id": "lW0MhdUtzi4t"
      },
      "source": [
        "# 3 - Análise, interpretação e Visualização \n"
      ]
    },
    {
      "cell_type": "markdown",
      "metadata": {
        "id": "UMOIPZlOzyNc"
      },
      "source": [
        "Bibliotecas utilizadas\n"
      ]
    },
    {
      "cell_type": "code",
      "metadata": {
        "id": "Mgcfjqx4zw_G"
      },
      "source": [
        "#manipulação de dados\n",
        "import pandas as pd\n",
        "import numpy as np\n",
        "from scipy.stats import norm\n",
        "\n",
        "\n",
        "#Visualização de dados\n",
        "import matplotlib.pyplot as plt\n",
        "import seaborn as sns\n",
        "import missingno as msno"
      ],
      "execution_count": 1,
      "outputs": []
    },
    {
      "cell_type": "code",
      "metadata": {
        "id": "_ojQwJnjIord"
      },
      "source": [
        "df=pd.read_csv(\"bitstampUSD_1-min_data_2012-01-01_to_2021-03-31.csv\")"
      ],
      "execution_count": 2,
      "outputs": []
    },
    {
      "cell_type": "code",
      "metadata": {
        "id": "VsHpORh3IuqR",
        "colab": {
          "base_uri": "https://localhost:8080/",
          "height": 424
        },
        "outputId": "4273394d-bd00-4128-cc82-6000589fbc3e"
      },
      "source": [
        "df"
      ],
      "execution_count": 3,
      "outputs": [
        {
          "output_type": "execute_result",
          "data": {
            "text/html": [
              "\n",
              "  <div id=\"df-d0999ed3-e639-45d6-85c0-c917d59f49d4\">\n",
              "    <div class=\"colab-df-container\">\n",
              "      <div>\n",
              "<style scoped>\n",
              "    .dataframe tbody tr th:only-of-type {\n",
              "        vertical-align: middle;\n",
              "    }\n",
              "\n",
              "    .dataframe tbody tr th {\n",
              "        vertical-align: top;\n",
              "    }\n",
              "\n",
              "    .dataframe thead th {\n",
              "        text-align: right;\n",
              "    }\n",
              "</style>\n",
              "<table border=\"1\" class=\"dataframe\">\n",
              "  <thead>\n",
              "    <tr style=\"text-align: right;\">\n",
              "      <th></th>\n",
              "      <th>Timestamp</th>\n",
              "      <th>Open</th>\n",
              "      <th>High</th>\n",
              "      <th>Low</th>\n",
              "      <th>Close</th>\n",
              "      <th>Volume_(BTC)</th>\n",
              "      <th>Volume_(Currency)</th>\n",
              "      <th>Weighted_Price</th>\n",
              "    </tr>\n",
              "  </thead>\n",
              "  <tbody>\n",
              "    <tr>\n",
              "      <th>0</th>\n",
              "      <td>1325317920</td>\n",
              "      <td>4.39</td>\n",
              "      <td>4.39</td>\n",
              "      <td>4.39</td>\n",
              "      <td>4.39</td>\n",
              "      <td>0.455581</td>\n",
              "      <td>2.000000</td>\n",
              "      <td>4.390000</td>\n",
              "    </tr>\n",
              "    <tr>\n",
              "      <th>1</th>\n",
              "      <td>1325317980</td>\n",
              "      <td>NaN</td>\n",
              "      <td>NaN</td>\n",
              "      <td>NaN</td>\n",
              "      <td>NaN</td>\n",
              "      <td>NaN</td>\n",
              "      <td>NaN</td>\n",
              "      <td>NaN</td>\n",
              "    </tr>\n",
              "    <tr>\n",
              "      <th>2</th>\n",
              "      <td>1325318040</td>\n",
              "      <td>NaN</td>\n",
              "      <td>NaN</td>\n",
              "      <td>NaN</td>\n",
              "      <td>NaN</td>\n",
              "      <td>NaN</td>\n",
              "      <td>NaN</td>\n",
              "      <td>NaN</td>\n",
              "    </tr>\n",
              "    <tr>\n",
              "      <th>3</th>\n",
              "      <td>1325318100</td>\n",
              "      <td>NaN</td>\n",
              "      <td>NaN</td>\n",
              "      <td>NaN</td>\n",
              "      <td>NaN</td>\n",
              "      <td>NaN</td>\n",
              "      <td>NaN</td>\n",
              "      <td>NaN</td>\n",
              "    </tr>\n",
              "    <tr>\n",
              "      <th>4</th>\n",
              "      <td>1325318160</td>\n",
              "      <td>NaN</td>\n",
              "      <td>NaN</td>\n",
              "      <td>NaN</td>\n",
              "      <td>NaN</td>\n",
              "      <td>NaN</td>\n",
              "      <td>NaN</td>\n",
              "      <td>NaN</td>\n",
              "    </tr>\n",
              "    <tr>\n",
              "      <th>...</th>\n",
              "      <td>...</td>\n",
              "      <td>...</td>\n",
              "      <td>...</td>\n",
              "      <td>...</td>\n",
              "      <td>...</td>\n",
              "      <td>...</td>\n",
              "      <td>...</td>\n",
              "      <td>...</td>\n",
              "    </tr>\n",
              "    <tr>\n",
              "      <th>4821511</th>\n",
              "      <td>1614996900</td>\n",
              "      <td>48362.00</td>\n",
              "      <td>48396.43</td>\n",
              "      <td>48362.00</td>\n",
              "      <td>48391.21</td>\n",
              "      <td>0.846486</td>\n",
              "      <td>40949.758889</td>\n",
              "      <td>48376.167174</td>\n",
              "    </tr>\n",
              "    <tr>\n",
              "      <th>4821512</th>\n",
              "      <td>1614996960</td>\n",
              "      <td>48383.17</td>\n",
              "      <td>48447.21</td>\n",
              "      <td>48383.17</td>\n",
              "      <td>48441.99</td>\n",
              "      <td>0.503095</td>\n",
              "      <td>24370.418563</td>\n",
              "      <td>48440.942159</td>\n",
              "    </tr>\n",
              "    <tr>\n",
              "      <th>4821513</th>\n",
              "      <td>1614997020</td>\n",
              "      <td>48459.00</td>\n",
              "      <td>48462.50</td>\n",
              "      <td>48377.55</td>\n",
              "      <td>48384.22</td>\n",
              "      <td>0.976677</td>\n",
              "      <td>47291.371758</td>\n",
              "      <td>48420.705795</td>\n",
              "    </tr>\n",
              "    <tr>\n",
              "      <th>4821514</th>\n",
              "      <td>1614997080</td>\n",
              "      <td>48384.22</td>\n",
              "      <td>48424.54</td>\n",
              "      <td>48384.22</td>\n",
              "      <td>48405.72</td>\n",
              "      <td>0.828068</td>\n",
              "      <td>40079.892079</td>\n",
              "      <td>48401.670701</td>\n",
              "    </tr>\n",
              "    <tr>\n",
              "      <th>4821515</th>\n",
              "      <td>1614997140</td>\n",
              "      <td>48433.28</td>\n",
              "      <td>48464.89</td>\n",
              "      <td>48428.09</td>\n",
              "      <td>48464.89</td>\n",
              "      <td>1.000000</td>\n",
              "      <td>NaN</td>\n",
              "      <td>NaN</td>\n",
              "    </tr>\n",
              "  </tbody>\n",
              "</table>\n",
              "<p>4821516 rows × 8 columns</p>\n",
              "</div>\n",
              "      <button class=\"colab-df-convert\" onclick=\"convertToInteractive('df-d0999ed3-e639-45d6-85c0-c917d59f49d4')\"\n",
              "              title=\"Convert this dataframe to an interactive table.\"\n",
              "              style=\"display:none;\">\n",
              "        \n",
              "  <svg xmlns=\"http://www.w3.org/2000/svg\" height=\"24px\"viewBox=\"0 0 24 24\"\n",
              "       width=\"24px\">\n",
              "    <path d=\"M0 0h24v24H0V0z\" fill=\"none\"/>\n",
              "    <path d=\"M18.56 5.44l.94 2.06.94-2.06 2.06-.94-2.06-.94-.94-2.06-.94 2.06-2.06.94zm-11 1L8.5 8.5l.94-2.06 2.06-.94-2.06-.94L8.5 2.5l-.94 2.06-2.06.94zm10 10l.94 2.06.94-2.06 2.06-.94-2.06-.94-.94-2.06-.94 2.06-2.06.94z\"/><path d=\"M17.41 7.96l-1.37-1.37c-.4-.4-.92-.59-1.43-.59-.52 0-1.04.2-1.43.59L10.3 9.45l-7.72 7.72c-.78.78-.78 2.05 0 2.83L4 21.41c.39.39.9.59 1.41.59.51 0 1.02-.2 1.41-.59l7.78-7.78 2.81-2.81c.8-.78.8-2.07 0-2.86zM5.41 20L4 18.59l7.72-7.72 1.47 1.35L5.41 20z\"/>\n",
              "  </svg>\n",
              "      </button>\n",
              "      \n",
              "  <style>\n",
              "    .colab-df-container {\n",
              "      display:flex;\n",
              "      flex-wrap:wrap;\n",
              "      gap: 12px;\n",
              "    }\n",
              "\n",
              "    .colab-df-convert {\n",
              "      background-color: #E8F0FE;\n",
              "      border: none;\n",
              "      border-radius: 50%;\n",
              "      cursor: pointer;\n",
              "      display: none;\n",
              "      fill: #1967D2;\n",
              "      height: 32px;\n",
              "      padding: 0 0 0 0;\n",
              "      width: 32px;\n",
              "    }\n",
              "\n",
              "    .colab-df-convert:hover {\n",
              "      background-color: #E2EBFA;\n",
              "      box-shadow: 0px 1px 2px rgba(60, 64, 67, 0.3), 0px 1px 3px 1px rgba(60, 64, 67, 0.15);\n",
              "      fill: #174EA6;\n",
              "    }\n",
              "\n",
              "    [theme=dark] .colab-df-convert {\n",
              "      background-color: #3B4455;\n",
              "      fill: #D2E3FC;\n",
              "    }\n",
              "\n",
              "    [theme=dark] .colab-df-convert:hover {\n",
              "      background-color: #434B5C;\n",
              "      box-shadow: 0px 1px 3px 1px rgba(0, 0, 0, 0.15);\n",
              "      filter: drop-shadow(0px 1px 2px rgba(0, 0, 0, 0.3));\n",
              "      fill: #FFFFFF;\n",
              "    }\n",
              "  </style>\n",
              "\n",
              "      <script>\n",
              "        const buttonEl =\n",
              "          document.querySelector('#df-d0999ed3-e639-45d6-85c0-c917d59f49d4 button.colab-df-convert');\n",
              "        buttonEl.style.display =\n",
              "          google.colab.kernel.accessAllowed ? 'block' : 'none';\n",
              "\n",
              "        async function convertToInteractive(key) {\n",
              "          const element = document.querySelector('#df-d0999ed3-e639-45d6-85c0-c917d59f49d4');\n",
              "          const dataTable =\n",
              "            await google.colab.kernel.invokeFunction('convertToInteractive',\n",
              "                                                     [key], {});\n",
              "          if (!dataTable) return;\n",
              "\n",
              "          const docLinkHtml = 'Like what you see? Visit the ' +\n",
              "            '<a target=\"_blank\" href=https://colab.research.google.com/notebooks/data_table.ipynb>data table notebook</a>'\n",
              "            + ' to learn more about interactive tables.';\n",
              "          element.innerHTML = '';\n",
              "          dataTable['output_type'] = 'display_data';\n",
              "          await google.colab.output.renderOutput(dataTable, element);\n",
              "          const docLink = document.createElement('div');\n",
              "          docLink.innerHTML = docLinkHtml;\n",
              "          element.appendChild(docLink);\n",
              "        }\n",
              "      </script>\n",
              "    </div>\n",
              "  </div>\n",
              "  "
            ],
            "text/plain": [
              "          Timestamp      Open  ...  Volume_(Currency)  Weighted_Price\n",
              "0        1325317920      4.39  ...           2.000000        4.390000\n",
              "1        1325317980       NaN  ...                NaN             NaN\n",
              "2        1325318040       NaN  ...                NaN             NaN\n",
              "3        1325318100       NaN  ...                NaN             NaN\n",
              "4        1325318160       NaN  ...                NaN             NaN\n",
              "...             ...       ...  ...                ...             ...\n",
              "4821511  1614996900  48362.00  ...       40949.758889    48376.167174\n",
              "4821512  1614996960  48383.17  ...       24370.418563    48440.942159\n",
              "4821513  1614997020  48459.00  ...       47291.371758    48420.705795\n",
              "4821514  1614997080  48384.22  ...       40079.892079    48401.670701\n",
              "4821515  1614997140  48433.28  ...                NaN             NaN\n",
              "\n",
              "[4821516 rows x 8 columns]"
            ]
          },
          "metadata": {},
          "execution_count": 3
        }
      ]
    },
    {
      "cell_type": "markdown",
      "metadata": {
        "id": "DuYj9U4GYMIw"
      },
      "source": [
        "Primeria inspecção dos dados \n"
      ]
    },
    {
      "cell_type": "code",
      "metadata": {
        "id": "15R5adDRJE2M",
        "colab": {
          "base_uri": "https://localhost:8080/",
          "height": 206
        },
        "outputId": "b53d3a86-9090-49f9-cb3e-f4c06be6274e"
      },
      "source": [
        "#cinco primeiras observações do dataframe\n",
        "df.head()"
      ],
      "execution_count": 4,
      "outputs": [
        {
          "output_type": "execute_result",
          "data": {
            "text/html": [
              "\n",
              "  <div id=\"df-186afdba-5215-4b81-b2f0-18a11511a413\">\n",
              "    <div class=\"colab-df-container\">\n",
              "      <div>\n",
              "<style scoped>\n",
              "    .dataframe tbody tr th:only-of-type {\n",
              "        vertical-align: middle;\n",
              "    }\n",
              "\n",
              "    .dataframe tbody tr th {\n",
              "        vertical-align: top;\n",
              "    }\n",
              "\n",
              "    .dataframe thead th {\n",
              "        text-align: right;\n",
              "    }\n",
              "</style>\n",
              "<table border=\"1\" class=\"dataframe\">\n",
              "  <thead>\n",
              "    <tr style=\"text-align: right;\">\n",
              "      <th></th>\n",
              "      <th>Timestamp</th>\n",
              "      <th>Open</th>\n",
              "      <th>High</th>\n",
              "      <th>Low</th>\n",
              "      <th>Close</th>\n",
              "      <th>Volume_(BTC)</th>\n",
              "      <th>Volume_(Currency)</th>\n",
              "      <th>Weighted_Price</th>\n",
              "    </tr>\n",
              "  </thead>\n",
              "  <tbody>\n",
              "    <tr>\n",
              "      <th>0</th>\n",
              "      <td>1325317920</td>\n",
              "      <td>4.39</td>\n",
              "      <td>4.39</td>\n",
              "      <td>4.39</td>\n",
              "      <td>4.39</td>\n",
              "      <td>0.455581</td>\n",
              "      <td>2.0</td>\n",
              "      <td>4.39</td>\n",
              "    </tr>\n",
              "    <tr>\n",
              "      <th>1</th>\n",
              "      <td>1325317980</td>\n",
              "      <td>NaN</td>\n",
              "      <td>NaN</td>\n",
              "      <td>NaN</td>\n",
              "      <td>NaN</td>\n",
              "      <td>NaN</td>\n",
              "      <td>NaN</td>\n",
              "      <td>NaN</td>\n",
              "    </tr>\n",
              "    <tr>\n",
              "      <th>2</th>\n",
              "      <td>1325318040</td>\n",
              "      <td>NaN</td>\n",
              "      <td>NaN</td>\n",
              "      <td>NaN</td>\n",
              "      <td>NaN</td>\n",
              "      <td>NaN</td>\n",
              "      <td>NaN</td>\n",
              "      <td>NaN</td>\n",
              "    </tr>\n",
              "    <tr>\n",
              "      <th>3</th>\n",
              "      <td>1325318100</td>\n",
              "      <td>NaN</td>\n",
              "      <td>NaN</td>\n",
              "      <td>NaN</td>\n",
              "      <td>NaN</td>\n",
              "      <td>NaN</td>\n",
              "      <td>NaN</td>\n",
              "      <td>NaN</td>\n",
              "    </tr>\n",
              "    <tr>\n",
              "      <th>4</th>\n",
              "      <td>1325318160</td>\n",
              "      <td>NaN</td>\n",
              "      <td>NaN</td>\n",
              "      <td>NaN</td>\n",
              "      <td>NaN</td>\n",
              "      <td>NaN</td>\n",
              "      <td>NaN</td>\n",
              "      <td>NaN</td>\n",
              "    </tr>\n",
              "  </tbody>\n",
              "</table>\n",
              "</div>\n",
              "      <button class=\"colab-df-convert\" onclick=\"convertToInteractive('df-186afdba-5215-4b81-b2f0-18a11511a413')\"\n",
              "              title=\"Convert this dataframe to an interactive table.\"\n",
              "              style=\"display:none;\">\n",
              "        \n",
              "  <svg xmlns=\"http://www.w3.org/2000/svg\" height=\"24px\"viewBox=\"0 0 24 24\"\n",
              "       width=\"24px\">\n",
              "    <path d=\"M0 0h24v24H0V0z\" fill=\"none\"/>\n",
              "    <path d=\"M18.56 5.44l.94 2.06.94-2.06 2.06-.94-2.06-.94-.94-2.06-.94 2.06-2.06.94zm-11 1L8.5 8.5l.94-2.06 2.06-.94-2.06-.94L8.5 2.5l-.94 2.06-2.06.94zm10 10l.94 2.06.94-2.06 2.06-.94-2.06-.94-.94-2.06-.94 2.06-2.06.94z\"/><path d=\"M17.41 7.96l-1.37-1.37c-.4-.4-.92-.59-1.43-.59-.52 0-1.04.2-1.43.59L10.3 9.45l-7.72 7.72c-.78.78-.78 2.05 0 2.83L4 21.41c.39.39.9.59 1.41.59.51 0 1.02-.2 1.41-.59l7.78-7.78 2.81-2.81c.8-.78.8-2.07 0-2.86zM5.41 20L4 18.59l7.72-7.72 1.47 1.35L5.41 20z\"/>\n",
              "  </svg>\n",
              "      </button>\n",
              "      \n",
              "  <style>\n",
              "    .colab-df-container {\n",
              "      display:flex;\n",
              "      flex-wrap:wrap;\n",
              "      gap: 12px;\n",
              "    }\n",
              "\n",
              "    .colab-df-convert {\n",
              "      background-color: #E8F0FE;\n",
              "      border: none;\n",
              "      border-radius: 50%;\n",
              "      cursor: pointer;\n",
              "      display: none;\n",
              "      fill: #1967D2;\n",
              "      height: 32px;\n",
              "      padding: 0 0 0 0;\n",
              "      width: 32px;\n",
              "    }\n",
              "\n",
              "    .colab-df-convert:hover {\n",
              "      background-color: #E2EBFA;\n",
              "      box-shadow: 0px 1px 2px rgba(60, 64, 67, 0.3), 0px 1px 3px 1px rgba(60, 64, 67, 0.15);\n",
              "      fill: #174EA6;\n",
              "    }\n",
              "\n",
              "    [theme=dark] .colab-df-convert {\n",
              "      background-color: #3B4455;\n",
              "      fill: #D2E3FC;\n",
              "    }\n",
              "\n",
              "    [theme=dark] .colab-df-convert:hover {\n",
              "      background-color: #434B5C;\n",
              "      box-shadow: 0px 1px 3px 1px rgba(0, 0, 0, 0.15);\n",
              "      filter: drop-shadow(0px 1px 2px rgba(0, 0, 0, 0.3));\n",
              "      fill: #FFFFFF;\n",
              "    }\n",
              "  </style>\n",
              "\n",
              "      <script>\n",
              "        const buttonEl =\n",
              "          document.querySelector('#df-186afdba-5215-4b81-b2f0-18a11511a413 button.colab-df-convert');\n",
              "        buttonEl.style.display =\n",
              "          google.colab.kernel.accessAllowed ? 'block' : 'none';\n",
              "\n",
              "        async function convertToInteractive(key) {\n",
              "          const element = document.querySelector('#df-186afdba-5215-4b81-b2f0-18a11511a413');\n",
              "          const dataTable =\n",
              "            await google.colab.kernel.invokeFunction('convertToInteractive',\n",
              "                                                     [key], {});\n",
              "          if (!dataTable) return;\n",
              "\n",
              "          const docLinkHtml = 'Like what you see? Visit the ' +\n",
              "            '<a target=\"_blank\" href=https://colab.research.google.com/notebooks/data_table.ipynb>data table notebook</a>'\n",
              "            + ' to learn more about interactive tables.';\n",
              "          element.innerHTML = '';\n",
              "          dataTable['output_type'] = 'display_data';\n",
              "          await google.colab.output.renderOutput(dataTable, element);\n",
              "          const docLink = document.createElement('div');\n",
              "          docLink.innerHTML = docLinkHtml;\n",
              "          element.appendChild(docLink);\n",
              "        }\n",
              "      </script>\n",
              "    </div>\n",
              "  </div>\n",
              "  "
            ],
            "text/plain": [
              "    Timestamp  Open  High  ...  Volume_(BTC)  Volume_(Currency)  Weighted_Price\n",
              "0  1325317920  4.39  4.39  ...      0.455581                2.0            4.39\n",
              "1  1325317980   NaN   NaN  ...           NaN                NaN             NaN\n",
              "2  1325318040   NaN   NaN  ...           NaN                NaN             NaN\n",
              "3  1325318100   NaN   NaN  ...           NaN                NaN             NaN\n",
              "4  1325318160   NaN   NaN  ...           NaN                NaN             NaN\n",
              "\n",
              "[5 rows x 8 columns]"
            ]
          },
          "metadata": {},
          "execution_count": 4
        }
      ]
    },
    {
      "cell_type": "code",
      "metadata": {
        "id": "FmrX2fwi87ob",
        "colab": {
          "base_uri": "https://localhost:8080/"
        },
        "outputId": "0d81d851-7295-4fb3-df45-158b41f8be58"
      },
      "source": [
        "#Inspecionando o tamanho do dataframe\n",
        "df.size"
      ],
      "execution_count": 5,
      "outputs": [
        {
          "output_type": "execute_result",
          "data": {
            "text/plain": [
              "38572128"
            ]
          },
          "metadata": {},
          "execution_count": 5
        }
      ]
    },
    {
      "cell_type": "code",
      "metadata": {
        "id": "ERqgAYZr9C0F",
        "colab": {
          "base_uri": "https://localhost:8080/"
        },
        "outputId": "9a2a72e5-ff51-4a81-b450-b4f679b3e092"
      },
      "source": [
        "#Inspecionando a forma do df.\n",
        "df.shape"
      ],
      "execution_count": 6,
      "outputs": [
        {
          "output_type": "execute_result",
          "data": {
            "text/plain": [
              "(4821516, 8)"
            ]
          },
          "metadata": {},
          "execution_count": 6
        }
      ]
    },
    {
      "cell_type": "code",
      "metadata": {
        "id": "BgvjESZEvchs",
        "colab": {
          "base_uri": "https://localhost:8080/",
          "height": 81
        },
        "outputId": "7fdf5509-2838-4872-8f99-09ed765d0688"
      },
      "source": [
        "df.loc[df[\"Volume_(BTC)\"]==1098.3493842]"
      ],
      "execution_count": 7,
      "outputs": [
        {
          "output_type": "execute_result",
          "data": {
            "text/html": [
              "\n",
              "  <div id=\"df-61268d5f-bd8c-4e4f-815a-7b3448a545b6\">\n",
              "    <div class=\"colab-df-container\">\n",
              "      <div>\n",
              "<style scoped>\n",
              "    .dataframe tbody tr th:only-of-type {\n",
              "        vertical-align: middle;\n",
              "    }\n",
              "\n",
              "    .dataframe tbody tr th {\n",
              "        vertical-align: top;\n",
              "    }\n",
              "\n",
              "    .dataframe thead th {\n",
              "        text-align: right;\n",
              "    }\n",
              "</style>\n",
              "<table border=\"1\" class=\"dataframe\">\n",
              "  <thead>\n",
              "    <tr style=\"text-align: right;\">\n",
              "      <th></th>\n",
              "      <th>Timestamp</th>\n",
              "      <th>Open</th>\n",
              "      <th>High</th>\n",
              "      <th>Low</th>\n",
              "      <th>Close</th>\n",
              "      <th>Volume_(BTC)</th>\n",
              "      <th>Volume_(Currency)</th>\n",
              "      <th>Weighted_Price</th>\n",
              "    </tr>\n",
              "  </thead>\n",
              "  <tbody>\n",
              "    <tr>\n",
              "      <th>4404691</th>\n",
              "      <td>1589987700</td>\n",
              "      <td>9724.89</td>\n",
              "      <td>9724.89</td>\n",
              "      <td>9100.0</td>\n",
              "      <td>9685.57</td>\n",
              "      <td>1098.349384</td>\n",
              "      <td>1.044599e+07</td>\n",
              "      <td>9510.6238</td>\n",
              "    </tr>\n",
              "  </tbody>\n",
              "</table>\n",
              "</div>\n",
              "      <button class=\"colab-df-convert\" onclick=\"convertToInteractive('df-61268d5f-bd8c-4e4f-815a-7b3448a545b6')\"\n",
              "              title=\"Convert this dataframe to an interactive table.\"\n",
              "              style=\"display:none;\">\n",
              "        \n",
              "  <svg xmlns=\"http://www.w3.org/2000/svg\" height=\"24px\"viewBox=\"0 0 24 24\"\n",
              "       width=\"24px\">\n",
              "    <path d=\"M0 0h24v24H0V0z\" fill=\"none\"/>\n",
              "    <path d=\"M18.56 5.44l.94 2.06.94-2.06 2.06-.94-2.06-.94-.94-2.06-.94 2.06-2.06.94zm-11 1L8.5 8.5l.94-2.06 2.06-.94-2.06-.94L8.5 2.5l-.94 2.06-2.06.94zm10 10l.94 2.06.94-2.06 2.06-.94-2.06-.94-.94-2.06-.94 2.06-2.06.94z\"/><path d=\"M17.41 7.96l-1.37-1.37c-.4-.4-.92-.59-1.43-.59-.52 0-1.04.2-1.43.59L10.3 9.45l-7.72 7.72c-.78.78-.78 2.05 0 2.83L4 21.41c.39.39.9.59 1.41.59.51 0 1.02-.2 1.41-.59l7.78-7.78 2.81-2.81c.8-.78.8-2.07 0-2.86zM5.41 20L4 18.59l7.72-7.72 1.47 1.35L5.41 20z\"/>\n",
              "  </svg>\n",
              "      </button>\n",
              "      \n",
              "  <style>\n",
              "    .colab-df-container {\n",
              "      display:flex;\n",
              "      flex-wrap:wrap;\n",
              "      gap: 12px;\n",
              "    }\n",
              "\n",
              "    .colab-df-convert {\n",
              "      background-color: #E8F0FE;\n",
              "      border: none;\n",
              "      border-radius: 50%;\n",
              "      cursor: pointer;\n",
              "      display: none;\n",
              "      fill: #1967D2;\n",
              "      height: 32px;\n",
              "      padding: 0 0 0 0;\n",
              "      width: 32px;\n",
              "    }\n",
              "\n",
              "    .colab-df-convert:hover {\n",
              "      background-color: #E2EBFA;\n",
              "      box-shadow: 0px 1px 2px rgba(60, 64, 67, 0.3), 0px 1px 3px 1px rgba(60, 64, 67, 0.15);\n",
              "      fill: #174EA6;\n",
              "    }\n",
              "\n",
              "    [theme=dark] .colab-df-convert {\n",
              "      background-color: #3B4455;\n",
              "      fill: #D2E3FC;\n",
              "    }\n",
              "\n",
              "    [theme=dark] .colab-df-convert:hover {\n",
              "      background-color: #434B5C;\n",
              "      box-shadow: 0px 1px 3px 1px rgba(0, 0, 0, 0.15);\n",
              "      filter: drop-shadow(0px 1px 2px rgba(0, 0, 0, 0.3));\n",
              "      fill: #FFFFFF;\n",
              "    }\n",
              "  </style>\n",
              "\n",
              "      <script>\n",
              "        const buttonEl =\n",
              "          document.querySelector('#df-61268d5f-bd8c-4e4f-815a-7b3448a545b6 button.colab-df-convert');\n",
              "        buttonEl.style.display =\n",
              "          google.colab.kernel.accessAllowed ? 'block' : 'none';\n",
              "\n",
              "        async function convertToInteractive(key) {\n",
              "          const element = document.querySelector('#df-61268d5f-bd8c-4e4f-815a-7b3448a545b6');\n",
              "          const dataTable =\n",
              "            await google.colab.kernel.invokeFunction('convertToInteractive',\n",
              "                                                     [key], {});\n",
              "          if (!dataTable) return;\n",
              "\n",
              "          const docLinkHtml = 'Like what you see? Visit the ' +\n",
              "            '<a target=\"_blank\" href=https://colab.research.google.com/notebooks/data_table.ipynb>data table notebook</a>'\n",
              "            + ' to learn more about interactive tables.';\n",
              "          element.innerHTML = '';\n",
              "          dataTable['output_type'] = 'display_data';\n",
              "          await google.colab.output.renderOutput(dataTable, element);\n",
              "          const docLink = document.createElement('div');\n",
              "          docLink.innerHTML = docLinkHtml;\n",
              "          element.appendChild(docLink);\n",
              "        }\n",
              "      </script>\n",
              "    </div>\n",
              "  </div>\n",
              "  "
            ],
            "text/plain": [
              "          Timestamp     Open  ...  Volume_(Currency)  Weighted_Price\n",
              "4404691  1589987700  9724.89  ...       1.044599e+07       9510.6238\n",
              "\n",
              "[1 rows x 8 columns]"
            ]
          },
          "metadata": {},
          "execution_count": 7
        }
      ]
    },
    {
      "cell_type": "code",
      "metadata": {
        "id": "dA61icjHPe_X",
        "colab": {
          "base_uri": "https://localhost:8080/"
        },
        "outputId": "8228e241-3d3a-4f70-c203-ffa37ef73407"
      },
      "source": [
        "#Informações iniciais\n",
        "df.info()"
      ],
      "execution_count": 8,
      "outputs": [
        {
          "output_type": "stream",
          "name": "stdout",
          "text": [
            "<class 'pandas.core.frame.DataFrame'>\n",
            "RangeIndex: 4821516 entries, 0 to 4821515\n",
            "Data columns (total 8 columns):\n",
            " #   Column             Dtype  \n",
            "---  ------             -----  \n",
            " 0   Timestamp          int64  \n",
            " 1   Open               float64\n",
            " 2   High               float64\n",
            " 3   Low                float64\n",
            " 4   Close              float64\n",
            " 5   Volume_(BTC)       float64\n",
            " 6   Volume_(Currency)  float64\n",
            " 7   Weighted_Price     float64\n",
            "dtypes: float64(7), int64(1)\n",
            "memory usage: 294.3 MB\n"
          ]
        }
      ]
    },
    {
      "cell_type": "code",
      "metadata": {
        "id": "xQbxXoS_Pjmi",
        "colab": {
          "base_uri": "https://localhost:8080/"
        },
        "outputId": "f5b635e3-063c-4edd-f7ee-06b16f72d907"
      },
      "source": [
        "#verificando o tipo dos dados\n",
        "df.dtypes"
      ],
      "execution_count": 9,
      "outputs": [
        {
          "output_type": "execute_result",
          "data": {
            "text/plain": [
              "Timestamp              int64\n",
              "Open                 float64\n",
              "High                 float64\n",
              "Low                  float64\n",
              "Close                float64\n",
              "Volume_(BTC)         float64\n",
              "Volume_(Currency)    float64\n",
              "Weighted_Price       float64\n",
              "dtype: object"
            ]
          },
          "metadata": {},
          "execution_count": 9
        }
      ]
    },
    {
      "cell_type": "code",
      "metadata": {
        "id": "yZz86SCYXKc1",
        "colab": {
          "base_uri": "https://localhost:8080/",
          "height": 300
        },
        "outputId": "77061b7f-d40a-411d-e61f-05b40b162dd0"
      },
      "source": [
        "#obtendo informações estatísticas iniciais. \n",
        "df.describe()"
      ],
      "execution_count": 10,
      "outputs": [
        {
          "output_type": "execute_result",
          "data": {
            "text/html": [
              "\n",
              "  <div id=\"df-9f0e01ab-77e6-4939-951b-e62f9cc76760\">\n",
              "    <div class=\"colab-df-container\">\n",
              "      <div>\n",
              "<style scoped>\n",
              "    .dataframe tbody tr th:only-of-type {\n",
              "        vertical-align: middle;\n",
              "    }\n",
              "\n",
              "    .dataframe tbody tr th {\n",
              "        vertical-align: top;\n",
              "    }\n",
              "\n",
              "    .dataframe thead th {\n",
              "        text-align: right;\n",
              "    }\n",
              "</style>\n",
              "<table border=\"1\" class=\"dataframe\">\n",
              "  <thead>\n",
              "    <tr style=\"text-align: right;\">\n",
              "      <th></th>\n",
              "      <th>Timestamp</th>\n",
              "      <th>Open</th>\n",
              "      <th>High</th>\n",
              "      <th>Low</th>\n",
              "      <th>Close</th>\n",
              "      <th>Volume_(BTC)</th>\n",
              "      <th>Volume_(Currency)</th>\n",
              "      <th>Weighted_Price</th>\n",
              "    </tr>\n",
              "  </thead>\n",
              "  <tbody>\n",
              "    <tr>\n",
              "      <th>count</th>\n",
              "      <td>4.821516e+06</td>\n",
              "      <td>3.577991e+06</td>\n",
              "      <td>3.577991e+06</td>\n",
              "      <td>3.577991e+06</td>\n",
              "      <td>3.577991e+06</td>\n",
              "      <td>3.577991e+06</td>\n",
              "      <td>3.577990e+06</td>\n",
              "      <td>3.577990e+06</td>\n",
              "    </tr>\n",
              "    <tr>\n",
              "      <th>mean</th>\n",
              "      <td>1.470224e+09</td>\n",
              "      <td>5.512366e+03</td>\n",
              "      <td>5.516392e+03</td>\n",
              "      <td>5.508132e+03</td>\n",
              "      <td>5.512343e+03</td>\n",
              "      <td>9.382192e+00</td>\n",
              "      <td>4.026868e+04</td>\n",
              "      <td>5.512278e+03</td>\n",
              "    </tr>\n",
              "    <tr>\n",
              "      <th>std</th>\n",
              "      <td>8.365963e+07</td>\n",
              "      <td>7.532508e+03</td>\n",
              "      <td>7.539236e+03</td>\n",
              "      <td>7.525511e+03</td>\n",
              "      <td>7.532559e+03</td>\n",
              "      <td>3.068986e+01</td>\n",
              "      <td>1.475376e+05</td>\n",
              "      <td>7.532254e+03</td>\n",
              "    </tr>\n",
              "    <tr>\n",
              "      <th>min</th>\n",
              "      <td>1.325318e+09</td>\n",
              "      <td>3.800000e+00</td>\n",
              "      <td>3.800000e+00</td>\n",
              "      <td>1.500000e+00</td>\n",
              "      <td>1.500000e+00</td>\n",
              "      <td>0.000000e+00</td>\n",
              "      <td>0.000000e+00</td>\n",
              "      <td>3.800000e+00</td>\n",
              "    </tr>\n",
              "    <tr>\n",
              "      <th>25%</th>\n",
              "      <td>1.397641e+09</td>\n",
              "      <td>4.409300e+02</td>\n",
              "      <td>4.410900e+02</td>\n",
              "      <td>4.406300e+02</td>\n",
              "      <td>4.409300e+02</td>\n",
              "      <td>4.068310e-01</td>\n",
              "      <td>4.419355e+02</td>\n",
              "      <td>4.409000e+02</td>\n",
              "    </tr>\n",
              "    <tr>\n",
              "      <th>50%</th>\n",
              "      <td>1.470352e+09</td>\n",
              "      <td>3.545610e+03</td>\n",
              "      <td>3.546890e+03</td>\n",
              "      <td>3.544230e+03</td>\n",
              "      <td>3.545670e+03</td>\n",
              "      <td>1.988373e+00</td>\n",
              "      <td>3.666958e+03</td>\n",
              "      <td>3.545441e+03</td>\n",
              "    </tr>\n",
              "    <tr>\n",
              "      <th>75%</th>\n",
              "      <td>1.542674e+09</td>\n",
              "      <td>8.473935e+03</td>\n",
              "      <td>8.479940e+03</td>\n",
              "      <td>8.468340e+03</td>\n",
              "      <td>8.473690e+03</td>\n",
              "      <td>7.335866e+00</td>\n",
              "      <td>2.463509e+04</td>\n",
              "      <td>8.474019e+03</td>\n",
              "    </tr>\n",
              "    <tr>\n",
              "      <th>max</th>\n",
              "      <td>1.614997e+09</td>\n",
              "      <td>5.834554e+04</td>\n",
              "      <td>5.835414e+04</td>\n",
              "      <td>5.832656e+04</td>\n",
              "      <td>5.835414e+04</td>\n",
              "      <td>5.853852e+03</td>\n",
              "      <td>1.390067e+07</td>\n",
              "      <td>5.833830e+04</td>\n",
              "    </tr>\n",
              "  </tbody>\n",
              "</table>\n",
              "</div>\n",
              "      <button class=\"colab-df-convert\" onclick=\"convertToInteractive('df-9f0e01ab-77e6-4939-951b-e62f9cc76760')\"\n",
              "              title=\"Convert this dataframe to an interactive table.\"\n",
              "              style=\"display:none;\">\n",
              "        \n",
              "  <svg xmlns=\"http://www.w3.org/2000/svg\" height=\"24px\"viewBox=\"0 0 24 24\"\n",
              "       width=\"24px\">\n",
              "    <path d=\"M0 0h24v24H0V0z\" fill=\"none\"/>\n",
              "    <path d=\"M18.56 5.44l.94 2.06.94-2.06 2.06-.94-2.06-.94-.94-2.06-.94 2.06-2.06.94zm-11 1L8.5 8.5l.94-2.06 2.06-.94-2.06-.94L8.5 2.5l-.94 2.06-2.06.94zm10 10l.94 2.06.94-2.06 2.06-.94-2.06-.94-.94-2.06-.94 2.06-2.06.94z\"/><path d=\"M17.41 7.96l-1.37-1.37c-.4-.4-.92-.59-1.43-.59-.52 0-1.04.2-1.43.59L10.3 9.45l-7.72 7.72c-.78.78-.78 2.05 0 2.83L4 21.41c.39.39.9.59 1.41.59.51 0 1.02-.2 1.41-.59l7.78-7.78 2.81-2.81c.8-.78.8-2.07 0-2.86zM5.41 20L4 18.59l7.72-7.72 1.47 1.35L5.41 20z\"/>\n",
              "  </svg>\n",
              "      </button>\n",
              "      \n",
              "  <style>\n",
              "    .colab-df-container {\n",
              "      display:flex;\n",
              "      flex-wrap:wrap;\n",
              "      gap: 12px;\n",
              "    }\n",
              "\n",
              "    .colab-df-convert {\n",
              "      background-color: #E8F0FE;\n",
              "      border: none;\n",
              "      border-radius: 50%;\n",
              "      cursor: pointer;\n",
              "      display: none;\n",
              "      fill: #1967D2;\n",
              "      height: 32px;\n",
              "      padding: 0 0 0 0;\n",
              "      width: 32px;\n",
              "    }\n",
              "\n",
              "    .colab-df-convert:hover {\n",
              "      background-color: #E2EBFA;\n",
              "      box-shadow: 0px 1px 2px rgba(60, 64, 67, 0.3), 0px 1px 3px 1px rgba(60, 64, 67, 0.15);\n",
              "      fill: #174EA6;\n",
              "    }\n",
              "\n",
              "    [theme=dark] .colab-df-convert {\n",
              "      background-color: #3B4455;\n",
              "      fill: #D2E3FC;\n",
              "    }\n",
              "\n",
              "    [theme=dark] .colab-df-convert:hover {\n",
              "      background-color: #434B5C;\n",
              "      box-shadow: 0px 1px 3px 1px rgba(0, 0, 0, 0.15);\n",
              "      filter: drop-shadow(0px 1px 2px rgba(0, 0, 0, 0.3));\n",
              "      fill: #FFFFFF;\n",
              "    }\n",
              "  </style>\n",
              "\n",
              "      <script>\n",
              "        const buttonEl =\n",
              "          document.querySelector('#df-9f0e01ab-77e6-4939-951b-e62f9cc76760 button.colab-df-convert');\n",
              "        buttonEl.style.display =\n",
              "          google.colab.kernel.accessAllowed ? 'block' : 'none';\n",
              "\n",
              "        async function convertToInteractive(key) {\n",
              "          const element = document.querySelector('#df-9f0e01ab-77e6-4939-951b-e62f9cc76760');\n",
              "          const dataTable =\n",
              "            await google.colab.kernel.invokeFunction('convertToInteractive',\n",
              "                                                     [key], {});\n",
              "          if (!dataTable) return;\n",
              "\n",
              "          const docLinkHtml = 'Like what you see? Visit the ' +\n",
              "            '<a target=\"_blank\" href=https://colab.research.google.com/notebooks/data_table.ipynb>data table notebook</a>'\n",
              "            + ' to learn more about interactive tables.';\n",
              "          element.innerHTML = '';\n",
              "          dataTable['output_type'] = 'display_data';\n",
              "          await google.colab.output.renderOutput(dataTable, element);\n",
              "          const docLink = document.createElement('div');\n",
              "          docLink.innerHTML = docLinkHtml;\n",
              "          element.appendChild(docLink);\n",
              "        }\n",
              "      </script>\n",
              "    </div>\n",
              "  </div>\n",
              "  "
            ],
            "text/plain": [
              "          Timestamp          Open  ...  Volume_(Currency)  Weighted_Price\n",
              "count  4.821516e+06  3.577991e+06  ...       3.577990e+06    3.577990e+06\n",
              "mean   1.470224e+09  5.512366e+03  ...       4.026868e+04    5.512278e+03\n",
              "std    8.365963e+07  7.532508e+03  ...       1.475376e+05    7.532254e+03\n",
              "min    1.325318e+09  3.800000e+00  ...       0.000000e+00    3.800000e+00\n",
              "25%    1.397641e+09  4.409300e+02  ...       4.419355e+02    4.409000e+02\n",
              "50%    1.470352e+09  3.545610e+03  ...       3.666958e+03    3.545441e+03\n",
              "75%    1.542674e+09  8.473935e+03  ...       2.463509e+04    8.474019e+03\n",
              "max    1.614997e+09  5.834554e+04  ...       1.390067e+07    5.833830e+04\n",
              "\n",
              "[8 rows x 8 columns]"
            ]
          },
          "metadata": {},
          "execution_count": 10
        }
      ]
    },
    {
      "cell_type": "code",
      "metadata": {
        "id": "fZJ8BJ3BVOea",
        "colab": {
          "base_uri": "https://localhost:8080/"
        },
        "outputId": "90e2416a-47a8-4145-b349-00d26fdf2ade"
      },
      "source": [
        "#Menores valores do bitcoin no presente conjunto de dados \n",
        "df.min()"
      ],
      "execution_count": 11,
      "outputs": [
        {
          "output_type": "execute_result",
          "data": {
            "text/plain": [
              "Timestamp            1.325318e+09\n",
              "Open                 3.800000e+00\n",
              "High                 3.800000e+00\n",
              "Low                  1.500000e+00\n",
              "Close                1.500000e+00\n",
              "Volume_(BTC)         0.000000e+00\n",
              "Volume_(Currency)    0.000000e+00\n",
              "Weighted_Price       3.800000e+00\n",
              "dtype: float64"
            ]
          },
          "metadata": {},
          "execution_count": 11
        }
      ]
    },
    {
      "cell_type": "code",
      "metadata": {
        "id": "LUPEowTqVjgp",
        "colab": {
          "base_uri": "https://localhost:8080/"
        },
        "outputId": "52fdf697-d76d-4491-c8bf-1864186606b3"
      },
      "source": [
        "#Maiores valores do bitcoin no presente conjunto de dados\n",
        "df.max() "
      ],
      "execution_count": 12,
      "outputs": [
        {
          "output_type": "execute_result",
          "data": {
            "text/plain": [
              "Timestamp            1.614997e+09\n",
              "Open                 5.834554e+04\n",
              "High                 5.835414e+04\n",
              "Low                  5.832656e+04\n",
              "Close                5.835414e+04\n",
              "Volume_(BTC)         5.853852e+03\n",
              "Volume_(Currency)    1.390067e+07\n",
              "Weighted_Price       5.833830e+04\n",
              "dtype: float64"
            ]
          },
          "metadata": {},
          "execution_count": 12
        }
      ]
    },
    {
      "cell_type": "code",
      "metadata": {
        "id": "8CWoHkEdgljF",
        "colab": {
          "base_uri": "https://localhost:8080/"
        },
        "outputId": "213a03ac-e7f6-45db-e408-46090d02cf95"
      },
      "source": [
        "#dados faltantes, total de 1243608 observações em branco.\n",
        "df.isnull().sum()"
      ],
      "execution_count": 13,
      "outputs": [
        {
          "output_type": "execute_result",
          "data": {
            "text/plain": [
              "Timestamp                  0\n",
              "Open                 1243525\n",
              "High                 1243525\n",
              "Low                  1243525\n",
              "Close                1243525\n",
              "Volume_(BTC)         1243525\n",
              "Volume_(Currency)    1243526\n",
              "Weighted_Price       1243526\n",
              "dtype: int64"
            ]
          },
          "metadata": {},
          "execution_count": 13
        }
      ]
    },
    {
      "cell_type": "markdown",
      "metadata": {
        "id": "F4r7ZOA0Hu5r"
      },
      "source": [
        "#Mudando formato da feature Timestamp\n",
        "\n",
        "O modo como a feature se apresenta não é funcional para o interesse desse projeto. Mudando para o formato Y-m-d e o nome da feature. \n"
      ]
    },
    {
      "cell_type": "code",
      "metadata": {
        "id": "esXYuj8608nw"
      },
      "source": [
        "#mudando a feature timestamp para formato dd/mm/aa\n",
        "df[\"Timestamp\"]=pd.to_datetime(df[\"Timestamp\"], unit=\"s\")\n",
        "\n"
      ],
      "execution_count": 14,
      "outputs": []
    },
    {
      "cell_type": "code",
      "metadata": {
        "id": "hdAGp7pDoK7Q",
        "colab": {
          "base_uri": "https://localhost:8080/",
          "height": 206
        },
        "outputId": "d31c24a6-2ef7-4478-db34-7f52f6b36c33"
      },
      "source": [
        "df.head()"
      ],
      "execution_count": 15,
      "outputs": [
        {
          "output_type": "execute_result",
          "data": {
            "text/html": [
              "\n",
              "  <div id=\"df-ba25a22c-987c-41e1-b2ce-0e79d1fa48af\">\n",
              "    <div class=\"colab-df-container\">\n",
              "      <div>\n",
              "<style scoped>\n",
              "    .dataframe tbody tr th:only-of-type {\n",
              "        vertical-align: middle;\n",
              "    }\n",
              "\n",
              "    .dataframe tbody tr th {\n",
              "        vertical-align: top;\n",
              "    }\n",
              "\n",
              "    .dataframe thead th {\n",
              "        text-align: right;\n",
              "    }\n",
              "</style>\n",
              "<table border=\"1\" class=\"dataframe\">\n",
              "  <thead>\n",
              "    <tr style=\"text-align: right;\">\n",
              "      <th></th>\n",
              "      <th>Timestamp</th>\n",
              "      <th>Open</th>\n",
              "      <th>High</th>\n",
              "      <th>Low</th>\n",
              "      <th>Close</th>\n",
              "      <th>Volume_(BTC)</th>\n",
              "      <th>Volume_(Currency)</th>\n",
              "      <th>Weighted_Price</th>\n",
              "    </tr>\n",
              "  </thead>\n",
              "  <tbody>\n",
              "    <tr>\n",
              "      <th>0</th>\n",
              "      <td>2011-12-31 07:52:00</td>\n",
              "      <td>4.39</td>\n",
              "      <td>4.39</td>\n",
              "      <td>4.39</td>\n",
              "      <td>4.39</td>\n",
              "      <td>0.455581</td>\n",
              "      <td>2.0</td>\n",
              "      <td>4.39</td>\n",
              "    </tr>\n",
              "    <tr>\n",
              "      <th>1</th>\n",
              "      <td>2011-12-31 07:53:00</td>\n",
              "      <td>NaN</td>\n",
              "      <td>NaN</td>\n",
              "      <td>NaN</td>\n",
              "      <td>NaN</td>\n",
              "      <td>NaN</td>\n",
              "      <td>NaN</td>\n",
              "      <td>NaN</td>\n",
              "    </tr>\n",
              "    <tr>\n",
              "      <th>2</th>\n",
              "      <td>2011-12-31 07:54:00</td>\n",
              "      <td>NaN</td>\n",
              "      <td>NaN</td>\n",
              "      <td>NaN</td>\n",
              "      <td>NaN</td>\n",
              "      <td>NaN</td>\n",
              "      <td>NaN</td>\n",
              "      <td>NaN</td>\n",
              "    </tr>\n",
              "    <tr>\n",
              "      <th>3</th>\n",
              "      <td>2011-12-31 07:55:00</td>\n",
              "      <td>NaN</td>\n",
              "      <td>NaN</td>\n",
              "      <td>NaN</td>\n",
              "      <td>NaN</td>\n",
              "      <td>NaN</td>\n",
              "      <td>NaN</td>\n",
              "      <td>NaN</td>\n",
              "    </tr>\n",
              "    <tr>\n",
              "      <th>4</th>\n",
              "      <td>2011-12-31 07:56:00</td>\n",
              "      <td>NaN</td>\n",
              "      <td>NaN</td>\n",
              "      <td>NaN</td>\n",
              "      <td>NaN</td>\n",
              "      <td>NaN</td>\n",
              "      <td>NaN</td>\n",
              "      <td>NaN</td>\n",
              "    </tr>\n",
              "  </tbody>\n",
              "</table>\n",
              "</div>\n",
              "      <button class=\"colab-df-convert\" onclick=\"convertToInteractive('df-ba25a22c-987c-41e1-b2ce-0e79d1fa48af')\"\n",
              "              title=\"Convert this dataframe to an interactive table.\"\n",
              "              style=\"display:none;\">\n",
              "        \n",
              "  <svg xmlns=\"http://www.w3.org/2000/svg\" height=\"24px\"viewBox=\"0 0 24 24\"\n",
              "       width=\"24px\">\n",
              "    <path d=\"M0 0h24v24H0V0z\" fill=\"none\"/>\n",
              "    <path d=\"M18.56 5.44l.94 2.06.94-2.06 2.06-.94-2.06-.94-.94-2.06-.94 2.06-2.06.94zm-11 1L8.5 8.5l.94-2.06 2.06-.94-2.06-.94L8.5 2.5l-.94 2.06-2.06.94zm10 10l.94 2.06.94-2.06 2.06-.94-2.06-.94-.94-2.06-.94 2.06-2.06.94z\"/><path d=\"M17.41 7.96l-1.37-1.37c-.4-.4-.92-.59-1.43-.59-.52 0-1.04.2-1.43.59L10.3 9.45l-7.72 7.72c-.78.78-.78 2.05 0 2.83L4 21.41c.39.39.9.59 1.41.59.51 0 1.02-.2 1.41-.59l7.78-7.78 2.81-2.81c.8-.78.8-2.07 0-2.86zM5.41 20L4 18.59l7.72-7.72 1.47 1.35L5.41 20z\"/>\n",
              "  </svg>\n",
              "      </button>\n",
              "      \n",
              "  <style>\n",
              "    .colab-df-container {\n",
              "      display:flex;\n",
              "      flex-wrap:wrap;\n",
              "      gap: 12px;\n",
              "    }\n",
              "\n",
              "    .colab-df-convert {\n",
              "      background-color: #E8F0FE;\n",
              "      border: none;\n",
              "      border-radius: 50%;\n",
              "      cursor: pointer;\n",
              "      display: none;\n",
              "      fill: #1967D2;\n",
              "      height: 32px;\n",
              "      padding: 0 0 0 0;\n",
              "      width: 32px;\n",
              "    }\n",
              "\n",
              "    .colab-df-convert:hover {\n",
              "      background-color: #E2EBFA;\n",
              "      box-shadow: 0px 1px 2px rgba(60, 64, 67, 0.3), 0px 1px 3px 1px rgba(60, 64, 67, 0.15);\n",
              "      fill: #174EA6;\n",
              "    }\n",
              "\n",
              "    [theme=dark] .colab-df-convert {\n",
              "      background-color: #3B4455;\n",
              "      fill: #D2E3FC;\n",
              "    }\n",
              "\n",
              "    [theme=dark] .colab-df-convert:hover {\n",
              "      background-color: #434B5C;\n",
              "      box-shadow: 0px 1px 3px 1px rgba(0, 0, 0, 0.15);\n",
              "      filter: drop-shadow(0px 1px 2px rgba(0, 0, 0, 0.3));\n",
              "      fill: #FFFFFF;\n",
              "    }\n",
              "  </style>\n",
              "\n",
              "      <script>\n",
              "        const buttonEl =\n",
              "          document.querySelector('#df-ba25a22c-987c-41e1-b2ce-0e79d1fa48af button.colab-df-convert');\n",
              "        buttonEl.style.display =\n",
              "          google.colab.kernel.accessAllowed ? 'block' : 'none';\n",
              "\n",
              "        async function convertToInteractive(key) {\n",
              "          const element = document.querySelector('#df-ba25a22c-987c-41e1-b2ce-0e79d1fa48af');\n",
              "          const dataTable =\n",
              "            await google.colab.kernel.invokeFunction('convertToInteractive',\n",
              "                                                     [key], {});\n",
              "          if (!dataTable) return;\n",
              "\n",
              "          const docLinkHtml = 'Like what you see? Visit the ' +\n",
              "            '<a target=\"_blank\" href=https://colab.research.google.com/notebooks/data_table.ipynb>data table notebook</a>'\n",
              "            + ' to learn more about interactive tables.';\n",
              "          element.innerHTML = '';\n",
              "          dataTable['output_type'] = 'display_data';\n",
              "          await google.colab.output.renderOutput(dataTable, element);\n",
              "          const docLink = document.createElement('div');\n",
              "          docLink.innerHTML = docLinkHtml;\n",
              "          element.appendChild(docLink);\n",
              "        }\n",
              "      </script>\n",
              "    </div>\n",
              "  </div>\n",
              "  "
            ],
            "text/plain": [
              "            Timestamp  Open  ...  Volume_(Currency)  Weighted_Price\n",
              "0 2011-12-31 07:52:00  4.39  ...                2.0            4.39\n",
              "1 2011-12-31 07:53:00   NaN  ...                NaN             NaN\n",
              "2 2011-12-31 07:54:00   NaN  ...                NaN             NaN\n",
              "3 2011-12-31 07:55:00   NaN  ...                NaN             NaN\n",
              "4 2011-12-31 07:56:00   NaN  ...                NaN             NaN\n",
              "\n",
              "[5 rows x 8 columns]"
            ]
          },
          "metadata": {},
          "execution_count": 15
        }
      ]
    },
    {
      "cell_type": "code",
      "metadata": {
        "id": "hjvatlN8FxHu",
        "colab": {
          "base_uri": "https://localhost:8080/",
          "height": 206
        },
        "outputId": "82e8a62f-8f89-4621-9f69-a722840921cd"
      },
      "source": [
        "df.tail()"
      ],
      "execution_count": 16,
      "outputs": [
        {
          "output_type": "execute_result",
          "data": {
            "text/html": [
              "\n",
              "  <div id=\"df-dd1598a9-fdec-4d68-ba51-b3d9f8add690\">\n",
              "    <div class=\"colab-df-container\">\n",
              "      <div>\n",
              "<style scoped>\n",
              "    .dataframe tbody tr th:only-of-type {\n",
              "        vertical-align: middle;\n",
              "    }\n",
              "\n",
              "    .dataframe tbody tr th {\n",
              "        vertical-align: top;\n",
              "    }\n",
              "\n",
              "    .dataframe thead th {\n",
              "        text-align: right;\n",
              "    }\n",
              "</style>\n",
              "<table border=\"1\" class=\"dataframe\">\n",
              "  <thead>\n",
              "    <tr style=\"text-align: right;\">\n",
              "      <th></th>\n",
              "      <th>Timestamp</th>\n",
              "      <th>Open</th>\n",
              "      <th>High</th>\n",
              "      <th>Low</th>\n",
              "      <th>Close</th>\n",
              "      <th>Volume_(BTC)</th>\n",
              "      <th>Volume_(Currency)</th>\n",
              "      <th>Weighted_Price</th>\n",
              "    </tr>\n",
              "  </thead>\n",
              "  <tbody>\n",
              "    <tr>\n",
              "      <th>4821511</th>\n",
              "      <td>2021-03-06 02:15:00</td>\n",
              "      <td>48362.00</td>\n",
              "      <td>48396.43</td>\n",
              "      <td>48362.00</td>\n",
              "      <td>48391.21</td>\n",
              "      <td>0.846486</td>\n",
              "      <td>40949.758889</td>\n",
              "      <td>48376.167174</td>\n",
              "    </tr>\n",
              "    <tr>\n",
              "      <th>4821512</th>\n",
              "      <td>2021-03-06 02:16:00</td>\n",
              "      <td>48383.17</td>\n",
              "      <td>48447.21</td>\n",
              "      <td>48383.17</td>\n",
              "      <td>48441.99</td>\n",
              "      <td>0.503095</td>\n",
              "      <td>24370.418563</td>\n",
              "      <td>48440.942159</td>\n",
              "    </tr>\n",
              "    <tr>\n",
              "      <th>4821513</th>\n",
              "      <td>2021-03-06 02:17:00</td>\n",
              "      <td>48459.00</td>\n",
              "      <td>48462.50</td>\n",
              "      <td>48377.55</td>\n",
              "      <td>48384.22</td>\n",
              "      <td>0.976677</td>\n",
              "      <td>47291.371758</td>\n",
              "      <td>48420.705795</td>\n",
              "    </tr>\n",
              "    <tr>\n",
              "      <th>4821514</th>\n",
              "      <td>2021-03-06 02:18:00</td>\n",
              "      <td>48384.22</td>\n",
              "      <td>48424.54</td>\n",
              "      <td>48384.22</td>\n",
              "      <td>48405.72</td>\n",
              "      <td>0.828068</td>\n",
              "      <td>40079.892079</td>\n",
              "      <td>48401.670701</td>\n",
              "    </tr>\n",
              "    <tr>\n",
              "      <th>4821515</th>\n",
              "      <td>2021-03-06 02:19:00</td>\n",
              "      <td>48433.28</td>\n",
              "      <td>48464.89</td>\n",
              "      <td>48428.09</td>\n",
              "      <td>48464.89</td>\n",
              "      <td>1.000000</td>\n",
              "      <td>NaN</td>\n",
              "      <td>NaN</td>\n",
              "    </tr>\n",
              "  </tbody>\n",
              "</table>\n",
              "</div>\n",
              "      <button class=\"colab-df-convert\" onclick=\"convertToInteractive('df-dd1598a9-fdec-4d68-ba51-b3d9f8add690')\"\n",
              "              title=\"Convert this dataframe to an interactive table.\"\n",
              "              style=\"display:none;\">\n",
              "        \n",
              "  <svg xmlns=\"http://www.w3.org/2000/svg\" height=\"24px\"viewBox=\"0 0 24 24\"\n",
              "       width=\"24px\">\n",
              "    <path d=\"M0 0h24v24H0V0z\" fill=\"none\"/>\n",
              "    <path d=\"M18.56 5.44l.94 2.06.94-2.06 2.06-.94-2.06-.94-.94-2.06-.94 2.06-2.06.94zm-11 1L8.5 8.5l.94-2.06 2.06-.94-2.06-.94L8.5 2.5l-.94 2.06-2.06.94zm10 10l.94 2.06.94-2.06 2.06-.94-2.06-.94-.94-2.06-.94 2.06-2.06.94z\"/><path d=\"M17.41 7.96l-1.37-1.37c-.4-.4-.92-.59-1.43-.59-.52 0-1.04.2-1.43.59L10.3 9.45l-7.72 7.72c-.78.78-.78 2.05 0 2.83L4 21.41c.39.39.9.59 1.41.59.51 0 1.02-.2 1.41-.59l7.78-7.78 2.81-2.81c.8-.78.8-2.07 0-2.86zM5.41 20L4 18.59l7.72-7.72 1.47 1.35L5.41 20z\"/>\n",
              "  </svg>\n",
              "      </button>\n",
              "      \n",
              "  <style>\n",
              "    .colab-df-container {\n",
              "      display:flex;\n",
              "      flex-wrap:wrap;\n",
              "      gap: 12px;\n",
              "    }\n",
              "\n",
              "    .colab-df-convert {\n",
              "      background-color: #E8F0FE;\n",
              "      border: none;\n",
              "      border-radius: 50%;\n",
              "      cursor: pointer;\n",
              "      display: none;\n",
              "      fill: #1967D2;\n",
              "      height: 32px;\n",
              "      padding: 0 0 0 0;\n",
              "      width: 32px;\n",
              "    }\n",
              "\n",
              "    .colab-df-convert:hover {\n",
              "      background-color: #E2EBFA;\n",
              "      box-shadow: 0px 1px 2px rgba(60, 64, 67, 0.3), 0px 1px 3px 1px rgba(60, 64, 67, 0.15);\n",
              "      fill: #174EA6;\n",
              "    }\n",
              "\n",
              "    [theme=dark] .colab-df-convert {\n",
              "      background-color: #3B4455;\n",
              "      fill: #D2E3FC;\n",
              "    }\n",
              "\n",
              "    [theme=dark] .colab-df-convert:hover {\n",
              "      background-color: #434B5C;\n",
              "      box-shadow: 0px 1px 3px 1px rgba(0, 0, 0, 0.15);\n",
              "      filter: drop-shadow(0px 1px 2px rgba(0, 0, 0, 0.3));\n",
              "      fill: #FFFFFF;\n",
              "    }\n",
              "  </style>\n",
              "\n",
              "      <script>\n",
              "        const buttonEl =\n",
              "          document.querySelector('#df-dd1598a9-fdec-4d68-ba51-b3d9f8add690 button.colab-df-convert');\n",
              "        buttonEl.style.display =\n",
              "          google.colab.kernel.accessAllowed ? 'block' : 'none';\n",
              "\n",
              "        async function convertToInteractive(key) {\n",
              "          const element = document.querySelector('#df-dd1598a9-fdec-4d68-ba51-b3d9f8add690');\n",
              "          const dataTable =\n",
              "            await google.colab.kernel.invokeFunction('convertToInteractive',\n",
              "                                                     [key], {});\n",
              "          if (!dataTable) return;\n",
              "\n",
              "          const docLinkHtml = 'Like what you see? Visit the ' +\n",
              "            '<a target=\"_blank\" href=https://colab.research.google.com/notebooks/data_table.ipynb>data table notebook</a>'\n",
              "            + ' to learn more about interactive tables.';\n",
              "          element.innerHTML = '';\n",
              "          dataTable['output_type'] = 'display_data';\n",
              "          await google.colab.output.renderOutput(dataTable, element);\n",
              "          const docLink = document.createElement('div');\n",
              "          docLink.innerHTML = docLinkHtml;\n",
              "          element.appendChild(docLink);\n",
              "        }\n",
              "      </script>\n",
              "    </div>\n",
              "  </div>\n",
              "  "
            ],
            "text/plain": [
              "                  Timestamp      Open  ...  Volume_(Currency)  Weighted_Price\n",
              "4821511 2021-03-06 02:15:00  48362.00  ...       40949.758889    48376.167174\n",
              "4821512 2021-03-06 02:16:00  48383.17  ...       24370.418563    48440.942159\n",
              "4821513 2021-03-06 02:17:00  48459.00  ...       47291.371758    48420.705795\n",
              "4821514 2021-03-06 02:18:00  48384.22  ...       40079.892079    48401.670701\n",
              "4821515 2021-03-06 02:19:00  48433.28  ...                NaN             NaN\n",
              "\n",
              "[5 rows x 8 columns]"
            ]
          },
          "metadata": {},
          "execution_count": 16
        }
      ]
    },
    {
      "cell_type": "code",
      "metadata": {
        "id": "nA7N-hQ8R3ic",
        "colab": {
          "base_uri": "https://localhost:8080/"
        },
        "outputId": "5cab5d0c-44a8-4f71-99cc-9dd75dfc131d"
      },
      "source": [
        "df[\"Timestamp\"].dtype"
      ],
      "execution_count": 17,
      "outputs": [
        {
          "output_type": "execute_result",
          "data": {
            "text/plain": [
              "dtype('<M8[ns]')"
            ]
          },
          "metadata": {},
          "execution_count": 17
        }
      ]
    },
    {
      "cell_type": "code",
      "metadata": {
        "id": "HHENlromRMoh"
      },
      "source": [
        "df[\"Timestamp\"]=pd.to_datetime(df[\"Timestamp\"], format= \"%Y-%m-%d\")\n"
      ],
      "execution_count": 18,
      "outputs": []
    },
    {
      "cell_type": "code",
      "metadata": {
        "id": "Vqxx5JpbQNQ4",
        "colab": {
          "base_uri": "https://localhost:8080/"
        },
        "outputId": "1249d56f-65dd-4702-81e1-eadbc5de5dc1"
      },
      "source": [
        "#Tipo do dado foi alterado\n",
        "df.dtypes"
      ],
      "execution_count": 19,
      "outputs": [
        {
          "output_type": "execute_result",
          "data": {
            "text/plain": [
              "Timestamp            datetime64[ns]\n",
              "Open                        float64\n",
              "High                        float64\n",
              "Low                         float64\n",
              "Close                       float64\n",
              "Volume_(BTC)                float64\n",
              "Volume_(Currency)           float64\n",
              "Weighted_Price              float64\n",
              "dtype: object"
            ]
          },
          "metadata": {},
          "execution_count": 19
        }
      ]
    },
    {
      "cell_type": "markdown",
      "metadata": {
        "id": "1CW8hAl-ZuIc"
      },
      "source": [
        "Correlção\n"
      ]
    },
    {
      "cell_type": "code",
      "metadata": {
        "id": "fIDwzC09Xx_U",
        "colab": {
          "base_uri": "https://localhost:8080/",
          "height": 269
        },
        "outputId": "0cb1f73e-4715-49e0-9d55-76bb1fa8b1c9"
      },
      "source": [
        "#correlação entre as features\n",
        "corr=df.corr()\n",
        "corr"
      ],
      "execution_count": 20,
      "outputs": [
        {
          "output_type": "execute_result",
          "data": {
            "text/html": [
              "\n",
              "  <div id=\"df-9b444df9-c204-46f9-b61c-072e0efc8567\">\n",
              "    <div class=\"colab-df-container\">\n",
              "      <div>\n",
              "<style scoped>\n",
              "    .dataframe tbody tr th:only-of-type {\n",
              "        vertical-align: middle;\n",
              "    }\n",
              "\n",
              "    .dataframe tbody tr th {\n",
              "        vertical-align: top;\n",
              "    }\n",
              "\n",
              "    .dataframe thead th {\n",
              "        text-align: right;\n",
              "    }\n",
              "</style>\n",
              "<table border=\"1\" class=\"dataframe\">\n",
              "  <thead>\n",
              "    <tr style=\"text-align: right;\">\n",
              "      <th></th>\n",
              "      <th>Open</th>\n",
              "      <th>High</th>\n",
              "      <th>Low</th>\n",
              "      <th>Close</th>\n",
              "      <th>Volume_(BTC)</th>\n",
              "      <th>Volume_(Currency)</th>\n",
              "      <th>Weighted_Price</th>\n",
              "    </tr>\n",
              "  </thead>\n",
              "  <tbody>\n",
              "    <tr>\n",
              "      <th>Open</th>\n",
              "      <td>1.000000</td>\n",
              "      <td>0.999999</td>\n",
              "      <td>0.999999</td>\n",
              "      <td>0.999998</td>\n",
              "      <td>-0.049494</td>\n",
              "      <td>0.359284</td>\n",
              "      <td>0.999999</td>\n",
              "    </tr>\n",
              "    <tr>\n",
              "      <th>High</th>\n",
              "      <td>0.999999</td>\n",
              "      <td>1.000000</td>\n",
              "      <td>0.999998</td>\n",
              "      <td>0.999999</td>\n",
              "      <td>-0.049324</td>\n",
              "      <td>0.359756</td>\n",
              "      <td>0.999999</td>\n",
              "    </tr>\n",
              "    <tr>\n",
              "      <th>Low</th>\n",
              "      <td>0.999999</td>\n",
              "      <td>0.999998</td>\n",
              "      <td>1.000000</td>\n",
              "      <td>0.999999</td>\n",
              "      <td>-0.049708</td>\n",
              "      <td>0.358689</td>\n",
              "      <td>0.999999</td>\n",
              "    </tr>\n",
              "    <tr>\n",
              "      <th>Close</th>\n",
              "      <td>0.999998</td>\n",
              "      <td>0.999999</td>\n",
              "      <td>0.999999</td>\n",
              "      <td>1.000000</td>\n",
              "      <td>-0.049514</td>\n",
              "      <td>0.359244</td>\n",
              "      <td>0.999999</td>\n",
              "    </tr>\n",
              "    <tr>\n",
              "      <th>Volume_(BTC)</th>\n",
              "      <td>-0.049494</td>\n",
              "      <td>-0.049324</td>\n",
              "      <td>-0.049708</td>\n",
              "      <td>-0.049514</td>\n",
              "      <td>1.000000</td>\n",
              "      <td>0.361116</td>\n",
              "      <td>-0.049526</td>\n",
              "    </tr>\n",
              "    <tr>\n",
              "      <th>Volume_(Currency)</th>\n",
              "      <td>0.359284</td>\n",
              "      <td>0.359756</td>\n",
              "      <td>0.358689</td>\n",
              "      <td>0.359244</td>\n",
              "      <td>0.361116</td>\n",
              "      <td>1.000000</td>\n",
              "      <td>0.359209</td>\n",
              "    </tr>\n",
              "    <tr>\n",
              "      <th>Weighted_Price</th>\n",
              "      <td>0.999999</td>\n",
              "      <td>0.999999</td>\n",
              "      <td>0.999999</td>\n",
              "      <td>0.999999</td>\n",
              "      <td>-0.049526</td>\n",
              "      <td>0.359209</td>\n",
              "      <td>1.000000</td>\n",
              "    </tr>\n",
              "  </tbody>\n",
              "</table>\n",
              "</div>\n",
              "      <button class=\"colab-df-convert\" onclick=\"convertToInteractive('df-9b444df9-c204-46f9-b61c-072e0efc8567')\"\n",
              "              title=\"Convert this dataframe to an interactive table.\"\n",
              "              style=\"display:none;\">\n",
              "        \n",
              "  <svg xmlns=\"http://www.w3.org/2000/svg\" height=\"24px\"viewBox=\"0 0 24 24\"\n",
              "       width=\"24px\">\n",
              "    <path d=\"M0 0h24v24H0V0z\" fill=\"none\"/>\n",
              "    <path d=\"M18.56 5.44l.94 2.06.94-2.06 2.06-.94-2.06-.94-.94-2.06-.94 2.06-2.06.94zm-11 1L8.5 8.5l.94-2.06 2.06-.94-2.06-.94L8.5 2.5l-.94 2.06-2.06.94zm10 10l.94 2.06.94-2.06 2.06-.94-2.06-.94-.94-2.06-.94 2.06-2.06.94z\"/><path d=\"M17.41 7.96l-1.37-1.37c-.4-.4-.92-.59-1.43-.59-.52 0-1.04.2-1.43.59L10.3 9.45l-7.72 7.72c-.78.78-.78 2.05 0 2.83L4 21.41c.39.39.9.59 1.41.59.51 0 1.02-.2 1.41-.59l7.78-7.78 2.81-2.81c.8-.78.8-2.07 0-2.86zM5.41 20L4 18.59l7.72-7.72 1.47 1.35L5.41 20z\"/>\n",
              "  </svg>\n",
              "      </button>\n",
              "      \n",
              "  <style>\n",
              "    .colab-df-container {\n",
              "      display:flex;\n",
              "      flex-wrap:wrap;\n",
              "      gap: 12px;\n",
              "    }\n",
              "\n",
              "    .colab-df-convert {\n",
              "      background-color: #E8F0FE;\n",
              "      border: none;\n",
              "      border-radius: 50%;\n",
              "      cursor: pointer;\n",
              "      display: none;\n",
              "      fill: #1967D2;\n",
              "      height: 32px;\n",
              "      padding: 0 0 0 0;\n",
              "      width: 32px;\n",
              "    }\n",
              "\n",
              "    .colab-df-convert:hover {\n",
              "      background-color: #E2EBFA;\n",
              "      box-shadow: 0px 1px 2px rgba(60, 64, 67, 0.3), 0px 1px 3px 1px rgba(60, 64, 67, 0.15);\n",
              "      fill: #174EA6;\n",
              "    }\n",
              "\n",
              "    [theme=dark] .colab-df-convert {\n",
              "      background-color: #3B4455;\n",
              "      fill: #D2E3FC;\n",
              "    }\n",
              "\n",
              "    [theme=dark] .colab-df-convert:hover {\n",
              "      background-color: #434B5C;\n",
              "      box-shadow: 0px 1px 3px 1px rgba(0, 0, 0, 0.15);\n",
              "      filter: drop-shadow(0px 1px 2px rgba(0, 0, 0, 0.3));\n",
              "      fill: #FFFFFF;\n",
              "    }\n",
              "  </style>\n",
              "\n",
              "      <script>\n",
              "        const buttonEl =\n",
              "          document.querySelector('#df-9b444df9-c204-46f9-b61c-072e0efc8567 button.colab-df-convert');\n",
              "        buttonEl.style.display =\n",
              "          google.colab.kernel.accessAllowed ? 'block' : 'none';\n",
              "\n",
              "        async function convertToInteractive(key) {\n",
              "          const element = document.querySelector('#df-9b444df9-c204-46f9-b61c-072e0efc8567');\n",
              "          const dataTable =\n",
              "            await google.colab.kernel.invokeFunction('convertToInteractive',\n",
              "                                                     [key], {});\n",
              "          if (!dataTable) return;\n",
              "\n",
              "          const docLinkHtml = 'Like what you see? Visit the ' +\n",
              "            '<a target=\"_blank\" href=https://colab.research.google.com/notebooks/data_table.ipynb>data table notebook</a>'\n",
              "            + ' to learn more about interactive tables.';\n",
              "          element.innerHTML = '';\n",
              "          dataTable['output_type'] = 'display_data';\n",
              "          await google.colab.output.renderOutput(dataTable, element);\n",
              "          const docLink = document.createElement('div');\n",
              "          docLink.innerHTML = docLinkHtml;\n",
              "          element.appendChild(docLink);\n",
              "        }\n",
              "      </script>\n",
              "    </div>\n",
              "  </div>\n",
              "  "
            ],
            "text/plain": [
              "                       Open      High  ...  Volume_(Currency)  Weighted_Price\n",
              "Open               1.000000  0.999999  ...           0.359284        0.999999\n",
              "High               0.999999  1.000000  ...           0.359756        0.999999\n",
              "Low                0.999999  0.999998  ...           0.358689        0.999999\n",
              "Close              0.999998  0.999999  ...           0.359244        0.999999\n",
              "Volume_(BTC)      -0.049494 -0.049324  ...           0.361116       -0.049526\n",
              "Volume_(Currency)  0.359284  0.359756  ...           1.000000        0.359209\n",
              "Weighted_Price     0.999999  0.999999  ...           0.359209        1.000000\n",
              "\n",
              "[7 rows x 7 columns]"
            ]
          },
          "metadata": {},
          "execution_count": 20
        }
      ]
    },
    {
      "cell_type": "code",
      "metadata": {
        "id": "u2d4SVbRZsQA",
        "colab": {
          "base_uri": "https://localhost:8080/",
          "height": 633
        },
        "outputId": "28ade7cc-bf6e-422b-b0a3-0cffc343b499"
      },
      "source": [
        "plt.figure(figsize=(12,10))\n",
        "corr\n",
        "sns.heatmap(data=corr, annot=True, linewidths=0.5, fmt=\".2f\",cmap=\"rocket\")\n",
        "plt.xticks(rotation=0)"
      ],
      "execution_count": 21,
      "outputs": [
        {
          "output_type": "execute_result",
          "data": {
            "text/plain": [
              "(array([0.5, 1.5, 2.5, 3.5, 4.5, 5.5, 6.5]),\n",
              " <a list of 7 Text major ticklabel objects>)"
            ]
          },
          "metadata": {},
          "execution_count": 21
        },
        {
          "output_type": "display_data",
          "data": {
            "image/png": "[encoded data removed]",
            "text/plain": [
              "<Figure size 864x720 with 2 Axes>"
            ]
          },
          "metadata": {
            "needs_background": "light"
          }
        }
      ]
    },
    {
      "cell_type": "markdown",
      "metadata": {
        "id": "tYrCXtvsekDa"
      },
      "source": [
        "#Correlação entre as features.\n",
        "\n",
        "1 - Open, high, low e close têm entre si grande correlação. (esperado).\n",
        "\n",
        "2 - BTC e  CURRENCY têm moderada correlação entre si, baixa com as demais features. \n",
        "\n",
        "3 - WEIGHTED PRICE tem alta correlação com as features open, high, low e close. E baixa com as features BTC E CURRENCY. \n",
        "\n",
        "\n",
        "\n"
      ]
    },
    {
      "cell_type": "markdown",
      "metadata": {
        "id": "UdveCLgF5xwa"
      },
      "source": [
        "##Dicionário de dados\n",
        "\n",
        "1 - Timestamp - Hora de início da janela. Janelas de 60s em unidade de time unix. Tipo - int. Alterado para datetime.\n",
        "\n",
        "2 - Open - Valor de abertura no início da janela. Tipo de dado - float.\n",
        "\n",
        "3 - High - Valor mais alto durante a janela. Tipo de dado - float.\n",
        "\n",
        "4 - Low - Valor mais baixo durante a janela. Tipo de dado - float. \n",
        "\n",
        "5 - Close - Valor no fechamento da janela. Tipo de dado - float. \n",
        "\n",
        "6 - Volume BTC - Volume de bitcoin transacionado na respectiva janela. Tipo de dado - float.\n",
        "\n",
        "7 - Volume currency - Volume total de cryptomoedas transacionadas na respectiva janela. Tipo de dado - float.\n",
        "\n",
        "8 - Weighted Price - VWAP - Preço médio ponderado por volume. É obtido da razão entre o somatório do produto do número de bitcoin comprado pelo preço, e o total de bitcoin comprado. Tipo de dado - float.  "
      ]
    },
    {
      "cell_type": "markdown",
      "metadata": {
        "id": "K5E3ET05xpeB"
      },
      "source": [
        "#Dados faltantes e duplicatas.\n",
        "\n",
        "A abordagem adotada com relação aos NaN presentes no conjunto de dados foi de, a princípio, não leva-los em consideração deste ponto em diante. Devido ao fato de serem apenas dados faltantes que não deverão influenciar no presente projeto.\n",
        "\n",
        "\n"
      ]
    },
    {
      "cell_type": "markdown",
      "metadata": {
        "id": "s2jUgBmlhOSY"
      },
      "source": [
        "#Percentual de dados faltantes\n",
        "\n",
        "O conjunto de dados tem 25,6% de dados faltantes."
      ]
    },
    {
      "cell_type": "code",
      "metadata": {
        "id": "mSwAy5DFZumu",
        "colab": {
          "base_uri": "https://localhost:8080/",
          "height": 424
        },
        "outputId": "7e2bdde6-5c6f-4150-fbc8-98e570ac551a"
      },
      "source": [
        "#Verificando de dados faltantes no conjunto de dados \n",
        "df.isnull()"
      ],
      "execution_count": 22,
      "outputs": [
        {
          "output_type": "execute_result",
          "data": {
            "text/html": [
              "\n",
              "  <div id=\"df-de4308d1-b95b-463a-aee9-d8941dae831b\">\n",
              "    <div class=\"colab-df-container\">\n",
              "      <div>\n",
              "<style scoped>\n",
              "    .dataframe tbody tr th:only-of-type {\n",
              "        vertical-align: middle;\n",
              "    }\n",
              "\n",
              "    .dataframe tbody tr th {\n",
              "        vertical-align: top;\n",
              "    }\n",
              "\n",
              "    .dataframe thead th {\n",
              "        text-align: right;\n",
              "    }\n",
              "</style>\n",
              "<table border=\"1\" class=\"dataframe\">\n",
              "  <thead>\n",
              "    <tr style=\"text-align: right;\">\n",
              "      <th></th>\n",
              "      <th>Timestamp</th>\n",
              "      <th>Open</th>\n",
              "      <th>High</th>\n",
              "      <th>Low</th>\n",
              "      <th>Close</th>\n",
              "      <th>Volume_(BTC)</th>\n",
              "      <th>Volume_(Currency)</th>\n",
              "      <th>Weighted_Price</th>\n",
              "    </tr>\n",
              "  </thead>\n",
              "  <tbody>\n",
              "    <tr>\n",
              "      <th>0</th>\n",
              "      <td>False</td>\n",
              "      <td>False</td>\n",
              "      <td>False</td>\n",
              "      <td>False</td>\n",
              "      <td>False</td>\n",
              "      <td>False</td>\n",
              "      <td>False</td>\n",
              "      <td>False</td>\n",
              "    </tr>\n",
              "    <tr>\n",
              "      <th>1</th>\n",
              "      <td>False</td>\n",
              "      <td>True</td>\n",
              "      <td>True</td>\n",
              "      <td>True</td>\n",
              "      <td>True</td>\n",
              "      <td>True</td>\n",
              "      <td>True</td>\n",
              "      <td>True</td>\n",
              "    </tr>\n",
              "    <tr>\n",
              "      <th>2</th>\n",
              "      <td>False</td>\n",
              "      <td>True</td>\n",
              "      <td>True</td>\n",
              "      <td>True</td>\n",
              "      <td>True</td>\n",
              "      <td>True</td>\n",
              "      <td>True</td>\n",
              "      <td>True</td>\n",
              "    </tr>\n",
              "    <tr>\n",
              "      <th>3</th>\n",
              "      <td>False</td>\n",
              "      <td>True</td>\n",
              "      <td>True</td>\n",
              "      <td>True</td>\n",
              "      <td>True</td>\n",
              "      <td>True</td>\n",
              "      <td>True</td>\n",
              "      <td>True</td>\n",
              "    </tr>\n",
              "    <tr>\n",
              "      <th>4</th>\n",
              "      <td>False</td>\n",
              "      <td>True</td>\n",
              "      <td>True</td>\n",
              "      <td>True</td>\n",
              "      <td>True</td>\n",
              "      <td>True</td>\n",
              "      <td>True</td>\n",
              "      <td>True</td>\n",
              "    </tr>\n",
              "    <tr>\n",
              "      <th>...</th>\n",
              "      <td>...</td>\n",
              "      <td>...</td>\n",
              "      <td>...</td>\n",
              "      <td>...</td>\n",
              "      <td>...</td>\n",
              "      <td>...</td>\n",
              "      <td>...</td>\n",
              "      <td>...</td>\n",
              "    </tr>\n",
              "    <tr>\n",
              "      <th>4821511</th>\n",
              "      <td>False</td>\n",
              "      <td>False</td>\n",
              "      <td>False</td>\n",
              "      <td>False</td>\n",
              "      <td>False</td>\n",
              "      <td>False</td>\n",
              "      <td>False</td>\n",
              "      <td>False</td>\n",
              "    </tr>\n",
              "    <tr>\n",
              "      <th>4821512</th>\n",
              "      <td>False</td>\n",
              "      <td>False</td>\n",
              "      <td>False</td>\n",
              "      <td>False</td>\n",
              "      <td>False</td>\n",
              "      <td>False</td>\n",
              "      <td>False</td>\n",
              "      <td>False</td>\n",
              "    </tr>\n",
              "    <tr>\n",
              "      <th>4821513</th>\n",
              "      <td>False</td>\n",
              "      <td>False</td>\n",
              "      <td>False</td>\n",
              "      <td>False</td>\n",
              "      <td>False</td>\n",
              "      <td>False</td>\n",
              "      <td>False</td>\n",
              "      <td>False</td>\n",
              "    </tr>\n",
              "    <tr>\n",
              "      <th>4821514</th>\n",
              "      <td>False</td>\n",
              "      <td>False</td>\n",
              "      <td>False</td>\n",
              "      <td>False</td>\n",
              "      <td>False</td>\n",
              "      <td>False</td>\n",
              "      <td>False</td>\n",
              "      <td>False</td>\n",
              "    </tr>\n",
              "    <tr>\n",
              "      <th>4821515</th>\n",
              "      <td>False</td>\n",
              "      <td>False</td>\n",
              "      <td>False</td>\n",
              "      <td>False</td>\n",
              "      <td>False</td>\n",
              "      <td>False</td>\n",
              "      <td>True</td>\n",
              "      <td>True</td>\n",
              "    </tr>\n",
              "  </tbody>\n",
              "</table>\n",
              "<p>4821516 rows × 8 columns</p>\n",
              "</div>\n",
              "      <button class=\"colab-df-convert\" onclick=\"convertToInteractive('df-de4308d1-b95b-463a-aee9-d8941dae831b')\"\n",
              "              title=\"Convert this dataframe to an interactive table.\"\n",
              "              style=\"display:none;\">\n",
              "        \n",
              "  <svg xmlns=\"http://www.w3.org/2000/svg\" height=\"24px\"viewBox=\"0 0 24 24\"\n",
              "       width=\"24px\">\n",
              "    <path d=\"M0 0h24v24H0V0z\" fill=\"none\"/>\n",
              "    <path d=\"M18.56 5.44l.94 2.06.94-2.06 2.06-.94-2.06-.94-.94-2.06-.94 2.06-2.06.94zm-11 1L8.5 8.5l.94-2.06 2.06-.94-2.06-.94L8.5 2.5l-.94 2.06-2.06.94zm10 10l.94 2.06.94-2.06 2.06-.94-2.06-.94-.94-2.06-.94 2.06-2.06.94z\"/><path d=\"M17.41 7.96l-1.37-1.37c-.4-.4-.92-.59-1.43-.59-.52 0-1.04.2-1.43.59L10.3 9.45l-7.72 7.72c-.78.78-.78 2.05 0 2.83L4 21.41c.39.39.9.59 1.41.59.51 0 1.02-.2 1.41-.59l7.78-7.78 2.81-2.81c.8-.78.8-2.07 0-2.86zM5.41 20L4 18.59l7.72-7.72 1.47 1.35L5.41 20z\"/>\n",
              "  </svg>\n",
              "      </button>\n",
              "      \n",
              "  <style>\n",
              "    .colab-df-container {\n",
              "      display:flex;\n",
              "      flex-wrap:wrap;\n",
              "      gap: 12px;\n",
              "    }\n",
              "\n",
              "    .colab-df-convert {\n",
              "      background-color: #E8F0FE;\n",
              "      border: none;\n",
              "      border-radius: 50%;\n",
              "      cursor: pointer;\n",
              "      display: none;\n",
              "      fill: #1967D2;\n",
              "      height: 32px;\n",
              "      padding: 0 0 0 0;\n",
              "      width: 32px;\n",
              "    }\n",
              "\n",
              "    .colab-df-convert:hover {\n",
              "      background-color: #E2EBFA;\n",
              "      box-shadow: 0px 1px 2px rgba(60, 64, 67, 0.3), 0px 1px 3px 1px rgba(60, 64, 67, 0.15);\n",
              "      fill: #174EA6;\n",
              "    }\n",
              "\n",
              "    [theme=dark] .colab-df-convert {\n",
              "      background-color: #3B4455;\n",
              "      fill: #D2E3FC;\n",
              "    }\n",
              "\n",
              "    [theme=dark] .colab-df-convert:hover {\n",
              "      background-color: #434B5C;\n",
              "      box-shadow: 0px 1px 3px 1px rgba(0, 0, 0, 0.15);\n",
              "      filter: drop-shadow(0px 1px 2px rgba(0, 0, 0, 0.3));\n",
              "      fill: #FFFFFF;\n",
              "    }\n",
              "  </style>\n",
              "\n",
              "      <script>\n",
              "        const buttonEl =\n",
              "          document.querySelector('#df-de4308d1-b95b-463a-aee9-d8941dae831b button.colab-df-convert');\n",
              "        buttonEl.style.display =\n",
              "          google.colab.kernel.accessAllowed ? 'block' : 'none';\n",
              "\n",
              "        async function convertToInteractive(key) {\n",
              "          const element = document.querySelector('#df-de4308d1-b95b-463a-aee9-d8941dae831b');\n",
              "          const dataTable =\n",
              "            await google.colab.kernel.invokeFunction('convertToInteractive',\n",
              "                                                     [key], {});\n",
              "          if (!dataTable) return;\n",
              "\n",
              "          const docLinkHtml = 'Like what you see? Visit the ' +\n",
              "            '<a target=\"_blank\" href=https://colab.research.google.com/notebooks/data_table.ipynb>data table notebook</a>'\n",
              "            + ' to learn more about interactive tables.';\n",
              "          element.innerHTML = '';\n",
              "          dataTable['output_type'] = 'display_data';\n",
              "          await google.colab.output.renderOutput(dataTable, element);\n",
              "          const docLink = document.createElement('div');\n",
              "          docLink.innerHTML = docLinkHtml;\n",
              "          element.appendChild(docLink);\n",
              "        }\n",
              "      </script>\n",
              "    </div>\n",
              "  </div>\n",
              "  "
            ],
            "text/plain": [
              "         Timestamp   Open  ...  Volume_(Currency)  Weighted_Price\n",
              "0            False  False  ...              False           False\n",
              "1            False   True  ...               True            True\n",
              "2            False   True  ...               True            True\n",
              "3            False   True  ...               True            True\n",
              "4            False   True  ...               True            True\n",
              "...            ...    ...  ...                ...             ...\n",
              "4821511      False  False  ...              False           False\n",
              "4821512      False  False  ...              False           False\n",
              "4821513      False  False  ...              False           False\n",
              "4821514      False  False  ...              False           False\n",
              "4821515      False  False  ...               True            True\n",
              "\n",
              "[4821516 rows x 8 columns]"
            ]
          },
          "metadata": {},
          "execution_count": 22
        }
      ]
    },
    {
      "cell_type": "code",
      "metadata": {
        "id": "9hgta9DRb9bH",
        "colab": {
          "base_uri": "https://localhost:8080/"
        },
        "outputId": "5c44e6dd-8074-4b9c-a5c7-1c9b82c2fbf2"
      },
      "source": [
        "#Quantidade de dados faltantes por feature\n",
        "df.isnull().sum()"
      ],
      "execution_count": 23,
      "outputs": [
        {
          "output_type": "execute_result",
          "data": {
            "text/plain": [
              "Timestamp                  0\n",
              "Open                 1243525\n",
              "High                 1243525\n",
              "Low                  1243525\n",
              "Close                1243525\n",
              "Volume_(BTC)         1243525\n",
              "Volume_(Currency)    1243526\n",
              "Weighted_Price       1243526\n",
              "dtype: int64"
            ]
          },
          "metadata": {},
          "execution_count": 23
        }
      ]
    },
    {
      "cell_type": "code",
      "metadata": {
        "id": "Mw5PfBh7gSVd",
        "colab": {
          "base_uri": "https://localhost:8080/"
        },
        "outputId": "d6d6d511-6d85-4331-fc36-6ed6f34ac56b"
      },
      "source": [
        "#Separando colunas e linhas do df\n",
        "df.shape"
      ],
      "execution_count": 24,
      "outputs": [
        {
          "output_type": "execute_result",
          "data": {
            "text/plain": [
              "(4821516, 8)"
            ]
          },
          "metadata": {},
          "execution_count": 24
        }
      ]
    },
    {
      "cell_type": "code",
      "metadata": {
        "id": "hqg7PO3TgbNd"
      },
      "source": [
        "#Salvando as informações de linhas e colunas em variáveis para melhor manipulação \n",
        "linhas, colunas = df.shape"
      ],
      "execution_count": 25,
      "outputs": []
    },
    {
      "cell_type": "code",
      "metadata": {
        "id": "EJXkT3bNgpzc"
      },
      "source": [
        "#Verificando o percentual de dados faltantes no df e salvando numa respectiva variável\n",
        "percentual_faltantes = (df.isnull().sum()/linhas)*100"
      ],
      "execution_count": 26,
      "outputs": []
    },
    {
      "cell_type": "code",
      "metadata": {
        "id": "INETGajYg8JH",
        "colab": {
          "base_uri": "https://localhost:8080/"
        },
        "outputId": "16e78dbe-0c2b-44f2-f6df-25737fc4efc3"
      },
      "source": [
        "percentual_faltantes"
      ],
      "execution_count": 27,
      "outputs": [
        {
          "output_type": "execute_result",
          "data": {
            "text/plain": [
              "Timestamp             0.000000\n",
              "Open                 25.791162\n",
              "High                 25.791162\n",
              "Low                  25.791162\n",
              "Close                25.791162\n",
              "Volume_(BTC)         25.791162\n",
              "Volume_(Currency)    25.791183\n",
              "Weighted_Price       25.791183\n",
              "dtype: float64"
            ]
          },
          "metadata": {},
          "execution_count": 27
        }
      ]
    },
    {
      "cell_type": "code",
      "metadata": {
        "id": "8iCq9pDR__ef",
        "colab": {
          "base_uri": "https://localhost:8080/",
          "height": 622
        },
        "outputId": "31ef7f27-33ad-4fc5-b729-e52204e5925a"
      },
      "source": [
        "#Visualizando os dados faltantes\n",
        "msno.matrix(df, figsize=(10,8))"
      ],
      "execution_count": 28,
      "outputs": [
        {
          "output_type": "execute_result",
          "data": {
            "text/plain": [
              "<matplotlib.axes._subplots.AxesSubplot at 0x7f146ead8650>"
            ]
          },
          "metadata": {},
          "execution_count": 28
        },
        {
          "output_type": "display_data",
          "data": {
            "image/png": "[encoded data removed]",
            "text/plain": [
              "<Figure size 720x576 with 2 Axes>"
            ]
          },
          "metadata": {
            "needs_background": "light"
          }
        }
      ]
    },
    {
      "cell_type": "code",
      "metadata": {
        "id": "VF4mlugeEMg1",
        "colab": {
          "base_uri": "https://localhost:8080/",
          "height": 591
        },
        "outputId": "1c39398e-6a25-4cf7-c4b9-b886a11f376f"
      },
      "source": [
        "#Visualizando com mapa de calor\n",
        "plt.figure(figsize=(10,8))\n",
        "sns.heatmap(df.isnull())"
      ],
      "execution_count": 29,
      "outputs": [
        {
          "output_type": "execute_result",
          "data": {
            "text/plain": [
              "<matplotlib.axes._subplots.AxesSubplot at 0x7f146ea29810>"
            ]
          },
          "metadata": {},
          "execution_count": 29
        },
        {
          "output_type": "display_data",
          "data": {
            "image/png": "[encoded data removed]",
            "text/plain": [
              "<Figure size 720x576 with 2 Axes>"
            ]
          },
          "metadata": {
            "needs_background": "light"
          }
        }
      ]
    },
    {
      "cell_type": "code",
      "metadata": {
        "id": "nt1Q6MXbxgVD"
      },
      "source": [
        "#Cópia do df para exclusão dos faltantes.\n",
        "df_sem_faltantes= df.copy()"
      ],
      "execution_count": 30,
      "outputs": []
    },
    {
      "cell_type": "code",
      "metadata": {
        "id": "zwWWu6cs5hMj",
        "colab": {
          "base_uri": "https://localhost:8080/",
          "height": 206
        },
        "outputId": "c38f21ab-4763-4559-9cee-442e9d03e2a1"
      },
      "source": [
        "#Df a ser trabalho em diante. \n",
        "df_sem_faltantes.head()"
      ],
      "execution_count": 31,
      "outputs": [
        {
          "output_type": "execute_result",
          "data": {
            "text/html": [
              "\n",
              "  <div id=\"df-ee40116c-bdc2-469c-85b3-dc36182f0414\">\n",
              "    <div class=\"colab-df-container\">\n",
              "      <div>\n",
              "<style scoped>\n",
              "    .dataframe tbody tr th:only-of-type {\n",
              "        vertical-align: middle;\n",
              "    }\n",
              "\n",
              "    .dataframe tbody tr th {\n",
              "        vertical-align: top;\n",
              "    }\n",
              "\n",
              "    .dataframe thead th {\n",
              "        text-align: right;\n",
              "    }\n",
              "</style>\n",
              "<table border=\"1\" class=\"dataframe\">\n",
              "  <thead>\n",
              "    <tr style=\"text-align: right;\">\n",
              "      <th></th>\n",
              "      <th>Timestamp</th>\n",
              "      <th>Open</th>\n",
              "      <th>High</th>\n",
              "      <th>Low</th>\n",
              "      <th>Close</th>\n",
              "      <th>Volume_(BTC)</th>\n",
              "      <th>Volume_(Currency)</th>\n",
              "      <th>Weighted_Price</th>\n",
              "    </tr>\n",
              "  </thead>\n",
              "  <tbody>\n",
              "    <tr>\n",
              "      <th>0</th>\n",
              "      <td>2011-12-31 07:52:00</td>\n",
              "      <td>4.39</td>\n",
              "      <td>4.39</td>\n",
              "      <td>4.39</td>\n",
              "      <td>4.39</td>\n",
              "      <td>0.455581</td>\n",
              "      <td>2.0</td>\n",
              "      <td>4.39</td>\n",
              "    </tr>\n",
              "    <tr>\n",
              "      <th>1</th>\n",
              "      <td>2011-12-31 07:53:00</td>\n",
              "      <td>NaN</td>\n",
              "      <td>NaN</td>\n",
              "      <td>NaN</td>\n",
              "      <td>NaN</td>\n",
              "      <td>NaN</td>\n",
              "      <td>NaN</td>\n",
              "      <td>NaN</td>\n",
              "    </tr>\n",
              "    <tr>\n",
              "      <th>2</th>\n",
              "      <td>2011-12-31 07:54:00</td>\n",
              "      <td>NaN</td>\n",
              "      <td>NaN</td>\n",
              "      <td>NaN</td>\n",
              "      <td>NaN</td>\n",
              "      <td>NaN</td>\n",
              "      <td>NaN</td>\n",
              "      <td>NaN</td>\n",
              "    </tr>\n",
              "    <tr>\n",
              "      <th>3</th>\n",
              "      <td>2011-12-31 07:55:00</td>\n",
              "      <td>NaN</td>\n",
              "      <td>NaN</td>\n",
              "      <td>NaN</td>\n",
              "      <td>NaN</td>\n",
              "      <td>NaN</td>\n",
              "      <td>NaN</td>\n",
              "      <td>NaN</td>\n",
              "    </tr>\n",
              "    <tr>\n",
              "      <th>4</th>\n",
              "      <td>2011-12-31 07:56:00</td>\n",
              "      <td>NaN</td>\n",
              "      <td>NaN</td>\n",
              "      <td>NaN</td>\n",
              "      <td>NaN</td>\n",
              "      <td>NaN</td>\n",
              "      <td>NaN</td>\n",
              "      <td>NaN</td>\n",
              "    </tr>\n",
              "  </tbody>\n",
              "</table>\n",
              "</div>\n",
              "      <button class=\"colab-df-convert\" onclick=\"convertToInteractive('df-ee40116c-bdc2-469c-85b3-dc36182f0414')\"\n",
              "              title=\"Convert this dataframe to an interactive table.\"\n",
              "              style=\"display:none;\">\n",
              "        \n",
              "  <svg xmlns=\"http://www.w3.org/2000/svg\" height=\"24px\"viewBox=\"0 0 24 24\"\n",
              "       width=\"24px\">\n",
              "    <path d=\"M0 0h24v24H0V0z\" fill=\"none\"/>\n",
              "    <path d=\"M18.56 5.44l.94 2.06.94-2.06 2.06-.94-2.06-.94-.94-2.06-.94 2.06-2.06.94zm-11 1L8.5 8.5l.94-2.06 2.06-.94-2.06-.94L8.5 2.5l-.94 2.06-2.06.94zm10 10l.94 2.06.94-2.06 2.06-.94-2.06-.94-.94-2.06-.94 2.06-2.06.94z\"/><path d=\"M17.41 7.96l-1.37-1.37c-.4-.4-.92-.59-1.43-.59-.52 0-1.04.2-1.43.59L10.3 9.45l-7.72 7.72c-.78.78-.78 2.05 0 2.83L4 21.41c.39.39.9.59 1.41.59.51 0 1.02-.2 1.41-.59l7.78-7.78 2.81-2.81c.8-.78.8-2.07 0-2.86zM5.41 20L4 18.59l7.72-7.72 1.47 1.35L5.41 20z\"/>\n",
              "  </svg>\n",
              "      </button>\n",
              "      \n",
              "  <style>\n",
              "    .colab-df-container {\n",
              "      display:flex;\n",
              "      flex-wrap:wrap;\n",
              "      gap: 12px;\n",
              "    }\n",
              "\n",
              "    .colab-df-convert {\n",
              "      background-color: #E8F0FE;\n",
              "      border: none;\n",
              "      border-radius: 50%;\n",
              "      cursor: pointer;\n",
              "      display: none;\n",
              "      fill: #1967D2;\n",
              "      height: 32px;\n",
              "      padding: 0 0 0 0;\n",
              "      width: 32px;\n",
              "    }\n",
              "\n",
              "    .colab-df-convert:hover {\n",
              "      background-color: #E2EBFA;\n",
              "      box-shadow: 0px 1px 2px rgba(60, 64, 67, 0.3), 0px 1px 3px 1px rgba(60, 64, 67, 0.15);\n",
              "      fill: #174EA6;\n",
              "    }\n",
              "\n",
              "    [theme=dark] .colab-df-convert {\n",
              "      background-color: #3B4455;\n",
              "      fill: #D2E3FC;\n",
              "    }\n",
              "\n",
              "    [theme=dark] .colab-df-convert:hover {\n",
              "      background-color: #434B5C;\n",
              "      box-shadow: 0px 1px 3px 1px rgba(0, 0, 0, 0.15);\n",
              "      filter: drop-shadow(0px 1px 2px rgba(0, 0, 0, 0.3));\n",
              "      fill: #FFFFFF;\n",
              "    }\n",
              "  </style>\n",
              "\n",
              "      <script>\n",
              "        const buttonEl =\n",
              "          document.querySelector('#df-ee40116c-bdc2-469c-85b3-dc36182f0414 button.colab-df-convert');\n",
              "        buttonEl.style.display =\n",
              "          google.colab.kernel.accessAllowed ? 'block' : 'none';\n",
              "\n",
              "        async function convertToInteractive(key) {\n",
              "          const element = document.querySelector('#df-ee40116c-bdc2-469c-85b3-dc36182f0414');\n",
              "          const dataTable =\n",
              "            await google.colab.kernel.invokeFunction('convertToInteractive',\n",
              "                                                     [key], {});\n",
              "          if (!dataTable) return;\n",
              "\n",
              "          const docLinkHtml = 'Like what you see? Visit the ' +\n",
              "            '<a target=\"_blank\" href=https://colab.research.google.com/notebooks/data_table.ipynb>data table notebook</a>'\n",
              "            + ' to learn more about interactive tables.';\n",
              "          element.innerHTML = '';\n",
              "          dataTable['output_type'] = 'display_data';\n",
              "          await google.colab.output.renderOutput(dataTable, element);\n",
              "          const docLink = document.createElement('div');\n",
              "          docLink.innerHTML = docLinkHtml;\n",
              "          element.appendChild(docLink);\n",
              "        }\n",
              "      </script>\n",
              "    </div>\n",
              "  </div>\n",
              "  "
            ],
            "text/plain": [
              "            Timestamp  Open  ...  Volume_(Currency)  Weighted_Price\n",
              "0 2011-12-31 07:52:00  4.39  ...                2.0            4.39\n",
              "1 2011-12-31 07:53:00   NaN  ...                NaN             NaN\n",
              "2 2011-12-31 07:54:00   NaN  ...                NaN             NaN\n",
              "3 2011-12-31 07:55:00   NaN  ...                NaN             NaN\n",
              "4 2011-12-31 07:56:00   NaN  ...                NaN             NaN\n",
              "\n",
              "[5 rows x 8 columns]"
            ]
          },
          "metadata": {},
          "execution_count": 31
        }
      ]
    },
    {
      "cell_type": "code",
      "metadata": {
        "id": "Nc24Txfg5qjL"
      },
      "source": [
        "#Excluindo os dados faltantes (NaN)\n",
        "df_sem_faltantes.dropna(inplace=True)"
      ],
      "execution_count": 32,
      "outputs": []
    },
    {
      "cell_type": "code",
      "metadata": {
        "id": "q3EpEl8H8n9Z",
        "colab": {
          "base_uri": "https://localhost:8080/"
        },
        "outputId": "c1a42236-a011-46dc-dfe5-ccee78ba6365"
      },
      "source": [
        "#Nova forma (tamanho) do dataframe\n",
        "df_sem_faltantes.shape"
      ],
      "execution_count": 33,
      "outputs": [
        {
          "output_type": "execute_result",
          "data": {
            "text/plain": [
              "(3577990, 8)"
            ]
          },
          "metadata": {},
          "execution_count": 33
        }
      ]
    },
    {
      "cell_type": "code",
      "metadata": {
        "id": "u16uEY818ghg",
        "colab": {
          "base_uri": "https://localhost:8080/"
        },
        "outputId": "dfb04a21-26ab-4178-e135-c0216f65e074"
      },
      "source": [
        "#Forma do novo dataframe sem os dados faltantes \n",
        "df_sem_faltantes.size"
      ],
      "execution_count": 34,
      "outputs": [
        {
          "output_type": "execute_result",
          "data": {
            "text/plain": [
              "28623920"
            ]
          },
          "metadata": {},
          "execution_count": 34
        }
      ]
    },
    {
      "cell_type": "code",
      "metadata": {
        "id": "jREy9zTV7sUk",
        "colab": {
          "base_uri": "https://localhost:8080/",
          "height": 206
        },
        "outputId": "9e7b6b95-3488-4692-8234-a809ee5029bb"
      },
      "source": [
        "#Verificando\n",
        "df_sem_faltantes.head()"
      ],
      "execution_count": 35,
      "outputs": [
        {
          "output_type": "execute_result",
          "data": {
            "text/html": [
              "\n",
              "  <div id=\"df-9bccad32-7a4d-4e4c-952b-b5a94813e261\">\n",
              "    <div class=\"colab-df-container\">\n",
              "      <div>\n",
              "<style scoped>\n",
              "    .dataframe tbody tr th:only-of-type {\n",
              "        vertical-align: middle;\n",
              "    }\n",
              "\n",
              "    .dataframe tbody tr th {\n",
              "        vertical-align: top;\n",
              "    }\n",
              "\n",
              "    .dataframe thead th {\n",
              "        text-align: right;\n",
              "    }\n",
              "</style>\n",
              "<table border=\"1\" class=\"dataframe\">\n",
              "  <thead>\n",
              "    <tr style=\"text-align: right;\">\n",
              "      <th></th>\n",
              "      <th>Timestamp</th>\n",
              "      <th>Open</th>\n",
              "      <th>High</th>\n",
              "      <th>Low</th>\n",
              "      <th>Close</th>\n",
              "      <th>Volume_(BTC)</th>\n",
              "      <th>Volume_(Currency)</th>\n",
              "      <th>Weighted_Price</th>\n",
              "    </tr>\n",
              "  </thead>\n",
              "  <tbody>\n",
              "    <tr>\n",
              "      <th>0</th>\n",
              "      <td>2011-12-31 07:52:00</td>\n",
              "      <td>4.39</td>\n",
              "      <td>4.39</td>\n",
              "      <td>4.39</td>\n",
              "      <td>4.39</td>\n",
              "      <td>0.455581</td>\n",
              "      <td>2.000000</td>\n",
              "      <td>4.390000</td>\n",
              "    </tr>\n",
              "    <tr>\n",
              "      <th>478</th>\n",
              "      <td>2011-12-31 15:50:00</td>\n",
              "      <td>4.39</td>\n",
              "      <td>4.39</td>\n",
              "      <td>4.39</td>\n",
              "      <td>4.39</td>\n",
              "      <td>48.000000</td>\n",
              "      <td>210.720000</td>\n",
              "      <td>4.390000</td>\n",
              "    </tr>\n",
              "    <tr>\n",
              "      <th>547</th>\n",
              "      <td>2011-12-31 16:59:00</td>\n",
              "      <td>4.50</td>\n",
              "      <td>4.57</td>\n",
              "      <td>4.50</td>\n",
              "      <td>4.57</td>\n",
              "      <td>37.862297</td>\n",
              "      <td>171.380338</td>\n",
              "      <td>4.526411</td>\n",
              "    </tr>\n",
              "    <tr>\n",
              "      <th>548</th>\n",
              "      <td>2011-12-31 17:00:00</td>\n",
              "      <td>4.58</td>\n",
              "      <td>4.58</td>\n",
              "      <td>4.58</td>\n",
              "      <td>4.58</td>\n",
              "      <td>9.000000</td>\n",
              "      <td>41.220000</td>\n",
              "      <td>4.580000</td>\n",
              "    </tr>\n",
              "    <tr>\n",
              "      <th>1224</th>\n",
              "      <td>2012-01-01 04:16:00</td>\n",
              "      <td>4.58</td>\n",
              "      <td>4.58</td>\n",
              "      <td>4.58</td>\n",
              "      <td>4.58</td>\n",
              "      <td>1.502000</td>\n",
              "      <td>6.879160</td>\n",
              "      <td>4.580000</td>\n",
              "    </tr>\n",
              "  </tbody>\n",
              "</table>\n",
              "</div>\n",
              "      <button class=\"colab-df-convert\" onclick=\"convertToInteractive('df-9bccad32-7a4d-4e4c-952b-b5a94813e261')\"\n",
              "              title=\"Convert this dataframe to an interactive table.\"\n",
              "              style=\"display:none;\">\n",
              "        \n",
              "  <svg xmlns=\"http://www.w3.org/2000/svg\" height=\"24px\"viewBox=\"0 0 24 24\"\n",
              "       width=\"24px\">\n",
              "    <path d=\"M0 0h24v24H0V0z\" fill=\"none\"/>\n",
              "    <path d=\"M18.56 5.44l.94 2.06.94-2.06 2.06-.94-2.06-.94-.94-2.06-.94 2.06-2.06.94zm-11 1L8.5 8.5l.94-2.06 2.06-.94-2.06-.94L8.5 2.5l-.94 2.06-2.06.94zm10 10l.94 2.06.94-2.06 2.06-.94-2.06-.94-.94-2.06-.94 2.06-2.06.94z\"/><path d=\"M17.41 7.96l-1.37-1.37c-.4-.4-.92-.59-1.43-.59-.52 0-1.04.2-1.43.59L10.3 9.45l-7.72 7.72c-.78.78-.78 2.05 0 2.83L4 21.41c.39.39.9.59 1.41.59.51 0 1.02-.2 1.41-.59l7.78-7.78 2.81-2.81c.8-.78.8-2.07 0-2.86zM5.41 20L4 18.59l7.72-7.72 1.47 1.35L5.41 20z\"/>\n",
              "  </svg>\n",
              "      </button>\n",
              "      \n",
              "  <style>\n",
              "    .colab-df-container {\n",
              "      display:flex;\n",
              "      flex-wrap:wrap;\n",
              "      gap: 12px;\n",
              "    }\n",
              "\n",
              "    .colab-df-convert {\n",
              "      background-color: #E8F0FE;\n",
              "      border: none;\n",
              "      border-radius: 50%;\n",
              "      cursor: pointer;\n",
              "      display: none;\n",
              "      fill: #1967D2;\n",
              "      height: 32px;\n",
              "      padding: 0 0 0 0;\n",
              "      width: 32px;\n",
              "    }\n",
              "\n",
              "    .colab-df-convert:hover {\n",
              "      background-color: #E2EBFA;\n",
              "      box-shadow: 0px 1px 2px rgba(60, 64, 67, 0.3), 0px 1px 3px 1px rgba(60, 64, 67, 0.15);\n",
              "      fill: #174EA6;\n",
              "    }\n",
              "\n",
              "    [theme=dark] .colab-df-convert {\n",
              "      background-color: #3B4455;\n",
              "      fill: #D2E3FC;\n",
              "    }\n",
              "\n",
              "    [theme=dark] .colab-df-convert:hover {\n",
              "      background-color: #434B5C;\n",
              "      box-shadow: 0px 1px 3px 1px rgba(0, 0, 0, 0.15);\n",
              "      filter: drop-shadow(0px 1px 2px rgba(0, 0, 0, 0.3));\n",
              "      fill: #FFFFFF;\n",
              "    }\n",
              "  </style>\n",
              "\n",
              "      <script>\n",
              "        const buttonEl =\n",
              "          document.querySelector('#df-9bccad32-7a4d-4e4c-952b-b5a94813e261 button.colab-df-convert');\n",
              "        buttonEl.style.display =\n",
              "          google.colab.kernel.accessAllowed ? 'block' : 'none';\n",
              "\n",
              "        async function convertToInteractive(key) {\n",
              "          const element = document.querySelector('#df-9bccad32-7a4d-4e4c-952b-b5a94813e261');\n",
              "          const dataTable =\n",
              "            await google.colab.kernel.invokeFunction('convertToInteractive',\n",
              "                                                     [key], {});\n",
              "          if (!dataTable) return;\n",
              "\n",
              "          const docLinkHtml = 'Like what you see? Visit the ' +\n",
              "            '<a target=\"_blank\" href=https://colab.research.google.com/notebooks/data_table.ipynb>data table notebook</a>'\n",
              "            + ' to learn more about interactive tables.';\n",
              "          element.innerHTML = '';\n",
              "          dataTable['output_type'] = 'display_data';\n",
              "          await google.colab.output.renderOutput(dataTable, element);\n",
              "          const docLink = document.createElement('div');\n",
              "          docLink.innerHTML = docLinkHtml;\n",
              "          element.appendChild(docLink);\n",
              "        }\n",
              "      </script>\n",
              "    </div>\n",
              "  </div>\n",
              "  "
            ],
            "text/plain": [
              "               Timestamp  Open  ...  Volume_(Currency)  Weighted_Price\n",
              "0    2011-12-31 07:52:00  4.39  ...           2.000000        4.390000\n",
              "478  2011-12-31 15:50:00  4.39  ...         210.720000        4.390000\n",
              "547  2011-12-31 16:59:00  4.50  ...         171.380338        4.526411\n",
              "548  2011-12-31 17:00:00  4.58  ...          41.220000        4.580000\n",
              "1224 2012-01-01 04:16:00  4.58  ...           6.879160        4.580000\n",
              "\n",
              "[5 rows x 8 columns]"
            ]
          },
          "metadata": {},
          "execution_count": 35
        }
      ]
    },
    {
      "cell_type": "code",
      "metadata": {
        "id": "tc3yHD2R5KLY",
        "colab": {
          "base_uri": "https://localhost:8080/",
          "height": 206
        },
        "outputId": "c671351b-1913-4f18-c850-c157fd3f6c9a"
      },
      "source": [
        "df_sem_faltantes.tail()"
      ],
      "execution_count": 36,
      "outputs": [
        {
          "output_type": "execute_result",
          "data": {
            "text/html": [
              "\n",
              "  <div id=\"df-9cd9adac-0ed6-4ee9-9a87-ff511b38f82a\">\n",
              "    <div class=\"colab-df-container\">\n",
              "      <div>\n",
              "<style scoped>\n",
              "    .dataframe tbody tr th:only-of-type {\n",
              "        vertical-align: middle;\n",
              "    }\n",
              "\n",
              "    .dataframe tbody tr th {\n",
              "        vertical-align: top;\n",
              "    }\n",
              "\n",
              "    .dataframe thead th {\n",
              "        text-align: right;\n",
              "    }\n",
              "</style>\n",
              "<table border=\"1\" class=\"dataframe\">\n",
              "  <thead>\n",
              "    <tr style=\"text-align: right;\">\n",
              "      <th></th>\n",
              "      <th>Timestamp</th>\n",
              "      <th>Open</th>\n",
              "      <th>High</th>\n",
              "      <th>Low</th>\n",
              "      <th>Close</th>\n",
              "      <th>Volume_(BTC)</th>\n",
              "      <th>Volume_(Currency)</th>\n",
              "      <th>Weighted_Price</th>\n",
              "    </tr>\n",
              "  </thead>\n",
              "  <tbody>\n",
              "    <tr>\n",
              "      <th>4821510</th>\n",
              "      <td>2021-03-06 02:14:00</td>\n",
              "      <td>48399.55</td>\n",
              "      <td>48399.55</td>\n",
              "      <td>48361.27</td>\n",
              "      <td>48361.27</td>\n",
              "      <td>0.747287</td>\n",
              "      <td>36140.226989</td>\n",
              "      <td>48361.913705</td>\n",
              "    </tr>\n",
              "    <tr>\n",
              "      <th>4821511</th>\n",
              "      <td>2021-03-06 02:15:00</td>\n",
              "      <td>48362.00</td>\n",
              "      <td>48396.43</td>\n",
              "      <td>48362.00</td>\n",
              "      <td>48391.21</td>\n",
              "      <td>0.846486</td>\n",
              "      <td>40949.758889</td>\n",
              "      <td>48376.167174</td>\n",
              "    </tr>\n",
              "    <tr>\n",
              "      <th>4821512</th>\n",
              "      <td>2021-03-06 02:16:00</td>\n",
              "      <td>48383.17</td>\n",
              "      <td>48447.21</td>\n",
              "      <td>48383.17</td>\n",
              "      <td>48441.99</td>\n",
              "      <td>0.503095</td>\n",
              "      <td>24370.418563</td>\n",
              "      <td>48440.942159</td>\n",
              "    </tr>\n",
              "    <tr>\n",
              "      <th>4821513</th>\n",
              "      <td>2021-03-06 02:17:00</td>\n",
              "      <td>48459.00</td>\n",
              "      <td>48462.50</td>\n",
              "      <td>48377.55</td>\n",
              "      <td>48384.22</td>\n",
              "      <td>0.976677</td>\n",
              "      <td>47291.371758</td>\n",
              "      <td>48420.705795</td>\n",
              "    </tr>\n",
              "    <tr>\n",
              "      <th>4821514</th>\n",
              "      <td>2021-03-06 02:18:00</td>\n",
              "      <td>48384.22</td>\n",
              "      <td>48424.54</td>\n",
              "      <td>48384.22</td>\n",
              "      <td>48405.72</td>\n",
              "      <td>0.828068</td>\n",
              "      <td>40079.892079</td>\n",
              "      <td>48401.670701</td>\n",
              "    </tr>\n",
              "  </tbody>\n",
              "</table>\n",
              "</div>\n",
              "      <button class=\"colab-df-convert\" onclick=\"convertToInteractive('df-9cd9adac-0ed6-4ee9-9a87-ff511b38f82a')\"\n",
              "              title=\"Convert this dataframe to an interactive table.\"\n",
              "              style=\"display:none;\">\n",
              "        \n",
              "  <svg xmlns=\"http://www.w3.org/2000/svg\" height=\"24px\"viewBox=\"0 0 24 24\"\n",
              "       width=\"24px\">\n",
              "    <path d=\"M0 0h24v24H0V0z\" fill=\"none\"/>\n",
              "    <path d=\"M18.56 5.44l.94 2.06.94-2.06 2.06-.94-2.06-.94-.94-2.06-.94 2.06-2.06.94zm-11 1L8.5 8.5l.94-2.06 2.06-.94-2.06-.94L8.5 2.5l-.94 2.06-2.06.94zm10 10l.94 2.06.94-2.06 2.06-.94-2.06-.94-.94-2.06-.94 2.06-2.06.94z\"/><path d=\"M17.41 7.96l-1.37-1.37c-.4-.4-.92-.59-1.43-.59-.52 0-1.04.2-1.43.59L10.3 9.45l-7.72 7.72c-.78.78-.78 2.05 0 2.83L4 21.41c.39.39.9.59 1.41.59.51 0 1.02-.2 1.41-.59l7.78-7.78 2.81-2.81c.8-.78.8-2.07 0-2.86zM5.41 20L4 18.59l7.72-7.72 1.47 1.35L5.41 20z\"/>\n",
              "  </svg>\n",
              "      </button>\n",
              "      \n",
              "  <style>\n",
              "    .colab-df-container {\n",
              "      display:flex;\n",
              "      flex-wrap:wrap;\n",
              "      gap: 12px;\n",
              "    }\n",
              "\n",
              "    .colab-df-convert {\n",
              "      background-color: #E8F0FE;\n",
              "      border: none;\n",
              "      border-radius: 50%;\n",
              "      cursor: pointer;\n",
              "      display: none;\n",
              "      fill: #1967D2;\n",
              "      height: 32px;\n",
              "      padding: 0 0 0 0;\n",
              "      width: 32px;\n",
              "    }\n",
              "\n",
              "    .colab-df-convert:hover {\n",
              "      background-color: #E2EBFA;\n",
              "      box-shadow: 0px 1px 2px rgba(60, 64, 67, 0.3), 0px 1px 3px 1px rgba(60, 64, 67, 0.15);\n",
              "      fill: #174EA6;\n",
              "    }\n",
              "\n",
              "    [theme=dark] .colab-df-convert {\n",
              "      background-color: #3B4455;\n",
              "      fill: #D2E3FC;\n",
              "    }\n",
              "\n",
              "    [theme=dark] .colab-df-convert:hover {\n",
              "      background-color: #434B5C;\n",
              "      box-shadow: 0px 1px 3px 1px rgba(0, 0, 0, 0.15);\n",
              "      filter: drop-shadow(0px 1px 2px rgba(0, 0, 0, 0.3));\n",
              "      fill: #FFFFFF;\n",
              "    }\n",
              "  </style>\n",
              "\n",
              "      <script>\n",
              "        const buttonEl =\n",
              "          document.querySelector('#df-9cd9adac-0ed6-4ee9-9a87-ff511b38f82a button.colab-df-convert');\n",
              "        buttonEl.style.display =\n",
              "          google.colab.kernel.accessAllowed ? 'block' : 'none';\n",
              "\n",
              "        async function convertToInteractive(key) {\n",
              "          const element = document.querySelector('#df-9cd9adac-0ed6-4ee9-9a87-ff511b38f82a');\n",
              "          const dataTable =\n",
              "            await google.colab.kernel.invokeFunction('convertToInteractive',\n",
              "                                                     [key], {});\n",
              "          if (!dataTable) return;\n",
              "\n",
              "          const docLinkHtml = 'Like what you see? Visit the ' +\n",
              "            '<a target=\"_blank\" href=https://colab.research.google.com/notebooks/data_table.ipynb>data table notebook</a>'\n",
              "            + ' to learn more about interactive tables.';\n",
              "          element.innerHTML = '';\n",
              "          dataTable['output_type'] = 'display_data';\n",
              "          await google.colab.output.renderOutput(dataTable, element);\n",
              "          const docLink = document.createElement('div');\n",
              "          docLink.innerHTML = docLinkHtml;\n",
              "          element.appendChild(docLink);\n",
              "        }\n",
              "      </script>\n",
              "    </div>\n",
              "  </div>\n",
              "  "
            ],
            "text/plain": [
              "                  Timestamp      Open  ...  Volume_(Currency)  Weighted_Price\n",
              "4821510 2021-03-06 02:14:00  48399.55  ...       36140.226989    48361.913705\n",
              "4821511 2021-03-06 02:15:00  48362.00  ...       40949.758889    48376.167174\n",
              "4821512 2021-03-06 02:16:00  48383.17  ...       24370.418563    48440.942159\n",
              "4821513 2021-03-06 02:17:00  48459.00  ...       47291.371758    48420.705795\n",
              "4821514 2021-03-06 02:18:00  48384.22  ...       40079.892079    48401.670701\n",
              "\n",
              "[5 rows x 8 columns]"
            ]
          },
          "metadata": {},
          "execution_count": 36
        }
      ]
    },
    {
      "cell_type": "code",
      "metadata": {
        "id": "wfNs0xJh7zoQ",
        "colab": {
          "base_uri": "https://localhost:8080/"
        },
        "outputId": "9adfa8d2-b3ac-454c-878a-5107134d5c31"
      },
      "source": [
        "#Verificando em todo o dataframe.\n",
        "df_sem_faltantes.isnull().sum()"
      ],
      "execution_count": 37,
      "outputs": [
        {
          "output_type": "execute_result",
          "data": {
            "text/plain": [
              "Timestamp            0\n",
              "Open                 0\n",
              "High                 0\n",
              "Low                  0\n",
              "Close                0\n",
              "Volume_(BTC)         0\n",
              "Volume_(Currency)    0\n",
              "Weighted_Price       0\n",
              "dtype: int64"
            ]
          },
          "metadata": {},
          "execution_count": 37
        }
      ]
    },
    {
      "cell_type": "code",
      "metadata": {
        "id": "TdGk8jNrGXK4",
        "colab": {
          "base_uri": "https://localhost:8080/",
          "height": 699
        },
        "outputId": "e13a9a06-00b7-471a-fc42-b4e23c4a0556"
      },
      "source": [
        "#Visualizando\n",
        "plt.figure(figsize=(10,10))\n",
        "sns.heatmap(df_sem_faltantes.isnull())"
      ],
      "execution_count": 38,
      "outputs": [
        {
          "output_type": "execute_result",
          "data": {
            "text/plain": [
              "<matplotlib.axes._subplots.AxesSubplot at 0x7f146ea4c850>"
            ]
          },
          "metadata": {},
          "execution_count": 38
        },
        {
          "output_type": "display_data",
          "data": {
            "image/png": "[encoded data removed]",
            "text/plain": [
              "<Figure size 720x720 with 2 Axes>"
            ]
          },
          "metadata": {
            "needs_background": "light"
          }
        }
      ]
    },
    {
      "cell_type": "code",
      "metadata": {
        "id": "rqmcvVNIsmnc",
        "colab": {
          "base_uri": "https://localhost:8080/"
        },
        "outputId": "5e15e15f-b5e6-4109-dc2e-f4a7a4ed4cfb"
      },
      "source": [
        "#Verificando para dados duplicados\n",
        "df_sem_faltantes.duplicated().sum()"
      ],
      "execution_count": 39,
      "outputs": [
        {
          "output_type": "execute_result",
          "data": {
            "text/plain": [
              "0"
            ]
          },
          "metadata": {},
          "execution_count": 39
        }
      ]
    },
    {
      "cell_type": "markdown",
      "metadata": {
        "id": "eCFHWsGcLc3w"
      },
      "source": [
        "#Outliers\n",
        "\n",
        "A estratégia adotada para a detecção de outliers foi a visualização em box plot de uma das features. Contudo, dada a extensão e natureza dos dados, optou-se por realizar as visualizações subsequêntes com uma parcela recente dos dados, que corresponde ao perído de 1 ano,  a fim de evitar discrepâncias desnecessárias. \n",
        "\n",
        "\n",
        "\n"
      ]
    },
    {
      "cell_type": "code",
      "metadata": {
        "id": "4APlx0FLN9dm"
      },
      "source": [
        "#Recorte dos dados para um perído de 1 ano\n",
        "df_rec_analise = df_sem_faltantes.loc[df_sem_faltantes[\"Timestamp\"] >= \"2020-03-31 00:00:00\"]"
      ],
      "execution_count": 40,
      "outputs": []
    },
    {
      "cell_type": "code",
      "metadata": {
        "id": "Q8hINIJ7aXnH",
        "colab": {
          "base_uri": "https://localhost:8080/",
          "height": 206
        },
        "outputId": "f970b020-473b-461e-beed-71b56e429dac"
      },
      "source": [
        "df_rec_analise.head()"
      ],
      "execution_count": 41,
      "outputs": [
        {
          "output_type": "execute_result",
          "data": {
            "text/html": [
              "\n",
              "  <div id=\"df-aeb669cc-cb56-4090-a307-35bcab88c273\">\n",
              "    <div class=\"colab-df-container\">\n",
              "      <div>\n",
              "<style scoped>\n",
              "    .dataframe tbody tr th:only-of-type {\n",
              "        vertical-align: middle;\n",
              "    }\n",
              "\n",
              "    .dataframe tbody tr th {\n",
              "        vertical-align: top;\n",
              "    }\n",
              "\n",
              "    .dataframe thead th {\n",
              "        text-align: right;\n",
              "    }\n",
              "</style>\n",
              "<table border=\"1\" class=\"dataframe\">\n",
              "  <thead>\n",
              "    <tr style=\"text-align: right;\">\n",
              "      <th></th>\n",
              "      <th>Timestamp</th>\n",
              "      <th>Open</th>\n",
              "      <th>High</th>\n",
              "      <th>Low</th>\n",
              "      <th>Close</th>\n",
              "      <th>Volume_(BTC)</th>\n",
              "      <th>Volume_(Currency)</th>\n",
              "      <th>Weighted_Price</th>\n",
              "    </tr>\n",
              "  </thead>\n",
              "  <tbody>\n",
              "    <tr>\n",
              "      <th>4331776</th>\n",
              "      <td>2020-03-31 00:00:00</td>\n",
              "      <td>6408.95</td>\n",
              "      <td>6408.95</td>\n",
              "      <td>6397.52</td>\n",
              "      <td>6397.65</td>\n",
              "      <td>0.369580</td>\n",
              "      <td>2366.046893</td>\n",
              "      <td>6401.994344</td>\n",
              "    </tr>\n",
              "    <tr>\n",
              "      <th>4331777</th>\n",
              "      <td>2020-03-31 00:01:00</td>\n",
              "      <td>6399.20</td>\n",
              "      <td>6406.06</td>\n",
              "      <td>6398.80</td>\n",
              "      <td>6405.06</td>\n",
              "      <td>4.053499</td>\n",
              "      <td>25960.527673</td>\n",
              "      <td>6404.473810</td>\n",
              "    </tr>\n",
              "    <tr>\n",
              "      <th>4331778</th>\n",
              "      <td>2020-03-31 00:02:00</td>\n",
              "      <td>6409.05</td>\n",
              "      <td>6425.24</td>\n",
              "      <td>6409.05</td>\n",
              "      <td>6425.00</td>\n",
              "      <td>18.707374</td>\n",
              "      <td>120144.266210</td>\n",
              "      <td>6422.294481</td>\n",
              "    </tr>\n",
              "    <tr>\n",
              "      <th>4331779</th>\n",
              "      <td>2020-03-31 00:03:00</td>\n",
              "      <td>6417.53</td>\n",
              "      <td>6430.74</td>\n",
              "      <td>6417.53</td>\n",
              "      <td>6426.53</td>\n",
              "      <td>7.164653</td>\n",
              "      <td>46043.367355</td>\n",
              "      <td>6426.461704</td>\n",
              "    </tr>\n",
              "    <tr>\n",
              "      <th>4331780</th>\n",
              "      <td>2020-03-31 00:04:00</td>\n",
              "      <td>6426.54</td>\n",
              "      <td>6438.96</td>\n",
              "      <td>6424.46</td>\n",
              "      <td>6438.96</td>\n",
              "      <td>9.050250</td>\n",
              "      <td>58225.624105</td>\n",
              "      <td>6433.592825</td>\n",
              "    </tr>\n",
              "  </tbody>\n",
              "</table>\n",
              "</div>\n",
              "      <button class=\"colab-df-convert\" onclick=\"convertToInteractive('df-aeb669cc-cb56-4090-a307-35bcab88c273')\"\n",
              "              title=\"Convert this dataframe to an interactive table.\"\n",
              "              style=\"display:none;\">\n",
              "        \n",
              "  <svg xmlns=\"http://www.w3.org/2000/svg\" height=\"24px\"viewBox=\"0 0 24 24\"\n",
              "       width=\"24px\">\n",
              "    <path d=\"M0 0h24v24H0V0z\" fill=\"none\"/>\n",
              "    <path d=\"M18.56 5.44l.94 2.06.94-2.06 2.06-.94-2.06-.94-.94-2.06-.94 2.06-2.06.94zm-11 1L8.5 8.5l.94-2.06 2.06-.94-2.06-.94L8.5 2.5l-.94 2.06-2.06.94zm10 10l.94 2.06.94-2.06 2.06-.94-2.06-.94-.94-2.06-.94 2.06-2.06.94z\"/><path d=\"M17.41 7.96l-1.37-1.37c-.4-.4-.92-.59-1.43-.59-.52 0-1.04.2-1.43.59L10.3 9.45l-7.72 7.72c-.78.78-.78 2.05 0 2.83L4 21.41c.39.39.9.59 1.41.59.51 0 1.02-.2 1.41-.59l7.78-7.78 2.81-2.81c.8-.78.8-2.07 0-2.86zM5.41 20L4 18.59l7.72-7.72 1.47 1.35L5.41 20z\"/>\n",
              "  </svg>\n",
              "      </button>\n",
              "      \n",
              "  <style>\n",
              "    .colab-df-container {\n",
              "      display:flex;\n",
              "      flex-wrap:wrap;\n",
              "      gap: 12px;\n",
              "    }\n",
              "\n",
              "    .colab-df-convert {\n",
              "      background-color: #E8F0FE;\n",
              "      border: none;\n",
              "      border-radius: 50%;\n",
              "      cursor: pointer;\n",
              "      display: none;\n",
              "      fill: #1967D2;\n",
              "      height: 32px;\n",
              "      padding: 0 0 0 0;\n",
              "      width: 32px;\n",
              "    }\n",
              "\n",
              "    .colab-df-convert:hover {\n",
              "      background-color: #E2EBFA;\n",
              "      box-shadow: 0px 1px 2px rgba(60, 64, 67, 0.3), 0px 1px 3px 1px rgba(60, 64, 67, 0.15);\n",
              "      fill: #174EA6;\n",
              "    }\n",
              "\n",
              "    [theme=dark] .colab-df-convert {\n",
              "      background-color: #3B4455;\n",
              "      fill: #D2E3FC;\n",
              "    }\n",
              "\n",
              "    [theme=dark] .colab-df-convert:hover {\n",
              "      background-color: #434B5C;\n",
              "      box-shadow: 0px 1px 3px 1px rgba(0, 0, 0, 0.15);\n",
              "      filter: drop-shadow(0px 1px 2px rgba(0, 0, 0, 0.3));\n",
              "      fill: #FFFFFF;\n",
              "    }\n",
              "  </style>\n",
              "\n",
              "      <script>\n",
              "        const buttonEl =\n",
              "          document.querySelector('#df-aeb669cc-cb56-4090-a307-35bcab88c273 button.colab-df-convert');\n",
              "        buttonEl.style.display =\n",
              "          google.colab.kernel.accessAllowed ? 'block' : 'none';\n",
              "\n",
              "        async function convertToInteractive(key) {\n",
              "          const element = document.querySelector('#df-aeb669cc-cb56-4090-a307-35bcab88c273');\n",
              "          const dataTable =\n",
              "            await google.colab.kernel.invokeFunction('convertToInteractive',\n",
              "                                                     [key], {});\n",
              "          if (!dataTable) return;\n",
              "\n",
              "          const docLinkHtml = 'Like what you see? Visit the ' +\n",
              "            '<a target=\"_blank\" href=https://colab.research.google.com/notebooks/data_table.ipynb>data table notebook</a>'\n",
              "            + ' to learn more about interactive tables.';\n",
              "          element.innerHTML = '';\n",
              "          dataTable['output_type'] = 'display_data';\n",
              "          await google.colab.output.renderOutput(dataTable, element);\n",
              "          const docLink = document.createElement('div');\n",
              "          docLink.innerHTML = docLinkHtml;\n",
              "          element.appendChild(docLink);\n",
              "        }\n",
              "      </script>\n",
              "    </div>\n",
              "  </div>\n",
              "  "
            ],
            "text/plain": [
              "                  Timestamp     Open  ...  Volume_(Currency)  Weighted_Price\n",
              "4331776 2020-03-31 00:00:00  6408.95  ...        2366.046893     6401.994344\n",
              "4331777 2020-03-31 00:01:00  6399.20  ...       25960.527673     6404.473810\n",
              "4331778 2020-03-31 00:02:00  6409.05  ...      120144.266210     6422.294481\n",
              "4331779 2020-03-31 00:03:00  6417.53  ...       46043.367355     6426.461704\n",
              "4331780 2020-03-31 00:04:00  6426.54  ...       58225.624105     6433.592825\n",
              "\n",
              "[5 rows x 8 columns]"
            ]
          },
          "metadata": {},
          "execution_count": 41
        }
      ]
    },
    {
      "cell_type": "code",
      "metadata": {
        "id": "0y2DE8C5bv2j",
        "colab": {
          "base_uri": "https://localhost:8080/",
          "height": 300
        },
        "outputId": "057c577c-6320-4ad6-97fe-225b2897a99f"
      },
      "source": [
        "df_rec_analise.describe()"
      ],
      "execution_count": 42,
      "outputs": [
        {
          "output_type": "execute_result",
          "data": {
            "text/html": [
              "\n",
              "  <div id=\"df-8f157e84-2312-44e9-a9f4-1ab8ca6d8a5a\">\n",
              "    <div class=\"colab-df-container\">\n",
              "      <div>\n",
              "<style scoped>\n",
              "    .dataframe tbody tr th:only-of-type {\n",
              "        vertical-align: middle;\n",
              "    }\n",
              "\n",
              "    .dataframe tbody tr th {\n",
              "        vertical-align: top;\n",
              "    }\n",
              "\n",
              "    .dataframe thead th {\n",
              "        text-align: right;\n",
              "    }\n",
              "</style>\n",
              "<table border=\"1\" class=\"dataframe\">\n",
              "  <thead>\n",
              "    <tr style=\"text-align: right;\">\n",
              "      <th></th>\n",
              "      <th>Open</th>\n",
              "      <th>High</th>\n",
              "      <th>Low</th>\n",
              "      <th>Close</th>\n",
              "      <th>Volume_(BTC)</th>\n",
              "      <th>Volume_(Currency)</th>\n",
              "      <th>Weighted_Price</th>\n",
              "    </tr>\n",
              "  </thead>\n",
              "  <tbody>\n",
              "    <tr>\n",
              "      <th>count</th>\n",
              "      <td>482164.000000</td>\n",
              "      <td>482164.000000</td>\n",
              "      <td>482164.000000</td>\n",
              "      <td>482164.000000</td>\n",
              "      <td>482164.000000</td>\n",
              "      <td>4.821640e+05</td>\n",
              "      <td>482164.000000</td>\n",
              "    </tr>\n",
              "    <tr>\n",
              "      <th>mean</th>\n",
              "      <td>17518.219043</td>\n",
              "      <td>17530.762651</td>\n",
              "      <td>17505.529917</td>\n",
              "      <td>17518.442750</td>\n",
              "      <td>6.126882</td>\n",
              "      <td>1.146092e+05</td>\n",
              "      <td>17518.220306</td>\n",
              "    </tr>\n",
              "    <tr>\n",
              "      <th>std</th>\n",
              "      <td>12437.664947</td>\n",
              "      <td>12451.238920</td>\n",
              "      <td>12423.567863</td>\n",
              "      <td>12437.800917</td>\n",
              "      <td>15.292625</td>\n",
              "      <td>2.997170e+05</td>\n",
              "      <td>12436.839415</td>\n",
              "    </tr>\n",
              "    <tr>\n",
              "      <th>min</th>\n",
              "      <td>6162.030000</td>\n",
              "      <td>6171.690000</td>\n",
              "      <td>6137.710000</td>\n",
              "      <td>6158.120000</td>\n",
              "      <td>0.000002</td>\n",
              "      <td>1.567074e-02</td>\n",
              "      <td>6148.417195</td>\n",
              "    </tr>\n",
              "    <tr>\n",
              "      <th>25%</th>\n",
              "      <td>9429.950000</td>\n",
              "      <td>9433.690000</td>\n",
              "      <td>9427.380000</td>\n",
              "      <td>9430.300000</td>\n",
              "      <td>0.485906</td>\n",
              "      <td>5.771940e+03</td>\n",
              "      <td>9430.375287</td>\n",
              "    </tr>\n",
              "    <tr>\n",
              "      <th>50%</th>\n",
              "      <td>11401.710000</td>\n",
              "      <td>11405.670000</td>\n",
              "      <td>11398.235000</td>\n",
              "      <td>11401.670000</td>\n",
              "      <td>1.973613</td>\n",
              "      <td>2.960274e+04</td>\n",
              "      <td>11402.298924</td>\n",
              "    </tr>\n",
              "    <tr>\n",
              "      <th>75%</th>\n",
              "      <td>19264.225000</td>\n",
              "      <td>19274.527500</td>\n",
              "      <td>19252.420000</td>\n",
              "      <td>19264.630000</td>\n",
              "      <td>5.889323</td>\n",
              "      <td>1.013395e+05</td>\n",
              "      <td>19264.635280</td>\n",
              "    </tr>\n",
              "    <tr>\n",
              "      <th>max</th>\n",
              "      <td>58345.540000</td>\n",
              "      <td>58354.140000</td>\n",
              "      <td>58326.560000</td>\n",
              "      <td>58354.140000</td>\n",
              "      <td>1098.349384</td>\n",
              "      <td>1.390067e+07</td>\n",
              "      <td>58338.304421</td>\n",
              "    </tr>\n",
              "  </tbody>\n",
              "</table>\n",
              "</div>\n",
              "      <button class=\"colab-df-convert\" onclick=\"convertToInteractive('df-8f157e84-2312-44e9-a9f4-1ab8ca6d8a5a')\"\n",
              "              title=\"Convert this dataframe to an interactive table.\"\n",
              "              style=\"display:none;\">\n",
              "        \n",
              "  <svg xmlns=\"http://www.w3.org/2000/svg\" height=\"24px\"viewBox=\"0 0 24 24\"\n",
              "       width=\"24px\">\n",
              "    <path d=\"M0 0h24v24H0V0z\" fill=\"none\"/>\n",
              "    <path d=\"M18.56 5.44l.94 2.06.94-2.06 2.06-.94-2.06-.94-.94-2.06-.94 2.06-2.06.94zm-11 1L8.5 8.5l.94-2.06 2.06-.94-2.06-.94L8.5 2.5l-.94 2.06-2.06.94zm10 10l.94 2.06.94-2.06 2.06-.94-2.06-.94-.94-2.06-.94 2.06-2.06.94z\"/><path d=\"M17.41 7.96l-1.37-1.37c-.4-.4-.92-.59-1.43-.59-.52 0-1.04.2-1.43.59L10.3 9.45l-7.72 7.72c-.78.78-.78 2.05 0 2.83L4 21.41c.39.39.9.59 1.41.59.51 0 1.02-.2 1.41-.59l7.78-7.78 2.81-2.81c.8-.78.8-2.07 0-2.86zM5.41 20L4 18.59l7.72-7.72 1.47 1.35L5.41 20z\"/>\n",
              "  </svg>\n",
              "      </button>\n",
              "      \n",
              "  <style>\n",
              "    .colab-df-container {\n",
              "      display:flex;\n",
              "      flex-wrap:wrap;\n",
              "      gap: 12px;\n",
              "    }\n",
              "\n",
              "    .colab-df-convert {\n",
              "      background-color: #E8F0FE;\n",
              "      border: none;\n",
              "      border-radius: 50%;\n",
              "      cursor: pointer;\n",
              "      display: none;\n",
              "      fill: #1967D2;\n",
              "      height: 32px;\n",
              "      padding: 0 0 0 0;\n",
              "      width: 32px;\n",
              "    }\n",
              "\n",
              "    .colab-df-convert:hover {\n",
              "      background-color: #E2EBFA;\n",
              "      box-shadow: 0px 1px 2px rgba(60, 64, 67, 0.3), 0px 1px 3px 1px rgba(60, 64, 67, 0.15);\n",
              "      fill: #174EA6;\n",
              "    }\n",
              "\n",
              "    [theme=dark] .colab-df-convert {\n",
              "      background-color: #3B4455;\n",
              "      fill: #D2E3FC;\n",
              "    }\n",
              "\n",
              "    [theme=dark] .colab-df-convert:hover {\n",
              "      background-color: #434B5C;\n",
              "      box-shadow: 0px 1px 3px 1px rgba(0, 0, 0, 0.15);\n",
              "      filter: drop-shadow(0px 1px 2px rgba(0, 0, 0, 0.3));\n",
              "      fill: #FFFFFF;\n",
              "    }\n",
              "  </style>\n",
              "\n",
              "      <script>\n",
              "        const buttonEl =\n",
              "          document.querySelector('#df-8f157e84-2312-44e9-a9f4-1ab8ca6d8a5a button.colab-df-convert');\n",
              "        buttonEl.style.display =\n",
              "          google.colab.kernel.accessAllowed ? 'block' : 'none';\n",
              "\n",
              "        async function convertToInteractive(key) {\n",
              "          const element = document.querySelector('#df-8f157e84-2312-44e9-a9f4-1ab8ca6d8a5a');\n",
              "          const dataTable =\n",
              "            await google.colab.kernel.invokeFunction('convertToInteractive',\n",
              "                                                     [key], {});\n",
              "          if (!dataTable) return;\n",
              "\n",
              "          const docLinkHtml = 'Like what you see? Visit the ' +\n",
              "            '<a target=\"_blank\" href=https://colab.research.google.com/notebooks/data_table.ipynb>data table notebook</a>'\n",
              "            + ' to learn more about interactive tables.';\n",
              "          element.innerHTML = '';\n",
              "          dataTable['output_type'] = 'display_data';\n",
              "          await google.colab.output.renderOutput(dataTable, element);\n",
              "          const docLink = document.createElement('div');\n",
              "          docLink.innerHTML = docLinkHtml;\n",
              "          element.appendChild(docLink);\n",
              "        }\n",
              "      </script>\n",
              "    </div>\n",
              "  </div>\n",
              "  "
            ],
            "text/plain": [
              "                Open           High  ...  Volume_(Currency)  Weighted_Price\n",
              "count  482164.000000  482164.000000  ...       4.821640e+05   482164.000000\n",
              "mean    17518.219043   17530.762651  ...       1.146092e+05    17518.220306\n",
              "std     12437.664947   12451.238920  ...       2.997170e+05    12436.839415\n",
              "min      6162.030000    6171.690000  ...       1.567074e-02     6148.417195\n",
              "25%      9429.950000    9433.690000  ...       5.771940e+03     9430.375287\n",
              "50%     11401.710000   11405.670000  ...       2.960274e+04    11402.298924\n",
              "75%     19264.225000   19274.527500  ...       1.013395e+05    19264.635280\n",
              "max     58345.540000   58354.140000  ...       1.390067e+07    58338.304421\n",
              "\n",
              "[8 rows x 7 columns]"
            ]
          },
          "metadata": {},
          "execution_count": 42
        }
      ]
    },
    {
      "cell_type": "code",
      "metadata": {
        "id": "lvm1EidNcBrq",
        "colab": {
          "base_uri": "https://localhost:8080/"
        },
        "outputId": "881ba359-ef82-49f0-e388-60e936b7963a"
      },
      "source": [
        "#valores mínimos no conjunto de dados para análise \n",
        "df_rec_analise.min()"
      ],
      "execution_count": 43,
      "outputs": [
        {
          "output_type": "execute_result",
          "data": {
            "text/plain": [
              "Timestamp            2020-03-31 00:00:00\n",
              "Open                             6162.03\n",
              "High                             6171.69\n",
              "Low                              6137.71\n",
              "Close                            6158.12\n",
              "Volume_(BTC)                    2.02e-06\n",
              "Volume_(Currency)              0.0156707\n",
              "Weighted_Price                   6148.42\n",
              "dtype: object"
            ]
          },
          "metadata": {},
          "execution_count": 43
        }
      ]
    },
    {
      "cell_type": "code",
      "metadata": {
        "id": "lnyiEXXQcKHJ",
        "colab": {
          "base_uri": "https://localhost:8080/"
        },
        "outputId": "a549c720-15a5-433d-abdf-59a8569b1ddd"
      },
      "source": [
        "#Valores máximos no conjunto de dados para análise \n",
        "df_rec_analise.max()"
      ],
      "execution_count": 44,
      "outputs": [
        {
          "output_type": "execute_result",
          "data": {
            "text/plain": [
              "Timestamp            2021-03-06 02:18:00\n",
              "Open                             58345.5\n",
              "High                             58354.1\n",
              "Low                              58326.6\n",
              "Close                            58354.1\n",
              "Volume_(BTC)                     1098.35\n",
              "Volume_(Currency)            1.39007e+07\n",
              "Weighted_Price                   58338.3\n",
              "dtype: object"
            ]
          },
          "metadata": {},
          "execution_count": 44
        }
      ]
    },
    {
      "cell_type": "markdown",
      "metadata": {
        "id": "dyzIbLCQX50J"
      },
      "source": [
        "**Outliers na feature Open**\n"
      ]
    },
    {
      "cell_type": "code",
      "metadata": {
        "id": "ADOhFpBP3VNB",
        "colab": {
          "base_uri": "https://localhost:8080/",
          "height": 483
        },
        "outputId": "453dfc35-6693-4f90-d0e2-5169b2e56ccb"
      },
      "source": [
        "#Verificando a existência de outliers através de visulização em box plot\n",
        "plt.figure(figsize=[10,8])\n",
        "boxplot = df_rec_analise.boxplot(column=['Open'])\n",
        "\n"
      ],
      "execution_count": 45,
      "outputs": [
        {
          "output_type": "display_data",
          "data": {
            "image/png": "[encoded data removed]",
            "text/plain": [
              "<Figure size 720x576 with 1 Axes>"
            ]
          },
          "metadata": {
            "needs_background": "light"
          }
        }
      ]
    },
    {
      "cell_type": "code",
      "metadata": {
        "id": "sJymnKzS59Jo",
        "colab": {
          "base_uri": "https://localhost:8080/"
        },
        "outputId": "f8755024-17e3-4bf2-c2e5-8c962e715b98"
      },
      "source": [
        "#Calculando intervalo interquartil\n",
        "q1= df_rec_analise[\"Open\"].quantile(0.25)\n",
        "q3= df_rec_analise[\"Open\"].quantile(0.75)\n",
        "IQL= q3 - q1\n",
        "print(IQL)"
      ],
      "execution_count": 46,
      "outputs": [
        {
          "output_type": "stream",
          "name": "stdout",
          "text": [
            "9834.275000000001\n"
          ]
        }
      ]
    },
    {
      "cell_type": "code",
      "metadata": {
        "id": "Hr6kZucT6mmL",
        "colab": {
          "base_uri": "https://localhost:8080/"
        },
        "outputId": "55b6c695-f2cf-4f72-ab7e-4d4c99b3ae21"
      },
      "source": [
        "#Estabelecendo os limites superior e inferior\n",
        "LS = q3+1.5*IQL\n",
        "LI = q1-1.5*IQL\n",
        "print(LS)\n",
        "print(LI)"
      ],
      "execution_count": 47,
      "outputs": [
        {
          "output_type": "stream",
          "name": "stdout",
          "text": [
            "34015.637500000004\n",
            "-5321.4625000000015\n"
          ]
        }
      ]
    },
    {
      "cell_type": "code",
      "metadata": {
        "id": "xo44GX2TK26P",
        "colab": {
          "base_uri": "https://localhost:8080/"
        },
        "outputId": "27b80f3c-ed06-451c-9547-51c7a2866097"
      },
      "source": [
        "#Verificando os pontos de máximo e mínimo das observações\n",
        "df_rec_analise[\"Open\"].describe()"
      ],
      "execution_count": 48,
      "outputs": [
        {
          "output_type": "execute_result",
          "data": {
            "text/plain": [
              "count    482164.000000\n",
              "mean      17518.219043\n",
              "std       12437.664947\n",
              "min        6162.030000\n",
              "25%        9429.950000\n",
              "50%       11401.710000\n",
              "75%       19264.225000\n",
              "max       58345.540000\n",
              "Name: Open, dtype: float64"
            ]
          },
          "metadata": {},
          "execution_count": 48
        }
      ]
    },
    {
      "cell_type": "code",
      "metadata": {
        "id": "dvpiRrh_tWfN",
        "colab": {
          "base_uri": "https://localhost:8080/",
          "height": 501
        },
        "outputId": "f853523c-265b-4d58-c6cd-6aac6afdb908"
      },
      "source": [
        "plt.figure(figsize=(10,8))\n",
        "df_rec_analise[\"Open\"].hist(bins=200)"
      ],
      "execution_count": 49,
      "outputs": [
        {
          "output_type": "execute_result",
          "data": {
            "text/plain": [
              "<matplotlib.axes._subplots.AxesSubplot at 0x7f146e747e10>"
            ]
          },
          "metadata": {},
          "execution_count": 49
        },
        {
          "output_type": "display_data",
          "data": {
            "image/png": "[encoded data removed]",
            "text/plain": [
              "<Figure size 720x576 with 1 Axes>"
            ]
          },
          "metadata": {
            "needs_background": "light"
          }
        }
      ]
    },
    {
      "cell_type": "code",
      "metadata": {
        "id": "vyMVHltjpasd"
      },
      "source": [
        "#Visualizando dados discrepantes\n",
        "dados_discrepantes_open = df_rec_analise[\"Open\"].loc[df_rec_analise[\"Open\"] >= 57368.4425]"
      ],
      "execution_count": 50,
      "outputs": []
    },
    {
      "cell_type": "code",
      "metadata": {
        "id": "YFnTJLWepy4P",
        "colab": {
          "base_uri": "https://localhost:8080/"
        },
        "outputId": "25bd2439-deac-4447-f334-ac66c956576b"
      },
      "source": [
        "dados_discrepantes_open"
      ],
      "execution_count": 51,
      "outputs": [
        {
          "output_type": "execute_result",
          "data": {
            "text/plain": [
              "4801980    57431.43\n",
              "4801981    57517.31\n",
              "4801983    57419.37\n",
              "4801984    57371.00\n",
              "4801993    57440.44\n",
              "             ...   \n",
              "4804096    57485.74\n",
              "4804097    57548.41\n",
              "4804098    57473.21\n",
              "4804099    57530.71\n",
              "4804100    57441.12\n",
              "Name: Open, Length: 594, dtype: float64"
            ]
          },
          "metadata": {},
          "execution_count": 51
        }
      ]
    },
    {
      "cell_type": "code",
      "metadata": {
        "id": "0y0yfcZDp5GL",
        "colab": {
          "base_uri": "https://localhost:8080/",
          "height": 501
        },
        "outputId": "b0659f7c-5420-4432-9065-0b824d07cd48"
      },
      "source": [
        "#Visualizando graficamente os dados discrepantes\n",
        "plt.figure(figsize=(10,8))\n",
        "dados_discrepantes_open.hist(bins=200)"
      ],
      "execution_count": 52,
      "outputs": [
        {
          "output_type": "execute_result",
          "data": {
            "text/plain": [
              "<matplotlib.axes._subplots.AxesSubplot at 0x7f146e46ed50>"
            ]
          },
          "metadata": {},
          "execution_count": 52
        },
        {
          "output_type": "display_data",
          "data": {
            "image/png": "[encoded data removed]",
            "text/plain": [
              "<Figure size 720x576 with 1 Axes>"
            ]
          },
          "metadata": {
            "needs_background": "light"
          }
        }
      ]
    },
    {
      "cell_type": "markdown",
      "metadata": {
        "id": "3C6_BPeTYTEa"
      },
      "source": [
        "**Outliers na feature High**"
      ]
    },
    {
      "cell_type": "code",
      "metadata": {
        "id": "I-Bu4pn5SVgq",
        "colab": {
          "base_uri": "https://localhost:8080/",
          "height": 483
        },
        "outputId": "e37860f2-0740-476c-ce11-c0d33d627c2b"
      },
      "source": [
        "#Outliers com base na feature high\n",
        "plt.figure(figsize=[10,8])\n",
        "boxplot_high=df_rec_analise.boxplot(column=[\"High\"])"
      ],
      "execution_count": 53,
      "outputs": [
        {
          "output_type": "display_data",
          "data": {
            "image/png": "[encoded data removed]",
            "text/plain": [
              "<Figure size 720x576 with 1 Axes>"
            ]
          },
          "metadata": {
            "needs_background": "light"
          }
        }
      ]
    },
    {
      "cell_type": "code",
      "metadata": {
        "id": "Bs-S4FY1Wcqo",
        "colab": {
          "base_uri": "https://localhost:8080/"
        },
        "outputId": "3efc49d0-5f72-4321-a083-2444e6d881dd"
      },
      "source": [
        "#definindo intervalo interquartílico \n",
        "q1= df_rec_analise[\"High\"].quantile(0.25)\n",
        "q3= df_rec_analise[\"High\"].quantile(0.75)\n",
        "IQL= q3 - q1\n",
        "print(IQL)"
      ],
      "execution_count": 54,
      "outputs": [
        {
          "output_type": "stream",
          "name": "stdout",
          "text": [
            "9840.8375\n"
          ]
        }
      ]
    },
    {
      "cell_type": "code",
      "metadata": {
        "id": "-4VAJHXnb4_i",
        "colab": {
          "base_uri": "https://localhost:8080/"
        },
        "outputId": "62d4be65-dc1d-4355-c082-90cd6e5a834d"
      },
      "source": [
        "#definindo os limites superior e inferior\n",
        "#Os limites são LS=57419.44 e LI=3.80  \n",
        "LS=q3+1.5*IQL\n",
        "LI=q1-1.5*IQL\n",
        "print(LS)\n",
        "print(LI)"
      ],
      "execution_count": 55,
      "outputs": [
        {
          "output_type": "stream",
          "name": "stdout",
          "text": [
            "34035.78375\n",
            "-5327.566249999998\n"
          ]
        }
      ]
    },
    {
      "cell_type": "code",
      "metadata": {
        "id": "_lyGq-4Ih6Yz"
      },
      "source": [
        "#Dados discrepantes da feature \"High\"\n",
        "dados_discrepantes_high = df_rec_analise[\"High\"].loc[df_rec_analise[\"High\"] >= 57419.44000000001]"
      ],
      "execution_count": 56,
      "outputs": []
    },
    {
      "cell_type": "code",
      "metadata": {
        "id": "-h6nwtvwiJni",
        "colab": {
          "base_uri": "https://localhost:8080/"
        },
        "outputId": "45e6cef1-55ce-4d84-dd92-0257458eb6b5"
      },
      "source": [
        "dados_discrepantes_high"
      ],
      "execution_count": 57,
      "outputs": [
        {
          "output_type": "execute_result",
          "data": {
            "text/plain": [
              "4801978    57474.16\n",
              "4801979    57467.24\n",
              "4801980    57549.91\n",
              "4801981    57553.81\n",
              "4801982    57482.19\n",
              "             ...   \n",
              "4804096    57558.69\n",
              "4804097    57550.27\n",
              "4804098    57496.10\n",
              "4804099    57564.19\n",
              "4804100    57442.46\n",
              "Name: High, Length: 560, dtype: float64"
            ]
          },
          "metadata": {},
          "execution_count": 57
        }
      ]
    },
    {
      "cell_type": "code",
      "metadata": {
        "id": "vzDjUzuTiNeh",
        "colab": {
          "base_uri": "https://localhost:8080/",
          "height": 501
        },
        "outputId": "239c0df7-3edc-4c13-d761-0d115ca6286e"
      },
      "source": [
        "#Visualizando com histograma\n",
        "plt.figure(figsize=(10,8))\n",
        "dados_discrepantes_high.hist(bins=200)"
      ],
      "execution_count": 58,
      "outputs": [
        {
          "output_type": "execute_result",
          "data": {
            "text/plain": [
              "<matplotlib.axes._subplots.AxesSubplot at 0x7f146e201450>"
            ]
          },
          "metadata": {},
          "execution_count": 58
        },
        {
          "output_type": "display_data",
          "data": {
            "image/png": "[encoded data removed]",
            "text/plain": [
              "<Figure size 720x576 with 1 Axes>"
            ]
          },
          "metadata": {
            "needs_background": "light"
          }
        }
      ]
    },
    {
      "cell_type": "markdown",
      "metadata": {
        "id": "CnP16M6HY4s4"
      },
      "source": [
        "**Outliers para a feature Low**"
      ]
    },
    {
      "cell_type": "code",
      "metadata": {
        "id": "5EJQd-V0ijjL",
        "colab": {
          "base_uri": "https://localhost:8080/",
          "height": 483
        },
        "outputId": "faae7bc6-7e63-4b3c-a5fd-ecadbb2f9dc1"
      },
      "source": [
        "#Definindo o boxplot para a feature\n",
        "plt.figure(figsize=[10,8])\n",
        "boxplot=df_rec_analise.boxplot(column=\"Low\")"
      ],
      "execution_count": 59,
      "outputs": [
        {
          "output_type": "display_data",
          "data": {
            "image/png": "[encoded data removed]",
            "text/plain": [
              "<Figure size 720x576 with 1 Axes>"
            ]
          },
          "metadata": {
            "needs_background": "light"
          }
        }
      ]
    },
    {
      "cell_type": "code",
      "metadata": {
        "id": "F6FeIQ2fkbzr",
        "colab": {
          "base_uri": "https://localhost:8080/"
        },
        "outputId": "9f4b825a-e1a2-4ee0-c8a8-fee5197701e2"
      },
      "source": [
        "#Definindo intervalo interquartilico \n",
        "q3=df_rec_analise[\"Low\"].quantile(0.75)\n",
        "q1=df_rec_analise[\"Low\"].quantile(0.25)\n",
        "IQL= q3-q1\n",
        "IQL"
      ],
      "execution_count": 60,
      "outputs": [
        {
          "output_type": "execute_result",
          "data": {
            "text/plain": [
              "9825.039999999999"
            ]
          },
          "metadata": {},
          "execution_count": 60
        }
      ]
    },
    {
      "cell_type": "code",
      "metadata": {
        "id": "JGmKBTc5mTkt",
        "colab": {
          "base_uri": "https://localhost:8080/"
        },
        "outputId": "a04cbc2f-fb96-4d72-df1d-c59a58451440"
      },
      "source": [
        "#Limites superior e inferior da feature Low\n",
        "#Os limites são LS=57287.96000000001, LI=1.50\n",
        "LS=q3+1.5*IQL\n",
        "LI=q1-1.5*IQL\n",
        "print(LS)\n",
        "print(LI)"
      ],
      "execution_count": 61,
      "outputs": [
        {
          "output_type": "stream",
          "name": "stdout",
          "text": [
            "33989.979999999996\n",
            "-5310.1799999999985\n"
          ]
        }
      ]
    },
    {
      "cell_type": "code",
      "metadata": {
        "id": "i3ypR7kVm8qE"
      },
      "source": [
        "#Dados discprepantes da fearture Low\n",
        "dados_discrepantes_Low = df_rec_analise[\"Low\"].loc[df_rec_analise[\"Low\"] >= 57287.96000000001]\n"
      ],
      "execution_count": 62,
      "outputs": []
    },
    {
      "cell_type": "code",
      "metadata": {
        "id": "famCnWKbnI15",
        "colab": {
          "base_uri": "https://localhost:8080/",
          "height": 501
        },
        "outputId": "84035be5-799d-4fe0-a572-68054f1312a0"
      },
      "source": [
        "#Visualisando os dados discrepantes com histograma\n",
        "plt.figure(figsize=(10,8))\n",
        "dados_discrepantes_Low.hist(bins=200)"
      ],
      "execution_count": 63,
      "outputs": [
        {
          "output_type": "execute_result",
          "data": {
            "text/plain": [
              "<matplotlib.axes._subplots.AxesSubplot at 0x7f146dea9f10>"
            ]
          },
          "metadata": {},
          "execution_count": 63
        },
        {
          "output_type": "display_data",
          "data": {
            "image/png": "[encoded data removed]",
            "text/plain": [
              "<Figure size 720x576 with 1 Axes>"
            ]
          },
          "metadata": {
            "needs_background": "light"
          }
        }
      ]
    },
    {
      "cell_type": "markdown",
      "metadata": {
        "id": "nvSrjcIDZFNx"
      },
      "source": [
        "**Outliers para a feature Close**"
      ]
    },
    {
      "cell_type": "code",
      "metadata": {
        "id": "vX-CS1TEZH1P",
        "colab": {
          "base_uri": "https://localhost:8080/",
          "height": 483
        },
        "outputId": "d49916b6-6375-4a97-eb92-e54e4d65271d"
      },
      "source": [
        "#Boxplot para a feature close\n",
        "plt.figure(figsize=[10,8])\n",
        "boxplot_close=df_rec_analise.boxplot(column=\"Close\")"
      ],
      "execution_count": 64,
      "outputs": [
        {
          "output_type": "display_data",
          "data": {
            "image/png": "[encoded data removed]",
            "text/plain": [
              "<Figure size 720x576 with 1 Axes>"
            ]
          },
          "metadata": {
            "needs_background": "light"
          }
        }
      ]
    },
    {
      "cell_type": "code",
      "metadata": {
        "id": "zKoNlYxRaR9M",
        "colab": {
          "base_uri": "https://localhost:8080/"
        },
        "outputId": "2ad2840b-7548-4d82-80c9-ae5932222929"
      },
      "source": [
        "#definindo intervalo interquartílico \n",
        "q3=df_rec_analise[\"Close\"].quantile(0.75)\n",
        "q1=df_rec_analise[\"Close\"].quantile(0.25)\n",
        "IQL = q3-q1\n",
        "IQL"
      ],
      "execution_count": 65,
      "outputs": [
        {
          "output_type": "execute_result",
          "data": {
            "text/plain": [
              "9834.330000000002"
            ]
          },
          "metadata": {},
          "execution_count": 65
        }
      ]
    },
    {
      "cell_type": "code",
      "metadata": {
        "id": "oWYwLH1YasUF",
        "colab": {
          "base_uri": "https://localhost:8080/"
        },
        "outputId": "f79918df-5452-476f-9b07-67ea78b76982"
      },
      "source": [
        "#Estabelecendo os limites superior e inferior. LS=57363.24, LI=6158.12.\n",
        "LS=q3+1.5*IQL\n",
        "LI=q1-1.5*IQL\n",
        "print(LS)\n",
        "print(LI)"
      ],
      "execution_count": 66,
      "outputs": [
        {
          "output_type": "stream",
          "name": "stdout",
          "text": [
            "34016.125\n",
            "-5321.195000000003\n"
          ]
        }
      ]
    },
    {
      "cell_type": "code",
      "metadata": {
        "id": "7uMbLtnicunk"
      },
      "source": [
        "#Outliers para a feature Close \n",
        "dados_discrepantes_close=df_rec_analise[\"Close\"].loc[df_rec_analise[\"Close\"]>=57363.240000000005]"
      ],
      "execution_count": 67,
      "outputs": []
    },
    {
      "cell_type": "code",
      "metadata": {
        "id": "N0qEdN8Vdj2n",
        "colab": {
          "base_uri": "https://localhost:8080/"
        },
        "outputId": "27200e04-e522-4bb6-b362-6855762ff93a"
      },
      "source": [
        "#dados discrepantes na feature Close\n",
        "dados_discrepantes_close"
      ],
      "execution_count": 68,
      "outputs": [
        {
          "output_type": "execute_result",
          "data": {
            "text/plain": [
              "4801979    57434.11\n",
              "4801980    57515.22\n",
              "4801982    57411.78\n",
              "4801983    57371.03\n",
              "4801985    57380.58\n",
              "             ...   \n",
              "4804095    57492.91\n",
              "4804096    57555.99\n",
              "4804097    57473.16\n",
              "4804098    57427.51\n",
              "4804099    57520.07\n",
              "Name: Close, Length: 609, dtype: float64"
            ]
          },
          "metadata": {},
          "execution_count": 68
        }
      ]
    },
    {
      "cell_type": "code",
      "metadata": {
        "id": "IIBqs5lRdsGi",
        "colab": {
          "base_uri": "https://localhost:8080/",
          "height": 483
        },
        "outputId": "3e6070e2-637f-4a6f-aa6d-047ba032ec35"
      },
      "source": [
        "#Histograma\n",
        "plt.figure(figsize=[10,8])\n",
        "dados_discrepantes_close.hist(bins=200)\n",
        "plt.show()"
      ],
      "execution_count": 69,
      "outputs": [
        {
          "output_type": "display_data",
          "data": {
            "image/png": "[encoded data removed]",
            "text/plain": [
              "<Figure size 720x576 with 1 Axes>"
            ]
          },
          "metadata": {
            "needs_background": "light"
          }
        }
      ]
    },
    {
      "cell_type": "markdown",
      "metadata": {
        "id": "O06875j5h4kF"
      },
      "source": [
        "**Outliers para a feature Volume_(BTC)**"
      ]
    },
    {
      "cell_type": "code",
      "metadata": {
        "id": "W7nUw9lNh3CS",
        "colab": {
          "base_uri": "https://localhost:8080/",
          "height": 484
        },
        "outputId": "8eba7dd9-1472-4d5c-c35e-5a4ae1c1c9f7"
      },
      "source": [
        "#Boxplot\n",
        "plt.figure(figsize=[10,8])\n",
        "boxplot_VolumeBTC=df_rec_analise.boxplot(column=\"Volume_(BTC)\")\n"
      ],
      "execution_count": 70,
      "outputs": [
        {
          "output_type": "display_data",
          "data": {
            "image/png": "[encoded data removed]",
            "text/plain": [
              "<Figure size 720x576 with 1 Axes>"
            ]
          },
          "metadata": {
            "needs_background": "light"
          }
        }
      ]
    },
    {
      "cell_type": "code",
      "metadata": {
        "id": "6-1PGMsZn4fg",
        "colab": {
          "base_uri": "https://localhost:8080/"
        },
        "outputId": "98bdb4c0-b1f1-449a-ed7c-288c2df73b7b"
      },
      "source": [
        "#Intervalo interquartil \n",
        "q3=df_rec_analise[\"Volume_(BTC)\"].quantile(0.75)\n",
        "q1=df_rec_analise[\"Volume_(BTC)\"].quantile(0.25)\n",
        "IQL=q3-q1\n",
        "IQL"
      ],
      "execution_count": 71,
      "outputs": [
        {
          "output_type": "execute_result",
          "data": {
            "text/plain": [
              "5.40341749"
            ]
          },
          "metadata": {},
          "execution_count": 71
        }
      ]
    },
    {
      "cell_type": "code",
      "metadata": {
        "id": "Ex5K7aEOoWiD",
        "colab": {
          "base_uri": "https://localhost:8080/"
        },
        "outputId": "32a729db-f2d8-42f8-b77e-1efc15a17441"
      },
      "source": [
        "#Estabelecendo limites superior e inferior. LS=13.459081675, LI=2.02e-06\n",
        "LS=q3+1.5*IQL\n",
        "LI=q1-1.5*IQL\n",
        "print(LS)\n",
        "print(LI)"
      ],
      "execution_count": 72,
      "outputs": [
        {
          "output_type": "stream",
          "name": "stdout",
          "text": [
            "13.994449435\n",
            "-7.619220525\n"
          ]
        }
      ]
    },
    {
      "cell_type": "code",
      "metadata": {
        "id": "5SAjLpxroibo",
        "colab": {
          "base_uri": "https://localhost:8080/"
        },
        "outputId": "3115f6d9-7c9e-4621-994f-336a72c01c40"
      },
      "source": [
        "df_rec_analise[\"Volume_(BTC)\"].max()    "
      ],
      "execution_count": 73,
      "outputs": [
        {
          "output_type": "execute_result",
          "data": {
            "text/plain": [
              "1098.3493842"
            ]
          },
          "metadata": {},
          "execution_count": 73
        }
      ]
    },
    {
      "cell_type": "code",
      "metadata": {
        "id": "atVbQieEqKxg",
        "colab": {
          "base_uri": "https://localhost:8080/"
        },
        "outputId": "3baf1829-ca10-4a25-9a1d-5d369b46d634"
      },
      "source": [
        "df_rec_analise[\"Volume_(BTC)\"].min()"
      ],
      "execution_count": 74,
      "outputs": [
        {
          "output_type": "execute_result",
          "data": {
            "text/plain": [
              "2.02e-06"
            ]
          },
          "metadata": {},
          "execution_count": 74
        }
      ]
    },
    {
      "cell_type": "code",
      "metadata": {
        "id": "ct3QGbMTrb9P"
      },
      "source": [
        "#dados discrepantes para a feature Volume_(BTC)\n",
        "dados_discrepantes_VolumeBTC=df_rec_analise[\"Volume_(BTC)\"].loc[df_rec_analise[\"Volume_(BTC)\"]>=13.459081675]"
      ],
      "execution_count": 75,
      "outputs": []
    },
    {
      "cell_type": "code",
      "metadata": {
        "id": "jRz9IqV_r3q3",
        "colab": {
          "base_uri": "https://localhost:8080/"
        },
        "outputId": "c7dd3956-7413-42c9-c0c4-a48b803681d7"
      },
      "source": [
        "dados_discrepantes_VolumeBTC"
      ],
      "execution_count": 76,
      "outputs": [
        {
          "output_type": "execute_result",
          "data": {
            "text/plain": [
              "4331778    18.707374\n",
              "4331782    20.546321\n",
              "4331803    28.450407\n",
              "4331831    18.384845\n",
              "4331892    28.659927\n",
              "             ...    \n",
              "4821286    24.625556\n",
              "4821288    29.304260\n",
              "4821426    14.880885\n",
              "4821502    21.995985\n",
              "4821505    16.579431\n",
              "Name: Volume_(BTC), Length: 51623, dtype: float64"
            ]
          },
          "metadata": {},
          "execution_count": 76
        }
      ]
    },
    {
      "cell_type": "code",
      "metadata": {
        "id": "547smD7vspSF",
        "colab": {
          "base_uri": "https://localhost:8080/",
          "height": 496
        },
        "outputId": "efeac99f-f762-44df-ec92-bf7f6f414d31"
      },
      "source": [
        "#Histograma\n",
        "plt.figure(figsize=[10,8])\n",
        "dados_discrepantes_VolumeBTC.plot(kind=\"line\", grid=True)\n",
        "plt.show()"
      ],
      "execution_count": 77,
      "outputs": [
        {
          "output_type": "display_data",
          "data": {
            "image/png": "[encoded data removed]",
            "text/plain": [
              "<Figure size 720x576 with 1 Axes>"
            ]
          },
          "metadata": {
            "needs_background": "light"
          }
        }
      ]
    },
    {
      "cell_type": "markdown",
      "metadata": {
        "id": "9_PLBTtIGPdx"
      },
      "source": [
        "**Outliers da feature Volume_(Currency)**"
      ]
    },
    {
      "cell_type": "code",
      "metadata": {
        "id": "FDR6TMZnGhBg",
        "colab": {
          "base_uri": "https://localhost:8080/",
          "height": 495
        },
        "outputId": "70820c62-a48d-48fb-9883-21194abaa3ec"
      },
      "source": [
        "#boxplot \n",
        "plt.figure(figsize=(10,8))\n",
        "boxplot_VolumeC=df_rec_analise.boxplot(column=[\"Volume_(Currency)\"])"
      ],
      "execution_count": 78,
      "outputs": [
        {
          "output_type": "display_data",
          "data": {
            "image/png": "[encoded data removed]",
            "text/plain": [
              "<Figure size 720x576 with 1 Axes>"
            ]
          },
          "metadata": {
            "needs_background": "light"
          }
        }
      ]
    },
    {
      "cell_type": "code",
      "metadata": {
        "id": "wwlO11QrHMvu",
        "colab": {
          "base_uri": "https://localhost:8080/"
        },
        "outputId": "06e327ee-e949-47de-91d4-64f3c3d8b89c"
      },
      "source": [
        "#intervalo interquartil \n",
        "q3=df_rec_analise[\"Volume_(Currency)\"].quantile(0.75)\n",
        "q1=df_rec_analise[\"Volume_(Currency)\"].quantile(0.25)\n",
        "IQL=q3-q1\n",
        "IQL"
      ],
      "execution_count": 79,
      "outputs": [
        {
          "output_type": "execute_result",
          "data": {
            "text/plain": [
              "95567.59674485"
            ]
          },
          "metadata": {},
          "execution_count": 79
        }
      ]
    },
    {
      "cell_type": "markdown",
      "metadata": {
        "id": "O1CAmtePHtUz"
      },
      "source": [
        "Muitos outliers nas features de volume. Análise separada?"
      ]
    },
    {
      "cell_type": "code",
      "metadata": {
        "id": "Y1kgsNvtHp7R",
        "colab": {
          "base_uri": "https://localhost:8080/"
        },
        "outputId": "8d782ef1-125b-4f1e-f4ad-dfd668a1e39d"
      },
      "source": [
        "#limites. LS=261898.55319500001, LI=0.0156707418\n",
        "LS=q3+1.5*IQL\n",
        "LI=q1-1.5*IQL\n",
        "print(LS)\n",
        "print(LI)"
      ],
      "execution_count": 80,
      "outputs": [
        {
          "output_type": "stream",
          "name": "stdout",
          "text": [
            "244690.932249775\n",
            "-137579.45472962502\n"
          ]
        }
      ]
    },
    {
      "cell_type": "code",
      "metadata": {
        "id": "7ENeaqTeIaQP",
        "colab": {
          "base_uri": "https://localhost:8080/"
        },
        "outputId": "8fe2e1b4-6c52-4047-fbcd-542d300ded81"
      },
      "source": [
        "df_rec_analise[\"Volume_(Currency)\"].max()"
      ],
      "execution_count": 81,
      "outputs": [
        {
          "output_type": "execute_result",
          "data": {
            "text/plain": [
              "13900672.407"
            ]
          },
          "metadata": {},
          "execution_count": 81
        }
      ]
    },
    {
      "cell_type": "code",
      "metadata": {
        "id": "0bs8UWPBIzDi",
        "colab": {
          "base_uri": "https://localhost:8080/"
        },
        "outputId": "2ac00869-fa13-4c55-ae66-811a7d324e46"
      },
      "source": [
        "df_rec_analise[\"Volume_(Currency)\"].min()"
      ],
      "execution_count": 82,
      "outputs": [
        {
          "output_type": "execute_result",
          "data": {
            "text/plain": [
              "0.0156707418"
            ]
          },
          "metadata": {},
          "execution_count": 82
        }
      ]
    },
    {
      "cell_type": "code",
      "metadata": {
        "id": "tXrhrFK-I8Sg"
      },
      "source": [
        "#dados discrepantes para a feature Volume_(Currency)\n",
        "dados_discrepantes_VolumeC=df_rec_analise[\"Volume_(Currency)\"].loc[df_rec_analise[\"Volume_(Currency)\"]>=261898.55319500001]"
      ],
      "execution_count": 83,
      "outputs": []
    },
    {
      "cell_type": "code",
      "metadata": {
        "id": "5ieaxlATJMbG",
        "colab": {
          "base_uri": "https://localhost:8080/"
        },
        "outputId": "d18af9d0-795f-466e-e0cf-63c6a5444bb2"
      },
      "source": [
        "dados_discrepantes_VolumeC"
      ],
      "execution_count": 84,
      "outputs": [
        {
          "output_type": "execute_result",
          "data": {
            "text/plain": [
              "4332368    3.393816e+05\n",
              "4332371    3.436030e+05\n",
              "4332372    3.338428e+05\n",
              "4332423    3.264766e+05\n",
              "4332424    5.707756e+05\n",
              "               ...     \n",
              "4821329    2.663410e+05\n",
              "4821426    7.262035e+05\n",
              "4821442    4.712081e+05\n",
              "4821502    1.066740e+06\n",
              "4821505    8.007320e+05\n",
              "Name: Volume_(Currency), Length: 50449, dtype: float64"
            ]
          },
          "metadata": {},
          "execution_count": 84
        }
      ]
    },
    {
      "cell_type": "code",
      "metadata": {
        "id": "U_NR86yxJUZE",
        "colab": {
          "base_uri": "https://localhost:8080/",
          "height": 635
        },
        "outputId": "2ee41ae0-df3e-451b-bbf0-574169dffe83"
      },
      "source": [
        "#visualisando\n",
        "plt.figure(figsize=(12,10))\n",
        "dados_discrepantes_VolumeC.plot(kind=\"line\", grid=True)"
      ],
      "execution_count": 85,
      "outputs": [
        {
          "output_type": "execute_result",
          "data": {
            "text/plain": [
              "<matplotlib.axes._subplots.AxesSubplot at 0x7f146d77b6d0>"
            ]
          },
          "metadata": {},
          "execution_count": 85
        },
        {
          "output_type": "display_data",
          "data": {
            "image/png": "[encoded data removed]",
            "text/plain": [
              "<Figure size 864x720 with 1 Axes>"
            ]
          },
          "metadata": {
            "needs_background": "light"
          }
        }
      ]
    },
    {
      "cell_type": "markdown",
      "metadata": {
        "id": "TpRlrO71u6pI"
      },
      "source": [
        "**Outliers da feature Weighted_Price**"
      ]
    },
    {
      "cell_type": "code",
      "metadata": {
        "id": "hnrrukurxHyX",
        "colab": {
          "base_uri": "https://localhost:8080/",
          "height": 484
        },
        "outputId": "f24e5c2d-e025-4517-e2a1-0b19b8477b69"
      },
      "source": [
        "#Boxplot\n",
        "plt.figure(figsize=[10,8])\n",
        "boxplot_Weighted_Price=df_rec_analise.boxplot(column=\"Weighted_Price\")"
      ],
      "execution_count": 86,
      "outputs": [
        {
          "output_type": "display_data",
          "data": {
            "image/png": "[encoded data removed]",
            "text/plain": [
              "<Figure size 720x576 with 1 Axes>"
            ]
          },
          "metadata": {
            "needs_background": "light"
          }
        }
      ]
    },
    {
      "cell_type": "code",
      "metadata": {
        "id": "SacoKtwfyGRx",
        "colab": {
          "base_uri": "https://localhost:8080/"
        },
        "outputId": "153816e4-0fae-4ece-eb9d-72af80e0dfee"
      },
      "source": [
        "#intervalo interquartil \n",
        "q3=df_rec_analise[\"Weighted_Price\"].quantile(0.75)\n",
        "q1=df_rec_analise[\"Weighted_Price\"].quantile(0.25)\n",
        "IQL=q3-q1\n",
        "IQL"
      ],
      "execution_count": 87,
      "outputs": [
        {
          "output_type": "execute_result",
          "data": {
            "text/plain": [
              "9834.25999235"
            ]
          },
          "metadata": {},
          "execution_count": 87
        }
      ]
    },
    {
      "cell_type": "code",
      "metadata": {
        "id": "JY9xzIE7yS01",
        "colab": {
          "base_uri": "https://localhost:8080/"
        },
        "outputId": "51a1e1d1-54cb-4988-c5e5-368d86eb486c"
      },
      "source": [
        "#limites superior e inferior. LS=57349.1936412, LI=6148.417195\n",
        "LS=q3+1.5*IQL\n",
        "LI=q1-1.5*IQL\n",
        "print(LS)\n",
        "print(LI)"
      ],
      "execution_count": 88,
      "outputs": [
        {
          "output_type": "stream",
          "name": "stdout",
          "text": [
            "34016.025268275\n",
            "-5321.014701124999\n"
          ]
        }
      ]
    },
    {
      "cell_type": "code",
      "metadata": {
        "id": "eIiLlDI3yyDu"
      },
      "source": [
        "#Dados discrepantes\n",
        "dados_discrepantes_Weighted_Price=df_rec_analise[\"Weighted_Price\"].loc[df_rec_analise[\"Weighted_Price\"]>=57349.1936412]\n"
      ],
      "execution_count": 89,
      "outputs": []
    },
    {
      "cell_type": "code",
      "metadata": {
        "id": "gDHVtCDdzRoc",
        "colab": {
          "base_uri": "https://localhost:8080/"
        },
        "outputId": "bcf69ea5-be26-4b76-89e5-4b9650ca0a35"
      },
      "source": [
        "dados_discrepantes_Weighted_Price"
      ],
      "execution_count": 90,
      "outputs": [
        {
          "output_type": "execute_result",
          "data": {
            "text/plain": [
              "4801978    57401.019507\n",
              "4801979    57394.408526\n",
              "4801980    57503.365779\n",
              "4801981    57475.037453\n",
              "4801982    57429.726218\n",
              "               ...     \n",
              "4804095    57495.214912\n",
              "4804096    57526.574979\n",
              "4804097    57521.083264\n",
              "4804098    57455.667221\n",
              "4804099    57540.315393\n",
              "Name: Weighted_Price, Length: 627, dtype: float64"
            ]
          },
          "metadata": {},
          "execution_count": 90
        }
      ]
    },
    {
      "cell_type": "code",
      "metadata": {
        "id": "Cbkm4AGI1VLO",
        "colab": {
          "base_uri": "https://localhost:8080/",
          "height": 496
        },
        "outputId": "69c584ed-bde3-436d-fff5-01fe6cfbd37e"
      },
      "source": [
        "#Visualização\n",
        "plt.figure(figsize=[10,8])\n",
        "dados_discrepantes_Weighted_Price.plot( grid=True)\n",
        "plt.show()"
      ],
      "execution_count": 91,
      "outputs": [
        {
          "output_type": "display_data",
          "data": {
            "image/png": "[encoded data removed]",
            "text/plain": [
              "<Figure size 720x576 with 1 Axes>"
            ]
          },
          "metadata": {
            "needs_background": "light"
          }
        }
      ]
    },
    {
      "cell_type": "markdown",
      "metadata": {
        "id": "khMUpyga1iMG"
      },
      "source": [
        "#Análise das features\n",
        "\n",
        "Date_time:\n",
        "  Hora de início da janela. Janelas de 60s em unidade de time unix inicialmente, modificado para o formato data e hora. Com intervalos de 60s entre as observações. "
      ]
    },
    {
      "cell_type": "code",
      "metadata": {
        "id": "tK3ix7lC1qCe",
        "colab": {
          "base_uri": "https://localhost:8080/"
        },
        "outputId": "cf579e04-0efa-4117-82ef-83fedd05c287"
      },
      "source": [
        "df_rec_analise[\"Timestamp\"]"
      ],
      "execution_count": 92,
      "outputs": [
        {
          "output_type": "execute_result",
          "data": {
            "text/plain": [
              "4331776   2020-03-31 00:00:00\n",
              "4331777   2020-03-31 00:01:00\n",
              "4331778   2020-03-31 00:02:00\n",
              "4331779   2020-03-31 00:03:00\n",
              "4331780   2020-03-31 00:04:00\n",
              "                  ...        \n",
              "4821510   2021-03-06 02:14:00\n",
              "4821511   2021-03-06 02:15:00\n",
              "4821512   2021-03-06 02:16:00\n",
              "4821513   2021-03-06 02:17:00\n",
              "4821514   2021-03-06 02:18:00\n",
              "Name: Timestamp, Length: 482164, dtype: datetime64[ns]"
            ]
          },
          "metadata": {},
          "execution_count": 92
        }
      ]
    },
    {
      "cell_type": "code",
      "metadata": {
        "id": "8tIxR7l11vbG",
        "colab": {
          "base_uri": "https://localhost:8080/"
        },
        "outputId": "7fa71d05-89b6-438f-ef8a-f3bf89ab6260"
      },
      "source": [
        "#Verificando o tipo\n",
        "df_rec_analise[\"Timestamp\"].dtypes"
      ],
      "execution_count": 93,
      "outputs": [
        {
          "output_type": "execute_result",
          "data": {
            "text/plain": [
              "dtype('<M8[ns]')"
            ]
          },
          "metadata": {},
          "execution_count": 93
        }
      ]
    },
    {
      "cell_type": "code",
      "metadata": {
        "id": "PT1WYLGE13eR",
        "colab": {
          "base_uri": "https://localhost:8080/"
        },
        "outputId": "0f73176c-d1f0-47c0-b45b-367f960188c1"
      },
      "source": [
        "#Verificando dados faltantes\n",
        "df_rec_analise[\"Timestamp\"].isnull().sum()"
      ],
      "execution_count": 94,
      "outputs": [
        {
          "output_type": "execute_result",
          "data": {
            "text/plain": [
              "0"
            ]
          },
          "metadata": {},
          "execution_count": 94
        }
      ]
    },
    {
      "cell_type": "code",
      "metadata": {
        "id": "4XpwMRNM3cAq",
        "colab": {
          "base_uri": "https://localhost:8080/"
        },
        "outputId": "061bd3cf-a313-426e-d6bf-0c276837d3b0"
      },
      "source": [
        "#Informações estátisticas sobre a feature\n",
        "df_rec_analise[\"Timestamp\"].describe()"
      ],
      "execution_count": 95,
      "outputs": [
        {
          "output_type": "stream",
          "name": "stderr",
          "text": [
            "/usr/local/lib/python3.7/dist-packages/ipykernel_launcher.py:2: FutureWarning: Treating datetime data as categorical rather than numeric in `.describe` is deprecated and will be removed in a future version of pandas. Specify `datetime_is_numeric=True` to silence this warning and adopt the future behavior now.\n",
            "  \n"
          ]
        },
        {
          "output_type": "execute_result",
          "data": {
            "text/plain": [
              "count                  482164\n",
              "unique                 482164\n",
              "top       2020-08-21 19:42:00\n",
              "freq                        1\n",
              "first     2020-03-31 00:00:00\n",
              "last      2021-03-06 02:18:00\n",
              "Name: Timestamp, dtype: object"
            ]
          },
          "metadata": {},
          "execution_count": 95
        }
      ]
    },
    {
      "cell_type": "markdown",
      "metadata": {
        "id": "NXLLk2jik9lY"
      },
      "source": [
        "#Open\n",
        "\n",
        "Valor de abertura da janela. \n"
      ]
    },
    {
      "cell_type": "code",
      "metadata": {
        "id": "tKNWaIdjndDU",
        "colab": {
          "base_uri": "https://localhost:8080/"
        },
        "outputId": "4c33d3ce-44bf-4077-f35a-81e9c62e3a5b"
      },
      "source": [
        "df_rec_analise[\"Open\"]"
      ],
      "execution_count": 96,
      "outputs": [
        {
          "output_type": "execute_result",
          "data": {
            "text/plain": [
              "4331776     6408.95\n",
              "4331777     6399.20\n",
              "4331778     6409.05\n",
              "4331779     6417.53\n",
              "4331780     6426.54\n",
              "             ...   \n",
              "4821510    48399.55\n",
              "4821511    48362.00\n",
              "4821512    48383.17\n",
              "4821513    48459.00\n",
              "4821514    48384.22\n",
              "Name: Open, Length: 482164, dtype: float64"
            ]
          },
          "metadata": {},
          "execution_count": 96
        }
      ]
    },
    {
      "cell_type": "code",
      "metadata": {
        "id": "RXC8HEaBngJE",
        "colab": {
          "base_uri": "https://localhost:8080/"
        },
        "outputId": "d9a1cd1c-7ad3-4fb0-bd53-902cb91814ad"
      },
      "source": [
        "#Informações estatísticas iniciais\n",
        "df_rec_analise[\"Open\"].describe()"
      ],
      "execution_count": 97,
      "outputs": [
        {
          "output_type": "execute_result",
          "data": {
            "text/plain": [
              "count    482164.000000\n",
              "mean      17518.219043\n",
              "std       12437.664947\n",
              "min        6162.030000\n",
              "25%        9429.950000\n",
              "50%       11401.710000\n",
              "75%       19264.225000\n",
              "max       58345.540000\n",
              "Name: Open, dtype: float64"
            ]
          },
          "metadata": {},
          "execution_count": 97
        }
      ]
    },
    {
      "cell_type": "code",
      "metadata": {
        "id": "Hb9tKt7CvUqM",
        "colab": {
          "base_uri": "https://localhost:8080/"
        },
        "outputId": "102f276c-1195-431c-9160-4957a07e9f5f"
      },
      "source": [
        "#Mediana\n",
        "df_rec_analise[\"Open\"].median()"
      ],
      "execution_count": 98,
      "outputs": [
        {
          "output_type": "execute_result",
          "data": {
            "text/plain": [
              "11401.71"
            ]
          },
          "metadata": {},
          "execution_count": 98
        }
      ]
    },
    {
      "cell_type": "code",
      "metadata": {
        "id": "BDZe-lQkn7xR",
        "colab": {
          "base_uri": "https://localhost:8080/"
        },
        "outputId": "884ee0b1-aa2c-4e9e-9cb7-88f1140520c4"
      },
      "source": [
        "#Verificando para dados faltantes \n",
        "df_rec_analise[\"Open\"].isnull().sum()"
      ],
      "execution_count": 99,
      "outputs": [
        {
          "output_type": "execute_result",
          "data": {
            "text/plain": [
              "0"
            ]
          },
          "metadata": {},
          "execution_count": 99
        }
      ]
    },
    {
      "cell_type": "code",
      "metadata": {
        "id": "gg4MPWNlov2R",
        "colab": {
          "base_uri": "https://localhost:8080/",
          "height": 501
        },
        "outputId": "c0900ee1-63df-4bac-be5f-d6800c20c87c"
      },
      "source": [
        "#Histograma\n",
        "df_rec_analise[\"Open\"].hist(bins=150, figsize=(10,8))"
      ],
      "execution_count": 100,
      "outputs": [
        {
          "output_type": "execute_result",
          "data": {
            "text/plain": [
              "<matplotlib.axes._subplots.AxesSubplot at 0x7f146d6463d0>"
            ]
          },
          "metadata": {},
          "execution_count": 100
        },
        {
          "output_type": "display_data",
          "data": {
            "image/png": "[encoded data removed]",
            "text/plain": [
              "<Figure size 720x576 with 1 Axes>"
            ]
          },
          "metadata": {
            "needs_background": "light"
          }
        }
      ]
    },
    {
      "cell_type": "code",
      "metadata": {
        "id": "l-gViM1vw1Np",
        "colab": {
          "base_uri": "https://localhost:8080/"
        },
        "outputId": "84f60159-ecac-42af-e368-38025ffca44c"
      },
      "source": [
        "#Verificando a curtose da distribuição \n",
        "df_rec_analise[\"Open\"].kurtosis()"
      ],
      "execution_count": 101,
      "outputs": [
        {
          "output_type": "execute_result",
          "data": {
            "text/plain": [
              "1.1124994451664016"
            ]
          },
          "metadata": {},
          "execution_count": 101
        }
      ]
    },
    {
      "cell_type": "code",
      "metadata": {
        "id": "M5ot0uSfxODZ",
        "colab": {
          "base_uri": "https://localhost:8080/"
        },
        "outputId": "a9958cca-b1ef-4fe6-e734-0cbd7e8dd3e5"
      },
      "source": [
        "#Verificando a simetria da distribuição \n",
        "df_rec_analise[\"Open\"].skew()"
      ],
      "execution_count": 102,
      "outputs": [
        {
          "output_type": "execute_result",
          "data": {
            "text/plain": [
              "1.5109380514848196"
            ]
          },
          "metadata": {},
          "execution_count": 102
        }
      ]
    },
    {
      "cell_type": "code",
      "metadata": {
        "id": "brwz8Iz4yotl"
      },
      "source": [
        "#visualizando a distribuição com a densidade de probabilidade. (pdf)\n",
        "x_list=np.linspace(df_rec_analise.Open.min(),df_rec_analise.Open.max(), 100)\n",
        "y_list=norm.pdf(x_list,loc=df_rec_analise.Open.mean(), scale=df_rec_analise.Open.std())"
      ],
      "execution_count": 103,
      "outputs": []
    },
    {
      "cell_type": "code",
      "metadata": {
        "id": "vX2KGsKG0Wzu",
        "colab": {
          "base_uri": "https://localhost:8080/",
          "height": 501
        },
        "outputId": "2a2a2927-a6b1-4ec8-b3e5-a6c39df22dd9"
      },
      "source": [
        "plt.plot(x_list,y_list)\n",
        "df_rec_analise[\"Open\"].hist(bins=100, figsize=(10,8), density=True)\n",
        "\n",
        "\n"
      ],
      "execution_count": 104,
      "outputs": [
        {
          "output_type": "execute_result",
          "data": {
            "text/plain": [
              "<matplotlib.axes._subplots.AxesSubplot at 0x7f146d3f8c10>"
            ]
          },
          "metadata": {},
          "execution_count": 104
        },
        {
          "output_type": "display_data",
          "data": {
            "image/png": "[encoded data removed]",
            "text/plain": [
              "<Figure size 720x576 with 1 Axes>"
            ]
          },
          "metadata": {
            "needs_background": "light"
          }
        }
      ]
    },
    {
      "cell_type": "code",
      "metadata": {
        "id": "5SxdaKds4bhD",
        "colab": {
          "base_uri": "https://localhost:8080/"
        },
        "outputId": "fe630ce7-4070-46da-d89d-d7a527baec60"
      },
      "source": [
        "#Valores mais frequêntes de abertura\n",
        "df_rec_analise[\"Open\"].value_counts()"
      ],
      "execution_count": 105,
      "outputs": [
        {
          "output_type": "execute_result",
          "data": {
            "text/plain": [
              "11350.00    63\n",
              "9170.00     62\n",
              "9150.00     60\n",
              "11400.00    53\n",
              "11750.00    52\n",
              "            ..\n",
              "47927.55     1\n",
              "24394.01     1\n",
              "6679.00      1\n",
              "18194.32     1\n",
              "9082.89      1\n",
              "Name: Open, Length: 359726, dtype: int64"
            ]
          },
          "metadata": {},
          "execution_count": 105
        }
      ]
    },
    {
      "cell_type": "code",
      "metadata": {
        "id": "r0sTxIDkUCKn"
      },
      "source": [
        ""
      ],
      "execution_count": 105,
      "outputs": []
    },
    {
      "cell_type": "markdown",
      "metadata": {
        "id": "1RP6YlKYUOAE"
      },
      "source": [
        "#High\n",
        "\n",
        "Maior valor obtido durante a janela. "
      ]
    },
    {
      "cell_type": "code",
      "metadata": {
        "id": "KROd2J5VUheb",
        "colab": {
          "base_uri": "https://localhost:8080/"
        },
        "outputId": "ca2758ef-352e-4fd8-cec8-1c9e33ce38a5"
      },
      "source": [
        "df_rec_analise[\"High\"]"
      ],
      "execution_count": 106,
      "outputs": [
        {
          "output_type": "execute_result",
          "data": {
            "text/plain": [
              "4331776     6408.95\n",
              "4331777     6406.06\n",
              "4331778     6425.24\n",
              "4331779     6430.74\n",
              "4331780     6438.96\n",
              "             ...   \n",
              "4821510    48399.55\n",
              "4821511    48396.43\n",
              "4821512    48447.21\n",
              "4821513    48462.50\n",
              "4821514    48424.54\n",
              "Name: High, Length: 482164, dtype: float64"
            ]
          },
          "metadata": {},
          "execution_count": 106
        }
      ]
    },
    {
      "cell_type": "code",
      "metadata": {
        "id": "Ke2DFzgAcRLA",
        "colab": {
          "base_uri": "https://localhost:8080/"
        },
        "outputId": "10c31e5c-ea2e-4a37-eb36-0e42ff39feff"
      },
      "source": [
        "df_rec_analise[\"High\"].describe()"
      ],
      "execution_count": 107,
      "outputs": [
        {
          "output_type": "execute_result",
          "data": {
            "text/plain": [
              "count    482164.000000\n",
              "mean      17530.762651\n",
              "std       12451.238920\n",
              "min        6171.690000\n",
              "25%        9433.690000\n",
              "50%       11405.670000\n",
              "75%       19274.527500\n",
              "max       58354.140000\n",
              "Name: High, dtype: float64"
            ]
          },
          "metadata": {},
          "execution_count": 107
        }
      ]
    },
    {
      "cell_type": "code",
      "metadata": {
        "id": "cAg-I07oUmI7",
        "colab": {
          "base_uri": "https://localhost:8080/"
        },
        "outputId": "2f7cfadd-2b8b-4196-ac0b-fdadf361fe59"
      },
      "source": [
        "#Maior valor dentre os máximos num intervalo de 1 ano.\n",
        "df_rec_analise[\"High\"].max()"
      ],
      "execution_count": 108,
      "outputs": [
        {
          "output_type": "execute_result",
          "data": {
            "text/plain": [
              "58354.14"
            ]
          },
          "metadata": {},
          "execution_count": 108
        }
      ]
    },
    {
      "cell_type": "code",
      "metadata": {
        "id": "gpwWfvgear7b",
        "colab": {
          "base_uri": "https://localhost:8080/"
        },
        "outputId": "5972ce25-71df-45eb-a4b2-8906ebd047ef"
      },
      "source": [
        "#Valor 3x maior que a média do ano. Algum evento atípico?\n",
        "df_rec_analise[\"High\"].max()/df_rec_analise[\"High\"].mean()"
      ],
      "execution_count": 109,
      "outputs": [
        {
          "output_type": "execute_result",
          "data": {
            "text/plain": [
              "3.3286709289832164"
            ]
          },
          "metadata": {},
          "execution_count": 109
        }
      ]
    },
    {
      "cell_type": "code",
      "metadata": {
        "id": "XlSvit-1U6Em",
        "colab": {
          "base_uri": "https://localhost:8080/",
          "height": 49
        },
        "outputId": "2ba0b544-80f1-4dd6-8f6d-5237972a4af9"
      },
      "source": [
        "df_rec_analise.loc[df_rec_analise[\"High\"] == 61781.83]"
      ],
      "execution_count": 110,
      "outputs": [
        {
          "output_type": "execute_result",
          "data": {
            "text/html": [
              "\n",
              "  <div id=\"df-e927acc5-4953-4782-b5d9-a8dd668360f6\">\n",
              "    <div class=\"colab-df-container\">\n",
              "      <div>\n",
              "<style scoped>\n",
              "    .dataframe tbody tr th:only-of-type {\n",
              "        vertical-align: middle;\n",
              "    }\n",
              "\n",
              "    .dataframe tbody tr th {\n",
              "        vertical-align: top;\n",
              "    }\n",
              "\n",
              "    .dataframe thead th {\n",
              "        text-align: right;\n",
              "    }\n",
              "</style>\n",
              "<table border=\"1\" class=\"dataframe\">\n",
              "  <thead>\n",
              "    <tr style=\"text-align: right;\">\n",
              "      <th></th>\n",
              "      <th>Timestamp</th>\n",
              "      <th>Open</th>\n",
              "      <th>High</th>\n",
              "      <th>Low</th>\n",
              "      <th>Close</th>\n",
              "      <th>Volume_(BTC)</th>\n",
              "      <th>Volume_(Currency)</th>\n",
              "      <th>Weighted_Price</th>\n",
              "    </tr>\n",
              "  </thead>\n",
              "  <tbody>\n",
              "  </tbody>\n",
              "</table>\n",
              "</div>\n",
              "      <button class=\"colab-df-convert\" onclick=\"convertToInteractive('df-e927acc5-4953-4782-b5d9-a8dd668360f6')\"\n",
              "              title=\"Convert this dataframe to an interactive table.\"\n",
              "              style=\"display:none;\">\n",
              "        \n",
              "  <svg xmlns=\"http://www.w3.org/2000/svg\" height=\"24px\"viewBox=\"0 0 24 24\"\n",
              "       width=\"24px\">\n",
              "    <path d=\"M0 0h24v24H0V0z\" fill=\"none\"/>\n",
              "    <path d=\"M18.56 5.44l.94 2.06.94-2.06 2.06-.94-2.06-.94-.94-2.06-.94 2.06-2.06.94zm-11 1L8.5 8.5l.94-2.06 2.06-.94-2.06-.94L8.5 2.5l-.94 2.06-2.06.94zm10 10l.94 2.06.94-2.06 2.06-.94-2.06-.94-.94-2.06-.94 2.06-2.06.94z\"/><path d=\"M17.41 7.96l-1.37-1.37c-.4-.4-.92-.59-1.43-.59-.52 0-1.04.2-1.43.59L10.3 9.45l-7.72 7.72c-.78.78-.78 2.05 0 2.83L4 21.41c.39.39.9.59 1.41.59.51 0 1.02-.2 1.41-.59l7.78-7.78 2.81-2.81c.8-.78.8-2.07 0-2.86zM5.41 20L4 18.59l7.72-7.72 1.47 1.35L5.41 20z\"/>\n",
              "  </svg>\n",
              "      </button>\n",
              "      \n",
              "  <style>\n",
              "    .colab-df-container {\n",
              "      display:flex;\n",
              "      flex-wrap:wrap;\n",
              "      gap: 12px;\n",
              "    }\n",
              "\n",
              "    .colab-df-convert {\n",
              "      background-color: #E8F0FE;\n",
              "      border: none;\n",
              "      border-radius: 50%;\n",
              "      cursor: pointer;\n",
              "      display: none;\n",
              "      fill: #1967D2;\n",
              "      height: 32px;\n",
              "      padding: 0 0 0 0;\n",
              "      width: 32px;\n",
              "    }\n",
              "\n",
              "    .colab-df-convert:hover {\n",
              "      background-color: #E2EBFA;\n",
              "      box-shadow: 0px 1px 2px rgba(60, 64, 67, 0.3), 0px 1px 3px 1px rgba(60, 64, 67, 0.15);\n",
              "      fill: #174EA6;\n",
              "    }\n",
              "\n",
              "    [theme=dark] .colab-df-convert {\n",
              "      background-color: #3B4455;\n",
              "      fill: #D2E3FC;\n",
              "    }\n",
              "\n",
              "    [theme=dark] .colab-df-convert:hover {\n",
              "      background-color: #434B5C;\n",
              "      box-shadow: 0px 1px 3px 1px rgba(0, 0, 0, 0.15);\n",
              "      filter: drop-shadow(0px 1px 2px rgba(0, 0, 0, 0.3));\n",
              "      fill: #FFFFFF;\n",
              "    }\n",
              "  </style>\n",
              "\n",
              "      <script>\n",
              "        const buttonEl =\n",
              "          document.querySelector('#df-e927acc5-4953-4782-b5d9-a8dd668360f6 button.colab-df-convert');\n",
              "        buttonEl.style.display =\n",
              "          google.colab.kernel.accessAllowed ? 'block' : 'none';\n",
              "\n",
              "        async function convertToInteractive(key) {\n",
              "          const element = document.querySelector('#df-e927acc5-4953-4782-b5d9-a8dd668360f6');\n",
              "          const dataTable =\n",
              "            await google.colab.kernel.invokeFunction('convertToInteractive',\n",
              "                                                     [key], {});\n",
              "          if (!dataTable) return;\n",
              "\n",
              "          const docLinkHtml = 'Like what you see? Visit the ' +\n",
              "            '<a target=\"_blank\" href=https://colab.research.google.com/notebooks/data_table.ipynb>data table notebook</a>'\n",
              "            + ' to learn more about interactive tables.';\n",
              "          element.innerHTML = '';\n",
              "          dataTable['output_type'] = 'display_data';\n",
              "          await google.colab.output.renderOutput(dataTable, element);\n",
              "          const docLink = document.createElement('div');\n",
              "          docLink.innerHTML = docLinkHtml;\n",
              "          element.appendChild(docLink);\n",
              "        }\n",
              "      </script>\n",
              "    </div>\n",
              "  </div>\n",
              "  "
            ],
            "text/plain": [
              "Empty DataFrame\n",
              "Columns: [Timestamp, Open, High, Low, Close, Volume_(BTC), Volume_(Currency), Weighted_Price]\n",
              "Index: []"
            ]
          },
          "metadata": {},
          "execution_count": 110
        }
      ]
    },
    {
      "cell_type": "markdown",
      "metadata": {
        "id": "KCtdgYQ0W89n"
      },
      "source": [
        "NOTA:\n",
        "2021-03-13 aprovado pacote de estímulos de 1,9 trilhão do governo Biden.\n"
      ]
    },
    {
      "cell_type": "code",
      "source": [
        "#Menor valor máximo do preço de bitcoin no último ano.\n",
        "df_rec_analise[\"High\"].min()"
      ],
      "metadata": {
        "id": "9caIUNydYszN",
        "colab": {
          "base_uri": "https://localhost:8080/"
        },
        "outputId": "f3b7ed2f-0f33-4ef3-8934-765c2e2e39c2"
      },
      "execution_count": 111,
      "outputs": [
        {
          "output_type": "execute_result",
          "data": {
            "text/plain": [
              "6171.69"
            ]
          },
          "metadata": {},
          "execution_count": 111
        }
      ]
    },
    {
      "cell_type": "code",
      "source": [
        "df_rec_analise.loc[df_rec_analise[\"High\"] == 6171.69]"
      ],
      "metadata": {
        "id": "Qz26TTOeY42Q",
        "colab": {
          "base_uri": "https://localhost:8080/",
          "height": 81
        },
        "outputId": "2baf7f16-0cbd-4922-d286-9f1bf542d2de"
      },
      "execution_count": 112,
      "outputs": [
        {
          "output_type": "execute_result",
          "data": {
            "text/html": [
              "\n",
              "  <div id=\"df-82e64bc1-c157-4760-a5b2-a2b7f93c025f\">\n",
              "    <div class=\"colab-df-container\">\n",
              "      <div>\n",
              "<style scoped>\n",
              "    .dataframe tbody tr th:only-of-type {\n",
              "        vertical-align: middle;\n",
              "    }\n",
              "\n",
              "    .dataframe tbody tr th {\n",
              "        vertical-align: top;\n",
              "    }\n",
              "\n",
              "    .dataframe thead th {\n",
              "        text-align: right;\n",
              "    }\n",
              "</style>\n",
              "<table border=\"1\" class=\"dataframe\">\n",
              "  <thead>\n",
              "    <tr style=\"text-align: right;\">\n",
              "      <th></th>\n",
              "      <th>Timestamp</th>\n",
              "      <th>Open</th>\n",
              "      <th>High</th>\n",
              "      <th>Low</th>\n",
              "      <th>Close</th>\n",
              "      <th>Volume_(BTC)</th>\n",
              "      <th>Volume_(Currency)</th>\n",
              "      <th>Weighted_Price</th>\n",
              "    </tr>\n",
              "  </thead>\n",
              "  <tbody>\n",
              "    <tr>\n",
              "      <th>4334226</th>\n",
              "      <td>2020-04-01 16:50:00</td>\n",
              "      <td>6171.69</td>\n",
              "      <td>6171.69</td>\n",
              "      <td>6137.71</td>\n",
              "      <td>6158.12</td>\n",
              "      <td>110.355978</td>\n",
              "      <td>678514.59289</td>\n",
              "      <td>6148.417195</td>\n",
              "    </tr>\n",
              "  </tbody>\n",
              "</table>\n",
              "</div>\n",
              "      <button class=\"colab-df-convert\" onclick=\"convertToInteractive('df-82e64bc1-c157-4760-a5b2-a2b7f93c025f')\"\n",
              "              title=\"Convert this dataframe to an interactive table.\"\n",
              "              style=\"display:none;\">\n",
              "        \n",
              "  <svg xmlns=\"http://www.w3.org/2000/svg\" height=\"24px\"viewBox=\"0 0 24 24\"\n",
              "       width=\"24px\">\n",
              "    <path d=\"M0 0h24v24H0V0z\" fill=\"none\"/>\n",
              "    <path d=\"M18.56 5.44l.94 2.06.94-2.06 2.06-.94-2.06-.94-.94-2.06-.94 2.06-2.06.94zm-11 1L8.5 8.5l.94-2.06 2.06-.94-2.06-.94L8.5 2.5l-.94 2.06-2.06.94zm10 10l.94 2.06.94-2.06 2.06-.94-2.06-.94-.94-2.06-.94 2.06-2.06.94z\"/><path d=\"M17.41 7.96l-1.37-1.37c-.4-.4-.92-.59-1.43-.59-.52 0-1.04.2-1.43.59L10.3 9.45l-7.72 7.72c-.78.78-.78 2.05 0 2.83L4 21.41c.39.39.9.59 1.41.59.51 0 1.02-.2 1.41-.59l7.78-7.78 2.81-2.81c.8-.78.8-2.07 0-2.86zM5.41 20L4 18.59l7.72-7.72 1.47 1.35L5.41 20z\"/>\n",
              "  </svg>\n",
              "      </button>\n",
              "      \n",
              "  <style>\n",
              "    .colab-df-container {\n",
              "      display:flex;\n",
              "      flex-wrap:wrap;\n",
              "      gap: 12px;\n",
              "    }\n",
              "\n",
              "    .colab-df-convert {\n",
              "      background-color: #E8F0FE;\n",
              "      border: none;\n",
              "      border-radius: 50%;\n",
              "      cursor: pointer;\n",
              "      display: none;\n",
              "      fill: #1967D2;\n",
              "      height: 32px;\n",
              "      padding: 0 0 0 0;\n",
              "      width: 32px;\n",
              "    }\n",
              "\n",
              "    .colab-df-convert:hover {\n",
              "      background-color: #E2EBFA;\n",
              "      box-shadow: 0px 1px 2px rgba(60, 64, 67, 0.3), 0px 1px 3px 1px rgba(60, 64, 67, 0.15);\n",
              "      fill: #174EA6;\n",
              "    }\n",
              "\n",
              "    [theme=dark] .colab-df-convert {\n",
              "      background-color: #3B4455;\n",
              "      fill: #D2E3FC;\n",
              "    }\n",
              "\n",
              "    [theme=dark] .colab-df-convert:hover {\n",
              "      background-color: #434B5C;\n",
              "      box-shadow: 0px 1px 3px 1px rgba(0, 0, 0, 0.15);\n",
              "      filter: drop-shadow(0px 1px 2px rgba(0, 0, 0, 0.3));\n",
              "      fill: #FFFFFF;\n",
              "    }\n",
              "  </style>\n",
              "\n",
              "      <script>\n",
              "        const buttonEl =\n",
              "          document.querySelector('#df-82e64bc1-c157-4760-a5b2-a2b7f93c025f button.colab-df-convert');\n",
              "        buttonEl.style.display =\n",
              "          google.colab.kernel.accessAllowed ? 'block' : 'none';\n",
              "\n",
              "        async function convertToInteractive(key) {\n",
              "          const element = document.querySelector('#df-82e64bc1-c157-4760-a5b2-a2b7f93c025f');\n",
              "          const dataTable =\n",
              "            await google.colab.kernel.invokeFunction('convertToInteractive',\n",
              "                                                     [key], {});\n",
              "          if (!dataTable) return;\n",
              "\n",
              "          const docLinkHtml = 'Like what you see? Visit the ' +\n",
              "            '<a target=\"_blank\" href=https://colab.research.google.com/notebooks/data_table.ipynb>data table notebook</a>'\n",
              "            + ' to learn more about interactive tables.';\n",
              "          element.innerHTML = '';\n",
              "          dataTable['output_type'] = 'display_data';\n",
              "          await google.colab.output.renderOutput(dataTable, element);\n",
              "          const docLink = document.createElement('div');\n",
              "          docLink.innerHTML = docLinkHtml;\n",
              "          element.appendChild(docLink);\n",
              "        }\n",
              "      </script>\n",
              "    </div>\n",
              "  </div>\n",
              "  "
            ],
            "text/plain": [
              "                  Timestamp     Open  ...  Volume_(Currency)  Weighted_Price\n",
              "4334226 2020-04-01 16:50:00  6171.69  ...       678514.59289     6148.417195\n",
              "\n",
              "[1 rows x 8 columns]"
            ]
          },
          "metadata": {},
          "execution_count": 112
        }
      ]
    },
    {
      "cell_type": "markdown",
      "source": [
        "2020-04-01: INÍCIO DA PANDEMIA DE COVID. \n"
      ],
      "metadata": {
        "id": "cssckREaZpeO"
      }
    },
    {
      "cell_type": "code",
      "metadata": {
        "id": "oy6n1156W72T",
        "colab": {
          "base_uri": "https://localhost:8080/"
        },
        "outputId": "77eaf171-21ef-4557-8c3b-0077271ad1ac"
      },
      "source": [
        "#Valores mais frequêntes de máximo no intervalo de 1 ano. \n",
        "df_rec_analise[\"High\"].value_counts()"
      ],
      "execution_count": 113,
      "outputs": [
        {
          "output_type": "execute_result",
          "data": {
            "text/plain": [
              "11350.00    74\n",
              "9700.00     73\n",
              "11400.00    69\n",
              "11362.14    64\n",
              "9500.00     63\n",
              "            ..\n",
              "18913.82     1\n",
              "18491.18     1\n",
              "15649.58     1\n",
              "16002.65     1\n",
              "9082.89      1\n",
              "Name: High, Length: 352651, dtype: int64"
            ]
          },
          "metadata": {},
          "execution_count": 113
        }
      ]
    },
    {
      "cell_type": "code",
      "metadata": {
        "id": "loOLnZdVdhID",
        "colab": {
          "base_uri": "https://localhost:8080/",
          "height": 572
        },
        "outputId": "61b82c21-26cc-4a51-a75c-4d234b4e0646"
      },
      "source": [
        "#Visulisando \n",
        "plt.figure(figsize=[10,8])\n",
        "sns.distplot(df_rec_analise[\"High\"])"
      ],
      "execution_count": 114,
      "outputs": [
        {
          "output_type": "stream",
          "name": "stderr",
          "text": [
            "/usr/local/lib/python3.7/dist-packages/seaborn/distributions.py:2619: FutureWarning: `distplot` is a deprecated function and will be removed in a future version. Please adapt your code to use either `displot` (a figure-level function with similar flexibility) or `histplot` (an axes-level function for histograms).\n",
            "  warnings.warn(msg, FutureWarning)\n"
          ]
        },
        {
          "output_type": "execute_result",
          "data": {
            "text/plain": [
              "<matplotlib.axes._subplots.AxesSubplot at 0x7f146d3e5fd0>"
            ]
          },
          "metadata": {},
          "execution_count": 114
        },
        {
          "output_type": "display_data",
          "data": {
            "image/png": "[encoded data removed]",
            "text/plain": [
              "<Figure size 720x576 with 1 Axes>"
            ]
          },
          "metadata": {
            "needs_background": "light"
          }
        }
      ]
    },
    {
      "cell_type": "code",
      "metadata": {
        "id": "p_3FKhMfU9Rj",
        "colab": {
          "base_uri": "https://localhost:8080/"
        },
        "outputId": "a77f1cac-fde8-469a-894a-77ebe97fd3e3"
      },
      "source": [
        "#Calculando a curtose\n",
        "df_rec_analise[\"High\"].kurtosis()"
      ],
      "execution_count": 115,
      "outputs": [
        {
          "output_type": "execute_result",
          "data": {
            "text/plain": [
              "1.1107619432494915"
            ]
          },
          "metadata": {},
          "execution_count": 115
        }
      ]
    },
    {
      "cell_type": "code",
      "metadata": {
        "id": "VpYml5Z5Vlyz",
        "colab": {
          "base_uri": "https://localhost:8080/"
        },
        "outputId": "189f8f40-e847-428e-d50c-a3573842179f"
      },
      "source": [
        "#Calculando a assimetria \n",
        "df_rec_analise[\"High\"].skew()"
      ],
      "execution_count": 116,
      "outputs": [
        {
          "output_type": "execute_result",
          "data": {
            "text/plain": [
              "1.5106949233139524"
            ]
          },
          "metadata": {},
          "execution_count": 116
        }
      ]
    },
    {
      "cell_type": "code",
      "source": [
        "#Valores únicos na feature High\n",
        "df_rec_analise[\"High\"].nunique()"
      ],
      "metadata": {
        "id": "QYjvCnKGXzAh",
        "colab": {
          "base_uri": "https://localhost:8080/"
        },
        "outputId": "86237b48-691f-44f1-d64a-d61ab2cef682"
      },
      "execution_count": 117,
      "outputs": [
        {
          "output_type": "execute_result",
          "data": {
            "text/plain": [
              "352651"
            ]
          },
          "metadata": {},
          "execution_count": 117
        }
      ]
    },
    {
      "cell_type": "code",
      "source": [
        "df_rec_analise.columns"
      ],
      "metadata": {
        "id": "u466HV_Cm4Ps",
        "colab": {
          "base_uri": "https://localhost:8080/"
        },
        "outputId": "57929ecc-53f5-45d9-c505-1a0fda741ef0"
      },
      "execution_count": 118,
      "outputs": [
        {
          "output_type": "execute_result",
          "data": {
            "text/plain": [
              "Index(['Timestamp', 'Open', 'High', 'Low', 'Close', 'Volume_(BTC)',\n",
              "       'Volume_(Currency)', 'Weighted_Price'],\n",
              "      dtype='object')"
            ]
          },
          "metadata": {},
          "execution_count": 118
        }
      ]
    },
    {
      "cell_type": "markdown",
      "source": [
        "#Low\n",
        "\n",
        " Low - Valor mais baixo durante a janela. Tipo de dado - float.\n",
        "\n"
      ],
      "metadata": {
        "id": "a0okCpFJm1j4"
      }
    },
    {
      "cell_type": "code",
      "source": [
        "df_rec_analise[\"Low\"]"
      ],
      "metadata": {
        "id": "sOL0pQisnLxF",
        "colab": {
          "base_uri": "https://localhost:8080/"
        },
        "outputId": "e1a255a2-6352-420c-ff5e-41ef3acab704"
      },
      "execution_count": 119,
      "outputs": [
        {
          "output_type": "execute_result",
          "data": {
            "text/plain": [
              "4331776     6397.52\n",
              "4331777     6398.80\n",
              "4331778     6409.05\n",
              "4331779     6417.53\n",
              "4331780     6424.46\n",
              "             ...   \n",
              "4821510    48361.27\n",
              "4821511    48362.00\n",
              "4821512    48383.17\n",
              "4821513    48377.55\n",
              "4821514    48384.22\n",
              "Name: Low, Length: 482164, dtype: float64"
            ]
          },
          "metadata": {},
          "execution_count": 119
        }
      ]
    },
    {
      "cell_type": "code",
      "source": [
        "df_rec_analise[\"Low\"].describe()"
      ],
      "metadata": {
        "id": "E8kT-2TPn7FS",
        "colab": {
          "base_uri": "https://localhost:8080/"
        },
        "outputId": "aecf5689-b633-4443-bf81-1d14abafd7bf"
      },
      "execution_count": 120,
      "outputs": [
        {
          "output_type": "execute_result",
          "data": {
            "text/plain": [
              "count    482164.000000\n",
              "mean      17505.529917\n",
              "std       12423.567863\n",
              "min        6137.710000\n",
              "25%        9427.380000\n",
              "50%       11398.235000\n",
              "75%       19252.420000\n",
              "max       58326.560000\n",
              "Name: Low, dtype: float64"
            ]
          },
          "metadata": {},
          "execution_count": 120
        }
      ]
    },
    {
      "cell_type": "code",
      "source": [
        "df_rec_analise[\"Low\"].dtypes"
      ],
      "metadata": {
        "id": "Z38pVujpoG0l",
        "colab": {
          "base_uri": "https://localhost:8080/"
        },
        "outputId": "1ef796ef-3265-4e7c-b6a3-fa2dfe383ba8"
      },
      "execution_count": 121,
      "outputs": [
        {
          "output_type": "execute_result",
          "data": {
            "text/plain": [
              "dtype('float64')"
            ]
          },
          "metadata": {},
          "execution_count": 121
        }
      ]
    },
    {
      "cell_type": "code",
      "source": [
        "#Valor mais baixo atingido no intervalo de 1 ano\n",
        "df_rec_analise[\"Low\"].min()\n"
      ],
      "metadata": {
        "id": "LV8Gh4hnqZad",
        "colab": {
          "base_uri": "https://localhost:8080/"
        },
        "outputId": "363a5500-3657-4e65-8cd7-c31ad148f0bd"
      },
      "execution_count": 122,
      "outputs": [
        {
          "output_type": "execute_result",
          "data": {
            "text/plain": [
              "6137.71"
            ]
          },
          "metadata": {},
          "execution_count": 122
        }
      ]
    },
    {
      "cell_type": "code",
      "source": [
        "df_rec_analise[\"Low\"].value_counts()"
      ],
      "metadata": {
        "id": "8GbBgSserihL",
        "colab": {
          "base_uri": "https://localhost:8080/"
        },
        "outputId": "e8d5ce05-1ea2-4e15-e52a-df6fecaf1196"
      },
      "execution_count": 123,
      "outputs": [
        {
          "output_type": "execute_result",
          "data": {
            "text/plain": [
              "9600.00     74\n",
              "9100.00     68\n",
              "11350.00    66\n",
              "9150.00     66\n",
              "9170.00     65\n",
              "            ..\n",
              "17130.60     1\n",
              "13066.73     1\n",
              "8994.99      1\n",
              "35956.04     1\n",
              "32251.00     1\n",
              "Name: Low, Length: 354526, dtype: int64"
            ]
          },
          "metadata": {},
          "execution_count": 123
        }
      ]
    },
    {
      "cell_type": "code",
      "source": [
        "df_rec_analise[\"Low\"].unique()"
      ],
      "metadata": {
        "id": "k1OIrg1oqQ8g",
        "colab": {
          "base_uri": "https://localhost:8080/"
        },
        "outputId": "b73ea544-e860-418d-a200-ae7a9fd6c63a"
      },
      "execution_count": 124,
      "outputs": [
        {
          "output_type": "execute_result",
          "data": {
            "text/plain": [
              "array([ 6397.52,  6398.8 ,  6409.05, ..., 48383.17, 48377.55, 48384.22])"
            ]
          },
          "metadata": {},
          "execution_count": 124
        }
      ]
    },
    {
      "cell_type": "code",
      "source": [
        "#Valores únicos no preço\n",
        "df_rec_analise[\"Low\"].nunique()"
      ],
      "metadata": {
        "id": "CxUyk39kocIV",
        "colab": {
          "base_uri": "https://localhost:8080/"
        },
        "outputId": "a6401743-989d-4dda-cb88-5e4d375307e0"
      },
      "execution_count": 125,
      "outputs": [
        {
          "output_type": "execute_result",
          "data": {
            "text/plain": [
              "354526"
            ]
          },
          "metadata": {},
          "execution_count": 125
        }
      ]
    },
    {
      "cell_type": "code",
      "source": [
        "#valores repetidos no preço\n",
        "df_rec_analise[\"Low\"].duplicated().sum()"
      ],
      "metadata": {
        "id": "B1jRMHYSolLl",
        "colab": {
          "base_uri": "https://localhost:8080/"
        },
        "outputId": "94300b8e-f487-4453-c7b4-db726c917d5b"
      },
      "execution_count": 126,
      "outputs": [
        {
          "output_type": "execute_result",
          "data": {
            "text/plain": [
              "127638"
            ]
          },
          "metadata": {},
          "execution_count": 126
        }
      ]
    },
    {
      "cell_type": "code",
      "source": [
        "df_rec_analise[\"Low\"].duplicated().value_counts()"
      ],
      "metadata": {
        "id": "5OQOe761q4O5",
        "colab": {
          "base_uri": "https://localhost:8080/"
        },
        "outputId": "30dcdb8e-d626-41bf-d089-3aa190bfed35"
      },
      "execution_count": 127,
      "outputs": [
        {
          "output_type": "execute_result",
          "data": {
            "text/plain": [
              "False    354526\n",
              "True     127638\n",
              "Name: Low, dtype: int64"
            ]
          },
          "metadata": {},
          "execution_count": 127
        }
      ]
    },
    {
      "cell_type": "code",
      "source": [
        "#Visualisando a distribuição \n",
        "plt.figure(figsize=[10,8])\n",
        "sns.distplot(df_rec_analise[\"Low\"])"
      ],
      "metadata": {
        "id": "1PRv-kjNrNxA",
        "colab": {
          "base_uri": "https://localhost:8080/",
          "height": 572
        },
        "outputId": "a7335c86-a0ec-4127-ead7-e2b6228f28c3"
      },
      "execution_count": 128,
      "outputs": [
        {
          "output_type": "stream",
          "name": "stderr",
          "text": [
            "/usr/local/lib/python3.7/dist-packages/seaborn/distributions.py:2619: FutureWarning: `distplot` is a deprecated function and will be removed in a future version. Please adapt your code to use either `displot` (a figure-level function with similar flexibility) or `histplot` (an axes-level function for histograms).\n",
            "  warnings.warn(msg, FutureWarning)\n"
          ]
        },
        {
          "output_type": "execute_result",
          "data": {
            "text/plain": [
              "<matplotlib.axes._subplots.AxesSubplot at 0x7f146d40cd90>"
            ]
          },
          "metadata": {},
          "execution_count": 128
        },
        {
          "output_type": "display_data",
          "data": {
            "image/png": "[encoded data removed]",
            "text/plain": [
              "<Figure size 720x576 with 1 Axes>"
            ]
          },
          "metadata": {
            "needs_background": "light"
          }
        }
      ]
    },
    {
      "cell_type": "markdown",
      "source": [
        "##Close\n",
        "\n",
        "Valor no fechamento da janela. Tipo de dado - float."
      ],
      "metadata": {
        "id": "uX4vc35CABSC"
      }
    },
    {
      "cell_type": "code",
      "source": [
        "df_rec_analise[\"Close\"]"
      ],
      "metadata": {
        "id": "iV61dQYDARJ8",
        "colab": {
          "base_uri": "https://localhost:8080/"
        },
        "outputId": "9c5c5c77-30e6-4fa0-94d7-e862dc760f86"
      },
      "execution_count": 129,
      "outputs": [
        {
          "output_type": "execute_result",
          "data": {
            "text/plain": [
              "4331776     6397.65\n",
              "4331777     6405.06\n",
              "4331778     6425.00\n",
              "4331779     6426.53\n",
              "4331780     6438.96\n",
              "             ...   \n",
              "4821510    48361.27\n",
              "4821511    48391.21\n",
              "4821512    48441.99\n",
              "4821513    48384.22\n",
              "4821514    48405.72\n",
              "Name: Close, Length: 482164, dtype: float64"
            ]
          },
          "metadata": {},
          "execution_count": 129
        }
      ]
    },
    {
      "cell_type": "code",
      "source": [
        "#Tipo do dado\n",
        "df_rec_analise[\"Close\"].dtypes"
      ],
      "metadata": {
        "id": "H-VtcPsNAXD1",
        "colab": {
          "base_uri": "https://localhost:8080/"
        },
        "outputId": "74186cdf-8f2e-4c7a-9e39-86d306684759"
      },
      "execution_count": 130,
      "outputs": [
        {
          "output_type": "execute_result",
          "data": {
            "text/plain": [
              "dtype('float64')"
            ]
          },
          "metadata": {},
          "execution_count": 130
        }
      ]
    },
    {
      "cell_type": "code",
      "source": [
        "#Informações estatísticas iniciais\n",
        "df_rec_analise[\"Close\"].describe()"
      ],
      "metadata": {
        "id": "Uv91m6coA3-B",
        "colab": {
          "base_uri": "https://localhost:8080/"
        },
        "outputId": "65f11bf6-d8fd-4801-d520-a9eb5a2da2b5"
      },
      "execution_count": 131,
      "outputs": [
        {
          "output_type": "execute_result",
          "data": {
            "text/plain": [
              "count    482164.000000\n",
              "mean      17518.442750\n",
              "std       12437.800917\n",
              "min        6158.120000\n",
              "25%        9430.300000\n",
              "50%       11401.670000\n",
              "75%       19264.630000\n",
              "max       58354.140000\n",
              "Name: Close, dtype: float64"
            ]
          },
          "metadata": {},
          "execution_count": 131
        }
      ]
    },
    {
      "cell_type": "code",
      "source": [
        "#Maior valor de fechamento, coincide com o valor da feature High.\n",
        "df_rec_analise[\"Close\"].max()"
      ],
      "metadata": {
        "id": "JtI0-2o9B91x",
        "colab": {
          "base_uri": "https://localhost:8080/"
        },
        "outputId": "e3f16907-17d2-47f4-e184-ff924a7bb2d2"
      },
      "execution_count": 132,
      "outputs": [
        {
          "output_type": "execute_result",
          "data": {
            "text/plain": [
              "58354.14"
            ]
          },
          "metadata": {},
          "execution_count": 132
        }
      ]
    },
    {
      "cell_type": "code",
      "source": [
        "df_rec_analise.loc[df_rec_analise[\"Close\"] == 61781.8]"
      ],
      "metadata": {
        "id": "n0tCs3duC9zK",
        "colab": {
          "base_uri": "https://localhost:8080/",
          "height": 49
        },
        "outputId": "5dfc835d-140c-4d38-bcad-f13fc04e61d7"
      },
      "execution_count": 133,
      "outputs": [
        {
          "output_type": "execute_result",
          "data": {
            "text/html": [
              "\n",
              "  <div id=\"df-1b8b83e9-ae03-44cc-806a-38210c361327\">\n",
              "    <div class=\"colab-df-container\">\n",
              "      <div>\n",
              "<style scoped>\n",
              "    .dataframe tbody tr th:only-of-type {\n",
              "        vertical-align: middle;\n",
              "    }\n",
              "\n",
              "    .dataframe tbody tr th {\n",
              "        vertical-align: top;\n",
              "    }\n",
              "\n",
              "    .dataframe thead th {\n",
              "        text-align: right;\n",
              "    }\n",
              "</style>\n",
              "<table border=\"1\" class=\"dataframe\">\n",
              "  <thead>\n",
              "    <tr style=\"text-align: right;\">\n",
              "      <th></th>\n",
              "      <th>Timestamp</th>\n",
              "      <th>Open</th>\n",
              "      <th>High</th>\n",
              "      <th>Low</th>\n",
              "      <th>Close</th>\n",
              "      <th>Volume_(BTC)</th>\n",
              "      <th>Volume_(Currency)</th>\n",
              "      <th>Weighted_Price</th>\n",
              "    </tr>\n",
              "  </thead>\n",
              "  <tbody>\n",
              "  </tbody>\n",
              "</table>\n",
              "</div>\n",
              "      <button class=\"colab-df-convert\" onclick=\"convertToInteractive('df-1b8b83e9-ae03-44cc-806a-38210c361327')\"\n",
              "              title=\"Convert this dataframe to an interactive table.\"\n",
              "              style=\"display:none;\">\n",
              "        \n",
              "  <svg xmlns=\"http://www.w3.org/2000/svg\" height=\"24px\"viewBox=\"0 0 24 24\"\n",
              "       width=\"24px\">\n",
              "    <path d=\"M0 0h24v24H0V0z\" fill=\"none\"/>\n",
              "    <path d=\"M18.56 5.44l.94 2.06.94-2.06 2.06-.94-2.06-.94-.94-2.06-.94 2.06-2.06.94zm-11 1L8.5 8.5l.94-2.06 2.06-.94-2.06-.94L8.5 2.5l-.94 2.06-2.06.94zm10 10l.94 2.06.94-2.06 2.06-.94-2.06-.94-.94-2.06-.94 2.06-2.06.94z\"/><path d=\"M17.41 7.96l-1.37-1.37c-.4-.4-.92-.59-1.43-.59-.52 0-1.04.2-1.43.59L10.3 9.45l-7.72 7.72c-.78.78-.78 2.05 0 2.83L4 21.41c.39.39.9.59 1.41.59.51 0 1.02-.2 1.41-.59l7.78-7.78 2.81-2.81c.8-.78.8-2.07 0-2.86zM5.41 20L4 18.59l7.72-7.72 1.47 1.35L5.41 20z\"/>\n",
              "  </svg>\n",
              "      </button>\n",
              "      \n",
              "  <style>\n",
              "    .colab-df-container {\n",
              "      display:flex;\n",
              "      flex-wrap:wrap;\n",
              "      gap: 12px;\n",
              "    }\n",
              "\n",
              "    .colab-df-convert {\n",
              "      background-color: #E8F0FE;\n",
              "      border: none;\n",
              "      border-radius: 50%;\n",
              "      cursor: pointer;\n",
              "      display: none;\n",
              "      fill: #1967D2;\n",
              "      height: 32px;\n",
              "      padding: 0 0 0 0;\n",
              "      width: 32px;\n",
              "    }\n",
              "\n",
              "    .colab-df-convert:hover {\n",
              "      background-color: #E2EBFA;\n",
              "      box-shadow: 0px 1px 2px rgba(60, 64, 67, 0.3), 0px 1px 3px 1px rgba(60, 64, 67, 0.15);\n",
              "      fill: #174EA6;\n",
              "    }\n",
              "\n",
              "    [theme=dark] .colab-df-convert {\n",
              "      background-color: #3B4455;\n",
              "      fill: #D2E3FC;\n",
              "    }\n",
              "\n",
              "    [theme=dark] .colab-df-convert:hover {\n",
              "      background-color: #434B5C;\n",
              "      box-shadow: 0px 1px 3px 1px rgba(0, 0, 0, 0.15);\n",
              "      filter: drop-shadow(0px 1px 2px rgba(0, 0, 0, 0.3));\n",
              "      fill: #FFFFFF;\n",
              "    }\n",
              "  </style>\n",
              "\n",
              "      <script>\n",
              "        const buttonEl =\n",
              "          document.querySelector('#df-1b8b83e9-ae03-44cc-806a-38210c361327 button.colab-df-convert');\n",
              "        buttonEl.style.display =\n",
              "          google.colab.kernel.accessAllowed ? 'block' : 'none';\n",
              "\n",
              "        async function convertToInteractive(key) {\n",
              "          const element = document.querySelector('#df-1b8b83e9-ae03-44cc-806a-38210c361327');\n",
              "          const dataTable =\n",
              "            await google.colab.kernel.invokeFunction('convertToInteractive',\n",
              "                                                     [key], {});\n",
              "          if (!dataTable) return;\n",
              "\n",
              "          const docLinkHtml = 'Like what you see? Visit the ' +\n",
              "            '<a target=\"_blank\" href=https://colab.research.google.com/notebooks/data_table.ipynb>data table notebook</a>'\n",
              "            + ' to learn more about interactive tables.';\n",
              "          element.innerHTML = '';\n",
              "          dataTable['output_type'] = 'display_data';\n",
              "          await google.colab.output.renderOutput(dataTable, element);\n",
              "          const docLink = document.createElement('div');\n",
              "          docLink.innerHTML = docLinkHtml;\n",
              "          element.appendChild(docLink);\n",
              "        }\n",
              "      </script>\n",
              "    </div>\n",
              "  </div>\n",
              "  "
            ],
            "text/plain": [
              "Empty DataFrame\n",
              "Columns: [Timestamp, Open, High, Low, Close, Volume_(BTC), Volume_(Currency), Weighted_Price]\n",
              "Index: []"
            ]
          },
          "metadata": {},
          "execution_count": 133
        }
      ]
    },
    {
      "cell_type": "code",
      "source": [
        "#Menor valor de fechamento. \n",
        "df_rec_analise[\"Close\"].min()"
      ],
      "metadata": {
        "id": "BSXxlON-EmXh",
        "colab": {
          "base_uri": "https://localhost:8080/"
        },
        "outputId": "655d9dac-5c81-44ac-936e-48dd2eb97b1a"
      },
      "execution_count": 134,
      "outputs": [
        {
          "output_type": "execute_result",
          "data": {
            "text/plain": [
              "6158.12"
            ]
          },
          "metadata": {},
          "execution_count": 134
        }
      ]
    },
    {
      "cell_type": "code",
      "source": [
        "#Verificando volatilidade "
      ],
      "metadata": {
        "id": "jDVCD7rcJRYa"
      },
      "execution_count": 135,
      "outputs": []
    },
    {
      "cell_type": "code",
      "source": [
        "#visualizando a distribuição com histograma\n",
        "plt.figure(figsize=[10,8])\n",
        "sns.distplot(df_rec_analise[\"Close\"])"
      ],
      "metadata": {
        "id": "tS6egDOgFkz7",
        "colab": {
          "base_uri": "https://localhost:8080/",
          "height": 572
        },
        "outputId": "06e22680-efbb-4e36-8ed2-b074ef28ea36"
      },
      "execution_count": 136,
      "outputs": [
        {
          "output_type": "stream",
          "name": "stderr",
          "text": [
            "/usr/local/lib/python3.7/dist-packages/seaborn/distributions.py:2619: FutureWarning: `distplot` is a deprecated function and will be removed in a future version. Please adapt your code to use either `displot` (a figure-level function with similar flexibility) or `histplot` (an axes-level function for histograms).\n",
            "  warnings.warn(msg, FutureWarning)\n"
          ]
        },
        {
          "output_type": "execute_result",
          "data": {
            "text/plain": [
              "<matplotlib.axes._subplots.AxesSubplot at 0x7f146e1c74d0>"
            ]
          },
          "metadata": {},
          "execution_count": 136
        },
        {
          "output_type": "display_data",
          "data": {
            "image/png": "[encoded data removed]",
            "text/plain": [
              "<Figure size 720x576 with 1 Axes>"
            ]
          },
          "metadata": {
            "needs_background": "light"
          }
        }
      ]
    },
    {
      "cell_type": "code",
      "source": [
        "#variação entre abertura e fechamento\n",
        "var_abert_fech=df_rec_analise[\"Close\"]-df_rec_analise[\"Open\"]"
      ],
      "metadata": {
        "id": "bu9OSnQWNAgL"
      },
      "execution_count": 137,
      "outputs": []
    },
    {
      "cell_type": "code",
      "source": [
        "var_abert_fech"
      ],
      "metadata": {
        "id": "HlKGgisYNnAK",
        "colab": {
          "base_uri": "https://localhost:8080/"
        },
        "outputId": "a16b77cb-902c-4551-bef7-0e9dde88d4ac"
      },
      "execution_count": 138,
      "outputs": [
        {
          "output_type": "execute_result",
          "data": {
            "text/plain": [
              "4331776   -11.30\n",
              "4331777     5.86\n",
              "4331778    15.95\n",
              "4331779     9.00\n",
              "4331780    12.42\n",
              "           ...  \n",
              "4821510   -38.28\n",
              "4821511    29.21\n",
              "4821512    58.82\n",
              "4821513   -74.78\n",
              "4821514    21.50\n",
              "Length: 482164, dtype: float64"
            ]
          },
          "metadata": {},
          "execution_count": 138
        }
      ]
    },
    {
      "cell_type": "code",
      "source": [
        "#variação percentual\n",
        "var_perc=var_abert_fech/100"
      ],
      "metadata": {
        "id": "c49z3FEaO41M"
      },
      "execution_count": 139,
      "outputs": []
    },
    {
      "cell_type": "code",
      "source": [
        "var_perc"
      ],
      "metadata": {
        "id": "f_RP2HVjPIbn",
        "colab": {
          "base_uri": "https://localhost:8080/"
        },
        "outputId": "a2c9a42a-755c-4c9d-b486-072742d1cf90"
      },
      "execution_count": 140,
      "outputs": [
        {
          "output_type": "execute_result",
          "data": {
            "text/plain": [
              "4331776   -0.1130\n",
              "4331777    0.0586\n",
              "4331778    0.1595\n",
              "4331779    0.0900\n",
              "4331780    0.1242\n",
              "            ...  \n",
              "4821510   -0.3828\n",
              "4821511    0.2921\n",
              "4821512    0.5882\n",
              "4821513   -0.7478\n",
              "4821514    0.2150\n",
              "Length: 482164, dtype: float64"
            ]
          },
          "metadata": {},
          "execution_count": 140
        }
      ]
    },
    {
      "cell_type": "code",
      "source": [
        "var_abert_fech.plot(figsize=[10,10])"
      ],
      "metadata": {
        "id": "XNzPZv3vOAQi",
        "colab": {
          "base_uri": "https://localhost:8080/",
          "height": 624
        },
        "outputId": "db8b7fb1-811c-4aad-962b-4b3de4da93fc"
      },
      "execution_count": 141,
      "outputs": [
        {
          "output_type": "execute_result",
          "data": {
            "text/plain": [
              "<matplotlib.axes._subplots.AxesSubplot at 0x7f146db56710>"
            ]
          },
          "metadata": {},
          "execution_count": 141
        },
        {
          "output_type": "display_data",
          "data": {
            "image/png": "[encoded data removed]",
            "text/plain": [
              "<Figure size 720x720 with 1 Axes>"
            ]
          },
          "metadata": {
            "needs_background": "light"
          }
        }
      ]
    },
    {
      "cell_type": "code",
      "source": [
        "#variações pequenas em janelas curtas são mais frequentes\n",
        "var_abert_fech.value_counts()"
      ],
      "metadata": {
        "id": "s_TbjJGy03OD",
        "colab": {
          "base_uri": "https://localhost:8080/"
        },
        "outputId": "17c3d2b5-5a1c-453e-b8fc-a72abe040820"
      },
      "execution_count": 142,
      "outputs": [
        {
          "output_type": "execute_result",
          "data": {
            "text/plain": [
              " 0.00      28140\n",
              " 0.01       1527\n",
              "-0.01       1101\n",
              " 0.02        820\n",
              "-0.02        493\n",
              "           ...  \n",
              "-148.12        1\n",
              "-35.85         1\n",
              "-40.71         1\n",
              "-91.94         1\n",
              "-176.67        1\n",
              "Length: 54279, dtype: int64"
            ]
          },
          "metadata": {},
          "execution_count": 142
        }
      ]
    },
    {
      "cell_type": "code",
      "source": [
        "df_rec_analise.columns"
      ],
      "metadata": {
        "id": "2q0D2ptFZP-2",
        "colab": {
          "base_uri": "https://localhost:8080/"
        },
        "outputId": "3e3e5a8f-820b-4a59-c7d8-94158b54b8e3"
      },
      "execution_count": 143,
      "outputs": [
        {
          "output_type": "execute_result",
          "data": {
            "text/plain": [
              "Index(['Timestamp', 'Open', 'High', 'Low', 'Close', 'Volume_(BTC)',\n",
              "       'Volume_(Currency)', 'Weighted_Price'],\n",
              "      dtype='object')"
            ]
          },
          "metadata": {},
          "execution_count": 143
        }
      ]
    },
    {
      "cell_type": "markdown",
      "source": [
        "##Volume_(BTC)\n",
        "\n",
        "Volume de bitcoin transacionado na respectiva janela. Tipo de dado - float.\n",
        "\n",
        "\n",
        "\n"
      ],
      "metadata": {
        "id": "Qrm2m76rZbhC"
      }
    },
    {
      "cell_type": "code",
      "source": [
        "df_rec_analise[\"Volume_(BTC)\"]"
      ],
      "metadata": {
        "id": "fnsc59fOR9k8",
        "colab": {
          "base_uri": "https://localhost:8080/"
        },
        "outputId": "0a971e40-64ff-4e74-ae0f-5f9aed501d6b"
      },
      "execution_count": 144,
      "outputs": [
        {
          "output_type": "execute_result",
          "data": {
            "text/plain": [
              "4331776     0.369580\n",
              "4331777     4.053499\n",
              "4331778    18.707374\n",
              "4331779     7.164653\n",
              "4331780     9.050250\n",
              "             ...    \n",
              "4821510     0.747287\n",
              "4821511     0.846486\n",
              "4821512     0.503095\n",
              "4821513     0.976677\n",
              "4821514     0.828068\n",
              "Name: Volume_(BTC), Length: 482164, dtype: float64"
            ]
          },
          "metadata": {},
          "execution_count": 144
        }
      ]
    },
    {
      "cell_type": "code",
      "source": [
        "#informações estatísticas iniciais\n",
        "df_rec_analise[\"Volume_(BTC)\"].describe()"
      ],
      "metadata": {
        "id": "afOIzfGnbUKu",
        "colab": {
          "base_uri": "https://localhost:8080/"
        },
        "outputId": "04af2a8d-031f-484a-bc60-1ccfbf91d8f0"
      },
      "execution_count": 145,
      "outputs": [
        {
          "output_type": "execute_result",
          "data": {
            "text/plain": [
              "count    482164.000000\n",
              "mean          6.126882\n",
              "std          15.292625\n",
              "min           0.000002\n",
              "25%           0.485906\n",
              "50%           1.973613\n",
              "75%           5.889323\n",
              "max        1098.349384\n",
              "Name: Volume_(BTC), dtype: float64"
            ]
          },
          "metadata": {},
          "execution_count": 145
        }
      ]
    },
    {
      "cell_type": "code",
      "source": [
        "#tipo do dado\n",
        "df_rec_analise[\"Volume_(BTC)\"].dtypes"
      ],
      "metadata": {
        "id": "2RmkTh5-b_s4",
        "colab": {
          "base_uri": "https://localhost:8080/"
        },
        "outputId": "6df943e4-fbfc-41ee-e9db-57f60b77634d"
      },
      "execution_count": 146,
      "outputs": [
        {
          "output_type": "execute_result",
          "data": {
            "text/plain": [
              "dtype('float64')"
            ]
          },
          "metadata": {},
          "execution_count": 146
        }
      ]
    },
    {
      "cell_type": "code",
      "source": [
        "plt.figure(figsize=[10,8])\n",
        "df_rec_analise[\"Volume_(BTC)\"].plot()"
      ],
      "metadata": {
        "id": "ncBGSRhZfamy",
        "colab": {
          "base_uri": "https://localhost:8080/",
          "height": 515
        },
        "outputId": "d9e62664-3652-4c0b-f932-f6c6ff3c15f7"
      },
      "execution_count": 147,
      "outputs": [
        {
          "output_type": "execute_result",
          "data": {
            "text/plain": [
              "<matplotlib.axes._subplots.AxesSubplot at 0x7f146b2295d0>"
            ]
          },
          "metadata": {},
          "execution_count": 147
        },
        {
          "output_type": "display_data",
          "data": {
            "image/png": "[encoded data removed]",
            "text/plain": [
              "<Figure size 720x576 with 1 Axes>"
            ]
          },
          "metadata": {
            "needs_background": "light"
          }
        }
      ]
    },
    {
      "cell_type": "code",
      "source": [
        "#volumes relativamente pequenos foram mais comuns\n",
        "df_rec_analise[\"Volume_(BTC)\"].value_counts()"
      ],
      "metadata": {
        "id": "yHixK8FbnKCs",
        "colab": {
          "base_uri": "https://localhost:8080/"
        },
        "outputId": "014ecf24-b293-482d-b079-b26efa35bfb7"
      },
      "execution_count": 148,
      "outputs": [
        {
          "output_type": "execute_result",
          "data": {
            "text/plain": [
              "0.010000     147\n",
              "1.000000     146\n",
              "0.020000     101\n",
              "0.100000      88\n",
              "2.000000      87\n",
              "            ... \n",
              "2.061634       1\n",
              "1.421413       1\n",
              "5.869390       1\n",
              "11.305162      1\n",
              "8.052393       1\n",
              "Name: Volume_(BTC), Length: 476790, dtype: int64"
            ]
          },
          "metadata": {},
          "execution_count": 148
        }
      ]
    },
    {
      "cell_type": "code",
      "source": [
        "plt.figure(figsize=[10,8])\n",
        "df_rec_analise[\"Volume_(BTC)\"].value_counts().plot()"
      ],
      "metadata": {
        "id": "bNbZVCUYgJki",
        "colab": {
          "base_uri": "https://localhost:8080/",
          "height": 501
        },
        "outputId": "48ac845e-e2c0-498d-f836-6fb6c138019f"
      },
      "execution_count": 149,
      "outputs": [
        {
          "output_type": "execute_result",
          "data": {
            "text/plain": [
              "<matplotlib.axes._subplots.AxesSubplot at 0x7f146b224710>"
            ]
          },
          "metadata": {},
          "execution_count": 149
        },
        {
          "output_type": "display_data",
          "data": {
            "image/png": "[encoded data removed]",
            "text/plain": [
              "<Figure size 720x576 with 1 Axes>"
            ]
          },
          "metadata": {
            "needs_background": "light"
          }
        }
      ]
    },
    {
      "cell_type": "code",
      "source": [
        "#em ordem crescente\n",
        "df_rec_analise[\"Volume_(BTC)\"].sort_values()"
      ],
      "metadata": {
        "id": "8EIw9B3-OTQp",
        "colab": {
          "base_uri": "https://localhost:8080/"
        },
        "outputId": "28da115e-e0a0-4447-e040-6f745ca1c17b"
      },
      "execution_count": 150,
      "outputs": [
        {
          "output_type": "execute_result",
          "data": {
            "text/plain": [
              "4762441       0.000002\n",
              "4359213       0.000002\n",
              "4350187       0.000003\n",
              "4350263       0.000003\n",
              "4412961       0.000003\n",
              "              ...     \n",
              "4557162     658.190065\n",
              "4534231     663.636053\n",
              "4557827     716.184407\n",
              "4423382     822.866974\n",
              "4404691    1098.349384\n",
              "Name: Volume_(BTC), Length: 482164, dtype: float64"
            ]
          },
          "metadata": {},
          "execution_count": 150
        }
      ]
    },
    {
      "cell_type": "markdown",
      "source": [
        "##Nota:\n",
        "  O volume será maior quanto mais transações forem feitas."
      ],
      "metadata": {
        "id": "9wslMs6UOyeV"
      }
    },
    {
      "cell_type": "markdown",
      "source": [
        "##OBV - On Balance Volume\n",
        "\n",
        "**Se o fechamento de hoje for superior ao de ontem**, então: OBV = OBV de ontem + Volume de hoje\n",
        "\n",
        "**Se o volume de hoje for inferior ao de ontem, então**: OBV = OBV de ontem – Volume de hoje\n",
        "\n",
        "**Se o fechamento de hoje for igual ao de ontem, então**: OBV = OBV de ontem"
      ],
      "metadata": {
        "id": "Usjy2p_QReJ2"
      }
    },
    {
      "cell_type": "code",
      "source": [
        "#Cálculo do OBV e nova feature\n",
        "df_rec_analise[\"OBV\"]=np.where(df_rec_analise[\"Close\"] > df_rec_analise[\"Close\"].shift(1), +df_rec_analise[\"Volume_(BTC)\"],\n",
        "                               np.where(df_rec_analise[\"Close\"] < df_rec_analise[\"Close\"].shift(1), -df_rec_analise[\"Volume_(BTC)\"], 0)).cumsum()"
      ],
      "metadata": {
        "colab": {
          "base_uri": "https://localhost:8080/"
        },
        "id": "D1uyRnNIVcRE",
        "outputId": "474c8b28-3bcd-4d7d-8643-4e44c2c26603"
      },
      "execution_count": 160,
      "outputs": [
        {
          "output_type": "stream",
          "name": "stderr",
          "text": [
            "/usr/local/lib/python3.7/dist-packages/ipykernel_launcher.py:3: SettingWithCopyWarning: \n",
            "A value is trying to be set on a copy of a slice from a DataFrame.\n",
            "Try using .loc[row_indexer,col_indexer] = value instead\n",
            "\n",
            "See the caveats in the documentation: https://pandas.pydata.org/pandas-docs/stable/user_guide/indexing.html#returning-a-view-versus-a-copy\n",
            "  This is separate from the ipykernel package so we can avoid doing imports until\n"
          ]
        }
      ]
    },
    {
      "cell_type": "code",
      "source": [
        "df_rec_analise[\"OBV\"]"
      ],
      "metadata": {
        "colab": {
          "base_uri": "https://localhost:8080/"
        },
        "id": "xzWg3iDTZxKt",
        "outputId": "6fae11c5-5180-4ac9-ac18-ba93dcd0d502"
      },
      "execution_count": 161,
      "outputs": [
        {
          "output_type": "execute_result",
          "data": {
            "text/plain": [
              "4331776       0.000000\n",
              "4331777       4.053499\n",
              "4331778      22.760873\n",
              "4331779      29.925526\n",
              "4331780      38.975776\n",
              "              ...     \n",
              "4821510   -1961.422156\n",
              "4821511   -1960.575670\n",
              "4821512   -1960.072574\n",
              "4821513   -1961.049251\n",
              "4821514   -1960.221182\n",
              "Name: OBV, Length: 482164, dtype: float64"
            ]
          },
          "metadata": {},
          "execution_count": 161
        }
      ]
    },
    {
      "cell_type": "code",
      "source": [
        "df_rec_analise[\"OBV\"].describe()"
      ],
      "metadata": {
        "colab": {
          "base_uri": "https://localhost:8080/"
        },
        "id": "V-hLCQztdH3_",
        "outputId": "8d87c8aa-e0dc-4277-f9c9-def2decdfb9b"
      },
      "execution_count": 164,
      "outputs": [
        {
          "output_type": "execute_result",
          "data": {
            "text/plain": [
              "count    482164.000000\n",
              "mean      -3102.371679\n",
              "std        5802.430031\n",
              "min      -15121.668399\n",
              "25%       -6728.322330\n",
              "50%       -3399.708805\n",
              "75%         241.339062\n",
              "max       14297.930053\n",
              "Name: OBV, dtype: float64"
            ]
          },
          "metadata": {},
          "execution_count": 164
        }
      ]
    },
    {
      "cell_type": "code",
      "source": [
        "plt.figure(figsize=[10,8])\n",
        "df_rec_analise[\"OBV\"].plot()"
      ],
      "metadata": {
        "colab": {
          "base_uri": "https://localhost:8080/",
          "height": 515
        },
        "id": "GYl3Yoj6bI_m",
        "outputId": "b4cdae94-6a6f-44ad-d554-35cebe97380d"
      },
      "execution_count": 162,
      "outputs": [
        {
          "output_type": "execute_result",
          "data": {
            "text/plain": [
              "<matplotlib.axes._subplots.AxesSubplot at 0x7f146b09e910>"
            ]
          },
          "metadata": {},
          "execution_count": 162
        },
        {
          "output_type": "display_data",
          "data": {
            "image/png": "[encoded data removed]",
            "text/plain": [
              "<Figure size 720x576 with 1 Axes>"
            ]
          },
          "metadata": {
            "needs_background": "light"
          }
        }
      ]
    },
    {
      "cell_type": "code",
      "source": [
        "df_rec_analise"
      ],
      "metadata": {
        "colab": {
          "base_uri": "https://localhost:8080/",
          "height": 424
        },
        "id": "zCMu_SVTZ4w0",
        "outputId": "92e4ac29-a276-412b-88a5-298af4bdc50f"
      },
      "execution_count": 163,
      "outputs": [
        {
          "output_type": "execute_result",
          "data": {
            "text/html": [
              "\n",
              "  <div id=\"df-c254a49b-3a87-4b7b-a7ac-919aa22518b3\">\n",
              "    <div class=\"colab-df-container\">\n",
              "      <div>\n",
              "<style scoped>\n",
              "    .dataframe tbody tr th:only-of-type {\n",
              "        vertical-align: middle;\n",
              "    }\n",
              "\n",
              "    .dataframe tbody tr th {\n",
              "        vertical-align: top;\n",
              "    }\n",
              "\n",
              "    .dataframe thead th {\n",
              "        text-align: right;\n",
              "    }\n",
              "</style>\n",
              "<table border=\"1\" class=\"dataframe\">\n",
              "  <thead>\n",
              "    <tr style=\"text-align: right;\">\n",
              "      <th></th>\n",
              "      <th>Timestamp</th>\n",
              "      <th>Open</th>\n",
              "      <th>High</th>\n",
              "      <th>Low</th>\n",
              "      <th>Close</th>\n",
              "      <th>Volume_(BTC)</th>\n",
              "      <th>Volume_(Currency)</th>\n",
              "      <th>Weighted_Price</th>\n",
              "      <th>OBV</th>\n",
              "    </tr>\n",
              "  </thead>\n",
              "  <tbody>\n",
              "    <tr>\n",
              "      <th>4331776</th>\n",
              "      <td>2020-03-31 00:00:00</td>\n",
              "      <td>6408.95</td>\n",
              "      <td>6408.95</td>\n",
              "      <td>6397.52</td>\n",
              "      <td>6397.65</td>\n",
              "      <td>0.369580</td>\n",
              "      <td>2366.046893</td>\n",
              "      <td>6401.994344</td>\n",
              "      <td>0.000000</td>\n",
              "    </tr>\n",
              "    <tr>\n",
              "      <th>4331777</th>\n",
              "      <td>2020-03-31 00:01:00</td>\n",
              "      <td>6399.20</td>\n",
              "      <td>6406.06</td>\n",
              "      <td>6398.80</td>\n",
              "      <td>6405.06</td>\n",
              "      <td>4.053499</td>\n",
              "      <td>25960.527673</td>\n",
              "      <td>6404.473810</td>\n",
              "      <td>4.053499</td>\n",
              "    </tr>\n",
              "    <tr>\n",
              "      <th>4331778</th>\n",
              "      <td>2020-03-31 00:02:00</td>\n",
              "      <td>6409.05</td>\n",
              "      <td>6425.24</td>\n",
              "      <td>6409.05</td>\n",
              "      <td>6425.00</td>\n",
              "      <td>18.707374</td>\n",
              "      <td>120144.266210</td>\n",
              "      <td>6422.294481</td>\n",
              "      <td>22.760873</td>\n",
              "    </tr>\n",
              "    <tr>\n",
              "      <th>4331779</th>\n",
              "      <td>2020-03-31 00:03:00</td>\n",
              "      <td>6417.53</td>\n",
              "      <td>6430.74</td>\n",
              "      <td>6417.53</td>\n",
              "      <td>6426.53</td>\n",
              "      <td>7.164653</td>\n",
              "      <td>46043.367355</td>\n",
              "      <td>6426.461704</td>\n",
              "      <td>29.925526</td>\n",
              "    </tr>\n",
              "    <tr>\n",
              "      <th>4331780</th>\n",
              "      <td>2020-03-31 00:04:00</td>\n",
              "      <td>6426.54</td>\n",
              "      <td>6438.96</td>\n",
              "      <td>6424.46</td>\n",
              "      <td>6438.96</td>\n",
              "      <td>9.050250</td>\n",
              "      <td>58225.624105</td>\n",
              "      <td>6433.592825</td>\n",
              "      <td>38.975776</td>\n",
              "    </tr>\n",
              "    <tr>\n",
              "      <th>...</th>\n",
              "      <td>...</td>\n",
              "      <td>...</td>\n",
              "      <td>...</td>\n",
              "      <td>...</td>\n",
              "      <td>...</td>\n",
              "      <td>...</td>\n",
              "      <td>...</td>\n",
              "      <td>...</td>\n",
              "      <td>...</td>\n",
              "    </tr>\n",
              "    <tr>\n",
              "      <th>4821510</th>\n",
              "      <td>2021-03-06 02:14:00</td>\n",
              "      <td>48399.55</td>\n",
              "      <td>48399.55</td>\n",
              "      <td>48361.27</td>\n",
              "      <td>48361.27</td>\n",
              "      <td>0.747287</td>\n",
              "      <td>36140.226989</td>\n",
              "      <td>48361.913705</td>\n",
              "      <td>-1961.422156</td>\n",
              "    </tr>\n",
              "    <tr>\n",
              "      <th>4821511</th>\n",
              "      <td>2021-03-06 02:15:00</td>\n",
              "      <td>48362.00</td>\n",
              "      <td>48396.43</td>\n",
              "      <td>48362.00</td>\n",
              "      <td>48391.21</td>\n",
              "      <td>0.846486</td>\n",
              "      <td>40949.758889</td>\n",
              "      <td>48376.167174</td>\n",
              "      <td>-1960.575670</td>\n",
              "    </tr>\n",
              "    <tr>\n",
              "      <th>4821512</th>\n",
              "      <td>2021-03-06 02:16:00</td>\n",
              "      <td>48383.17</td>\n",
              "      <td>48447.21</td>\n",
              "      <td>48383.17</td>\n",
              "      <td>48441.99</td>\n",
              "      <td>0.503095</td>\n",
              "      <td>24370.418563</td>\n",
              "      <td>48440.942159</td>\n",
              "      <td>-1960.072574</td>\n",
              "    </tr>\n",
              "    <tr>\n",
              "      <th>4821513</th>\n",
              "      <td>2021-03-06 02:17:00</td>\n",
              "      <td>48459.00</td>\n",
              "      <td>48462.50</td>\n",
              "      <td>48377.55</td>\n",
              "      <td>48384.22</td>\n",
              "      <td>0.976677</td>\n",
              "      <td>47291.371758</td>\n",
              "      <td>48420.705795</td>\n",
              "      <td>-1961.049251</td>\n",
              "    </tr>\n",
              "    <tr>\n",
              "      <th>4821514</th>\n",
              "      <td>2021-03-06 02:18:00</td>\n",
              "      <td>48384.22</td>\n",
              "      <td>48424.54</td>\n",
              "      <td>48384.22</td>\n",
              "      <td>48405.72</td>\n",
              "      <td>0.828068</td>\n",
              "      <td>40079.892079</td>\n",
              "      <td>48401.670701</td>\n",
              "      <td>-1960.221182</td>\n",
              "    </tr>\n",
              "  </tbody>\n",
              "</table>\n",
              "<p>482164 rows × 9 columns</p>\n",
              "</div>\n",
              "      <button class=\"colab-df-convert\" onclick=\"convertToInteractive('df-c254a49b-3a87-4b7b-a7ac-919aa22518b3')\"\n",
              "              title=\"Convert this dataframe to an interactive table.\"\n",
              "              style=\"display:none;\">\n",
              "        \n",
              "  <svg xmlns=\"http://www.w3.org/2000/svg\" height=\"24px\"viewBox=\"0 0 24 24\"\n",
              "       width=\"24px\">\n",
              "    <path d=\"M0 0h24v24H0V0z\" fill=\"none\"/>\n",
              "    <path d=\"M18.56 5.44l.94 2.06.94-2.06 2.06-.94-2.06-.94-.94-2.06-.94 2.06-2.06.94zm-11 1L8.5 8.5l.94-2.06 2.06-.94-2.06-.94L8.5 2.5l-.94 2.06-2.06.94zm10 10l.94 2.06.94-2.06 2.06-.94-2.06-.94-.94-2.06-.94 2.06-2.06.94z\"/><path d=\"M17.41 7.96l-1.37-1.37c-.4-.4-.92-.59-1.43-.59-.52 0-1.04.2-1.43.59L10.3 9.45l-7.72 7.72c-.78.78-.78 2.05 0 2.83L4 21.41c.39.39.9.59 1.41.59.51 0 1.02-.2 1.41-.59l7.78-7.78 2.81-2.81c.8-.78.8-2.07 0-2.86zM5.41 20L4 18.59l7.72-7.72 1.47 1.35L5.41 20z\"/>\n",
              "  </svg>\n",
              "      </button>\n",
              "      \n",
              "  <style>\n",
              "    .colab-df-container {\n",
              "      display:flex;\n",
              "      flex-wrap:wrap;\n",
              "      gap: 12px;\n",
              "    }\n",
              "\n",
              "    .colab-df-convert {\n",
              "      background-color: #E8F0FE;\n",
              "      border: none;\n",
              "      border-radius: 50%;\n",
              "      cursor: pointer;\n",
              "      display: none;\n",
              "      fill: #1967D2;\n",
              "      height: 32px;\n",
              "      padding: 0 0 0 0;\n",
              "      width: 32px;\n",
              "    }\n",
              "\n",
              "    .colab-df-convert:hover {\n",
              "      background-color: #E2EBFA;\n",
              "      box-shadow: 0px 1px 2px rgba(60, 64, 67, 0.3), 0px 1px 3px 1px rgba(60, 64, 67, 0.15);\n",
              "      fill: #174EA6;\n",
              "    }\n",
              "\n",
              "    [theme=dark] .colab-df-convert {\n",
              "      background-color: #3B4455;\n",
              "      fill: #D2E3FC;\n",
              "    }\n",
              "\n",
              "    [theme=dark] .colab-df-convert:hover {\n",
              "      background-color: #434B5C;\n",
              "      box-shadow: 0px 1px 3px 1px rgba(0, 0, 0, 0.15);\n",
              "      filter: drop-shadow(0px 1px 2px rgba(0, 0, 0, 0.3));\n",
              "      fill: #FFFFFF;\n",
              "    }\n",
              "  </style>\n",
              "\n",
              "      <script>\n",
              "        const buttonEl =\n",
              "          document.querySelector('#df-c254a49b-3a87-4b7b-a7ac-919aa22518b3 button.colab-df-convert');\n",
              "        buttonEl.style.display =\n",
              "          google.colab.kernel.accessAllowed ? 'block' : 'none';\n",
              "\n",
              "        async function convertToInteractive(key) {\n",
              "          const element = document.querySelector('#df-c254a49b-3a87-4b7b-a7ac-919aa22518b3');\n",
              "          const dataTable =\n",
              "            await google.colab.kernel.invokeFunction('convertToInteractive',\n",
              "                                                     [key], {});\n",
              "          if (!dataTable) return;\n",
              "\n",
              "          const docLinkHtml = 'Like what you see? Visit the ' +\n",
              "            '<a target=\"_blank\" href=https://colab.research.google.com/notebooks/data_table.ipynb>data table notebook</a>'\n",
              "            + ' to learn more about interactive tables.';\n",
              "          element.innerHTML = '';\n",
              "          dataTable['output_type'] = 'display_data';\n",
              "          await google.colab.output.renderOutput(dataTable, element);\n",
              "          const docLink = document.createElement('div');\n",
              "          docLink.innerHTML = docLinkHtml;\n",
              "          element.appendChild(docLink);\n",
              "        }\n",
              "      </script>\n",
              "    </div>\n",
              "  </div>\n",
              "  "
            ],
            "text/plain": [
              "                  Timestamp      Open  ...  Weighted_Price          OBV\n",
              "4331776 2020-03-31 00:00:00   6408.95  ...     6401.994344     0.000000\n",
              "4331777 2020-03-31 00:01:00   6399.20  ...     6404.473810     4.053499\n",
              "4331778 2020-03-31 00:02:00   6409.05  ...     6422.294481    22.760873\n",
              "4331779 2020-03-31 00:03:00   6417.53  ...     6426.461704    29.925526\n",
              "4331780 2020-03-31 00:04:00   6426.54  ...     6433.592825    38.975776\n",
              "...                     ...       ...  ...             ...          ...\n",
              "4821510 2021-03-06 02:14:00  48399.55  ...    48361.913705 -1961.422156\n",
              "4821511 2021-03-06 02:15:00  48362.00  ...    48376.167174 -1960.575670\n",
              "4821512 2021-03-06 02:16:00  48383.17  ...    48440.942159 -1960.072574\n",
              "4821513 2021-03-06 02:17:00  48459.00  ...    48420.705795 -1961.049251\n",
              "4821514 2021-03-06 02:18:00  48384.22  ...    48401.670701 -1960.221182\n",
              "\n",
              "[482164 rows x 9 columns]"
            ]
          },
          "metadata": {},
          "execution_count": 163
        }
      ]
    }
  ]
}