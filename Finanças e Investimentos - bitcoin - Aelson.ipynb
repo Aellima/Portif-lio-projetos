{
  "nbformat": 4,
  "nbformat_minor": 0,
  "metadata": {
    "colab": {
      "name": "Projeto bitcoin - Aelson.ipynb",
      "provenance": []
    },
    "kernelspec": {
      "name": "python3",
      "display_name": "Python 3"
    },
    "language_info": {
      "name": "python"
    }
  },
  "cells": [
    {
      "cell_type": "markdown",
      "metadata": {
        "id": "EGEkG9yNf_ER"
      },
      "source": [
        "Bibliotecas utilizadas\n",
        "\n"
      ]
    },
    {
      "cell_type": "code",
      "metadata": {
        "id": "Wz4z92jXImjj"
      },
      "source": [
        "#manipulação de dados\n",
        "import pandas as pd\n",
        "import numpy as np\n",
        "\n",
        "#Visualização de dados\n",
        "import matplotlib.pyplot as plt\n",
        "import seaborn as sns\n"
      ],
      "execution_count": 2,
      "outputs": []
    },
    {
      "cell_type": "code",
      "metadata": {
        "id": "_ojQwJnjIord"
      },
      "source": [
        "df=pd.read_csv(\"bitstampUSD_1-min_data_2012-01-01_to_2021-03-31.csv\")"
      ],
      "execution_count": null,
      "outputs": []
    },
    {
      "cell_type": "code",
      "metadata": {
        "colab": {
          "base_uri": "https://localhost:8080/",
          "height": 419
        },
        "id": "VsHpORh3IuqR",
        "outputId": "b9d08d55-20e7-47b5-f711-16b0bd1d8791"
      },
      "source": [
        "df"
      ],
      "execution_count": null,
      "outputs": [
        {
          "output_type": "execute_result",
          "data": {
            "text/html": [
              "<div>\n",
              "<style scoped>\n",
              "    .dataframe tbody tr th:only-of-type {\n",
              "        vertical-align: middle;\n",
              "    }\n",
              "\n",
              "    .dataframe tbody tr th {\n",
              "        vertical-align: top;\n",
              "    }\n",
              "\n",
              "    .dataframe thead th {\n",
              "        text-align: right;\n",
              "    }\n",
              "</style>\n",
              "<table border=\"1\" class=\"dataframe\">\n",
              "  <thead>\n",
              "    <tr style=\"text-align: right;\">\n",
              "      <th></th>\n",
              "      <th>Timestamp</th>\n",
              "      <th>Open</th>\n",
              "      <th>High</th>\n",
              "      <th>Low</th>\n",
              "      <th>Close</th>\n",
              "      <th>Volume_(BTC)</th>\n",
              "      <th>Volume_(Currency)</th>\n",
              "      <th>Weighted_Price</th>\n",
              "    </tr>\n",
              "  </thead>\n",
              "  <tbody>\n",
              "    <tr>\n",
              "      <th>0</th>\n",
              "      <td>1325317920</td>\n",
              "      <td>4.39</td>\n",
              "      <td>4.39</td>\n",
              "      <td>4.39</td>\n",
              "      <td>4.39</td>\n",
              "      <td>0.455581</td>\n",
              "      <td>2.000000</td>\n",
              "      <td>4.390000</td>\n",
              "    </tr>\n",
              "    <tr>\n",
              "      <th>1</th>\n",
              "      <td>1325317980</td>\n",
              "      <td>NaN</td>\n",
              "      <td>NaN</td>\n",
              "      <td>NaN</td>\n",
              "      <td>NaN</td>\n",
              "      <td>NaN</td>\n",
              "      <td>NaN</td>\n",
              "      <td>NaN</td>\n",
              "    </tr>\n",
              "    <tr>\n",
              "      <th>2</th>\n",
              "      <td>1325318040</td>\n",
              "      <td>NaN</td>\n",
              "      <td>NaN</td>\n",
              "      <td>NaN</td>\n",
              "      <td>NaN</td>\n",
              "      <td>NaN</td>\n",
              "      <td>NaN</td>\n",
              "      <td>NaN</td>\n",
              "    </tr>\n",
              "    <tr>\n",
              "      <th>3</th>\n",
              "      <td>1325318100</td>\n",
              "      <td>NaN</td>\n",
              "      <td>NaN</td>\n",
              "      <td>NaN</td>\n",
              "      <td>NaN</td>\n",
              "      <td>NaN</td>\n",
              "      <td>NaN</td>\n",
              "      <td>NaN</td>\n",
              "    </tr>\n",
              "    <tr>\n",
              "      <th>4</th>\n",
              "      <td>1325318160</td>\n",
              "      <td>NaN</td>\n",
              "      <td>NaN</td>\n",
              "      <td>NaN</td>\n",
              "      <td>NaN</td>\n",
              "      <td>NaN</td>\n",
              "      <td>NaN</td>\n",
              "      <td>NaN</td>\n",
              "    </tr>\n",
              "    <tr>\n",
              "      <th>...</th>\n",
              "      <td>...</td>\n",
              "      <td>...</td>\n",
              "      <td>...</td>\n",
              "      <td>...</td>\n",
              "      <td>...</td>\n",
              "      <td>...</td>\n",
              "      <td>...</td>\n",
              "      <td>...</td>\n",
              "    </tr>\n",
              "    <tr>\n",
              "      <th>1084389</th>\n",
              "      <td>1390381260</td>\n",
              "      <td>821.32</td>\n",
              "      <td>821.32</td>\n",
              "      <td>820.12</td>\n",
              "      <td>820.12</td>\n",
              "      <td>0.485634</td>\n",
              "      <td>398.714754</td>\n",
              "      <td>821.018960</td>\n",
              "    </tr>\n",
              "    <tr>\n",
              "      <th>1084390</th>\n",
              "      <td>1390381320</td>\n",
              "      <td>820.12</td>\n",
              "      <td>820.12</td>\n",
              "      <td>820.12</td>\n",
              "      <td>820.12</td>\n",
              "      <td>1.050000</td>\n",
              "      <td>861.126000</td>\n",
              "      <td>820.120000</td>\n",
              "    </tr>\n",
              "    <tr>\n",
              "      <th>1084391</th>\n",
              "      <td>1390381380</td>\n",
              "      <td>820.12</td>\n",
              "      <td>820.12</td>\n",
              "      <td>820.00</td>\n",
              "      <td>820.00</td>\n",
              "      <td>2.474114</td>\n",
              "      <td>2028.949996</td>\n",
              "      <td>820.071498</td>\n",
              "    </tr>\n",
              "    <tr>\n",
              "      <th>1084392</th>\n",
              "      <td>1390381440</td>\n",
              "      <td>820.12</td>\n",
              "      <td>820.12</td>\n",
              "      <td>820.00</td>\n",
              "      <td>820.00</td>\n",
              "      <td>2.360000</td>\n",
              "      <td>1935.320000</td>\n",
              "      <td>820.050847</td>\n",
              "    </tr>\n",
              "    <tr>\n",
              "      <th>1084393</th>\n",
              "      <td>1390381500</td>\n",
              "      <td>82.00</td>\n",
              "      <td>NaN</td>\n",
              "      <td>NaN</td>\n",
              "      <td>NaN</td>\n",
              "      <td>NaN</td>\n",
              "      <td>NaN</td>\n",
              "      <td>NaN</td>\n",
              "    </tr>\n",
              "  </tbody>\n",
              "</table>\n",
              "<p>1084394 rows × 8 columns</p>\n",
              "</div>"
            ],
            "text/plain": [
              "          Timestamp    Open  ...  Volume_(Currency)  Weighted_Price\n",
              "0        1325317920    4.39  ...           2.000000        4.390000\n",
              "1        1325317980     NaN  ...                NaN             NaN\n",
              "2        1325318040     NaN  ...                NaN             NaN\n",
              "3        1325318100     NaN  ...                NaN             NaN\n",
              "4        1325318160     NaN  ...                NaN             NaN\n",
              "...             ...     ...  ...                ...             ...\n",
              "1084389  1390381260  821.32  ...         398.714754      821.018960\n",
              "1084390  1390381320  820.12  ...         861.126000      820.120000\n",
              "1084391  1390381380  820.12  ...        2028.949996      820.071498\n",
              "1084392  1390381440  820.12  ...        1935.320000      820.050847\n",
              "1084393  1390381500   82.00  ...                NaN             NaN\n",
              "\n",
              "[1084394 rows x 8 columns]"
            ]
          },
          "metadata": {
            "tags": []
          },
          "execution_count": 4
        }
      ]
    },
    {
      "cell_type": "code",
      "metadata": {
        "colab": {
          "base_uri": "https://localhost:8080/",
          "height": 163
        },
        "id": "15R5adDRJE2M",
        "outputId": "5e1d80f3-1d47-4c3e-bc9f-6aa7102ffd98"
      },
      "source": [
        "df.head()"
      ],
      "execution_count": 3,
      "outputs": [
        {
          "output_type": "error",
          "ename": "NameError",
          "evalue": "ignored",
          "traceback": [
            "\u001b[0;31m---------------------------------------------------------------------------\u001b[0m",
            "\u001b[0;31mNameError\u001b[0m                                 Traceback (most recent call last)",
            "\u001b[0;32m<ipython-input-3-c42a15b2c7cf>\u001b[0m in \u001b[0;36m<module>\u001b[0;34m()\u001b[0m\n\u001b[0;32m----> 1\u001b[0;31m \u001b[0mdf\u001b[0m\u001b[0;34m.\u001b[0m\u001b[0mhead\u001b[0m\u001b[0;34m(\u001b[0m\u001b[0;34m)\u001b[0m\u001b[0;34m\u001b[0m\u001b[0;34m\u001b[0m\u001b[0m\n\u001b[0m",
            "\u001b[0;31mNameError\u001b[0m: name 'df' is not defined"
          ]
        }
      ]
    },
    {
      "cell_type": "code",
      "metadata": {
        "colab": {
          "base_uri": "https://localhost:8080/"
        },
        "id": "dA61icjHPe_X",
        "outputId": "ec104370-f8a2-4ba9-f595-1914c06d786d"
      },
      "source": [
        "#Informações iniciais\n",
        "df.info"
      ],
      "execution_count": null,
      "outputs": [
        {
          "output_type": "execute_result",
          "data": {
            "text/plain": [
              "<bound method DataFrame.info of           Timestamp    Open  ...  Volume_(Currency)  Weighted_Price\n",
              "0        1325317920    4.39  ...           2.000000        4.390000\n",
              "1        1325317980     NaN  ...                NaN             NaN\n",
              "2        1325318040     NaN  ...                NaN             NaN\n",
              "3        1325318100     NaN  ...                NaN             NaN\n",
              "4        1325318160     NaN  ...                NaN             NaN\n",
              "...             ...     ...  ...                ...             ...\n",
              "1084389  1390381260  821.32  ...         398.714754      821.018960\n",
              "1084390  1390381320  820.12  ...         861.126000      820.120000\n",
              "1084391  1390381380  820.12  ...        2028.949996      820.071498\n",
              "1084392  1390381440  820.12  ...        1935.320000      820.050847\n",
              "1084393  1390381500   82.00  ...                NaN             NaN\n",
              "\n",
              "[1084394 rows x 8 columns]>"
            ]
          },
          "metadata": {
            "tags": []
          },
          "execution_count": 18
        }
      ]
    },
    {
      "cell_type": "code",
      "metadata": {
        "colab": {
          "base_uri": "https://localhost:8080/"
        },
        "id": "xQbxXoS_Pjmi",
        "outputId": "2ac3ae26-045e-48ed-ff09-7732e8c6b4c6"
      },
      "source": [
        "#verificando o tipo dos dados\n",
        "df.dtypes"
      ],
      "execution_count": null,
      "outputs": [
        {
          "output_type": "execute_result",
          "data": {
            "text/plain": [
              "Timestamp              int64\n",
              "Open                 float64\n",
              "High                 float64\n",
              "Low                  float64\n",
              "Close                float64\n",
              "Volume_(BTC)         float64\n",
              "Volume_(Currency)    float64\n",
              "Weighted_Price       float64\n",
              "dtype: object"
            ]
          },
          "metadata": {
            "tags": []
          },
          "execution_count": 13
        }
      ]
    },
    {
      "cell_type": "code",
      "metadata": {
        "colab": {
          "base_uri": "https://localhost:8080/",
          "height": 297
        },
        "id": "yZz86SCYXKc1",
        "outputId": "67dd24cd-11aa-469e-ec11-fa0eb072cfa3"
      },
      "source": [
        "#obtendo informações estatísticas iniciais. \n",
        "df.describe()"
      ],
      "execution_count": null,
      "outputs": [
        {
          "output_type": "execute_result",
          "data": {
            "text/html": [
              "<div>\n",
              "<style scoped>\n",
              "    .dataframe tbody tr th:only-of-type {\n",
              "        vertical-align: middle;\n",
              "    }\n",
              "\n",
              "    .dataframe tbody tr th {\n",
              "        vertical-align: top;\n",
              "    }\n",
              "\n",
              "    .dataframe thead th {\n",
              "        text-align: right;\n",
              "    }\n",
              "</style>\n",
              "<table border=\"1\" class=\"dataframe\">\n",
              "  <thead>\n",
              "    <tr style=\"text-align: right;\">\n",
              "      <th></th>\n",
              "      <th>Timestamp</th>\n",
              "      <th>Open</th>\n",
              "      <th>High</th>\n",
              "      <th>Low</th>\n",
              "      <th>Close</th>\n",
              "      <th>Volume_(BTC)</th>\n",
              "      <th>Volume_(Currency)</th>\n",
              "      <th>Weighted_Price</th>\n",
              "    </tr>\n",
              "  </thead>\n",
              "  <tbody>\n",
              "    <tr>\n",
              "      <th>count</th>\n",
              "      <td>1.084394e+06</td>\n",
              "      <td>373826.000000</td>\n",
              "      <td>373825.000000</td>\n",
              "      <td>373825.000000</td>\n",
              "      <td>373825.000000</td>\n",
              "      <td>373825.000000</td>\n",
              "      <td>3.738250e+05</td>\n",
              "      <td>373825.000000</td>\n",
              "    </tr>\n",
              "    <tr>\n",
              "      <th>mean</th>\n",
              "      <td>1.357850e+09</td>\n",
              "      <td>279.079714</td>\n",
              "      <td>279.460773</td>\n",
              "      <td>278.655521</td>\n",
              "      <td>279.066413</td>\n",
              "      <td>15.840164</td>\n",
              "      <td>4.885340e+03</td>\n",
              "      <td>279.045039</td>\n",
              "    </tr>\n",
              "    <tr>\n",
              "      <th>std</th>\n",
              "      <td>1.878226e+07</td>\n",
              "      <td>307.321106</td>\n",
              "      <td>307.805480</td>\n",
              "      <td>306.795702</td>\n",
              "      <td>307.320138</td>\n",
              "      <td>46.911549</td>\n",
              "      <td>2.008016e+04</td>\n",
              "      <td>307.280533</td>\n",
              "    </tr>\n",
              "    <tr>\n",
              "      <th>min</th>\n",
              "      <td>1.325318e+09</td>\n",
              "      <td>3.800000</td>\n",
              "      <td>3.800000</td>\n",
              "      <td>3.800000</td>\n",
              "      <td>3.800000</td>\n",
              "      <td>0.000000</td>\n",
              "      <td>0.000000e+00</td>\n",
              "      <td>3.800000</td>\n",
              "    </tr>\n",
              "    <tr>\n",
              "      <th>25%</th>\n",
              "      <td>1.341584e+09</td>\n",
              "      <td>96.100000</td>\n",
              "      <td>96.180000</td>\n",
              "      <td>96.000000</td>\n",
              "      <td>96.090000</td>\n",
              "      <td>0.943190</td>\n",
              "      <td>1.010000e+02</td>\n",
              "      <td>96.085162</td>\n",
              "    </tr>\n",
              "    <tr>\n",
              "      <th>50%</th>\n",
              "      <td>1.357850e+09</td>\n",
              "      <td>124.000000</td>\n",
              "      <td>124.010000</td>\n",
              "      <td>123.980000</td>\n",
              "      <td>124.000000</td>\n",
              "      <td>3.000000</td>\n",
              "      <td>3.742005e+02</td>\n",
              "      <td>123.998762</td>\n",
              "    </tr>\n",
              "    <tr>\n",
              "      <th>75%</th>\n",
              "      <td>1.374116e+09</td>\n",
              "      <td>368.000000</td>\n",
              "      <td>368.000000</td>\n",
              "      <td>367.990000</td>\n",
              "      <td>368.000000</td>\n",
              "      <td>11.758922</td>\n",
              "      <td>2.118002e+03</td>\n",
              "      <td>368.000000</td>\n",
              "    </tr>\n",
              "    <tr>\n",
              "      <th>max</th>\n",
              "      <td>1.390382e+09</td>\n",
              "      <td>1163.000000</td>\n",
              "      <td>1163.000000</td>\n",
              "      <td>1162.990000</td>\n",
              "      <td>1163.000000</td>\n",
              "      <td>2958.477574</td>\n",
              "      <td>1.543035e+06</td>\n",
              "      <td>1162.999574</td>\n",
              "    </tr>\n",
              "  </tbody>\n",
              "</table>\n",
              "</div>"
            ],
            "text/plain": [
              "          Timestamp           Open  ...  Volume_(Currency)  Weighted_Price\n",
              "count  1.084394e+06  373826.000000  ...       3.738250e+05   373825.000000\n",
              "mean   1.357850e+09     279.079714  ...       4.885340e+03      279.045039\n",
              "std    1.878226e+07     307.321106  ...       2.008016e+04      307.280533\n",
              "min    1.325318e+09       3.800000  ...       0.000000e+00        3.800000\n",
              "25%    1.341584e+09      96.100000  ...       1.010000e+02       96.085162\n",
              "50%    1.357850e+09     124.000000  ...       3.742005e+02      123.998762\n",
              "75%    1.374116e+09     368.000000  ...       2.118002e+03      368.000000\n",
              "max    1.390382e+09    1163.000000  ...       1.543035e+06     1162.999574\n",
              "\n",
              "[8 rows x 8 columns]"
            ]
          },
          "metadata": {
            "tags": []
          },
          "execution_count": 17
        }
      ]
    },
    {
      "cell_type": "code",
      "metadata": {
        "colab": {
          "base_uri": "https://localhost:8080/"
        },
        "id": "8CWoHkEdgljF",
        "outputId": "809491e9-084f-4463-b161-823a69441f5e"
      },
      "source": [
        "#dados faltantes, todas as features com 710569 dados faltantes.\n",
        "df.isnull().sum()"
      ],
      "execution_count": null,
      "outputs": [
        {
          "output_type": "execute_result",
          "data": {
            "text/plain": [
              "Timestamp                 0\n",
              "Open                 710568\n",
              "High                 710569\n",
              "Low                  710569\n",
              "Close                710569\n",
              "Volume_(BTC)         710569\n",
              "Volume_(Currency)    710569\n",
              "Weighted_Price       710569\n",
              "dtype: int64"
            ]
          },
          "metadata": {
            "tags": []
          },
          "execution_count": 9
        }
      ]
    },
    {
      "cell_type": "code",
      "metadata": {
        "colab": {
          "base_uri": "https://localhost:8080/",
          "height": 297
        },
        "id": "fIDwzC09Xx_U",
        "outputId": "9734d4e1-edc8-4a45-e3e2-a97b0601bf61"
      },
      "source": [
        "#correlação entre as features\n",
        "corr=df.corr()\n",
        "corr"
      ],
      "execution_count": null,
      "outputs": [
        {
          "output_type": "execute_result",
          "data": {
            "text/html": [
              "<div>\n",
              "<style scoped>\n",
              "    .dataframe tbody tr th:only-of-type {\n",
              "        vertical-align: middle;\n",
              "    }\n",
              "\n",
              "    .dataframe tbody tr th {\n",
              "        vertical-align: top;\n",
              "    }\n",
              "\n",
              "    .dataframe thead th {\n",
              "        text-align: right;\n",
              "    }\n",
              "</style>\n",
              "<table border=\"1\" class=\"dataframe\">\n",
              "  <thead>\n",
              "    <tr style=\"text-align: right;\">\n",
              "      <th></th>\n",
              "      <th>Timestamp</th>\n",
              "      <th>Open</th>\n",
              "      <th>High</th>\n",
              "      <th>Low</th>\n",
              "      <th>Close</th>\n",
              "      <th>Volume_(BTC)</th>\n",
              "      <th>Volume_(Currency)</th>\n",
              "      <th>Weighted_Price</th>\n",
              "    </tr>\n",
              "  </thead>\n",
              "  <tbody>\n",
              "    <tr>\n",
              "      <th>Timestamp</th>\n",
              "      <td>1.000000</td>\n",
              "      <td>0.693000</td>\n",
              "      <td>0.692945</td>\n",
              "      <td>0.693078</td>\n",
              "      <td>0.692998</td>\n",
              "      <td>0.016587</td>\n",
              "      <td>0.199843</td>\n",
              "      <td>0.693016</td>\n",
              "    </tr>\n",
              "    <tr>\n",
              "      <th>Open</th>\n",
              "      <td>0.693000</td>\n",
              "      <td>1.000000</td>\n",
              "      <td>0.999990</td>\n",
              "      <td>0.999989</td>\n",
              "      <td>0.999987</td>\n",
              "      <td>0.032488</td>\n",
              "      <td>0.279028</td>\n",
              "      <td>0.999993</td>\n",
              "    </tr>\n",
              "    <tr>\n",
              "      <th>High</th>\n",
              "      <td>0.692945</td>\n",
              "      <td>0.999990</td>\n",
              "      <td>1.000000</td>\n",
              "      <td>0.999978</td>\n",
              "      <td>0.999990</td>\n",
              "      <td>0.033379</td>\n",
              "      <td>0.280297</td>\n",
              "      <td>0.999992</td>\n",
              "    </tr>\n",
              "    <tr>\n",
              "      <th>Low</th>\n",
              "      <td>0.693078</td>\n",
              "      <td>0.999989</td>\n",
              "      <td>0.999978</td>\n",
              "      <td>1.000000</td>\n",
              "      <td>0.999989</td>\n",
              "      <td>0.031355</td>\n",
              "      <td>0.277360</td>\n",
              "      <td>0.999993</td>\n",
              "    </tr>\n",
              "    <tr>\n",
              "      <th>Close</th>\n",
              "      <td>0.692998</td>\n",
              "      <td>0.999987</td>\n",
              "      <td>0.999990</td>\n",
              "      <td>0.999989</td>\n",
              "      <td>1.000000</td>\n",
              "      <td>0.032347</td>\n",
              "      <td>0.278808</td>\n",
              "      <td>0.999994</td>\n",
              "    </tr>\n",
              "    <tr>\n",
              "      <th>Volume_(BTC)</th>\n",
              "      <td>0.016587</td>\n",
              "      <td>0.032488</td>\n",
              "      <td>0.033379</td>\n",
              "      <td>0.031355</td>\n",
              "      <td>0.032347</td>\n",
              "      <td>1.000000</td>\n",
              "      <td>0.674997</td>\n",
              "      <td>0.032273</td>\n",
              "    </tr>\n",
              "    <tr>\n",
              "      <th>Volume_(Currency)</th>\n",
              "      <td>0.199843</td>\n",
              "      <td>0.279028</td>\n",
              "      <td>0.280297</td>\n",
              "      <td>0.277360</td>\n",
              "      <td>0.278808</td>\n",
              "      <td>0.674997</td>\n",
              "      <td>1.000000</td>\n",
              "      <td>0.278695</td>\n",
              "    </tr>\n",
              "    <tr>\n",
              "      <th>Weighted_Price</th>\n",
              "      <td>0.693016</td>\n",
              "      <td>0.999993</td>\n",
              "      <td>0.999992</td>\n",
              "      <td>0.999993</td>\n",
              "      <td>0.999994</td>\n",
              "      <td>0.032273</td>\n",
              "      <td>0.278695</td>\n",
              "      <td>1.000000</td>\n",
              "    </tr>\n",
              "  </tbody>\n",
              "</table>\n",
              "</div>"
            ],
            "text/plain": [
              "                   Timestamp      Open  ...  Volume_(Currency)  Weighted_Price\n",
              "Timestamp           1.000000  0.693000  ...           0.199843        0.693016\n",
              "Open                0.693000  1.000000  ...           0.279028        0.999993\n",
              "High                0.692945  0.999990  ...           0.280297        0.999992\n",
              "Low                 0.693078  0.999989  ...           0.277360        0.999993\n",
              "Close               0.692998  0.999987  ...           0.278808        0.999994\n",
              "Volume_(BTC)        0.016587  0.032488  ...           0.674997        0.032273\n",
              "Volume_(Currency)   0.199843  0.279028  ...           1.000000        0.278695\n",
              "Weighted_Price      0.693016  0.999993  ...           0.278695        1.000000\n",
              "\n",
              "[8 rows x 8 columns]"
            ]
          },
          "metadata": {
            "tags": []
          },
          "execution_count": 12
        }
      ]
    },
    {
      "cell_type": "code",
      "metadata": {
        "colab": {
          "base_uri": "https://localhost:8080/",
          "height": 630
        },
        "id": "u2d4SVbRZsQA",
        "outputId": "8ab41a94-5dc6-45e7-a663-1ce816c708c9"
      },
      "source": [
        "plt.figure(figsize=(15,10))\n",
        "corr\n",
        "sns.heatmap(data=corr, annot=True, linewidths=0.5, fmt=\".2f\",cmap=\"rocket\")\n",
        "plt.xticks(rotation=0)"
      ],
      "execution_count": null,
      "outputs": [
        {
          "output_type": "execute_result",
          "data": {
            "text/plain": [
              "(array([0.5, 1.5, 2.5, 3.5, 4.5, 5.5, 6.5, 7.5]),\n",
              " <a list of 8 Text major ticklabel objects>)"
            ]
          },
          "metadata": {
            "tags": []
          },
          "execution_count": 16
        },
        {
          "output_type": "display_data",
          "data": {
            "image/png": "[encoded data removed]",
            "text/plain": [
              "<Figure size 1080x720 with 2 Axes>"
            ]
          },
          "metadata": {
            "tags": [],
            "needs_background": "light"
          }
        }
      ]
    },
    {
      "cell_type": "markdown",
      "metadata": {
        "id": "tYrCXtvsekDa"
      },
      "source": [
        "#Correlação entre as features.\n",
        "\n",
        "1 - Timestamp tem grande correlação com as features Close, Low, High e open. Baixa correlação com BTC e Currency. \n",
        "\n",
        "2 - Open, high, low e close têm entre si grande correlação. (esperado).\n",
        "\n",
        "3 - BTC e  CURRENCY têm grande correlação entre si, baixa com as demais features. \n",
        "\n",
        "4 - WEIGHTED PRICE tem alta correlação com as features timestamp, open, high, low e close. E baixa com as fetures BTC E CURRENCY. \n",
        "\n",
        "\n",
        "\n"
      ]
    },
    {
      "cell_type": "code",
      "metadata": {
        "id": "g5y7rp2eyiPn"
      },
      "source": [
        ""
      ],
      "execution_count": null,
      "outputs": []
    }
  ]
}